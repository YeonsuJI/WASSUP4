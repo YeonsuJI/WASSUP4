# 01 print 기초
#  화면에 Hello World 문자열을 출력하세요.

print("hello world")


# 007 print 기초
# print() 함수를 사용하여 다음과 같이 출력하세요.

# naver;kakao;sk;samsung

print("naver;kakao;sk;samsung")



















































