


pip list





import requests
from bs4 import BeautifulSoup



PATH = "https://finance.naver.com/"
resp = requests.get(PATH)


resp


resp?


requests.get?


resp.text


print(resp.text)


html_src = resp.text


soup = BeautifulSoup(html_src, 'lxml')


## quiz  주요 뉴스의 목록들을 추출해보기
taglist = soup.select('.section_strategy a')
taglist
























