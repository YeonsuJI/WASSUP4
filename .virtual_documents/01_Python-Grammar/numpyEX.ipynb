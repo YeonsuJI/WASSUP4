# Numpy
# Numerical Python
# 고성능 수치 계산을 위한 라이브러리
# 벡터나 행렬 연산에 편리한 기능 제공
# 모든 원소는 같은 자료형만 가능


import numpy as np
a = np.arange( 15 ) # 1차원 데이터
print( a )
a = a.reshape( 3,5, order='F') #c행부터 할당 기본값F열부터 할당# reshape : 차원을 바꾸는 함수
#a = np.arange(15).reshape(3,5) 이것도 가능
print( a )
print( type( a )  )
print( a.shape )
print( a.dtype )
print(a.ndim) # 몇 차원 데이터인지 알려주는 것
print(a.size)
# print( dir(np)) # 넘파이에서 쓸 수 있는 것들


print(a)


b = [-1, 2, 5, -3, 0, 7, -9, 7, -4,-7] # list
print(type(b))
b = np.array(b)
print(type(b))

t = (10,20,30,40,50) # Tuple
print(type(t))
t = np.array(t)
print(type(t))

s = {10,20,30,40,50} # set
print(type(s))
s = np.array(s)
print(type(s))

# 딕셔너리는 넘파이로 바로 바꿀 수 없음. but 판다스로 호환 가능



print(b.shape)
print(b.ndim)
print(b.dtype)
print(b)

# print(help(np.arange))  # help(원하는 함수의 설명만도 볼 수 잇음) = dir 이라고 생각하면 편함
print(np.abs(b))          # 절대값
print(np.sqrt(np.abs(b))) #제곱근 / 이중함수 가능 
# nan = not a number (음수의 경우에 주로 나옴)
print(np.square(b))       # 제곱
print(np.isnan(b))        # nan이면 True 아니면 False
print(np.sum(b))          # 합계
print(np.mean(b))         # 평균
print(np.max(b))          # 최값
print(np.min(b))          # 최솟값
print(np.argmax(b))       # 최댓값 인덱스
print(np.argmin(b))       # 최솟값 인덱스
print(np.sort(b))         # 오름차순 정렬
print(np.sort(b)[::-1])   # 내림차순 정렬 [start : end : step]
print(np.median(b))       # 중간값



c = np.zeros((3,3))


print(c)


d = np.ones((3,3))


print(d)


np.zeros_like(d)


np.ones_like(c)


np.random.rand(3,3)


np.random.randint(1,40,size =(3,3,3)) # size =는 없어도 됨


c = [[1,2,3], [4,5,6]]
print(type(c))
print(c)
c = np.array(c)
print(type(c))
print(c)

print(np.sum(c))
print(np.sum(c, axis =0)) # 행끼리 계산
print(np.sum(c, axis =1)) # 열끼리 계산
print(np.median(c))
print(np.median(c,  axis = 0)) #행끼리의 중간값
print(np.max(c))
print(np.max(c,  axis = 0)) # 행끼리 큰값 비교
print(np.max(c,  axis = 1)) # 열끼리 큰값 비교

print(np.std(c)) #표준편차
print(np.var(c)) #분산


# element wise
d = [10,20,30,40,50]
# print(d +2)  # error
d= np.array(d)
print(d+2)  #리스트는 int랑 연산이 불가능한데 넘파이는 가능

e = np.array([1,2,3,4,5]) 
print(d+e) # 값의 갯수 다르면 에러 뜸.
print(d ** 2) # **두개 붙이면 제곱 연산자
print(d * np.sin(d))
print(d > 35) # 비교 연산자라서 결과값이 논리값이 나옴

print(np.add(d,e))
print(np.subtract(d,e))
print(np.multiply(d,e))
print(np.divide(d,e))


f = np.array( [ [0,1], [1,1] ] )
g = np.array( [ [2,0], [3,4] ] )
print(f*g)          # 행끼리 곱
print(f@g)          # 행렬곱
print(np.dot(f,g))  # 행렬곱
print(f.dot(g))


h = np.zeros(10)
print(h)
i = np.zeros((5, 5))  #zeros는 행열 데이터를 줄 때 무조건 튜플로 줘야함
print(i)
j = np.ones(10)
print(j)

#np.random.random 0~1사이의 난수 발생
#np.random.randint 균일 분포의 정수 난수 발생
#np.random.rand 0~1 사이의 균일 분포 난수 matrix array 생성
#np.random.randn 가우시안 표준 정규 분포 난수 matrix array 생성
#np.random.normal  평균, 표준편차, sample 개수

k = np.random.random(10) *100
k = np.array([int(i) for i in k])
print(type(k))
print(k)

print(np.random.randint(10,20))
print(np.random.rand(5,2))


# 슬라이싱
m = [i for i in range(10,20)]
print(m[0:5])
print(m[0:5:2])
print(m[:])
print(m[5:])
print(m[:-1])
print(m[::-1])

#ndarray
w = np.arange(10,20)
print(w[:5]) # 넘파이 인덱스는 출력될 때 , 가 없다
print(w[:5:2])
print(w[:8])


r = [ [1,2,3,4,5], [6,7,8,9,10], [11,12,13,14,15] ]
print(r[2][2])
print(r[:][:])
print(r[2][:])
print(r[1][:2])
print(r[:2][:2])

s = np.arange(1,16).reshape(3,5)
print(s)
print(s[2][2])
print(s[:][:])
print(s[2][:])
print(s[:2][:1])

print(s[:2, :2]) # [행, 열]
print(s[:,:])
print(s[:-1,:-1])
print(s[2][2])
print(s[::-1, ::-1])

print(s[[0,2]]) # 2차원 인덱스: 범위 지정이 아니라 값을 지정 - 0행이랑 2행 출력
print(s[ :,[1,3,4] ])
print(s[0:2],[3,4] )


# 전치 행렬
print(s)  # 3행 5열
print(s.T) #5행 3열


# 결합 / 분리
a = [1,2,3]
b = [4,5,6]
for ab in zip(a,b): # 튜플로 합쳐서 만들어줌
    print(ab)
print(list(zip(a,b) ))
print( a + b )
print( a* 2 )
# print( a + 2 ) # 에러


c = np.floor(np.random.rand(2, 2) * 100)
print(c)
d = np.floor(np.random.rand(2, 2) * 100)
print(d)
print(np.hstack( (c, d) ) ) # 매개변수 튜플로 묶어서 넣어야 함
print(np.vstack( (c, d) ) ) 
print( c + d )


e = np.floor(np.random.rand( 2, 15 ) * 100)
print(e)
print( np.hsplit( e, 3))
for arr in np.hsplit(e, 3):
    print(arr)
for arr in np.hsplit( e, (3, 7, 12) ):  # [0:3] [3:7] [7:12] [12:]
    print(arr)


f = np.array( [1, 2, 3, 4, 5] )
g = np.array( ['A', 'B', 'C', 'D', 'E'] )
h = np.array( [True, True, False, False, True] )
#삼항연산            조건 ? 참 : 거짓
#                    참 if 조건 else 거짓  
print( [x if z else y for x, y, z in zip(f, g, h)] )

print( np.where( h ,f , g) )
print( np.where(f < 3, '작다', '크다') )
print( np.where( h ,'참' , '거짓') )


i = np.arange(10)
np.save('i.npy', i)
ii = np.load('i.npy')
print(type(ii))

j = np.arange(10)
k = np.arange(20)
np.savez( 'jk.npz', x=j, y=k )
jk = np.load( 'jk.npz' )
print( type(jk))
print( jk['x'])
print( jk['y'])












