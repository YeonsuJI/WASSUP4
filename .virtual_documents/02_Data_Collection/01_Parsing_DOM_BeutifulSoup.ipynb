


pip list


from bs4 import BeautifulSoup
import lxml


BeautifulSoup?


# sample
html = '''
<div id=prices >
    <table >
        <tr class=bb>
            <th class="bb lm lft">Date
            <th class="-gt bb">Open
            <th class="rgt bb">High
            <th class="rgt bb">Low
            <th class="rgt bb">Close
            <th class="rgt bb rm">Volume
        <tr>
            <td class="lm">Feb 28, 2014
            <td class="rgt">100.71
            <td class="rgt">100.71
            <td class="rgt">100.71
            <td class="rgt">100.71
            <td class="rgt rm">0
     </table>
'''


# 파이썬 표준 html 파서
BeautifulSoup(html, 'html.parser')


BeautifulSoup(html, 'lxml')





pwd


html_file = open('sample/market.html', encoding='utf-8')
html_file


html_src = html_file.read()
html_file.close()


html_src


print(html_src)


# DOM구조로 변환(구문분석)\
soup = BeautifulSoup(html_src, 'lxml')
type(soup)


soup?


soup





soup.find?


soup.find('p')


type(soup.find('p'))


soup.find_all('p') #복수라서 리스트로 반환 . for문 돌릴 수 있음


type(soup.find_all('p'))


soup.find('p', id ='orange')


soup.find_all(class_='fruit') #클래스 뒤에 언더바는 class예약어가 이미 잡혀있기 때문에 이것을 구분하기 위해서 존재.





soup.select?


soup.select('p')  # select_one이 단수, select는 복수 .    find는 단수 find_all이 복수


soup.select_one('p')


# 셀릭터 문법
soup.select('#orange')  # #이 id라는 뜻


soup.select('.price') # .은 class


# AND 관계
soup.select('p#orange')


soup.select('a, .store')


soup.select('.fruit.best')


# > : 자식관계
soup.select('.fruit.best>a') #자식관계 포현할 때 공백 무관하다. 그런데 권장 안한다. 자손관계 때문에 헷갈릴 수 있음.


# 공백 : 자손관계
soup.select('.fruit.best a') # 공백으로 자손관계를 만들어줌.


soup.select('.count')


soup.find_all(class_= 'count')

















soup.select('.fruit.best a')[0]


type(soup.select('.fruit.best a')[0])


soup.select('.fruit.best a')[0].text





for i in soup.select('.fruit.best a'):
    print(i.text)



tagitem=soup.select('.fruit.best a')[0]
tagitem


tagitem?


tagitem['href']


tagitem.attrs # 딕셔너리로 키와 값으로 나옴


#fruit best 클래스의 a자손들의 url정보를 모두 출력해보세요
for i in soup.select('.fruit.best a'):
    print(i.attrs)



for i in soup.select('.fruit.best a'):
    print(i['href'])





for i in soup.select('p'):
    print(i['title'])
    for j in i.select('span'):
        print(j.text)
    print(i.select('a')[0]['href'])


for i in soup.find_all('p'):
    print(i.text)


for tag in soup.select('.fruit'):
    title =tag['title']
    price =tag.find('span', 'price').text
    count =tag.find('span', 'count').text
    store =tag.find('span', 'store').text
    url = tag.find('a')['href']
    print(title,price,count,store,url)


for tag in soup.select('.fruit'):
    title = tag['title']
    price = tag.select_one('span.price').text
    count = tag.select_one('span.count').text
    store = tag.select_one('span.store').text
    url = tag.select_one('a')['href']
    print(title, price, count, store, url)


for tag in soup.select('.fruit'):
    title = tag['title']
    price = tag.select_one('span.price').text
    count = tag.select_one('span.count').text
    store = tag.select_one('span.store').text
    url = tag.select_one('a')['href']
    print(title, price, count, store, url)


for tag in soup.select('.fruit'):
    title = tag['title']
    price = tag.select_one('.price').text
    count = tag.select_one('.count').text
    store = tag.select_one('.store').text
    url = tag.select_one('a')['href']
    print(title, price, count, store, url)


for tag in soup.select('.fruit'):
    title = tag['title']
    # for i in tag.select('span'):
    #     print(i.text)
    price = tag.select_one('.price').text
    count = tag.select_one('.count').text
    store = tag.select_one('.store').text
    url = tag.select_one('a')['href']
    print(title, price, count, store, url)


e = soup.find('p', id ='orange')
e


type(e)


e.name


e.attrs


e.string
print(e.string)  # p 태그 안에 다른 태그는 속해있어도 문자열은 속하지 않아있음.


e.text


e.strings


for item in e.strings:
    print(item)





e


e.parent


e.parents


for i in e.parents:
    print(i.name)


e.contents # p태그가 가지고 있는 자식들












