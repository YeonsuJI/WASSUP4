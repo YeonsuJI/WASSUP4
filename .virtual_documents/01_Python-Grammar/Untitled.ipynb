# Numpy
# Numerical Python
# 고성능 수치 계산을 위한 라이브러리
# 벡터나 행렬 연산에 편리한 기능 제공
# 모든 원소는 같은 자료형만 가능


import numpy as np
a = np.arange( 15 ) # 1차원 데이터
print( a )
a = a.reshape( 3,5, order='F') #c행부터 할당 기본값F열부터 할당# reshape : 차원을 바꾸는 함수
#a = np.arange(15).reshape(3,5) 이것도 가능
print( a )
print( type( a )  )
print( a.shape )
print( a.dtype )
print(a.ndim) # 몇 차원 데이터인지 알려주는 것
print(a.size)
# print( dir(np)) # 넘파이에서 쓸 수 있는 것들


print(a)




































