





def add(a,b):
    return a + b


a = 3
b = 4 
c = add(a, b)
print(c)





def add(a,b): # a, b 는 매개변수
    return a + b

print(add(3,4)) # 3,4는 인수





#일반적인 함수
def add1(a,b):
    result = a+b
    return result


add1 (3,4)


# 입력값이 없는 함수
def say1():
    return 'Hi'


say1()


d = say1()


print(d)


# 리턴값이 없는 함수
def add2(a, b):
    print("%d, %d의 합은 %d입니다." % (a, b, a+b))



add2(3,4)


c = add2(3,4)


print(c)


# 입력값도, 리턴값도 없는 함수
def say2():
    print("Hi")


say2()


d = say2()


print(d)





def sub(a,b):
    return a-b


result = sub(a =7,b=3)
print(result)


result = sub(b=5, a=3)
print(result)





print?


# 사용자의 입력이 몇개든, 전부 다 누적해서 더해주는 함수
def add_many(*args):
    result = 0
    for i in args:
        result = result+i #args에 입력받은 모든 값을 더한다.
    return result


add_many(1,2,3,4,5)


add_many(1,2,3,4,5,6,7,8,9,10)





def add_mul(option,*args):
    if option == "mul":
        data = 1
        for i in args:
            data *= i
        return data
        
    if option == "sum":
        data = 0
        for i in args:
            data += i
        return data


add_mul("mul",1,2,3,4,6)


add_mul("sum",1,2,3,4,5)





def print_kwargs(**kwargs):
   print(kwargs)


print_kwargs(a = 1)


print_kwargs(name = 'ji', age =27)





def add_and_mul(a,b):
    return a+b,a*b


add_and_mul(3,4) #튜플로 묶였기에 출력되는 데이터는 한개이다


result1, result2  = add_and_mul(3,4)
result1


result2


def add_and_mul(a,b):
    return a+b
    return a*b


result = add_and_mul(2,3)
result





def say_nick(nick):
    if nick == "바보":
        return "옥상으로 따라와"
    print(f'나의 별명은 {nick}입니다.')


say_nick('야호')


say_nick('바보')





def say_myself(name, age, man =True): # 트루값 같은 것은 맨 뒤에 넣어라
    print(f'나의 이름은 {name}입니다.')
    print(f'나의 나이은 {age}입니다.')
    if man :
        print('남자입니다')
    else:
        print('여자입니다')


say_myself('지연수', 27, True)





a = 1 # 글로벌 영역
def vartest(a): #로컬영역
    a = a + 1


a # 영역이 달라서 영향을 받지 않아 바뀌지 않음


vartest(a)


print(a)





# 1. return 사용하기
a = 1 
def vartest(a): 
    a = a +1 
    return a

a = vartest(a) 
print(a)


# 2. global 명령어 사용하기
a = 1
def vartest():
    global a
    a = a+1

vartest()
print(a)    





def add(a,b):
    return a+b
result = add(3,4)
print(result)


add = lambda a,b: a+b
add(3,4)





# newfile.py
f = open("output/test.txt", 'w')
f.close()


f = open("output/test.txt", 'w')
for i in range(1,11):
    f.write(f'{i}번째 줄입니다.\n')
f.close()


# readline 함수 아용하기
f = open("output/test.txt", 'r')
line = f.readline()
print(line)
f.close()


f = open("output/test.txt", 'r')
for i in range(5):
      line = f.readline()
      print(line)
f.close()


# readlines 함수
f = open("output/test.txt", 'r')
lines = f.readlines()
print(lines)


f = open("output/test.txt", 'r')
lines = f.readlines()
for line in lines:
    print(line)
f.close()





f = open('output/test.txt', 'r')
lines = f.readlines()
for line in lines : 
    print(line.strip()) #줄 끝의 줄 바꿈 문자를 제거한다.
f.close()


# read함수 사용하기
f = open('output/test.txt', 'r')
data =f.read()
print(data, type(data))
f.close()





# add_data.py
f = open('output/test.txt','a')

for i in range(11,21):
    data = f"{i}번째 줄입니다.\n" 
    f.write(data)
    print(data.strip())
f.close()






f = open('output/foo.txt', 'w')
f.write("Life is too short, you need python")
f.close()


with open('output/foo.txt', 'w') as f:
    f.write("your leg is too short")




