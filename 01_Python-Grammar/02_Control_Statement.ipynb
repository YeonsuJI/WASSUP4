{
 "cells": [
  {
   "cell_type": "markdown",
   "id": "a0e5bed2-de3f-46f4-9f58-4f8d51075db2",
   "metadata": {},
   "source": [
    "## if문\n",
    "'돈이 있으면 택시를 타고 가고, 돈이 없으면 걸어간다.'"
   ]
  },
  {
   "cell_type": "code",
   "execution_count": 3,
   "id": "ec67b230-5bf5-49a4-9947-becde5e37b74",
   "metadata": {},
   "outputs": [
    {
     "name": "stdout",
     "output_type": "stream",
     "text": [
      "택시를 타고 가라\n"
     ]
    }
   ],
   "source": [
    "money = True\n",
    "if money:\n",
    "   print(\"택시를 타고 가라\")\n",
    "else:\n",
    "   print(\"걸어 가라\")"
   ]
  },
  {
   "cell_type": "code",
   "execution_count": 7,
   "id": "68d59b77-3d99-4903-a88f-3095ba5f6944",
   "metadata": {},
   "outputs": [
    {
     "ename": "IndentationError",
     "evalue": "unexpected indent (3745732759.py, line 6)",
     "output_type": "error",
     "traceback": [
      "\u001b[1;36m  Cell \u001b[1;32mIn[7], line 6\u001b[1;36m\u001b[0m\n\u001b[1;33m    print(\"가라\")\u001b[0m\n\u001b[1;37m    ^\u001b[0m\n\u001b[1;31mIndentationError\u001b[0m\u001b[1;31m:\u001b[0m unexpected indent\n"
     ]
    }
   ],
   "source": [
    "# 코드 블럭 들여쓰기 해라\n",
    "money = True\n",
    "if money:\n",
    "   print(\"택시를\")\n",
    "print(\"타고\")\n",
    "   print(\"가라\")"
   ]
  },
  {
   "cell_type": "code",
   "execution_count": 9,
   "id": "2621909b-21e7-4066-8e56-439669ea4fb3",
   "metadata": {},
   "outputs": [
    {
     "ename": "IndentationError",
     "evalue": "unexpected indent (2588056833.py, line 6)",
     "output_type": "error",
     "traceback": [
      "\u001b[1;36m  Cell \u001b[1;32mIn[9], line 6\u001b[1;36m\u001b[0m\n\u001b[1;33m    print(\"가라\")\u001b[0m\n\u001b[1;37m    ^\u001b[0m\n\u001b[1;31mIndentationError\u001b[0m\u001b[1;31m:\u001b[0m unexpected indent\n"
     ]
    }
   ],
   "source": [
    "# 코드 블럭 계층 주의\n",
    "money = True\n",
    "if money:\n",
    "    print(\"택시를\")\n",
    "    print(\"타고\")\n",
    "        print(\"가라\")\n"
   ]
  },
  {
   "cell_type": "markdown",
   "id": "d5289ce6-64ce-4a7f-bb62-9b0c49731b0c",
   "metadata": {},
   "source": [
    "### 비교 연산자"
   ]
  },
  {
   "cell_type": "code",
   "execution_count": 12,
   "id": "fc8853ab-903b-449f-934b-b33ae472b65f",
   "metadata": {},
   "outputs": [
    {
     "data": {
      "text/plain": [
       "True"
      ]
     },
     "execution_count": 12,
     "metadata": {},
     "output_type": "execute_result"
    }
   ],
   "source": [
    "x = 3\n",
    "y =2\n",
    "x > y"
   ]
  },
  {
   "cell_type": "code",
   "execution_count": 14,
   "id": "1de4e68d-f0a3-4776-b77b-402cd48028a7",
   "metadata": {},
   "outputs": [
    {
     "data": {
      "text/plain": [
       "False"
      ]
     },
     "execution_count": 14,
     "metadata": {},
     "output_type": "execute_result"
    }
   ],
   "source": [
    "x < y"
   ]
  },
  {
   "cell_type": "code",
   "execution_count": 16,
   "id": "3b681614-21d7-495d-a383-701d0374f003",
   "metadata": {},
   "outputs": [
    {
     "data": {
      "text/plain": [
       "True"
      ]
     },
     "execution_count": 16,
     "metadata": {},
     "output_type": "execute_result"
    }
   ],
   "source": [
    " x!=y"
   ]
  },
  {
   "cell_type": "markdown",
   "id": "6b3a434c-a0a7-46ce-b521-18273d2f62e2",
   "metadata": {},
   "source": [
    "## quiz : \n",
    "만약 3000원 이상의 돈을 가지고 있으면 택시타고, 그렇지 않으면 걸어가라"
   ]
  },
  {
   "cell_type": "code",
   "execution_count": 27,
   "id": "9713bca3-f94f-4502-b9f2-2f4a5dbf4f0c",
   "metadata": {},
   "outputs": [
    {
     "name": "stdout",
     "output_type": "stream",
     "text": [
      "택시를 타라\n"
     ]
    }
   ],
   "source": [
    "money = 4000\n",
    "if money>=3000 :\n",
    "    print(\"택시를 타라\")\n",
    "else:\n",
    "    print(\"걸어가라\")"
   ]
  },
  {
   "cell_type": "markdown",
   "id": "0faf2162-5583-4757-a62e-ce4bceae6592",
   "metadata": {},
   "source": [
    "### quiz :\n",
    "돈이 3000원 이상 있거나 카드가 있다면 택시를 타고 가고, 그렇지 않으면 걸어가라."
   ]
  },
  {
   "cell_type": "code",
   "execution_count": 34,
   "id": "33857ee1-d048-4109-a84b-bdda5b4fc4e0",
   "metadata": {},
   "outputs": [
    {
     "name": "stdout",
     "output_type": "stream",
     "text": [
      "택시를 타라\n"
     ]
    }
   ],
   "source": [
    "money = 0\n",
    "card = True\n",
    "if money>=3000 or card:\n",
    "    print(\"택시를 타라\")\n",
    "else:\n",
    "    print(\"걸어가라\")"
   ]
  },
  {
   "cell_type": "code",
   "execution_count": 36,
   "id": "08e69556-97a8-4448-85e9-878dc230dfdf",
   "metadata": {},
   "outputs": [
    {
     "data": {
      "text/plain": [
       "True"
      ]
     },
     "execution_count": 36,
     "metadata": {},
     "output_type": "execute_result"
    }
   ],
   "source": [
    ">>> 1 in [1, 2, 3]"
   ]
  },
  {
   "cell_type": "code",
   "execution_count": 38,
   "id": "4ba9efda-51a0-41e7-a932-0d2089b6a0a4",
   "metadata": {},
   "outputs": [
    {
     "data": {
      "text/plain": [
       "False"
      ]
     },
     "execution_count": 38,
     "metadata": {},
     "output_type": "execute_result"
    }
   ],
   "source": [
    ">>> 1 not in [1, 2, 3]"
   ]
  },
  {
   "cell_type": "code",
   "execution_count": 40,
   "id": "46268d59-5a8d-4488-9052-5fe30dcbe118",
   "metadata": {},
   "outputs": [
    {
     "data": {
      "text/plain": [
       "True"
      ]
     },
     "execution_count": 40,
     "metadata": {},
     "output_type": "execute_result"
    }
   ],
   "source": [
    "'a' in ('a', 'b', 'c')"
   ]
  },
  {
   "cell_type": "code",
   "execution_count": 42,
   "id": "f3ef768b-6b2e-4fca-91f2-8027bca4642f",
   "metadata": {},
   "outputs": [
    {
     "data": {
      "text/plain": [
       "False"
      ]
     },
     "execution_count": 42,
     "metadata": {},
     "output_type": "execute_result"
    }
   ],
   "source": [
    "'a' not in ('a', 'b', 'c')"
   ]
  },
  {
   "cell_type": "markdown",
   "id": "60ad178b-35b8-4630-967a-a12e1952badc",
   "metadata": {},
   "source": [
    "### quiz :\n",
    "만약 주머니에 돈이 있으면 택시를 타고 가고, 없으면 걸어가라."
   ]
  },
  {
   "cell_type": "code",
   "execution_count": 65,
   "id": "e99d5848-de21-40bc-a69d-be98ff4228a3",
   "metadata": {},
   "outputs": [
    {
     "name": "stdout",
     "output_type": "stream",
     "text": [
      "택시를 타라\n"
     ]
    }
   ],
   "source": [
    "pocket = ['phone', 'card','money']\n",
    "if 'money' in pocket:\n",
    "    print(\"택시를 타라\")\n",
    "else:\n",
    "    print(\"걸어가라\")"
   ]
  },
  {
   "cell_type": "markdown",
   "id": "7afb9e1e-6850-45af-92ad-8185671a49d3",
   "metadata": {},
   "source": [
    "## pass\n",
    "주머니에 돈이 있으면 가만히 있고, 주머니에 돈이 없으면 카드를 꺼내라."
   ]
  },
  {
   "cell_type": "code",
   "execution_count": 69,
   "id": "77f9c75b-1ca3-4545-8e02-7a4cb7a295a5",
   "metadata": {},
   "outputs": [],
   "source": [
    "pocket = ['phone', 'card','money']\n",
    "if 'money' in pocket:\n",
    "    pass\n",
    "else:\n",
    "    print(\"걸어가라\")"
   ]
  },
  {
   "cell_type": "markdown",
   "id": "54657614-6cbd-482b-886b-3443b03ecf9a",
   "metadata": {},
   "source": [
    "## elif\n",
    "주머니에 돈이 있으면 택시를 타고 가고,\n",
    "주머니에 돈은 없지만 카드가 있으면 택시를 타고 가고,\n",
    "돈도 없고 카드도 없으면 걸어가라."
   ]
  },
  {
   "cell_type": "code",
   "execution_count": 112,
   "id": "9dd5d210-ab09-467a-a674-f267306ddd56",
   "metadata": {},
   "outputs": [
    {
     "name": "stdout",
     "output_type": "stream",
     "text": [
      "현금택시\n"
     ]
    }
   ],
   "source": [
    "pocket = ['phone', 'money']\n",
    "card =True\n",
    "if 'money' in pocket:\n",
    "    print(\"현금택시\")\n",
    "else:\n",
    "    if card:\n",
    "        print(\"카드택시\")\n",
    "    else:\n",
    "        print(\"걸어가라\")"
   ]
  },
  {
   "cell_type": "code",
   "execution_count": 119,
   "id": "30a1ec40-91c9-4ee3-b2bd-c3dfccd4e82d",
   "metadata": {},
   "outputs": [
    {
     "name": "stdout",
     "output_type": "stream",
     "text": [
      "카드로 택시를 타라\n"
     ]
    }
   ],
   "source": [
    "pocket = ['phone', 'card','money1']\n",
    "if 'money' in pocket:\n",
    "    print(\"현금으로 택시를 타라\")\n",
    "elif 'money' or 'card' in pocket:\n",
    "    print(\"카드로 택시를 타라\")\n",
    "else:\n",
    "    print(\"걸어가라\")"
   ]
  },
  {
   "cell_type": "markdown",
   "id": "b92d8471-a4f5-4ff1-8a1e-327bcd41a8c1",
   "metadata": {},
   "source": [
    "## if문 한 줄로 작성하기"
   ]
  },
  {
   "cell_type": "code",
   "execution_count": 121,
   "id": "d18782c1-424c-41b8-8fb0-30711c310b59",
   "metadata": {},
   "outputs": [
    {
     "name": "stdout",
     "output_type": "stream",
     "text": [
      "카드를 꺼내라\n"
     ]
    }
   ],
   "source": [
    "if 'money' in pocket:\n",
    "    pass\n",
    "else:\n",
    "    print(\"카드를 꺼내라\")"
   ]
  },
  {
   "cell_type": "code",
   "execution_count": 123,
   "id": "87ae0509-5b04-4882-b82f-5d88210f2f64",
   "metadata": {},
   "outputs": [
    {
     "name": "stdout",
     "output_type": "stream",
     "text": [
      "카드를 꺼내라\n"
     ]
    }
   ],
   "source": [
    "if 'money' in pocket: pass\n",
    "else: print(\"카드를 꺼내라\")"
   ]
  },
  {
   "cell_type": "markdown",
   "id": "09153725-ad41-4efa-b7f8-11f966832a6b",
   "metadata": {},
   "source": [
    "### 조건부 표현식"
   ]
  },
  {
   "cell_type": "code",
   "execution_count": 134,
   "id": "1b585abf-bc2c-49f6-9daf-eb352bd7a85a",
   "metadata": {},
   "outputs": [
    {
     "name": "stdout",
     "output_type": "stream",
     "text": [
      "success\n"
     ]
    }
   ],
   "source": [
    "score = 60\n",
    "if score >= 60:\n",
    "    message = \"success\"\n",
    "    # print(message)\n",
    "else:\n",
    "    message = \"failure\"\n",
    "    # print(message)\n",
    "print(message)"
   ]
  },
  {
   "cell_type": "code",
   "execution_count": 138,
   "id": "1e5f38e5-e257-461f-b9e0-1f8697f3312c",
   "metadata": {},
   "outputs": [
    {
     "name": "stdout",
     "output_type": "stream",
     "text": [
      "success\n"
     ]
    }
   ],
   "source": [
    "massage = 'success' if score >= 60 else 'failure'\n",
    "print(message)"
   ]
  },
  {
   "cell_type": "markdown",
   "id": "7a342dd6-fd86-4fb2-9c59-7a074490c779",
   "metadata": {},
   "source": [
    "## while 반복문"
   ]
  },
  {
   "cell_type": "code",
   "execution_count": 143,
   "id": "f753987f-4a36-4f9e-9b56-b74798f022d8",
   "metadata": {},
   "outputs": [
    {
     "name": "stdout",
     "output_type": "stream",
     "text": [
      "나무를 1번 찍었습니다.\n",
      "나무를 2번 찍었습니다.\n",
      "나무를 3번 찍었습니다.\n",
      "나무를 4번 찍었습니다.\n",
      "나무를 5번 찍었습니다.\n",
      "나무를 6번 찍었습니다.\n",
      "나무를 7번 찍었습니다.\n",
      "나무를 8번 찍었습니다.\n",
      "나무를 9번 찍었습니다.\n",
      "나무를 10번 찍었습니다.\n",
      "나무 넘어갑니다.\n"
     ]
    }
   ],
   "source": [
    "treeHit = 0\n",
    "while treeHit < 10:\n",
    "    treeHit = treeHit +1\n",
    "    print(\"나무를 %d번 찍었습니다.\" %treeHit)\n",
    "    if treeHit ==10:\n",
    "         print(\"나무 넘어갑니다.\")\n"
   ]
  },
  {
   "cell_type": "code",
   "execution_count": 147,
   "id": "9b9a3d11-438d-483f-b0ac-81d022908273",
   "metadata": {},
   "outputs": [],
   "source": [
    "prompt = '''\n",
    "1. Add\n",
    "2. Del\n",
    "3. List\n",
    "4. Quit\n",
    "\n",
    "Enter number : '''"
   ]
  },
  {
   "cell_type": "code",
   "execution_count": 149,
   "id": "2eb71a83-645f-426b-9b70-4b95706083f3",
   "metadata": {},
   "outputs": [
    {
     "data": {
      "text/plain": [
       "'\\n1. Add\\n2. Del\\n3. List\\n4. Quit\\n\\nEnter number : '"
      ]
     },
     "execution_count": 149,
     "metadata": {},
     "output_type": "execute_result"
    }
   ],
   "source": [
    "prompt"
   ]
  },
  {
   "cell_type": "code",
   "execution_count": 151,
   "id": "bd276163-2d41-4918-82f9-b132cb8ca2d7",
   "metadata": {},
   "outputs": [
    {
     "name": "stdout",
     "output_type": "stream",
     "text": [
      "\n",
      "1. Add\n",
      "2. Del\n",
      "3. List\n",
      "4. Quit\n",
      "\n",
      "Enter number : \n"
     ]
    }
   ],
   "source": [
    "print(prompt)"
   ]
  },
  {
   "cell_type": "code",
   "execution_count": 153,
   "id": "cbb85533-ffc1-4d8a-a997-baa6a928f54c",
   "metadata": {},
   "outputs": [
    {
     "name": "stdin",
     "output_type": "stream",
     "text": [
      " 안녕하세요\n"
     ]
    },
    {
     "data": {
      "text/plain": [
       "'안녕하세요'"
      ]
     },
     "execution_count": 153,
     "metadata": {},
     "output_type": "execute_result"
    }
   ],
   "source": [
    "input() "
   ]
  },
  {
   "cell_type": "code",
   "execution_count": 157,
   "id": "0d765de2-06b0-4d95-afa5-15c9635f06f7",
   "metadata": {},
   "outputs": [
    {
     "name": "stdout",
     "output_type": "stream",
     "text": [
      "\n",
      "1. Add\n",
      "2. Del\n",
      "3. List\n",
      "4. Quit\n",
      "\n",
      "Enter number : \n"
     ]
    },
    {
     "name": "stdin",
     "output_type": "stream",
     "text": [
      " 2\n"
     ]
    },
    {
     "name": "stdout",
     "output_type": "stream",
     "text": [
      "\n",
      "1. Add\n",
      "2. Del\n",
      "3. List\n",
      "4. Quit\n",
      "\n",
      "Enter number : \n"
     ]
    },
    {
     "name": "stdin",
     "output_type": "stream",
     "text": [
      " 1\n"
     ]
    },
    {
     "name": "stdout",
     "output_type": "stream",
     "text": [
      "\n",
      "1. Add\n",
      "2. Del\n",
      "3. List\n",
      "4. Quit\n",
      "\n",
      "Enter number : \n"
     ]
    },
    {
     "name": "stdin",
     "output_type": "stream",
     "text": [
      " 3\n"
     ]
    },
    {
     "name": "stdout",
     "output_type": "stream",
     "text": [
      "\n",
      "1. Add\n",
      "2. Del\n",
      "3. List\n",
      "4. Quit\n",
      "\n",
      "Enter number : \n"
     ]
    },
    {
     "name": "stdin",
     "output_type": "stream",
     "text": [
      " 4\n"
     ]
    }
   ],
   "source": [
    "number = 0\n",
    "while number != 4:\n",
    "    print(prompt)\n",
    "    number = int(input()) #input은 무조건 문자열로 반환하기 때문에 int로 바꿔줌"
   ]
  },
  {
   "cell_type": "markdown",
   "id": "9cbf97ab-e70a-42c7-acf0-f90df69986eb",
   "metadata": {},
   "source": [
    "## While 문 강제로 빠져나가기"
   ]
  },
  {
   "cell_type": "code",
   "execution_count": 160,
   "id": "061585e4-1ba4-4703-9efd-45749ae15d12",
   "metadata": {},
   "outputs": [
    {
     "name": "stdout",
     "output_type": "stream",
     "text": [
      "돈을 받았으니 커피를 줍니다.\n",
      "남은 커피의 양은 9개입니다.\n",
      "돈을 받았으니 커피를 줍니다.\n",
      "남은 커피의 양은 8개입니다.\n",
      "돈을 받았으니 커피를 줍니다.\n",
      "남은 커피의 양은 7개입니다.\n",
      "돈을 받았으니 커피를 줍니다.\n",
      "남은 커피의 양은 6개입니다.\n",
      "돈을 받았으니 커피를 줍니다.\n",
      "남은 커피의 양은 5개입니다.\n",
      "돈을 받았으니 커피를 줍니다.\n",
      "남은 커피의 양은 4개입니다.\n",
      "돈을 받았으니 커피를 줍니다.\n",
      "남은 커피의 양은 3개입니다.\n",
      "돈을 받았으니 커피를 줍니다.\n",
      "남은 커피의 양은 2개입니다.\n",
      "돈을 받았으니 커피를 줍니다.\n",
      "남은 커피의 양은 1개입니다.\n",
      "돈을 받았으니 커피를 줍니다.\n",
      "남은 커피의 양은 0개입니다.\n",
      "커피가 다 떨어졌습니다. 판매를 중지합니다.\n"
     ]
    }
   ],
   "source": [
    "coffee = 10\n",
    "money = 300\n",
    "while money:\n",
    "    print(\"돈을 받았으니 커피를 줍니다.\")\n",
    "    coffee = coffee -1\n",
    "    print(\"남은 커피의 양은 %d개입니다.\" % coffee)\n",
    "    if coffee == 0:\n",
    "        print(\"커피가 다 떨어졌습니다. 판매를 중지합니다.\")\n",
    "        break"
   ]
  },
  {
   "cell_type": "markdown",
   "id": "8b3aa394-aefe-4b2f-89a8-19eb8fceecfb",
   "metadata": {},
   "source": [
    "## quiz\n",
    "money를 사용자 입력 받는\n",
    "커피 자판기 프로그램을 만들어보자"
   ]
  },
  {
   "cell_type": "code",
   "execution_count": 201,
   "id": "b117eb53-c1ae-43e7-86fb-67dfcaf74589",
   "metadata": {},
   "outputs": [],
   "source": [
    "prompt = '''\n",
    "1. Add\n",
    "2. Del\n",
    "3. List\n",
    "4. Quit\n",
    "\n",
    "Enter number : '''"
   ]
  },
  {
   "cell_type": "code",
   "execution_count": 189,
   "id": "eb7cbbfc-574d-424c-bbb2-c9a4e44b45bd",
   "metadata": {},
   "outputs": [
    {
     "name": "stdout",
     "output_type": "stream",
     "text": [
      "\n",
      "1. 믹스커피\n",
      "2. 블랙커피\n",
      "3. 우유\n",
      "4. 저리가\n",
      "\n",
      "Enter number : \n"
     ]
    },
    {
     "name": "stdin",
     "output_type": "stream",
     "text": [
      " 5\n"
     ]
    },
    {
     "name": "stdout",
     "output_type": "stream",
     "text": [
      "\n",
      "1. 믹스커피\n",
      "2. 블랙커피\n",
      "3. 우유\n",
      "4. 저리가\n",
      "\n",
      "Enter number : \n"
     ]
    },
    {
     "name": "stdin",
     "output_type": "stream",
     "text": [
      " 5\n"
     ]
    },
    {
     "name": "stdout",
     "output_type": "stream",
     "text": [
      "\n",
      "1. 믹스커피\n",
      "2. 블랙커피\n",
      "3. 우유\n",
      "4. 저리가\n",
      "\n",
      "Enter number : \n"
     ]
    },
    {
     "name": "stdin",
     "output_type": "stream",
     "text": [
      " 6\n"
     ]
    },
    {
     "name": "stdout",
     "output_type": "stream",
     "text": [
      "\n",
      "1. 믹스커피\n",
      "2. 블랙커피\n",
      "3. 우유\n",
      "4. 저리가\n",
      "\n",
      "Enter number : \n"
     ]
    },
    {
     "name": "stdin",
     "output_type": "stream",
     "text": [
      " 4\n"
     ]
    }
   ],
   "source": [
    "number = 0\n",
    "pocket= [\"money\", \"card\"]\n",
    "while number != 4:\n",
    "    if \"money\" in pocket or \"card\" in pocket:\n",
    "        print(prompt)\n",
    "        number = int(input())\n",
    "        if number == 1:\n",
    "            print(\"믹스커피를 추출합니다\")\n",
    "        elif number == 2:\n",
    "            print(\"블랙커피를 추출합니다\")\n",
    "        elif number == 3:\n",
    "            print(\"우유를 추출합니다\")\n",
    "    else:\n",
    "        break\n",
    "        "
   ]
  },
  {
   "cell_type": "code",
   "execution_count": 213,
   "id": "74b4e069-8c45-4920-a9b3-d77ee4b7865b",
   "metadata": {},
   "outputs": [
    {
     "name": "stdin",
     "output_type": "stream",
     "text": [
      "돈을 넣어주세요. 300\n"
     ]
    },
    {
     "name": "stdout",
     "output_type": "stream",
     "text": [
      "커피를 줍니다\n",
      "남은 커피의 양은9개 입니다.\n"
     ]
    },
    {
     "name": "stdin",
     "output_type": "stream",
     "text": [
      "돈을 넣어주세요. 500\n"
     ]
    },
    {
     "name": "stdout",
     "output_type": "stream",
     "text": [
      "거스름돈 200을 주고 커피를 줍니다\n",
      "남은 커피의 양은8개 입니다.\n"
     ]
    },
    {
     "name": "stdin",
     "output_type": "stream",
     "text": [
      "돈을 넣어주세요. 600\n"
     ]
    },
    {
     "name": "stdout",
     "output_type": "stream",
     "text": [
      "거스름돈 300을 주고 커피를 줍니다\n",
      "남은 커피의 양은7개 입니다.\n"
     ]
    },
    {
     "name": "stdin",
     "output_type": "stream",
     "text": [
      "돈을 넣어주세요. 1000\n"
     ]
    },
    {
     "name": "stdout",
     "output_type": "stream",
     "text": [
      "거스름돈 700을 주고 커피를 줍니다\n",
      "남은 커피의 양은6개 입니다.\n"
     ]
    },
    {
     "name": "stdin",
     "output_type": "stream",
     "text": [
      "돈을 넣어주세요. 200\n"
     ]
    },
    {
     "name": "stdout",
     "output_type": "stream",
     "text": [
      "돈을 다시 돌려주고 커피를 주지 않습니다.\n",
      "남은 커피의 양은6개 입니다.\n"
     ]
    },
    {
     "name": "stdin",
     "output_type": "stream",
     "text": [
      "돈을 넣어주세요. 30\n"
     ]
    },
    {
     "name": "stdout",
     "output_type": "stream",
     "text": [
      "돈을 다시 돌려주고 커피를 주지 않습니다.\n",
      "남은 커피의 양은6개 입니다.\n"
     ]
    },
    {
     "name": "stdin",
     "output_type": "stream",
     "text": [
      "돈을 넣어주세요. 3000\n"
     ]
    },
    {
     "name": "stdout",
     "output_type": "stream",
     "text": [
      "거스름돈 2700을 주고 커피를 줍니다\n",
      "남은 커피의 양은5개 입니다.\n"
     ]
    },
    {
     "name": "stdin",
     "output_type": "stream",
     "text": [
      "돈을 넣어주세요. 3000\n"
     ]
    },
    {
     "name": "stdout",
     "output_type": "stream",
     "text": [
      "거스름돈 2700을 주고 커피를 줍니다\n",
      "남은 커피의 양은4개 입니다.\n"
     ]
    },
    {
     "name": "stdin",
     "output_type": "stream",
     "text": [
      "돈을 넣어주세요. 300\n"
     ]
    },
    {
     "name": "stdout",
     "output_type": "stream",
     "text": [
      "커피를 줍니다\n",
      "남은 커피의 양은3개 입니다.\n"
     ]
    },
    {
     "name": "stdin",
     "output_type": "stream",
     "text": [
      "돈을 넣어주세요. 300\n"
     ]
    },
    {
     "name": "stdout",
     "output_type": "stream",
     "text": [
      "커피를 줍니다\n",
      "남은 커피의 양은2개 입니다.\n"
     ]
    },
    {
     "name": "stdin",
     "output_type": "stream",
     "text": [
      "돈을 넣어주세요. 300\n"
     ]
    },
    {
     "name": "stdout",
     "output_type": "stream",
     "text": [
      "커피를 줍니다\n",
      "남은 커피의 양은1개 입니다.\n"
     ]
    },
    {
     "name": "stdin",
     "output_type": "stream",
     "text": [
      "돈을 넣어주세요. 300\n"
     ]
    },
    {
     "name": "stdout",
     "output_type": "stream",
     "text": [
      "커피를 줍니다\n",
      "남은 커피의 양은0개 입니다.\n",
      "커피가 다 떨어졌습니다. 판매를 중지합니다.\n"
     ]
    }
   ],
   "source": [
    "coffee = 10\n",
    "while True :\n",
    "    \n",
    "    money = int(input(\"돈을 넣어주세요.\"))\n",
    "\n",
    "    if money == 300: #돈을 딱 맞게 받은 케이스\n",
    "        print('커피를 줍니다')\n",
    "        coffee -= 1\n",
    "        #재고 소진\n",
    "        print(f'남은 커피의 양은{coffee}개 입니다.')\n",
    "    \n",
    "    elif money > 300 : #돈을 더 받았을 경우\n",
    "        # print('거스름돈 %d을 주고 커피를 줍니다.'%(money-300)) #거스름돈 계산\n",
    "        print(f'거스름돈 {money -300}을 주고 커피를 줍니다')\n",
    "        coffee -= 1\n",
    "        #재고 소진\n",
    "        print(f'남은 커피의 양은{coffee}개 입니다.')\n",
    "        \n",
    "    else : #돈이 부족할 경우\n",
    "        print('돈을 다시 돌려주고 커피를 주지 않습니다.')\n",
    "        print(f'남은 커피의 양은{coffee}개 입니다.')\n",
    "        #남은 재고 체크\n",
    "    \n",
    "    if coffee == 0: #커피가 다 떨어졌을 경우\n",
    "        print('커피가 다 떨어졌습니다. 판매를 중지합니다.')\n",
    "        break"
   ]
  },
  {
   "cell_type": "markdown",
   "id": "4e113410-f17a-403a-a2f4-0304c97ea11f",
   "metadata": {},
   "source": [
    "## while문 맨 처음으로 돌아가기 continue"
   ]
  },
  {
   "cell_type": "code",
   "execution_count": 231,
   "id": "a7f98e0e-dd72-4331-bbdd-2fb1801e8241",
   "metadata": {},
   "outputs": [
    {
     "name": "stdout",
     "output_type": "stream",
     "text": [
      "1\n",
      "3\n",
      "5\n",
      "7\n",
      "9\n"
     ]
    }
   ],
   "source": [
    "a = 0\n",
    "while a < 10:\n",
    "    a +=1\n",
    "    \n",
    "    if a%2 == 0:\n",
    "        continue\n",
    "        \n",
    "    print(a)"
   ]
  },
  {
   "cell_type": "markdown",
   "id": "e24c1fc9-4d47-411b-87db-2b5d0d551bdc",
   "metadata": {},
   "source": [
    "## For 반복문\n",
    "for 변수 in 이터러블 객체: #이터레이션 : 시퀀스의 항목 개수만큼 순서대로 반복\n",
    "    수행할 문장1\n",
    "    문장 222"
   ]
  },
  {
   "cell_type": "code",
   "execution_count": 239,
   "id": "d95d17af-6462-4ba3-adf9-e8c4ff80fea7",
   "metadata": {},
   "outputs": [
    {
     "name": "stdout",
     "output_type": "stream",
     "text": [
      "one\n",
      "two\n",
      "three\n"
     ]
    }
   ],
   "source": [
    "# 전령적인 for문\n",
    "test_list = ['one', 'two', 'three']\n",
    "\n",
    "for i in test_list:\n",
    "    print(i)\n"
   ]
  },
  {
   "cell_type": "code",
   "execution_count": 253,
   "id": "ef84f87c-3a72-4063-8acf-b79b86c3b865",
   "metadata": {},
   "outputs": [
    {
     "name": "stdout",
     "output_type": "stream",
     "text": [
      "(1, 2)\n",
      "(3, 4)\n",
      "(5, 6)\n"
     ]
    }
   ],
   "source": [
    "a = [(1,2),(3,4),(5,6)]\n",
    "for i in a:\n",
    "    print(i)"
   ]
  },
  {
   "cell_type": "code",
   "execution_count": 255,
   "id": "5bda0ace-0263-466f-bd28-37a40bb5fff6",
   "metadata": {},
   "outputs": [
    {
     "name": "stdout",
     "output_type": "stream",
     "text": [
      "3\n",
      "7\n",
      "11\n"
     ]
    }
   ],
   "source": [
    "for first, last in a:\n",
    "    print(first+last)"
   ]
  },
  {
   "cell_type": "markdown",
   "id": "b5b1921e-73ea-455b-a720-71831e70c636",
   "metadata": {},
   "source": [
    "## quiz\n",
    "총 5명의 학생이 시험을 보았는데 시험 점수가 60점 이상이면 합격이고 그렇지 않으면 불합격이다. 합격인지, 불합격인지 결과를 보여 주시오."
   ]
  },
  {
   "cell_type": "code",
   "execution_count": 266,
   "id": "117a0479-718a-4b3d-af2d-9ac75776631e",
   "metadata": {},
   "outputs": [
    {
     "name": "stdout",
     "output_type": "stream",
     "text": [
      "90\n",
      "1번 학생은 90 합격\n",
      "25\n",
      "2번 학생은 25 불합격\n",
      "67\n",
      "3번 학생은 67 합격\n",
      "45\n",
      "4번 학생은 45 불합격\n",
      "80\n",
      "5번 학생은 80 합격\n"
     ]
    }
   ],
   "source": [
    "scores = [90, 25, 67, 45, 80]\n",
    "number = 0\n",
    "for s in scores :\n",
    "    print(s)\n",
    "    number += 1\n",
    "    if s>= 60:\n",
    "        print(f\"{number}번 학생은 {s} 합격\")\n",
    "    else:\n",
    "        print(f\"{number}번 학생은 {s} 불합격\")"
   ]
  },
  {
   "cell_type": "markdown",
   "id": "f9974c0f-57e3-4e56-a2b0-faa4787af9d3",
   "metadata": {},
   "source": [
    "## for문과 continue문"
   ]
  },
  {
   "cell_type": "code",
   "execution_count": 5,
   "id": "44f4ff94-6d42-49c6-9e72-922e4eb25dac",
   "metadata": {},
   "outputs": [
    {
     "name": "stdout",
     "output_type": "stream",
     "text": [
      "1번 학생 축하합니다. 합격입니다.\n",
      "3번 학생 축하합니다. 합격입니다.\n",
      "5번 학생 축하합니다. 합격입니다.\n"
     ]
    }
   ],
   "source": [
    "scores = [90,25,67,45,80]\n",
    "\n",
    "number = 0 #인덱스 번호 \n",
    "for s in scores:\n",
    "    number +=1\n",
    "    if s <60:\n",
    "        continue\n",
    "    print(f\"{number}번 학생 축하합니다. 합격입니다.\")"
   ]
  },
  {
   "cell_type": "markdown",
   "id": "ff622e82-9740-4058-b339-7871fba5068d",
   "metadata": {},
   "source": [
    "## for문과 함께 자주 사용하는 range함수"
   ]
  },
  {
   "cell_type": "code",
   "execution_count": 10,
   "id": "0b8b3899-9566-40de-b566-e55599a30116",
   "metadata": {},
   "outputs": [
    {
     "data": {
      "text/plain": [
       "\u001b[1;31mInit signature:\u001b[0m \u001b[0mrange\u001b[0m\u001b[1;33m(\u001b[0m\u001b[0mself\u001b[0m\u001b[1;33m,\u001b[0m \u001b[1;33m/\u001b[0m\u001b[1;33m,\u001b[0m \u001b[1;33m*\u001b[0m\u001b[0margs\u001b[0m\u001b[1;33m,\u001b[0m \u001b[1;33m**\u001b[0m\u001b[0mkwargs\u001b[0m\u001b[1;33m)\u001b[0m\u001b[1;33m\u001b[0m\u001b[1;33m\u001b[0m\u001b[0m\n",
       "\u001b[1;31mDocstring:\u001b[0m     \n",
       "range(stop) -> range object\n",
       "range(start, stop[, step]) -> range object\n",
       "\n",
       "Return an object that produces a sequence of integers from start (inclusive)\n",
       "to stop (exclusive) by step.  range(i, j) produces i, i+1, i+2, ..., j-1.\n",
       "start defaults to 0, and stop is omitted!  range(4) produces 0, 1, 2, 3.\n",
       "These are exactly the valid indices for a list of 4 elements.\n",
       "When step is given, it specifies the increment (or decrement).\n",
       "\u001b[1;31mType:\u001b[0m           type\n",
       "\u001b[1;31mSubclasses:\u001b[0m     "
      ]
     },
     "metadata": {},
     "output_type": "display_data"
    }
   ],
   "source": [
    "range?"
   ]
  },
  {
   "cell_type": "code",
   "execution_count": 16,
   "id": "801d80da-3406-44e8-8867-f54bdbbd3c5c",
   "metadata": {},
   "outputs": [
    {
     "data": {
      "text/plain": [
       "range(0, 10)"
      ]
     },
     "execution_count": 16,
     "metadata": {},
     "output_type": "execute_result"
    }
   ],
   "source": [
    "range(10) #range(시작_숫자, 끝_숫자) 형태를 사용하는데, 이때 끝 숫자는 포함되지 않는다."
   ]
  },
  {
   "cell_type": "code",
   "execution_count": 18,
   "id": "6b5e2203-d9f2-4a7d-8caa-027c12746d91",
   "metadata": {},
   "outputs": [
    {
     "data": {
      "text/plain": [
       "range"
      ]
     },
     "execution_count": 18,
     "metadata": {},
     "output_type": "execute_result"
    }
   ],
   "source": [
    "type(range(10))"
   ]
  },
  {
   "cell_type": "code",
   "execution_count": 20,
   "id": "a069b6ab-d3dc-42bf-9dd7-4b9a29a3fa0c",
   "metadata": {},
   "outputs": [
    {
     "name": "stdout",
     "output_type": "stream",
     "text": [
      "0\n",
      "1\n",
      "2\n",
      "3\n",
      "4\n",
      "5\n",
      "6\n",
      "7\n",
      "8\n",
      "9\n"
     ]
    }
   ],
   "source": [
    "for i in range(10):\n",
    "    print(i)"
   ]
  },
  {
   "cell_type": "code",
   "execution_count": 22,
   "id": "dc4cdb5d-3d56-4269-8657-de5b315ff92e",
   "metadata": {},
   "outputs": [
    {
     "name": "stdout",
     "output_type": "stream",
     "text": [
      "1\n",
      "2\n",
      "3\n",
      "4\n",
      "5\n",
      "6\n",
      "7\n",
      "8\n",
      "9\n",
      "10\n"
     ]
    }
   ],
   "source": [
    "for i in range(1,11):\n",
    "    print(i)"
   ]
  },
  {
   "cell_type": "markdown",
   "id": "afeb0c22-1b37-46d7-a307-ada6f78ef8e8",
   "metadata": {},
   "source": [
    "## quiz\n",
    "for문과 range함수를 이용하여 1부터 10까지 더해보세요"
   ]
  },
  {
   "cell_type": "code",
   "execution_count": 45,
   "id": "1dc90ef0-d748-436c-8221-4d95cd50dd30",
   "metadata": {},
   "outputs": [
    {
     "name": "stdout",
     "output_type": "stream",
     "text": [
      "55\n"
     ]
    }
   ],
   "source": [
    "a = 0\n",
    "for i in range (1,11):\n",
    "    a += i\n",
    "print(a)"
   ]
  },
  {
   "cell_type": "code",
   "execution_count": 51,
   "id": "21399302-f7c4-486f-b225-c361f21bf424",
   "metadata": {},
   "outputs": [
    {
     "name": "stdout",
     "output_type": "stream",
     "text": [
      "1번 학생 축하합니다. 합격입니다.\n",
      "3번 학생 축하합니다. 합격입니다.\n",
      "5번 학생 축하합니다. 합격입니다.\n"
     ]
    }
   ],
   "source": [
    "scores = [90,25,67,45,80]\n",
    "\n",
    "# number = 0 #인덱스 번호 \n",
    "for s in  range(len(scores)):\n",
    "    # number +=1\n",
    "    if scores[s] <60:\n",
    "        continue\n",
    "    print(f\"{s+1}번 학생 축하합니다. 합격입니다.\")"
   ]
  },
  {
   "cell_type": "markdown",
   "id": "7bef1738-e9e9-4b73-a87e-78d361b91fc9",
   "metadata": {},
   "source": [
    "## for와 range를 이용한 구구단"
   ]
  },
  {
   "cell_type": "code",
   "execution_count": 131,
   "id": "aa390cff-dae2-4ad8-bc19-554602bdd2a9",
   "metadata": {},
   "outputs": [
    {
     "name": "stdout",
     "output_type": "stream",
     "text": [
      "2 x 1 = 2\n",
      "2 x 2 = 4\n",
      "2 x 3 = 6\n",
      "2 x 4 = 8\n",
      "2 x 5 = 10\n",
      "2 x 6 = 12\n",
      "2 x 7 = 14\n",
      "2 x 8 = 16\n",
      "2 x 9 = 18\n",
      "\n",
      "3 x 1 = 3\n",
      "3 x 2 = 6\n",
      "3 x 3 = 9\n",
      "3 x 4 = 12\n",
      "3 x 5 = 15\n",
      "3 x 6 = 18\n",
      "3 x 7 = 21\n",
      "3 x 8 = 24\n",
      "3 x 9 = 27\n",
      "\n",
      "4 x 1 = 4\n",
      "4 x 2 = 8\n",
      "4 x 3 = 12\n",
      "4 x 4 = 16\n",
      "4 x 5 = 20\n",
      "4 x 6 = 24\n",
      "4 x 7 = 28\n",
      "4 x 8 = 32\n",
      "4 x 9 = 36\n",
      "\n",
      "5 x 1 = 5\n",
      "5 x 2 = 10\n",
      "5 x 3 = 15\n",
      "5 x 4 = 20\n",
      "5 x 5 = 25\n",
      "5 x 6 = 30\n",
      "5 x 7 = 35\n",
      "5 x 8 = 40\n",
      "5 x 9 = 45\n",
      "\n",
      "6 x 1 = 6\n",
      "6 x 2 = 12\n",
      "6 x 3 = 18\n",
      "6 x 4 = 24\n",
      "6 x 5 = 30\n",
      "6 x 6 = 36\n",
      "6 x 7 = 42\n",
      "6 x 8 = 48\n",
      "6 x 9 = 54\n",
      "\n",
      "7 x 1 = 7\n",
      "7 x 2 = 14\n",
      "7 x 3 = 21\n",
      "7 x 4 = 28\n",
      "7 x 5 = 35\n",
      "7 x 6 = 42\n",
      "7 x 7 = 49\n",
      "7 x 8 = 56\n",
      "7 x 9 = 63\n",
      "\n",
      "8 x 1 = 8\n",
      "8 x 2 = 16\n",
      "8 x 3 = 24\n",
      "8 x 4 = 32\n",
      "8 x 5 = 40\n",
      "8 x 6 = 48\n",
      "8 x 7 = 56\n",
      "8 x 8 = 64\n",
      "8 x 9 = 72\n",
      "\n",
      "9 x 1 = 9\n",
      "9 x 2 = 18\n",
      "9 x 3 = 27\n",
      "9 x 4 = 36\n",
      "9 x 5 = 45\n",
      "9 x 6 = 54\n",
      "9 x 7 = 63\n",
      "9 x 8 = 72\n",
      "9 x 9 = 81\n",
      "\n"
     ]
    }
   ],
   "source": [
    "\n",
    "for n in range(2,10):\n",
    "    for i in range(1,10):\n",
    "        # print(n, \"X\", i, \"=\",n*i)\n",
    "        print(f\"{n} x {i} = {n*i}\")#, end =\" \")\n",
    "    print()"
   ]
  },
  {
   "cell_type": "code",
   "execution_count": 123,
   "id": "c765d319-f567-4359-a71b-8e09129ad988",
   "metadata": {},
   "outputs": [
    {
     "name": "stdout",
     "output_type": "stream",
     "text": [
      "==========\n",
      "2단\n",
      "2x1=2\n",
      "2x2=4\n",
      "2x3=6\n",
      "2x4=8\n",
      "2x5=10\n",
      "2x6=12\n",
      "2x7=14\n",
      "2x8=16\n",
      "2x9=18\n",
      "==========\n",
      "3단\n",
      "3x1=3\n",
      "3x2=6\n",
      "3x3=9\n",
      "3x4=12\n",
      "3x5=15\n",
      "3x6=18\n",
      "3x7=21\n",
      "3x8=24\n",
      "3x9=27\n",
      "==========\n",
      "4단\n",
      "4x1=4\n",
      "4x2=8\n",
      "4x3=12\n",
      "4x4=16\n",
      "4x5=20\n",
      "4x6=24\n",
      "4x7=28\n",
      "4x8=32\n",
      "4x9=36\n",
      "==========\n",
      "5단\n",
      "5x1=5\n",
      "5x2=10\n",
      "5x3=15\n",
      "5x4=20\n",
      "5x5=25\n",
      "5x6=30\n",
      "5x7=35\n",
      "5x8=40\n",
      "5x9=45\n",
      "==========\n",
      "6단\n",
      "6x1=6\n",
      "6x2=12\n",
      "6x3=18\n",
      "6x4=24\n",
      "6x5=30\n",
      "6x6=36\n",
      "6x7=42\n",
      "6x8=48\n",
      "6x9=54\n",
      "==========\n",
      "7단\n",
      "7x1=7\n",
      "7x2=14\n",
      "7x3=21\n",
      "7x4=28\n",
      "7x5=35\n",
      "7x6=42\n",
      "7x7=49\n",
      "7x8=56\n",
      "7x9=63\n",
      "==========\n",
      "8단\n",
      "8x1=8\n",
      "8x2=16\n",
      "8x3=24\n",
      "8x4=32\n",
      "8x5=40\n",
      "8x6=48\n",
      "8x7=56\n",
      "8x8=64\n",
      "8x9=72\n",
      "==========\n",
      "9단\n",
      "9x1=9\n",
      "9x2=18\n",
      "9x3=27\n",
      "9x4=36\n",
      "9x5=45\n",
      "9x6=54\n",
      "9x7=63\n",
      "9x8=72\n",
      "9x9=81\n"
     ]
    }
   ],
   "source": [
    "for i in range(2,10):\n",
    "    print('=' *10) \n",
    "    print(f'{i}단')\n",
    "    for j in range(1,10):\n",
    "        print(f\"{i}x{j}={i* j}\")"
   ]
  },
  {
   "cell_type": "markdown",
   "id": "a1bf0f1e-64b7-4799-a5b5-c7b2972fff72",
   "metadata": {},
   "source": [
    "## 리스트 컴프리헨션"
   ]
  },
  {
   "cell_type": "code",
   "execution_count": 134,
   "id": "b4615b9e-83ff-47c1-abd5-aa8376c455bf",
   "metadata": {},
   "outputs": [
    {
     "name": "stdout",
     "output_type": "stream",
     "text": [
      "[3, 6, 9, 12]\n"
     ]
    }
   ],
   "source": [
    ">>> a = [1,2,3,4]\n",
    ">>> result = []\n",
    ">>> for num in a:\n",
    "...     result.append(num*3)\n",
    "...\n",
    ">>> print(result)\n",
    "\n"
   ]
  },
  {
   "cell_type": "code",
   "execution_count": 144,
   "id": "a5fb3497-4174-43ec-bca7-8043769911f2",
   "metadata": {},
   "outputs": [
    {
     "name": "stdout",
     "output_type": "stream",
     "text": [
      "[6, 12]\n"
     ]
    }
   ],
   "source": [
    ">>> a = [1,2,3,4]\n",
    ">>> result = [num * 3 for num in a if num % 2 == 0]\n",
    ">>> print(result)\n",
    "\n"
   ]
  },
  {
   "cell_type": "code",
   "execution_count": 148,
   "id": "b740d093-7a87-4296-9e8c-79668f7740d7",
   "metadata": {},
   "outputs": [
    {
     "name": "stdout",
     "output_type": "stream",
     "text": [
      "[2, 4, 6, 8, 10, 12, 14, 16, 18, 3, 6, 9, 12, 15, 18, 21, 24, 27, 4, 8, 12, 16, 20, 24, 28, 32, 36, 5, 10, 15, 20, 25, 30, 35, 40, 45, 6, 12, 18, 24, 30, 36, 42, 48, 54, 7, 14, 21, 28, 35, 42, 49, 56, 63, 8, 16, 24, 32, 40, 48, 56, 64, 72, 9, 18, 27, 36, 45, 54, 63, 72, 81]\n"
     ]
    }
   ],
   "source": [
    "result = [x*y for x in range(2,10)\n",
    "          for y in range(1,10)]\n",
    "print(result)"
   ]
  },
  {
   "cell_type": "code",
   "execution_count": 152,
   "id": "adeb0bb0-1931-4975-8029-5f075342b06a",
   "metadata": {},
   "outputs": [
    {
     "name": "stdout",
     "output_type": "stream",
     "text": [
      "List Comprehension Time: 0.05057072639465332\n",
      "For loop Time: 0.08633708953857422\n"
     ]
    }
   ],
   "source": [
    "import time\n",
    "\n",
    "start = time.time() \n",
    "numbers = [i for i in range(1000000)] \n",
    "end = time.time() \n",
    "print('List Comprehension Time:', end-start)\n",
    "\n",
    "start = time.time() \n",
    "numbers = []\n",
    "for i in range(1000000):\n",
    "    numbers.append(i)\n",
    "end = time.time() \n",
    "print('For loop Time:', end-start)"
   ]
  },
  {
   "cell_type": "markdown",
   "id": "f2806b2a-5e22-41ad-b154-f528c4562607",
   "metadata": {},
   "source": [
    "# 1. 전화번호 프로그램 만들기\n",
    "* 홍길동 010-123-4567\n",
    "* 기능1 : 연락처 추가\n",
    "* 기능2 : 연락처 전체 보기\n",
    "* 기능3 : 검색, 이름을 입력받아서 전화번호 조회\n",
    "* 기능4 : 수정, 이름을 입력받아서 전화번호 입력수정\n",
    "* 기능5 : 삭제, 이름 입력받아서 삭제\n",
    "* 기능6 : 프로그램 종료"
   ]
  },
  {
   "cell_type": "markdown",
   "id": "f91e0484-f879-4498-9a84-364b47658a5e",
   "metadata": {},
   "source": [
    "## 설계\n",
    "1. 입출력 정의 : 문자열, 딕셔너리 Key:value\r\n",
    "2. 인터페이스 : input()\r\n",
    "3. 구조 : while 반복문, 6개의 기능을 구현 -> if분기문\r\n",
    "4. 기능 구현 + 인터페이스\n",
    "- 1번 연락처 추가 : dict[key] = value\n",
    "- 2번 연락처 전체 보기 : print(dict)\n",
    "- 3번 연락처 검색 : dict[key]\n",
    "- 4번 연락처 수정 : dict[key] = value\n",
    "- 5번 연락처 삭제 : del\n",
    "- 6번 종료 : break 정책"
   ]
  },
  {
   "cell_type": "code",
   "execution_count": 202,
   "id": "5834f5be-ec6a-4643-b231-470bbf0f3239",
   "metadata": {},
   "outputs": [
    {
     "name": "stdout",
     "output_type": "stream",
     "text": [
      "------전화번호부 프로그램-----\n",
      "1.추가 2.조회 3.검색 4.수정 5.삭제  9.종료\n"
     ]
    },
    {
     "name": "stdin",
     "output_type": "stream",
     "text": [
      "메뉴를 선택해주세요.(숫자 only ):  1\n"
     ]
    },
    {
     "name": "stdout",
     "output_type": "stream",
     "text": [
      "연락처를 추가합니다. \n"
     ]
    },
    {
     "name": "stdin",
     "output_type": "stream",
     "text": [
      "이름:  qwe\n",
      "전화번호 :  123\n"
     ]
    },
    {
     "name": "stdout",
     "output_type": "stream",
     "text": [
      "qwe 123\n",
      "------전화번호부 프로그램-----\n",
      "1.추가 2.조회 3.검색 4.수정 5.삭제  9.종료\n"
     ]
    },
    {
     "name": "stdin",
     "output_type": "stream",
     "text": [
      "메뉴를 선택해주세요.(숫자 only ):  1\n"
     ]
    },
    {
     "name": "stdout",
     "output_type": "stream",
     "text": [
      "연락처를 추가합니다. \n"
     ]
    },
    {
     "name": "stdin",
     "output_type": "stream",
     "text": [
      "이름:  asd\n",
      "전화번호 :  456\n"
     ]
    },
    {
     "name": "stdout",
     "output_type": "stream",
     "text": [
      "asd 456\n",
      "------전화번호부 프로그램-----\n",
      "1.추가 2.조회 3.검색 4.수정 5.삭제  9.종료\n"
     ]
    },
    {
     "name": "stdin",
     "output_type": "stream",
     "text": [
      "메뉴를 선택해주세요.(숫자 only ):  4\n"
     ]
    },
    {
     "name": "stdout",
     "output_type": "stream",
     "text": [
      "연락처를 수정합니다.\n"
     ]
    },
    {
     "name": "stdin",
     "output_type": "stream",
     "text": [
      "수정 이름 :  qwe\n",
      "수정 전화번호 : 999\n"
     ]
    },
    {
     "name": "stdout",
     "output_type": "stream",
     "text": [
      "------전화번호부 프로그램-----\n",
      "1.추가 2.조회 3.검색 4.수정 5.삭제  9.종료\n"
     ]
    },
    {
     "name": "stdin",
     "output_type": "stream",
     "text": [
      "메뉴를 선택해주세요.(숫자 only ):  2\n"
     ]
    },
    {
     "name": "stdout",
     "output_type": "stream",
     "text": [
      "연락처를 조회합니다.\n",
      "qwe : 999\n",
      "asd : 456\n",
      "------전화번호부 프로그램-----\n",
      "1.추가 2.조회 3.검색 4.수정 5.삭제  9.종료\n"
     ]
    },
    {
     "name": "stdin",
     "output_type": "stream",
     "text": [
      "메뉴를 선택해주세요.(숫자 only ):  5\n"
     ]
    },
    {
     "name": "stdout",
     "output_type": "stream",
     "text": [
      "연락처를 삭제합니다.\n"
     ]
    },
    {
     "name": "stdin",
     "output_type": "stream",
     "text": [
      "삭제 이름 :  qqq\n"
     ]
    },
    {
     "name": "stdout",
     "output_type": "stream",
     "text": [
      "등록되지 않은 이름입니다.\n",
      "------전화번호부 프로그램-----\n",
      "1.추가 2.조회 3.검색 4.수정 5.삭제  9.종료\n"
     ]
    },
    {
     "name": "stdin",
     "output_type": "stream",
     "text": [
      "메뉴를 선택해주세요.(숫자 only ):  5\n"
     ]
    },
    {
     "name": "stdout",
     "output_type": "stream",
     "text": [
      "연락처를 삭제합니다.\n"
     ]
    },
    {
     "name": "stdin",
     "output_type": "stream",
     "text": [
      "삭제 이름 :  qwe\n"
     ]
    },
    {
     "name": "stdout",
     "output_type": "stream",
     "text": [
      "------전화번호부 프로그램-----\n",
      "1.추가 2.조회 3.검색 4.수정 5.삭제  9.종료\n"
     ]
    },
    {
     "name": "stdin",
     "output_type": "stream",
     "text": [
      "메뉴를 선택해주세요.(숫자 only ):  2\n"
     ]
    },
    {
     "name": "stdout",
     "output_type": "stream",
     "text": [
      "연락처를 조회합니다.\n",
      "asd : 456\n",
      "------전화번호부 프로그램-----\n",
      "1.추가 2.조회 3.검색 4.수정 5.삭제  9.종료\n"
     ]
    },
    {
     "name": "stdin",
     "output_type": "stream",
     "text": [
      "메뉴를 선택해주세요.(숫자 only ):  9\n"
     ]
    },
    {
     "name": "stdout",
     "output_type": "stream",
     "text": [
      "프로그램을 종료합니다.\n"
     ]
    }
   ],
   "source": [
    "contact = {}\n",
    "while True:\n",
    "    print('------전화번호부 프로그램-----')\n",
    "    print('1.추가 2.조회 3.검색 4.수정 5.삭제  9.종료')\n",
    "\n",
    "    menu = int(input(\"메뉴를 선택해주세요.(숫자 only ): \"))\n",
    "    if menu == 1:\n",
    "        print(\"연락처를 추가합니다. \")\n",
    "        new_name = input('이름: ')\n",
    "        new_tel = input('전화번호 : ')\n",
    "        print(new_name, new_tel)\n",
    "        \n",
    "        # contact[new_name] = new_tel\n",
    "        contact.setdefault(new_name, new_tel)\n",
    "\n",
    "    elif menu == 2:\n",
    "        print(\"연락처를 조회합니다.\")\n",
    "        # print(contact)\n",
    "        for name, tel in contact.items():\n",
    "            print(name, ':', tel)\n",
    "            \n",
    "    elif menu == 3:\n",
    "        print(\"연락처를 검색합니다.\")\n",
    "        search_name = input(\"검색 이름 : \")\n",
    "        # print(contact[search_name])\n",
    "        print(contact.get(search_name, \"없는 이름입니다.\"))\n",
    "        \n",
    "\n",
    "    elif menu == 4:\n",
    "        print(\"연락처를 수정합니다.\")\n",
    "        mod_name = input(\"수정 이름 : \")\n",
    "\n",
    "        if mod_name in contact:\n",
    "            mod_tel = input(\"수정 전화번호 :\")\n",
    "            contact[mod_name] = mod_tel\n",
    "        else:\n",
    "            print(\"등록되지 않은 이름입니다.\")\n",
    "\n",
    "    elif menu == 5:\n",
    "        print(\"연락처를 삭제합니다.\")\n",
    "        del_name = input(\"삭제 이름 : \")\n",
    "\n",
    "        if del_name in contact:\n",
    "            del contact[del_name]\n",
    "        else:\n",
    "            print(\"등록되지 않은 이름입니다.\")\n",
    "\n",
    "    elif menu == 9:\n",
    "        print(\"프로그램을 종료합니다.\")\n",
    "        break\n",
    "    else :\n",
    "        print(\"유효한 입력이 아닙니다.\")"
   ]
  },
  {
   "cell_type": "code",
   "execution_count": 159,
   "id": "69c265e1-ac16-4b9a-a98c-168fa35ba591",
   "metadata": {},
   "outputs": [
    {
     "name": "stdout",
     "output_type": "stream",
     "text": [
      "\n",
      "전화번호 관리 프로그램\n",
      "1: 연락처 추가\n",
      "2: 연락처 전체 보기\n",
      "3: 연락처 검색\n",
      "4: 연락처 수정\n",
      "5: 연락처 삭제\n",
      "6: 프로그램 종료\n"
     ]
    },
    {
     "ename": "KeyboardInterrupt",
     "evalue": "Interrupted by user",
     "output_type": "error",
     "traceback": [
      "\u001b[1;31m---------------------------------------------------------------------------\u001b[0m",
      "\u001b[1;31mKeyboardInterrupt\u001b[0m                         Traceback (most recent call last)",
      "Cell \u001b[1;32mIn[159], line 12\u001b[0m\n\u001b[0;32m      9\u001b[0m \u001b[38;5;28mprint\u001b[39m(\u001b[38;5;124m\"\u001b[39m\u001b[38;5;124m5: 연락처 삭제\u001b[39m\u001b[38;5;124m\"\u001b[39m)\n\u001b[0;32m     10\u001b[0m \u001b[38;5;28mprint\u001b[39m(\u001b[38;5;124m\"\u001b[39m\u001b[38;5;124m6: 프로그램 종료\u001b[39m\u001b[38;5;124m\"\u001b[39m)\n\u001b[1;32m---> 12\u001b[0m number \u001b[38;5;241m=\u001b[39m \u001b[38;5;28minput\u001b[39m(\u001b[38;5;124m\"\u001b[39m\u001b[38;5;124m원하는 기능의 번호를 입력하세요: \u001b[39m\u001b[38;5;124m\"\u001b[39m)\n\u001b[0;32m     14\u001b[0m \u001b[38;5;28;01mif\u001b[39;00m number \u001b[38;5;241m==\u001b[39m \u001b[38;5;124m'\u001b[39m\u001b[38;5;124m1\u001b[39m\u001b[38;5;124m'\u001b[39m: \n\u001b[0;32m     15\u001b[0m     name \u001b[38;5;241m=\u001b[39m \u001b[38;5;28minput\u001b[39m(\u001b[38;5;124m\"\u001b[39m\u001b[38;5;124m추가할 이름을 입력하세요: \u001b[39m\u001b[38;5;124m\"\u001b[39m)\n",
      "File \u001b[1;32m~\\anaconda3\\Lib\\site-packages\\ipykernel\\kernelbase.py:1262\u001b[0m, in \u001b[0;36mKernel.raw_input\u001b[1;34m(self, prompt)\u001b[0m\n\u001b[0;32m   1260\u001b[0m     msg \u001b[38;5;241m=\u001b[39m \u001b[38;5;124m\"\u001b[39m\u001b[38;5;124mraw_input was called, but this frontend does not support input requests.\u001b[39m\u001b[38;5;124m\"\u001b[39m\n\u001b[0;32m   1261\u001b[0m     \u001b[38;5;28;01mraise\u001b[39;00m StdinNotImplementedError(msg)\n\u001b[1;32m-> 1262\u001b[0m \u001b[38;5;28;01mreturn\u001b[39;00m \u001b[38;5;28mself\u001b[39m\u001b[38;5;241m.\u001b[39m_input_request(\n\u001b[0;32m   1263\u001b[0m     \u001b[38;5;28mstr\u001b[39m(prompt),\n\u001b[0;32m   1264\u001b[0m     \u001b[38;5;28mself\u001b[39m\u001b[38;5;241m.\u001b[39m_parent_ident[\u001b[38;5;124m\"\u001b[39m\u001b[38;5;124mshell\u001b[39m\u001b[38;5;124m\"\u001b[39m],\n\u001b[0;32m   1265\u001b[0m     \u001b[38;5;28mself\u001b[39m\u001b[38;5;241m.\u001b[39mget_parent(\u001b[38;5;124m\"\u001b[39m\u001b[38;5;124mshell\u001b[39m\u001b[38;5;124m\"\u001b[39m),\n\u001b[0;32m   1266\u001b[0m     password\u001b[38;5;241m=\u001b[39m\u001b[38;5;28;01mFalse\u001b[39;00m,\n\u001b[0;32m   1267\u001b[0m )\n",
      "File \u001b[1;32m~\\anaconda3\\Lib\\site-packages\\ipykernel\\kernelbase.py:1305\u001b[0m, in \u001b[0;36mKernel._input_request\u001b[1;34m(self, prompt, ident, parent, password)\u001b[0m\n\u001b[0;32m   1302\u001b[0m \u001b[38;5;28;01mexcept\u001b[39;00m \u001b[38;5;167;01mKeyboardInterrupt\u001b[39;00m:\n\u001b[0;32m   1303\u001b[0m     \u001b[38;5;66;03m# re-raise KeyboardInterrupt, to truncate traceback\u001b[39;00m\n\u001b[0;32m   1304\u001b[0m     msg \u001b[38;5;241m=\u001b[39m \u001b[38;5;124m\"\u001b[39m\u001b[38;5;124mInterrupted by user\u001b[39m\u001b[38;5;124m\"\u001b[39m\n\u001b[1;32m-> 1305\u001b[0m     \u001b[38;5;28;01mraise\u001b[39;00m \u001b[38;5;167;01mKeyboardInterrupt\u001b[39;00m(msg) \u001b[38;5;28;01mfrom\u001b[39;00m \u001b[38;5;28;01mNone\u001b[39;00m\n\u001b[0;32m   1306\u001b[0m \u001b[38;5;28;01mexcept\u001b[39;00m \u001b[38;5;167;01mException\u001b[39;00m:\n\u001b[0;32m   1307\u001b[0m     \u001b[38;5;28mself\u001b[39m\u001b[38;5;241m.\u001b[39mlog\u001b[38;5;241m.\u001b[39mwarning(\u001b[38;5;124m\"\u001b[39m\u001b[38;5;124mInvalid Message:\u001b[39m\u001b[38;5;124m\"\u001b[39m, exc_info\u001b[38;5;241m=\u001b[39m\u001b[38;5;28;01mTrue\u001b[39;00m)\n",
      "\u001b[1;31mKeyboardInterrupt\u001b[0m: Interrupted by user"
     ]
    }
   ],
   "source": [
    "phonebook = {}\n",
    "\n",
    "while True:\n",
    "    print(\"\\n전화번호 관리 프로그램\")\n",
    "    print(\"1: 연락처 추가\")\n",
    "    print(\"2: 연락처 전체 보기\")\n",
    "    print(\"3: 연락처 검색\")\n",
    "    print(\"4: 연락처 수정\")\n",
    "    print(\"5: 연락처 삭제\")\n",
    "    print(\"6: 프로그램 종료\")\n",
    "\n",
    "    number = input(\"원하는 기능의 번호를 입력하세요: \")\n",
    "\n",
    "    if number == '1': \n",
    "        name = input(\"추가할 이름을 입력하세요: \")\n",
    "        phone_number = input(f\"{name}님의 전화번호를 입력하세요: \")\n",
    "        phonebook[name] = phone_number\n",
    "        print(f\"{name}님의 연락처가 추가되었습니다.\")\n",
    "        \n",
    "    elif number == '2':  \n",
    "        if phonebook:\n",
    "            print(\"전체 연락처 목록:\")\n",
    "            for name, phone_number in phonebook.items():\n",
    "                print(f\"{name}: {phone_number}\")\n",
    "        else:\n",
    "            print(\"저장된 연락처가 없습니다.\")\n",
    "\n",
    "    elif number == '3': \n",
    "        name = input(\"검색할 이름을 입력하세요: \")\n",
    "        if name in phonebook:\n",
    "            print(f\"{name}님의 전화번호: {phonebook[name]}\")\n",
    "        else:\n",
    "            print(f\"{name}님의 연락처를 찾을 수 없습니다.\")\n",
    "\n",
    "    elif number == '4': \n",
    "        name = input(\"수정할 연락처의 이름을 입력하세요: \")\n",
    "        if name in phonebook:\n",
    "            new_phone_number = input(f\"{name}님의 새 전화번호를 입력하세요: \")\n",
    "            phonebook[name] = new_phone_number\n",
    "            print(f\"{name}님의 연락처가 수정되었습니다.\")\n",
    "        else:\n",
    "            print(f\"{name}님의 연락처를 찾을 수 없습니다.\")\n",
    "\n",
    "    elif number == '5':  \n",
    "        name = input(\"삭제할 이름을 입력하세요: \")\n",
    "        if name in phonebook:\n",
    "            del phonebook[name]\n",
    "            print(f\"{name}님의 연락처가 삭제되었습니다.\")\n",
    "        else:\n",
    "            print(f\"{name}님의 연락처를 찾을 수 없습니다.\")\n",
    "\n",
    "    elif number == '6': \n",
    "        print(\"프로그램을 종료합니다.\")\n",
    "        break\n",
    "\n",
    "    else:\n",
    "        print(\"유효한 번호를 입력하세요.\")\n"
   ]
  },
  {
   "cell_type": "code",
   "execution_count": 161,
   "id": "b4f8f2d5-15ce-49c5-97d5-e69302178ce3",
   "metadata": {},
   "outputs": [
    {
     "name": "stdout",
     "output_type": "stream",
     "text": [
      "1: 연락처 추가\n",
      "2: 연락처 전체 보기\n",
      "3: 연락처 검색\n",
      "4: 연락처 수정\n",
      "5: 연락처 삭제\n",
      "6: 프로그램 종료\n"
     ]
    },
    {
     "name": "stdin",
     "output_type": "stream",
     "text": [
      "원하는 기능의 번호를 입력하세요:  1\n",
      "추가할 이름을 입력하세요:  asd\n",
      "asd님의 전화번호를 입력하세요:  0102121\n"
     ]
    },
    {
     "name": "stdout",
     "output_type": "stream",
     "text": [
      "asd님의 연락처가 추가되었습니다.\n",
      "1: 연락처 추가\n",
      "2: 연락처 전체 보기\n",
      "3: 연락처 검색\n",
      "4: 연락처 수정\n",
      "5: 연락처 삭제\n",
      "6: 프로그램 종료\n"
     ]
    },
    {
     "name": "stdin",
     "output_type": "stream",
     "text": [
      "원하는 기능의 번호를 입력하세요:  2\n"
     ]
    },
    {
     "name": "stdout",
     "output_type": "stream",
     "text": [
      "1: 연락처 추가\n",
      "2: 연락처 전체 보기\n",
      "3: 연락처 검색\n",
      "4: 연락처 수정\n",
      "5: 연락처 삭제\n",
      "6: 프로그램 종료\n"
     ]
    },
    {
     "ename": "KeyboardInterrupt",
     "evalue": "Interrupted by user",
     "output_type": "error",
     "traceback": [
      "\u001b[1;31m---------------------------------------------------------------------------\u001b[0m",
      "\u001b[1;31mKeyboardInterrupt\u001b[0m                         Traceback (most recent call last)",
      "Cell \u001b[1;32mIn[161], line 11\u001b[0m\n\u001b[0;32m      8\u001b[0m \u001b[38;5;28;01mfor\u001b[39;00m feature \u001b[38;5;129;01min\u001b[39;00m features:  \u001b[38;5;66;03m# 메뉴 출력\u001b[39;00m\n\u001b[0;32m      9\u001b[0m     \u001b[38;5;28mprint\u001b[39m(feature)\n\u001b[1;32m---> 11\u001b[0m choice \u001b[38;5;241m=\u001b[39m \u001b[38;5;28minput\u001b[39m(\u001b[38;5;124m\"\u001b[39m\u001b[38;5;124m원하는 기능의 번호를 입력하세요: \u001b[39m\u001b[38;5;124m\"\u001b[39m)\n\u001b[0;32m     13\u001b[0m \u001b[38;5;28;01mif\u001b[39;00m choice \u001b[38;5;241m==\u001b[39m \u001b[38;5;124m'\u001b[39m\u001b[38;5;124m1\u001b[39m\u001b[38;5;124m'\u001b[39m:  \u001b[38;5;66;03m# 연락처 추가\u001b[39;00m\n\u001b[0;32m     14\u001b[0m     \u001b[38;5;28;01mfor\u001b[39;00m _ \u001b[38;5;129;01min\u001b[39;00m \u001b[38;5;28mrange\u001b[39m(\u001b[38;5;241m1\u001b[39m):  \u001b[38;5;66;03m# for 문을 활용한 추가\u001b[39;00m\n",
      "File \u001b[1;32m~\\anaconda3\\Lib\\site-packages\\ipykernel\\kernelbase.py:1262\u001b[0m, in \u001b[0;36mKernel.raw_input\u001b[1;34m(self, prompt)\u001b[0m\n\u001b[0;32m   1260\u001b[0m     msg \u001b[38;5;241m=\u001b[39m \u001b[38;5;124m\"\u001b[39m\u001b[38;5;124mraw_input was called, but this frontend does not support input requests.\u001b[39m\u001b[38;5;124m\"\u001b[39m\n\u001b[0;32m   1261\u001b[0m     \u001b[38;5;28;01mraise\u001b[39;00m StdinNotImplementedError(msg)\n\u001b[1;32m-> 1262\u001b[0m \u001b[38;5;28;01mreturn\u001b[39;00m \u001b[38;5;28mself\u001b[39m\u001b[38;5;241m.\u001b[39m_input_request(\n\u001b[0;32m   1263\u001b[0m     \u001b[38;5;28mstr\u001b[39m(prompt),\n\u001b[0;32m   1264\u001b[0m     \u001b[38;5;28mself\u001b[39m\u001b[38;5;241m.\u001b[39m_parent_ident[\u001b[38;5;124m\"\u001b[39m\u001b[38;5;124mshell\u001b[39m\u001b[38;5;124m\"\u001b[39m],\n\u001b[0;32m   1265\u001b[0m     \u001b[38;5;28mself\u001b[39m\u001b[38;5;241m.\u001b[39mget_parent(\u001b[38;5;124m\"\u001b[39m\u001b[38;5;124mshell\u001b[39m\u001b[38;5;124m\"\u001b[39m),\n\u001b[0;32m   1266\u001b[0m     password\u001b[38;5;241m=\u001b[39m\u001b[38;5;28;01mFalse\u001b[39;00m,\n\u001b[0;32m   1267\u001b[0m )\n",
      "File \u001b[1;32m~\\anaconda3\\Lib\\site-packages\\ipykernel\\kernelbase.py:1305\u001b[0m, in \u001b[0;36mKernel._input_request\u001b[1;34m(self, prompt, ident, parent, password)\u001b[0m\n\u001b[0;32m   1302\u001b[0m \u001b[38;5;28;01mexcept\u001b[39;00m \u001b[38;5;167;01mKeyboardInterrupt\u001b[39;00m:\n\u001b[0;32m   1303\u001b[0m     \u001b[38;5;66;03m# re-raise KeyboardInterrupt, to truncate traceback\u001b[39;00m\n\u001b[0;32m   1304\u001b[0m     msg \u001b[38;5;241m=\u001b[39m \u001b[38;5;124m\"\u001b[39m\u001b[38;5;124mInterrupted by user\u001b[39m\u001b[38;5;124m\"\u001b[39m\n\u001b[1;32m-> 1305\u001b[0m     \u001b[38;5;28;01mraise\u001b[39;00m \u001b[38;5;167;01mKeyboardInterrupt\u001b[39;00m(msg) \u001b[38;5;28;01mfrom\u001b[39;00m \u001b[38;5;28;01mNone\u001b[39;00m\n\u001b[0;32m   1306\u001b[0m \u001b[38;5;28;01mexcept\u001b[39;00m \u001b[38;5;167;01mException\u001b[39;00m:\n\u001b[0;32m   1307\u001b[0m     \u001b[38;5;28mself\u001b[39m\u001b[38;5;241m.\u001b[39mlog\u001b[38;5;241m.\u001b[39mwarning(\u001b[38;5;124m\"\u001b[39m\u001b[38;5;124mInvalid Message:\u001b[39m\u001b[38;5;124m\"\u001b[39m, exc_info\u001b[38;5;241m=\u001b[39m\u001b[38;5;28;01mTrue\u001b[39;00m)\n",
      "\u001b[1;31mKeyboardInterrupt\u001b[0m: Interrupted by user"
     ]
    }
   ],
   "source": [
    "\n",
    "phonebook = {}\n",
    "\n",
    "\n",
    "features = [\"1: 연락처 추가\", \"2: 연락처 전체 보기\", \"3: 연락처 검색\", \"4: 연락처 수정\", \"5: 연락처 삭제\", \"6: 프로그램 종료\"]\n",
    "\n",
    "while True:\n",
    "    for feature in features:  \n",
    "        print(feature)\n",
    "    \n",
    "    number = input(\"원하는 기능의 번호를 입력하세요: \")\n",
    "\n",
    "    if number == '1':  \n",
    "        for _ in range(1): \n",
    "            name = input(\"추가할 이름을 입력하세요: \")\n",
    "            phone_number = input(f\"{name}님의 전화번호를 입력하세요: \")\n",
    "            phonebook[name] = phone_number\n",
    "            print(f\"{name}님의 연락처가 추가되었습니다.\")\n",
    "        \n",
    "    elif number == '2':  \n",
    "        for _ in range(1): \n",
    "            if phonebook:\n",
    "                print(\"전체 연락처 목록:\")\n",
    "                for name, phone_number in phonebook.items():\n",
    "                    print(f\"{name}: {phone_number}\")\n",
    "            else:\n",
    "                print(\"저장된 연락처가 없습니다.\")\n",
    "\n",
    "    elif number == '3':  \n",
    "        for _ in range(1):  \n",
    "            name = input(\"검색할 이름을 입력하세요: \")\n",
    "            if name in phonebook:\n",
    "                print(f\"{name}님의 전화번호: {phonebook[name]}\")\n",
    "            else:\n",
    "                print(f\"{name}님의 연락처를 찾을 수 없습니다.\")\n",
    "\n",
    "    elif number == '4':  \n",
    "        for _ in range(1):  \n",
    "            name = input(\"수정할 연락처의 이름을 입력하세요: \")\n",
    "            if name in phonebook:\n",
    "                new_phone_number = input(f\"{name}님의 새 전화번호를 입력하세요: \")\n",
    "                phonebook[name] = new_phone_number\n",
    "                print(f\"{name}님의 연락처가 수정되었습니다.\")\n",
    "            else:\n",
    "                print(f\"{name}님의 연락처를 찾을 수 없습니다.\")\n",
    "\n",
    "    elif number == '5':  \n",
    "        for _ in range(1): \n",
    "            name = input(\"삭제할 이름을 입력하세요: \")\n",
    "            if name in phonebook:\n",
    "                del phonebook[name]\n",
    "                print(f\"{name}님의 연락처가 삭제되었습니다.\")\n",
    "            else:\n",
    "                print(f\"{name}님의 연락처를 찾을 수 없습니다.\")\n",
    "\n",
    "    elif number == '6':  # 프로그램 종료\n",
    "        print(\"프로그램을 종료합니다.\")\n",
    "        break\n",
    "\n",
    "    else:  \n",
    "        for _ in range(1):  # for 문을 활용한 오류 처리\n",
    "            print(\"유효한 번호를 입력하세요.\")\n"
   ]
  },
  {
   "cell_type": "code",
   "execution_count": null,
   "id": "ca1acb2c-f999-4760-b5ba-236af08d992d",
   "metadata": {},
   "outputs": [],
   "source": []
  },
  {
   "cell_type": "code",
   "execution_count": null,
   "id": "6d3de3d4-2b67-4352-93a8-82c30b8889d3",
   "metadata": {},
   "outputs": [],
   "source": []
  },
  {
   "cell_type": "code",
   "execution_count": null,
   "id": "d4f02385-950f-4c5f-9836-4e6d63018b68",
   "metadata": {},
   "outputs": [],
   "source": []
  },
  {
   "cell_type": "code",
   "execution_count": null,
   "id": "3ec368ec-4315-4731-a6a8-f2dded2d4e0c",
   "metadata": {},
   "outputs": [],
   "source": []
  },
  {
   "cell_type": "code",
   "execution_count": null,
   "id": "6830dbe9-9606-4ab4-9885-f57045e4b0bd",
   "metadata": {},
   "outputs": [],
   "source": []
  },
  {
   "cell_type": "code",
   "execution_count": null,
   "id": "7adfd15c-c7b0-47b3-9975-2fbfe2b0d3a0",
   "metadata": {},
   "outputs": [],
   "source": []
  },
  {
   "cell_type": "code",
   "execution_count": null,
   "id": "76cd8879-3fa1-4d4f-9d7a-ba4685998857",
   "metadata": {},
   "outputs": [],
   "source": []
  },
  {
   "cell_type": "code",
   "execution_count": null,
   "id": "d0050420-e1dc-4740-9a6e-e22805efccd6",
   "metadata": {},
   "outputs": [],
   "source": []
  },
  {
   "cell_type": "code",
   "execution_count": null,
   "id": "2d88f82c-e1e7-421d-b5eb-33ad1d7665d0",
   "metadata": {},
   "outputs": [],
   "source": []
  },
  {
   "cell_type": "code",
   "execution_count": null,
   "id": "8e8628df-e888-4586-ae0f-9ea5c7fe133c",
   "metadata": {},
   "outputs": [],
   "source": []
  },
  {
   "cell_type": "code",
   "execution_count": null,
   "id": "a830b8be-cd48-4a16-8496-ce3e1919d85a",
   "metadata": {},
   "outputs": [],
   "source": []
  }
 ],
 "metadata": {
  "kernelspec": {
   "display_name": "Python 3 (ipykernel)",
   "language": "python",
   "name": "python3"
  },
  "language_info": {
   "codemirror_mode": {
    "name": "ipython",
    "version": 3
   },
   "file_extension": ".py",
   "mimetype": "text/x-python",
   "name": "python",
   "nbconvert_exporter": "python",
   "pygments_lexer": "ipython3",
   "version": "3.12.4"
  }
 },
 "nbformat": 4,
 "nbformat_minor": 5
}
