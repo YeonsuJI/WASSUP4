


import warnings
warnings.filterwarnings('ignore')








import seaborn as sns

DF = sns.load_dataset('mpg')


DF.info()





DF.head()


type(DF.origin[0])





DF.origin.value_counts()





X = DF[['origin']]


X[111:115]





from sklearn.preprocessing import LabelEncoder
LabelEncoder?


from sklearn.preprocessing import LabelEncoder

encoder1 = LabelEncoder()
LE = encoder1.fit_transform(X)





LE[111:115]





from sklearn.preprocessing import OneHotEncoder 

encoder2 = OneHotEncoder()
OHE = encoder2.fit_transform(X)





print(OHE[111:115])


OHE.toarray()[111:115]





import warnings
warnings.filterwarnings('ignore')








import seaborn as sns

DF = sns.load_dataset('mpg')





DF.info()


DF.head()





X = DF[['weight']]
y = DF['mpg']





X[:5]


import matplotlib.pyplot as plt

fig = plt.figure(figsize = (9, 6))
sns.regplot(x = X, y = y)
plt.xlabel('weight_Without_Scaling')
plt.show()





from sklearn.preprocessing import MinMaxScaler

scaler1 = MinMaxScaler()
X_Norm = scaler1.fit_transform(X)





X_Norm[:5]





fig = plt.figure(figsize = (9, 6))
sns.regplot(x = X_Norm, y = y)
plt.xlabel('weight_With_Normalization')
plt.show()





from sklearn.preprocessing import StandardScaler

scaler2 = StandardScaler()
X_Stan = scaler2.fit_transform(X)





X_Stan[:5]





fig = plt.figure(figsize = (9, 6))
sns.regplot(x = X_Stan, y = y)
plt.xlabel('weigh_With_Standardization')
plt.show()



