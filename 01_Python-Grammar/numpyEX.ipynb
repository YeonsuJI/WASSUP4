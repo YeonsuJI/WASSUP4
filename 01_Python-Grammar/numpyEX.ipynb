{
 "cells": [
  {
   "cell_type": "code",
   "execution_count": 1,
   "id": "6d5261e8-e5be-4b5d-9609-62e4f9c9a57d",
   "metadata": {},
   "outputs": [],
   "source": [
    "# Numpy\n",
    "# Numerical Python\n",
    "# 고성능 수치 계산을 위한 라이브러리\n",
    "# 벡터나 행렬 연산에 편리한 기능 제공\n",
    "# 모든 원소는 같은 자료형만 가능"
   ]
  },
  {
   "cell_type": "code",
   "execution_count": 2,
   "id": "0047a824-7aa3-4c45-87fe-210323211efd",
   "metadata": {},
   "outputs": [
    {
     "name": "stdout",
     "output_type": "stream",
     "text": [
      "[ 0  1  2  3  4  5  6  7  8  9 10 11 12 13 14]\n",
      "[[ 0  3  6  9 12]\n",
      " [ 1  4  7 10 13]\n",
      " [ 2  5  8 11 14]]\n",
      "<class 'numpy.ndarray'>\n",
      "(3, 5)\n",
      "int32\n",
      "2\n",
      "15\n"
     ]
    }
   ],
   "source": [
    "import numpy as np\n",
    "a = np.arange( 15 ) # 1차원 데이터\n",
    "print( a )\n",
    "a = a.reshape( 3,5, order='F') #c행부터 할당 기본값F열부터 할당# reshape : 차원을 바꾸는 함수\n",
    "#a = np.arange(15).reshape(3,5) 이것도 가능\n",
    "print( a )\n",
    "print( type( a )  )\n",
    "print( a.shape )\n",
    "print( a.dtype )\n",
    "print(a.ndim) # 몇 차원 데이터인지 알려주는 것\n",
    "print(a.size)\n",
    "# print( dir(np)) # 넘파이에서 쓸 수 있는 것들"
   ]
  },
  {
   "cell_type": "code",
   "execution_count": 3,
   "id": "add506e5-8b13-494a-81b8-a1ad5cdbeafc",
   "metadata": {},
   "outputs": [
    {
     "name": "stdout",
     "output_type": "stream",
     "text": [
      "[[ 0  3  6  9 12]\n",
      " [ 1  4  7 10 13]\n",
      " [ 2  5  8 11 14]]\n"
     ]
    }
   ],
   "source": [
    "print(a)"
   ]
  },
  {
   "cell_type": "code",
   "execution_count": 4,
   "id": "df0f735a-3073-4382-816d-3c469f6a0a7d",
   "metadata": {},
   "outputs": [
    {
     "name": "stdout",
     "output_type": "stream",
     "text": [
      "<class 'list'>\n",
      "<class 'numpy.ndarray'>\n",
      "<class 'tuple'>\n",
      "<class 'numpy.ndarray'>\n",
      "<class 'set'>\n",
      "<class 'numpy.ndarray'>\n"
     ]
    }
   ],
   "source": [
    "b = [-1, 2, 5, -3, 0, 7, -9, 7, -4,-7] # list\n",
    "print(type(b))\n",
    "b = np.array(b)\n",
    "print(type(b))\n",
    "\n",
    "t = (10,20,30,40,50) # Tuple\n",
    "print(type(t))\n",
    "t = np.array(t)\n",
    "print(type(t))\n",
    "\n",
    "s = {10,20,30,40,50} # set\n",
    "print(type(s))\n",
    "s = np.array(s)\n",
    "print(type(s))\n",
    "\n",
    "# 딕셔너리는 넘파이로 바로 바꿀 수 없음. but 판다스로 호환 가능\n"
   ]
  },
  {
   "cell_type": "code",
   "execution_count": 33,
   "id": "f95da58c-e754-4e5a-8d50-c5c305daf3a9",
   "metadata": {},
   "outputs": [
    {
     "name": "stdout",
     "output_type": "stream",
     "text": [
      "(10,)\n",
      "1\n",
      "int32\n",
      "[-1  2  5 -3  0  7 -9  7 -4 -7]\n",
      "[1 2 5 3 0 7 9 7 4 7]\n",
      "[1.         1.41421356 2.23606798 1.73205081 0.         2.64575131\n",
      " 3.         2.64575131 2.         2.64575131]\n",
      "[ 1  4 25  9  0 49 81 49 16 49]\n",
      "[False False False False False False False False False False]\n",
      "-3\n",
      "-0.3\n",
      "7\n",
      "-9\n",
      "5\n",
      "6\n",
      "[-9 -7 -4 -3 -1  0  2  5  7  7]\n",
      "[ 7  7  5  2  0 -1 -3 -4 -7 -9]\n",
      "-0.5\n"
     ]
    }
   ],
   "source": [
    "print(b.shape)\n",
    "print(b.ndim)\n",
    "print(b.dtype)\n",
    "print(b)\n",
    "\n",
    "# print(help(np.arange))  # help(원하는 함수의 설명만도 볼 수 잇음) = dir 이라고 생각하면 편함\n",
    "print(np.abs(b))          # 절대값\n",
    "print(np.sqrt(np.abs(b))) #제곱근 / 이중함수 가능 \n",
    "# nan = not a number (음수의 경우에 주로 나옴)\n",
    "print(np.square(b))       # 제곱\n",
    "print(np.isnan(b))        # nan이면 True 아니면 False\n",
    "print(np.sum(b))          # 합계\n",
    "print(np.mean(b))         # 평균\n",
    "print(np.max(b))          # 최값\n",
    "print(np.min(b))          # 최솟값\n",
    "print(np.argmax(b))       # 최댓값 인덱스\n",
    "print(np.argmin(b))       # 최솟값 인덱스\n",
    "print(np.sort(b))         # 오름차순 정렬\n",
    "print(np.sort(b)[::-1])   # 내림차순 정렬 [start : end : step]\n",
    "print(np.median(b))       # 중간값\n"
   ]
  },
  {
   "cell_type": "code",
   "execution_count": 35,
   "id": "98faf83a-3dcd-4431-a81f-cf488f3cae49",
   "metadata": {},
   "outputs": [],
   "source": [
    "c = np.zeros((3,3))"
   ]
  },
  {
   "cell_type": "code",
   "execution_count": 37,
   "id": "c299d286-b60d-4ca7-9088-529ea6502953",
   "metadata": {},
   "outputs": [
    {
     "name": "stdout",
     "output_type": "stream",
     "text": [
      "[[0. 0. 0.]\n",
      " [0. 0. 0.]\n",
      " [0. 0. 0.]]\n"
     ]
    }
   ],
   "source": [
    "print(c)"
   ]
  },
  {
   "cell_type": "code",
   "execution_count": 39,
   "id": "1106b1c3-d2a5-45f3-97ab-159735381fdc",
   "metadata": {},
   "outputs": [],
   "source": [
    "d = np.ones((3,3))"
   ]
  },
  {
   "cell_type": "code",
   "execution_count": 41,
   "id": "b94290bd-b05c-4ebf-9c85-4cdea67b4a93",
   "metadata": {},
   "outputs": [
    {
     "name": "stdout",
     "output_type": "stream",
     "text": [
      "[[1. 1. 1.]\n",
      " [1. 1. 1.]\n",
      " [1. 1. 1.]]\n"
     ]
    }
   ],
   "source": [
    "print(d)"
   ]
  },
  {
   "cell_type": "code",
   "execution_count": 43,
   "id": "f1385d8d-d23c-4cdc-a773-f7d85265c37a",
   "metadata": {},
   "outputs": [
    {
     "data": {
      "text/plain": [
       "array([[0., 0., 0.],\n",
       "       [0., 0., 0.],\n",
       "       [0., 0., 0.]])"
      ]
     },
     "execution_count": 43,
     "metadata": {},
     "output_type": "execute_result"
    }
   ],
   "source": [
    "np.zeros_like(d)"
   ]
  },
  {
   "cell_type": "code",
   "execution_count": 47,
   "id": "4435f513-b91d-47c4-b398-5edabb0dff1c",
   "metadata": {},
   "outputs": [
    {
     "data": {
      "text/plain": [
       "array([[1., 1., 1.],\n",
       "       [1., 1., 1.],\n",
       "       [1., 1., 1.]])"
      ]
     },
     "execution_count": 47,
     "metadata": {},
     "output_type": "execute_result"
    }
   ],
   "source": [
    "np.ones_like(c)"
   ]
  },
  {
   "cell_type": "code",
   "execution_count": 51,
   "id": "b1504ea4-f6e9-459e-ac18-c5350d917f52",
   "metadata": {},
   "outputs": [
    {
     "data": {
      "text/plain": [
       "array([[0.16612461, 0.80021697, 0.34248235],\n",
       "       [0.52638382, 0.45516736, 0.31130184],\n",
       "       [0.04144539, 0.54183597, 0.1425743 ]])"
      ]
     },
     "execution_count": 51,
     "metadata": {},
     "output_type": "execute_result"
    }
   ],
   "source": [
    "np.random.rand(3,3)"
   ]
  },
  {
   "cell_type": "code",
   "execution_count": 59,
   "id": "ade3fef6-5920-4425-a271-16e579e2729e",
   "metadata": {},
   "outputs": [
    {
     "data": {
      "text/plain": [
       "array([[[ 3,  4, 21],\n",
       "        [19, 13,  2],\n",
       "        [20, 27, 25]],\n",
       "\n",
       "       [[14,  8, 20],\n",
       "        [37,  7, 25],\n",
       "        [ 6, 10, 26]],\n",
       "\n",
       "       [[18, 14,  1],\n",
       "        [21, 38, 26],\n",
       "        [39, 10, 24]]])"
      ]
     },
     "execution_count": 59,
     "metadata": {},
     "output_type": "execute_result"
    }
   ],
   "source": [
    "np.random.randint(1,40,size =(3,3,3)) # size =는 없어도 됨"
   ]
  },
  {
   "cell_type": "code",
   "execution_count": 61,
   "id": "54c5a947-20aa-431f-b898-0ac35cf34616",
   "metadata": {},
   "outputs": [
    {
     "data": {
      "text/plain": [
       "array([[1., 1., 1.],\n",
       "       [1., 1., 1.],\n",
       "       [1., 1., 1.]])"
      ]
     },
     "execution_count": 61,
     "metadata": {},
     "output_type": "execute_result"
    }
   ],
   "source": [
    "c+d"
   ]
  },
  {
   "cell_type": "code",
   "execution_count": null,
   "id": "d01b1105-34ce-43ac-a018-91abad693840",
   "metadata": {},
   "outputs": [],
   "source": []
  }
 ],
 "metadata": {
  "kernelspec": {
   "display_name": "Python 3 (ipykernel)",
   "language": "python",
   "name": "python3"
  },
  "language_info": {
   "codemirror_mode": {
    "name": "ipython",
    "version": 3
   },
   "file_extension": ".py",
   "mimetype": "text/x-python",
   "name": "python",
   "nbconvert_exporter": "python",
   "pygments_lexer": "ipython3",
   "version": "3.12.4"
  }
 },
 "nbformat": 4,
 "nbformat_minor": 5
}
