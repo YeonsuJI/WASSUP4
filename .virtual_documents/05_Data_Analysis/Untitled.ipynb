

















import pandas as pd


access_data = pd.read_table('C:/workspace/WASSUP4/05_Data_Analysis/data/mini.csv', sep=',')


access_data.head()


access_data.tail()


access_data.info()


access_data.describe()


# target이 1일 때 특징 찾아보기
target_1_data = access_data[access_data['target'] == 1]
target_1_data


# target이 0일 때 특징 찾아보기
target_0_data = access_data[access_data['target'] == 0]
target_0_data


payment_pattern_data = target_1_data.groupby('payment_pattern')[['abandoned_learning_sessions','recent_learning_achievement']].mean()
payment_pattern_data


recent_learning_achievement_data = target_1_data.groupby('recent_learning_achievement')[['abandoned_learning_sessions','payment_pattern']].mean()
recent_learning_achievement_data


# target이 1인 학생들 중에서 최근 학습 성취도와 중단된 세선 수를 가지고 payment_pattern 분석
selected_1_data = target_1_data[['recent_learning_achievement', 'abandoned_learning_sessions','payment_pattern']]
selected_1_data = selected_1_data.sort_values(by='recent_learning_achievement')
selected_1_data


# target이 0인 학생들 중에서 최근 학습 성취도와 중단된 세선 수를 가지고 payment_pattern 분석
selected_0_data = target_0_data[['recent_learning_achievement', 'abandoned_learning_sessions','payment_pattern']]
selected_0_data = selected_0_data.sort_values(by='recent_learning_achievement')
selected_0_data


import matplotlib.pyplot as plt
import seaborn as sns
import koreanize_matplotlib


# abandoned_learning_sessions 시각화
plt.subplot(1, 2, 1)
sns.lineplot(data=selected_1_data, x='recent_learning_achievement', y='abandoned_learning_sessions')
plt.title('최근 학습 성취도와 중단된 학습 세션 수')
plt.xlabel('Recent Learning Achievement')
plt.ylabel('Abandoned Learning Sessions')

# payment_pattern 시각화
plt.subplot(1, 2, 2)
sns.lineplot(data=selected_1_data, x='recent_learning_achievement', y='payment_pattern')
plt.title('최근 학습 성취도와 결제 패턴')
plt.xlabel('Recent Learning Achievement')
plt.ylabel('Payment Pattern')

plt.tight_layout()
plt.show()


# abandoned_learning_sessions 시각화
plt.subplot(1, 2, 1)
sns.lineplot(data=selected_0_data, x='recent_learning_achievement', y='abandoned_learning_sessions')
plt.title('최근 학습 성취도와 중단된 학습 세션 수')
plt.xlabel('Recent Learning Achievement')
plt.ylabel('Abandoned Learning Sessions')

# payment_pattern 시각화
plt.subplot(1, 2, 2)
sns.lineplot(data=selected_0_data, x='recent_learning_achievement', y='payment_pattern')
plt.title('최근 학습 성취도와 결제 패턴')
plt.xlabel('Recent Learning Achievement')
plt.ylabel('Payment Pattern')

plt.tight_layout()
plt.show()


# target 1일 때 피벗 테이블 생성
pivot_1_table = selected_1_data.pivot_table(values='recent_learning_achievement', 
                                        index='abandoned_learning_sessions', 
                                        columns='payment_pattern')

# 히트맵 생성
plt.figure(figsize=(10, 8))

sns.heatmap(data=pivot_1_table,
            annot=True,  # 각 cell의 데이터 표기 유무
            fmt='.1f',   # 데이터 값의 소수점 표기
            vmin=selected_1_data['recent_learning_achievement'].min(),  # 색 범위 최소값
            vmax=selected_1_data['recent_learning_achievement'].max(),  # 색 범위 최댓값
            cmap="BuGn"  # 히트맵 색상 설정
           )

plt.xlabel('결제 패턴', fontsize=10, labelpad=30)
plt.ylabel('중단된 학습 세션', fontsize=14, labelpad=30)
plt.yticks(rotation=0)

plt.show()


# tartget 0일 때 피벗 테이블 생성
pivot_0_table = selected_0_data.pivot_table(values='recent_learning_achievement', 
                                        index='abandoned_learning_sessions', 
                                        columns='payment_pattern')

# 히트맵 생성
plt.figure(figsize=(10, 8))

sns.heatmap(data=pivot_0_table,
            annot=True,  # 각 cell의 데이터 표기 유무
            fmt='.1f',   # 데이터 값의 소수점 표기
            vmin=selected_0_data['recent_learning_achievement'].min(),  # 색 범위 최소값
            vmax=selected_0_data['recent_learning_achievement'].max(),  # 색 범위 최댓값
            cmap="BuGn"  # 히트맵 색상 설정
           )

plt.xlabel('결제패턴', fontsize=14, labelpad=30)
plt.ylabel('중단된 학습 세션 수', fontsize=14, labelpad=30)
plt.yticks(rotation=0)

plt.show()


# 산포도 그래프 생성
plt.figure(figsize=(10, 6))
plt.scatter(selected_1_data['recent_learning_achievement'], selected_1_data['abandoned_learning_sessions'], c='blue', label='Abandoned Learning Sessions')
plt.scatter(selected_1_data['recent_learning_achievement'], selected_1_data['payment_pattern'], c='green', label='Payment Pattern')

# 그래프 제목과 축 레이블 설정
plt.title('최근 학습 성취도의 산포도')
plt.xlabel('학습 성취도')
plt.ylabel('Values')
plt.legend()

# 그래프 표시
plt.show()






























































































































