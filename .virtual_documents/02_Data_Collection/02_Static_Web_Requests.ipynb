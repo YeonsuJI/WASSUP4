


pip list





import requests
from bs4 import BeautifulSoup



PATH = "https://finance.naver.com/"
resp = requests.get(PATH)


resp


resp?


requests.get?


resp.text


print(resp.text)


html_src = resp.text


soup = BeautifulSoup(html_src, 'lxml')


## quiz  주요 뉴스의 목록들을 추출해보기
taglist = soup.select('.section_strategy a')
taglist


taglist = soup.select('.section_strategy li a')
len(taglist)



# 첫번째 뉴스 제목 추출
taglist[0].text


taglist[0]['href']


url = taglist[0]['href']
PATH = url


from urllib.parse import urljoin
urljoin(PATH,url)












