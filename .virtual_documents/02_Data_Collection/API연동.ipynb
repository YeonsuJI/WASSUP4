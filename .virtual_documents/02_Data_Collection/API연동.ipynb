


import requests, json, pandas as pd


URL ='http://www.krei.re.kr:18181/chart/main_chart/index/kind/W/sdate/2019-01-01/edate/2019-12-31'
resp = requests.get(URL)
resp




data = resp.text
print(type(data), len(data))
print(data)


data2 = resp.json()
print(type(data2), len(data2))
print(data2)


data2





id_= []
date = []
symbol = []
open_= []
close = []

for i in data2:
    id_.append(i['id'])
    date.append(i['date'])
    symbol.append(i['symbol'])
    open_.append(i['open'])
    close.append(i['close'])
    


df = pd.DataFrame({ 'id' : id_,
    'date' : date,
    'symbol' :symbol,
    'open' : open_,
    'close' : close,})


df





import requests 
from bs4 import BeautifulSoup


# http://openapi.molit.go.kr:8081/OpenAPI_ToolInstallPackage/service/rest/RTMSOBJSvc/getRTMSDataSvcAptTrade?LAWD_CD=11110&DEAL_YMD=201512&serviceKey=서비스키
date = '201512'
region_code = '11110'
key = "QjITnZtxSg5%2Bhzh%2BWR8hYLMstCDRuf1REcb5E59648Wy77%2B7z8aQBHgv95ylOhyoP31mFZWlyiqd2TrMu7HTuw%3D%3D"

url = f'http://openapi.molit.go.kr:8081/OpenAPI_ToolInstallPackage/service/rest/RTMSOBJSvc/getRTMSDataSvcAptTrade?LAWD_CD={region_code}&DEAL_YMD={date}&serviceKey={key}'

resp = requests.get(url)
textsrc= resp.text
textsrc


soup = BeautifulSoup(textsrc, 'xml')
soup


items = soup.select('response > body > items > item')
items


items[0]


a = items[0].select('거래금액')
print(type(a), a)


a = items[0].select_one('거래금액')
print(type(a), a)


a = items[0].find('거래금액')
print(type(a), a)


a.text


for item in items:
    print(item.select_one('거래금액').text.strip(),
          item.select_one('건축년도').text,
          item.select_one('년').text,
          item.select_one('법정동').text.strip(),
          item.select_one('아파트').text,
          item.select_one('월').text,
          item.select_one('일').text,
          item.select_one('전용면적').text,
          item.select_one('지번').text,
          item.select_one('지역코드').text,
          item.select_one('층').text)


# 반복되는 코드 정리
item_list = ['거래금액', '건축년도', '년', '법정동', '아파트', '월', '일', '전용면적', '지번', '지역코드', '층']

for item in items:
    for tag in item_list:
        print(item.select_one(tag).text.strip(), end=' ')
    print()



