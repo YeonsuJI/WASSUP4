


pip install selenium


from selenium import webdriver
from selenium.webdriver.common.by import By
from selenium.webdriver.chrome.options import Options
import time

options = Options()
options


#특정함수안에서  드라이버 생성시 함수종료될 때 브라우저 같이 종료되는 문제 대응
options.add_experimental_option("detach", True)





url = 'https://naver.com'
driver = webdriver.Chrome(options=options)


driver.get(url)
time.sleep(2)





driver.back()


driver.forward()


driver.refresh()





driver.find_element?


driver.find_element(By.ID, 'query')


#키입력
driver.find_element(By.ID, 'query').send_keys('뉴진스')


driver.find_element(By.CLASS_NAME, 'search_input').send_keys('블랙핑크')


driver.find_element(By.NAME, 'query').send_keys('지연수')


driver.find_element(By.CSS_SELECTOR, '#query').send_keys('르세라핌')


driver.find_element(By.CSS_SELECTOR, '#query').send_keys('에스파')


driver.find_element(By.CSS_SELECTOR, '.search_input').send_keys('이인재')


driver.find_element(By.CSS_SELECTOR, "[title='검색어를 입력해 주세요.']").send_keys('트와이스')


driver.find_element(By.XPATH, '//*[@id="query"]').send_keys('BTS')





driver.find_element(By.LINK_TEXT, '쇼핑')


driver.find_element(By.LINK_TEXT, '쇼핑').click


# 일부 매칭
driver.find_element(By.PARTIAL_LINK_TEXT, '증').click


# 태그로 찾기 
# 태그는 요소가 너무 많으므로 정확하게 대상을 찾을 때에는 권장 안함
driver.find_element(By.TAG_NAME, 'ul')


# 여러개의 요소를 찾을 때
driver.find_elements(By.CSS_SELECTOR, '.link_service')


links = driver.find_elements(By.CSS_SELECTOR, '.link_service')
for i in links:
    print(i.get_attribute('href'))





#  테스트용 html
url = 'file:C:/workspace/WASSUP4/02_Data_Collection/sample/signin.html'
driver = webdriver.Chrome(options=options)
driver.get(url)
time.sleep(2)


username = driver.find_element(By.NAME, "username")
username.send_keys('korea')


username = driver.find_element(By.NAME, "password")
username.send_keys('1234')


login = driver.find_element(By.XPATH, '//*[@id="loginForm"]/input[3]')
login.click()


driver.back()


login = driver.find_element(By.CSS_SELECTOR, '[value=Login]')
login.click()


driver.back()


username.clear()


username = driver.find_element(By.NAME, "username")
username.send_keys('korea')
password = driver.find_element(By.NAME, "password")
password.send_keys('1234')


username.submit()


driver.back()


driver.find_element(By.TAG_NAME, 'p').text


# html 소스 추출
driver.page_source


driver.close()





from selenium import webdriver
from selenium.webdriver.common.by import By
from selenium.webdriver.chrome.options import Options
import time

options = Options()
options.add_argument("--headless=new") 
# options.add_argument('--window-size= x, y') #실행되는 브라우저 크기를 지정할 수 있습니다.
# options.add_argument('--start-maximized') #브라우저가 최대화된 상태로 실행됩니다.
# options.add_argument('--start-fullscreen') #브라우저가 풀스크린 모드(F11)로 실행됩니다.
# options.add_argument('--blink-settings=imagesEnabled=false') #브라우저에서 이미지 로딩을 하지 않습니다.
# options.add_argument('--mute-audio') #브라우저에 음소거 옵션을 적용합니다.
# options.add_argument('incognito') #시크릿 모드의 브라우저가 실행됩니다.
options.add_experimental_option("detach", True) #특정함수안에서  드라이버 생성시 함수종료될 때 브라우저 같이 종료되는 문제 대응


url = 'http://naver.com'
driver = webdriver.Chrome(options=options)
driver.get(url)



print(driver.title)


driver.close()





from selenium import webdriver
from selenium.webdriver.common.by import By
from selenium.webdriver.chrome.options import Options
import time

options = Options()
# options.add_argument("--start-maximized")
# options.add_argument("--headless=new") 
options.add_experimental_option("detach", True) #

url = 'http://naver.com'
driver = webdriver.Chrome(options=options)
driver.get(url)
time.sleep(2)


# 창의 너비/높이 구하기
size = driver.get_window_size()
width = size.get('width')
height = size.get('height')
print(width, height)


# 창 크기 조절
driver.set_window_size(800,600)


# 스크린상에서의 창좌표
position = driver.get_window_position()
x = position.get('x')
y = position.get('y')
print(x,y)


driver.set_window_position(0,0)


# 창 크기 최대화
driver.maximize_window()


driver.minimize_window()


# 전체화면
driver.fullscreen_window()


# 스크린샷
driver.save_screenshot('./image.png')


driver.quit() # close는 브라우저 자체를 끄고 quit는 브라우저의 탭을 끔.





from selenium import webdriver
from selenium.webdriver.common.by import By
from selenium.webdriver.chrome.options import Options
import time, random, pandas as pd

options = Options()
options.add_argument('--window-size=1050,1000')
options.add_argument('--window-position=-5,0')
options.add_experimental_option("detach", True)


# 웹드라이버 로드
driver = webdriver.Chrome( options = options)


# 조건 설정
where = 'blog'
query = '인공지능'
dateform = '20240101to20240927'
url = f'https://search.naver.com/search.naver?ssc=tab.{where}.all&query={query}&sm=tab_opt&nso=so%3Ar%2Cp%3Afrom{dateform}'
# url = f'https://search.naver.com/search.naver?where={where}&query={query}&sm=tab_op&nso=so:r,p:from{dateform}'
fname = f'{where}_{query}_{dateform}'


# url 접속
driver.get(url)
time.sleep(random.randint(2,3))





#네이버 뷰는 최대 1050까지만 노출
# 스크롤 10번
for i in range(10):
    driver.execute_script('window.scrollTo(0, document.body.scrollHeight);')
    time.sleep(random.randint(2, 3))





# get_view()
views = driver.find_elements(By.CSS_SELECTOR, '.lst_view .view_wrap')
blog = []

for view in views:
    blog_dict = {}
    blog_dict['title'] = view.find_element(By.CSS_SELECTOR, '.title_link').text
    blog_dict['text'] = view.find_element(By.CSS_SELECTOR, '.dsc_link').text
    blog_dict['date'] = view.find_element(By.CSS_SELECTOR, '.sub').text
    blog.append(blog_dict)
    print(blog_dict)
    
print('완료')




#저장된 게시물 리스트를 데이터프레임으로 변환후 csv로 저장
df = pd.DataFrame(blog)
df


#데이터 프레임 저장
# csv는 sep 쉼표가 반드시 있어야 한글이 안깨짐
df.to_csv(f'output/naver_{fname}.csv', sep=',', encoding='utf-8-sig')






