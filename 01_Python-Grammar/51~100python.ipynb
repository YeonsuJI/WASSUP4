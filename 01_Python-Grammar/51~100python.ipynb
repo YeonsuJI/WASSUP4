{
 "cells": [
  {
   "cell_type": "code",
   "execution_count": 6,
   "id": "e4f80b05-6ce6-4074-9648-24c655a84747",
   "metadata": {},
   "outputs": [
    {
     "data": {
      "text/plain": [
       "['닥터 스트레인지', '스플릿', '럭키']"
      ]
     },
     "execution_count": 6,
     "metadata": {},
     "output_type": "execute_result"
    }
   ],
   "source": [
    "# 051 리스트 생성\n",
    "# 2016년 11월 영화 예매 순위 기준 top3는 다음과 같습니다. 영화 제목을 movie_rank 이름의 리스트에 저장해보세요. (순위 정보는 저장하지 않습니다.)\n",
    "\n",
    "# 순위\t영화\n",
    "# 1\t닥터 스트레인지\n",
    "# 2\t스플릿\n",
    "# 3\t럭키\n",
    "movie_rank = ['닥터 스트레인지', '스플릿', '럭키']\n",
    "movie_rank\n"
   ]
  },
  {
   "cell_type": "code",
   "execution_count": 37,
   "id": "a47ed17b-4534-4b83-9669-47b13b6da97c",
   "metadata": {},
   "outputs": [
    {
     "data": {
      "text/plain": [
       "['닥터 스트레인지', '스플릿', '럭키', '배트맨']"
      ]
     },
     "execution_count": 37,
     "metadata": {},
     "output_type": "execute_result"
    }
   ],
   "source": [
    "# 052 리스트에 원소 추가\n",
    "# 051의 movie_rank 리스트에 \"배트맨\"을 추가하라.\n",
    "\n",
    "movie_rank.append('배트맨')\n",
    "movie_rank"
   ]
  },
  {
   "cell_type": "code",
   "execution_count": 40,
   "id": "e582ad76-bb4a-4edc-b36a-3534e2f93ec6",
   "metadata": {},
   "outputs": [
    {
     "data": {
      "text/plain": [
       "['닥터 스트레인지', '슈퍼맨', '스플릿', '럭키', '배트맨']"
      ]
     },
     "execution_count": 40,
     "metadata": {},
     "output_type": "execute_result"
    }
   ],
   "source": [
    "# 053\n",
    "# movie_rank 리스트에는 아래와 같이 네 개의 영화 제목이 바인딩되어 있다. \"슈퍼맨\"을 \"닥터 스트레인지\"와 \"스플릿\" 사이에 추가하라.\n",
    "\n",
    "# movie_rank = ['닥터 스트레인지', '스플릿', '럭키', '배트맨']\n",
    "movie_rank.insert(1,\"슈퍼맨\")\n",
    "movie_rank"
   ]
  },
  {
   "cell_type": "code",
   "execution_count": 56,
   "id": "7fa065a4-310f-4db4-a74e-2ae0a082483a",
   "metadata": {},
   "outputs": [
    {
     "data": {
      "text/plain": [
       "['닥터 스트레인지', '슈퍼맨', '스플릿', '배트맨']"
      ]
     },
     "execution_count": 56,
     "metadata": {},
     "output_type": "execute_result"
    }
   ],
   "source": [
    "# 054\n",
    "# movie_rank 리스트에서 '럭키'를 삭제하라.\n",
    "\n",
    "movie_rank = ['닥터 스트레인지', '슈퍼맨', '스플릿', '럭키', '배트맨']\n",
    "del movie_rank[3]\n",
    "movie_rank"
   ]
  },
  {
   "cell_type": "code",
   "execution_count": 60,
   "id": "9bdce4bb-3d9f-4e97-9b4a-49df446d6042",
   "metadata": {},
   "outputs": [
    {
     "data": {
      "text/plain": [
       "['닥터 스트레인지', '슈퍼맨']"
      ]
     },
     "execution_count": 60,
     "metadata": {},
     "output_type": "execute_result"
    }
   ],
   "source": [
    "# 055\n",
    "# movie_rank 리스트에서 '스플릿' 과 '배트맨'을 를 삭제하라.\n",
    "\n",
    "movie_rank = ['닥터 스트레인지', '슈퍼맨', '스플릿', '배트맨']\n",
    "del movie_rank[2:]\n",
    "movie_rank"
   ]
  },
  {
   "cell_type": "code",
   "execution_count": 62,
   "id": "452d34d1-87f7-4e74-b543-8cce16ce27c9",
   "metadata": {},
   "outputs": [
    {
     "data": {
      "text/plain": [
       "['C', 'C++', 'JAVA', 'Python', 'Go', 'C#']"
      ]
     },
     "execution_count": 62,
     "metadata": {},
     "output_type": "execute_result"
    }
   ],
   "source": [
    "# 056\n",
    "# lang1과 lang2 리스트가 있을 때 lang1과 lang2의 원소를 모두 갖고 있는 langs 리스트를 만들어라.\n",
    "\n",
    "# >> lang1 = [\"C\", \"C++\", \"JAVA\"]\n",
    "# >> lang2 = [\"Python\", \"Go\", \"C#\"]\n",
    "# 실행 예:\n",
    "# >> langs\n",
    "# ['C', 'C++', 'JAVA', 'Python', 'Go', 'C#']\n",
    "\n",
    "lang1 = [\"C\", \"C++\", \"JAVA\"]\n",
    "lang2 = [\"Python\", \"Go\", \"C#\"]\n",
    "langs = lang1 + lang2\n",
    "langs"
   ]
  },
  {
   "cell_type": "code",
   "execution_count": 71,
   "id": "6f4d2d46-c663-497f-a9d7-1726f160dd80",
   "metadata": {},
   "outputs": [
    {
     "name": "stdout",
     "output_type": "stream",
     "text": [
      "max: 7\n",
      "min: 1\n"
     ]
    }
   ],
   "source": [
    "# 057\n",
    "# 다음 리스트에서 최댓값과 최솟값을 출력하라. (힌트: min(), max() 함수 사용)\n",
    "\n",
    "# nums = [1, 2, 3, 4, 5, 6, 7]\n",
    "# 실행 예:\n",
    "# max:  7\n",
    "# min:  1\n",
    "\n",
    "nums = [1, 2, 3, 4, 5, 6, 7]\n",
    "print(\"max:\",max(nums))\n",
    "print(\"min:\",min(nums))"
   ]
  },
  {
   "cell_type": "code",
   "execution_count": 73,
   "id": "3504dccf-d10d-4c02-b03e-42016f39e74d",
   "metadata": {},
   "outputs": [
    {
     "name": "stdout",
     "output_type": "stream",
     "text": [
      "15\n"
     ]
    }
   ],
   "source": [
    "# 058\n",
    "# 다음 리스트의 합을 출력하라.\n",
    "\n",
    "# nums = [1, 2, 3, 4, 5]\n",
    "# 실행 예:\n",
    "# 15\n",
    "nums = [1, 2, 3, 4, 5]\n",
    "print(sum(nums))"
   ]
  },
  {
   "cell_type": "code",
   "execution_count": 75,
   "id": "73e866ca-9d9e-43f4-b0b0-38b00be6f75a",
   "metadata": {},
   "outputs": [
    {
     "data": {
      "text/plain": [
       "12"
      ]
     },
     "execution_count": 75,
     "metadata": {},
     "output_type": "execute_result"
    }
   ],
   "source": [
    "# 059\n",
    "# 다음 리스트에 저장된 데이터의 개수를 화면에 구하하라.\n",
    "\n",
    "cook = [\"피자\", \"김밥\", \"만두\", \"양념치킨\", \"족발\", \"피자\", \"김치만두\", \"쫄면\", \"소시지\", \"라면\", \"팥빙수\", \"김치전\"]\n",
    "len(cook)"
   ]
  },
  {
   "cell_type": "code",
   "execution_count": 81,
   "id": "e1c84962-10a5-4de4-9701-b9e4cd1e231a",
   "metadata": {},
   "outputs": [
    {
     "name": "stdout",
     "output_type": "stream",
     "text": [
      "3.0\n"
     ]
    }
   ],
   "source": [
    "# 060\n",
    "# 다음 리스트의 평균을 출력하라.\n",
    "\n",
    "# nums = [1, 2, 3, 4, 5]\n",
    "# 실행 예:\n",
    "# 3.0\n",
    "\n",
    "nums = [1, 2, 3, 4, 5]\n",
    "print(sum(nums)/ len(nums))"
   ]
  },
  {
   "cell_type": "code",
   "execution_count": 83,
   "id": "7a853704-57d5-4936-8c11-05c036942eac",
   "metadata": {},
   "outputs": [
    {
     "data": {
      "text/plain": [
       "[100, 130, 140, 150, 160, 170]"
      ]
     },
     "execution_count": 83,
     "metadata": {},
     "output_type": "execute_result"
    }
   ],
   "source": [
    "# 061\n",
    "# price 변수에는 날짜와 종가 정보가 저장돼 있다. 날짜 정보를 제외하고 가격 정보만을 출력하라. (힌트 : 슬라이싱)\n",
    "\n",
    "# price = ['20180728', 100, 130, 140, 150, 160, 170]\n",
    "# 출력 예시:\n",
    "# [100, 130, 140, 150, 160, 170]\n",
    "\n",
    "price = ['20180728', 100, 130, 140, 150, 160, 170]\n",
    "price[1:]"
   ]
  },
  {
   "cell_type": "code",
   "execution_count": 91,
   "id": "b76f683c-814b-4d31-a1d7-0fb94fdcab50",
   "metadata": {},
   "outputs": [
    {
     "data": {
      "text/plain": [
       "[1, 3, 5, 7, 9]"
      ]
     },
     "execution_count": 91,
     "metadata": {},
     "output_type": "execute_result"
    }
   ],
   "source": [
    "# 062\n",
    "# 슬라이싱을 사용해서 홀수만 출력하라.\n",
    "\n",
    "# nums = [1, 2, 3, 4, 5, 6, 7, 8, 9, 10]\n",
    "# 실행 예:\n",
    "# [1, 3, 5, 7, 9]\n",
    "nums = [1, 2, 3, 4, 5, 6, 7, 8, 9, 10]\n",
    "nums[::2]"
   ]
  },
  {
   "cell_type": "code",
   "execution_count": 95,
   "id": "96ca6a03-3ae6-4fb5-926d-9809388d23d3",
   "metadata": {},
   "outputs": [
    {
     "data": {
      "text/plain": [
       "[2, 4, 6, 8, 10]"
      ]
     },
     "execution_count": 95,
     "metadata": {},
     "output_type": "execute_result"
    }
   ],
   "source": [
    "# 063\n",
    "# 슬라이싱을 사용해서 짝수만 출력하라.\n",
    "\n",
    "# nums = [1, 2, 3, 4, 5, 6, 7, 8, 9, 10]\n",
    "# 실행 예:\n",
    "# [2, 4, 6, 8, 10]\n",
    "nums = [1, 2, 3, 4, 5, 6, 7, 8, 9, 10]\n",
    "nums[1::2]"
   ]
  },
  {
   "cell_type": "code",
   "execution_count": 104,
   "id": "308aff57-fdde-4ff8-91ae-e06babf8ba40",
   "metadata": {},
   "outputs": [
    {
     "data": {
      "text/plain": [
       "[5, 4, 3, 2, 1]"
      ]
     },
     "execution_count": 104,
     "metadata": {},
     "output_type": "execute_result"
    }
   ],
   "source": [
    "# 064\n",
    "# 슬라이싱을 사용해서 리스트의 숫자를 역 방향으로 출력하라.\n",
    "\n",
    "# nums = [1, 2, 3, 4, 5]\n",
    "# 실행 예:\n",
    "# [5, 4, 3, 2, 1]\n",
    "nums = [1, 2, 3, 4, 5]\n",
    "nums.reverse()\n",
    "nums"
   ]
  },
  {
   "cell_type": "code",
   "execution_count": 120,
   "id": "91ab9567-d427-49b3-9dd5-7378667fd380",
   "metadata": {},
   "outputs": [
    {
     "name": "stdout",
     "output_type": "stream",
     "text": [
      "삼성전자 Naver\n"
     ]
    }
   ],
   "source": [
    "# 065\n",
    "# interest 리스트에는 아래의 데이터가 바인딩되어 있다.\n",
    "\n",
    "# interest = ['삼성전자', 'LG전자', 'Naver']\n",
    "# interest 리스트를 사용하여 아래와 같이 화면에 출력하라.\n",
    "\n",
    "# 출력 예시:\n",
    "# 삼성전자 Naver\n",
    "\n",
    "interest = ['삼성전자', 'LG전자', 'Naver']\n",
    "print(interest[0], interest[2])"
   ]
  },
  {
   "cell_type": "code",
   "execution_count": 137,
   "id": "95d864f3-478d-4e38-9d6b-45b0936bdd44",
   "metadata": {},
   "outputs": [
    {
     "name": "stdout",
     "output_type": "stream",
     "text": [
      "삼성전자 LG전자 Naver SK하이닉스 미래에셋대우\n"
     ]
    }
   ],
   "source": [
    "# 066 join 메서드 ------------- 잘 모르겠음!!!!!!!!!!!!!!!!!!!!!!!!!!!!!\n",
    "# interest 리스트에는 아래의 데이터가 바인딩되어 있다.\n",
    "\n",
    "# interest = ['삼성전자', 'LG전자', 'Naver', 'SK하이닉스', '미래에셋대우']\n",
    "# interest 리스트를 사용하여 아래와 같이 화면에 출력하라.\n",
    "\n",
    "# 출력 예시:\n",
    "# 삼성전자 LG전자 Naver SK하이닉스 미래에셋대우\n",
    "\n",
    "interest = ['삼성전자', 'LG전자', 'Naver', 'SK하이닉스', '미래에셋대우']\n",
    "print(\" \".join(interest))"
   ]
  },
  {
   "cell_type": "code",
   "execution_count": 139,
   "id": "f3ab4545-e5b1-4fdd-98b4-39d8d210c6fb",
   "metadata": {},
   "outputs": [
    {
     "name": "stdout",
     "output_type": "stream",
     "text": [
      "삼성전자/LG전자/Naver/SK하이닉스/미래에셋대우\n"
     ]
    }
   ],
   "source": [
    "# 067 join 메서드\n",
    "# interest 리스트에는 아래의 데이터가 바인딩되어 있다.\n",
    "\n",
    "# interest = ['삼성전자', 'LG전자', 'Naver', 'SK하이닉스', '미래에셋대우']\n",
    "# interest 리스트를 사용하여 아래와 같이 화면에 출력하라.\n",
    "\n",
    "# 출력 예시:\n",
    "# 삼성전자/LG전자/Naver/SK하이닉스/미래에셋대우\n",
    "interest = ['삼성전자', 'LG전자', 'Naver', 'SK하이닉스', '미래에셋대우']\n",
    "print(\"/\".join(interest))"
   ]
  },
  {
   "cell_type": "code",
   "execution_count": 142,
   "id": "71db894a-2fbe-4d3b-99f0-cdbb8990c804",
   "metadata": {},
   "outputs": [
    {
     "name": "stdout",
     "output_type": "stream",
     "text": [
      "삼성전자\n",
      "LG전자\n",
      "Naver\n",
      "SK하이닉스\n",
      "미래에셋대우\n"
     ]
    }
   ],
   "source": [
    "# 068 join 메서드\n",
    "# interest 리스트에는 아래의 데이터가 바인딩되어 있다.\n",
    "\n",
    "# interest = ['삼성전자', 'LG전자', 'Naver', 'SK하이닉스', '미래에셋대우']\n",
    "# join() 메서드를 사용해서 interest 리스트를 아래와 같이 화면에 출력하라.\n",
    "\n",
    "# 출력 예시:\n",
    "# 삼성전자\n",
    "# LG전자\n",
    "# Naver\n",
    "# SK하이닉스\n",
    "# 미래에셋대우\n",
    "print(\"\\n\".join(interest))"
   ]
  },
  {
   "cell_type": "code",
   "execution_count": 154,
   "id": "90ddde6c-4a96-441f-bdbc-23fc2d90a518",
   "metadata": {},
   "outputs": [
    {
     "name": "stdout",
     "output_type": "stream",
     "text": [
      "['삼성전자', 'LG전자', 'Naver']\n"
     ]
    }
   ],
   "source": [
    "# 069 문자열 split 메서드\n",
    "# 회사 이름이 슬래시 ('/')로 구분되어 하나의 문자열로 저장되어 있다.\n",
    "\n",
    "# string = \"삼성전자/LG전자/Naver\"\n",
    "# 이를 interest 이름의 리스트로 분리 저장하라.\n",
    "\n",
    "# 실행 예시\n",
    "# >> print(interest)\n",
    "# ['삼성전자', 'LG전자', 'Naver']\n",
    "string = \"삼성전자/LG전자/Naver\"\n",
    "interest = string.split(\"/\")\n",
    "print(interest)"
   ]
  },
  {
   "cell_type": "code",
   "execution_count": 158,
   "id": "e93c2bf0-4623-4784-8fea-33462cd722f4",
   "metadata": {},
   "outputs": [
    {
     "data": {
      "text/plain": [
       "[1, 2, 3, 4, 5, 9, 10]"
      ]
     },
     "execution_count": 158,
     "metadata": {},
     "output_type": "execute_result"
    }
   ],
   "source": [
    "# 070 리스트 정렬\n",
    "# 리스트에 있는 값을 오름차순으로 정렬하세요.\n",
    "\n",
    "data = [2, 4, 3, 1, 5, 10, 9]\n",
    "data.sort()\n",
    "data"
   ]
  },
  {
   "cell_type": "code",
   "execution_count": 166,
   "id": "8a37e206-6ad9-40bf-868d-926c9c7e2d5a",
   "metadata": {},
   "outputs": [
    {
     "data": {
      "text/plain": [
       "tuple"
      ]
     },
     "execution_count": 166,
     "metadata": {},
     "output_type": "execute_result"
    }
   ],
   "source": [
    "# 071\n",
    "# my_variable 이름의 비어있는 튜플을 만들라.\n",
    "my_variable = ()\n",
    "type(my_variable)"
   ]
  },
  {
   "cell_type": "code",
   "execution_count": 172,
   "id": "95c47861-9793-4cc9-b601-0c3e7bae1acc",
   "metadata": {},
   "outputs": [
    {
     "name": "stdout",
     "output_type": "stream",
     "text": [
      "('닥터 스트레인지', '스플릿', '럭키')\n"
     ]
    }
   ],
   "source": [
    "# 072\n",
    "# 2016년 11월 영화 예매 순위 기준 top3는 다음과 같다. \n",
    "# 영화 제목을 movie_rank 이름의 튜플에 저장하라. (순위 정보는 저장하지 않는다.)\n",
    "\n",
    "# 순위\t영화\n",
    "# 1\t닥터 스트레인지\n",
    "# 2\t스플릿\n",
    "# 3\t럭키\n",
    "\n",
    "movie_rank = ('닥터 스트레인지', '스플릿', '럭키')\n",
    "print(movie_rank)"
   ]
  },
  {
   "cell_type": "code",
   "execution_count": 178,
   "id": "7f0def04-75af-4102-8ae8-7dce114b115c",
   "metadata": {},
   "outputs": [
    {
     "data": {
      "text/plain": [
       "tuple"
      ]
     },
     "execution_count": 178,
     "metadata": {},
     "output_type": "execute_result"
    }
   ],
   "source": [
    "# 073\n",
    "# 숫자 1 이 저장된 튜플을 생성하라.\n",
    "a =(1, )\n",
    "type(a)"
   ]
  },
  {
   "cell_type": "code",
   "execution_count": 180,
   "id": "0631601c-3db5-462e-8f87-ea22c521f048",
   "metadata": {},
   "outputs": [
    {
     "ename": "SyntaxError",
     "evalue": "invalid syntax (2466088448.py, line 4)",
     "output_type": "error",
     "traceback": [
      "\u001b[1;36m  Cell \u001b[1;32mIn[180], line 4\u001b[1;36m\u001b[0m\n\u001b[1;33m    >> t = (1, 2, 3)\u001b[0m\n\u001b[1;37m    ^\u001b[0m\n\u001b[1;31mSyntaxError\u001b[0m\u001b[1;31m:\u001b[0m invalid syntax\n"
     ]
    }
   ],
   "source": [
    "# 074\n",
    "# 다음 코드를 실행해보고 오류가 발생하는 원인을 설명하라.\n",
    "\n",
    ">> t = (1, 2, 3)\n",
    ">> t[0] = 'a'\n",
    "Traceback (most recent call last):\n",
    "  File \"<pyshell#46>\", line 1, in <module>\n",
    "    t[0] = 'a'\n",
    "TypeError: 'tuple' object does not support item assignment\n",
    "\n",
    "## 답: 튜플은 값 수정이 불가능하기 때문"
   ]
  },
  {
   "cell_type": "code",
   "execution_count": 185,
   "id": "6e73d643-3340-4800-9a64-0674f0686fa8",
   "metadata": {},
   "outputs": [
    {
     "data": {
      "text/plain": [
       "tuple"
      ]
     },
     "execution_count": 185,
     "metadata": {},
     "output_type": "execute_result"
    }
   ],
   "source": [
    "# 075\n",
    "# 아래와 같이 t에는 1, 2, 3, 4 데이터가 바인딩되어 있다.\n",
    "# t가 바인딩하는 데이터 타입은 무엇인가?\n",
    "t = 1, 2, 3, 4\n",
    "# 답: 튜플\n",
    "type(t)"
   ]
  },
  {
   "cell_type": "code",
   "execution_count": 198,
   "id": "3ad03c2b-c4d9-42fb-b066-f8723838f71f",
   "metadata": {},
   "outputs": [
    {
     "name": "stdout",
     "output_type": "stream",
     "text": [
      "('A', 'b', 'c') <class 'tuple'>\n"
     ]
    }
   ],
   "source": [
    "# 076\n",
    "# 변수 t에는 아래와 같은 값이 저장되어 있다. 변수 t가 ('A', 'b', 'c') 튜플을 가리키도록 수정 하라.\n",
    "\n",
    "t = ('a', 'b', 'c')\n",
    "\n",
    "t = ('A', 'b', 'c')\n",
    "print(t,type(t))"
   ]
  },
  {
   "cell_type": "code",
   "execution_count": 200,
   "id": "c3ee93f0-6bf2-4fa2-8d5e-67275ded3173",
   "metadata": {},
   "outputs": [
    {
     "name": "stdout",
     "output_type": "stream",
     "text": [
      "['삼성전자', 'LG전자', 'SK Hynix'] <class 'list'>\n"
     ]
    }
   ],
   "source": [
    "# 077\n",
    "# 다음 튜플을 리스트로 변환하라.\n",
    "\n",
    "interest = ('삼성전자', 'LG전자', 'SK Hynix')\n",
    "l1 =list(interest)\n",
    "print(l1, type(l1))"
   ]
  },
  {
   "cell_type": "code",
   "execution_count": 202,
   "id": "3ffb6f12-4b27-454b-9ee8-553759f63631",
   "metadata": {},
   "outputs": [
    {
     "name": "stdout",
     "output_type": "stream",
     "text": [
      "('삼성전자', 'LG전자', 'SK Hynix') <class 'tuple'>\n"
     ]
    }
   ],
   "source": [
    "# 078\n",
    "# 다음 리스트를 튜플로 변경하라.\n",
    "\n",
    "interest = ['삼성전자', 'LG전자', 'SK Hynix']\n",
    "t1 = tuple(interest)\n",
    "print(t1, type(t1))"
   ]
  },
  {
   "cell_type": "code",
   "execution_count": 204,
   "id": "b2bb6af8-9935-4435-bd25-9efd1922a75f",
   "metadata": {},
   "outputs": [
    {
     "name": "stdout",
     "output_type": "stream",
     "text": [
      "apple banana cake\n"
     ]
    }
   ],
   "source": [
    "# 079 튜플 언팩킹\n",
    "# 다음 코드의 실행 결과를 예상하라.\n",
    "\n",
    "temp = ('apple', 'banana', 'cake')\n",
    "a, b, c = temp\n",
    "print(a, b, c)\n",
    "\n",
    "# 예상 답 : apple banana cake"
   ]
  },
  {
   "cell_type": "code",
   "execution_count": 231,
   "id": "c5bc0929-c1f5-4e2f-9e83-7af98dfae9fb",
   "metadata": {},
   "outputs": [
    {
     "name": "stdout",
     "output_type": "stream",
     "text": [
      "(2, 4, 6, 8, 10, 12, 14, 16, 18, 20, 22, 24, 26, 28, 30, 32, 34, 36, 38, 40, 42, 44, 46, 48, 50, 52, 54, 56, 58, 60, 62, 64, 66, 68, 70, 72, 74, 76, 78, 80, 82, 84, 86, 88, 90, 92, 94, 96, 98)\n"
     ]
    }
   ],
   "source": [
    "# 080 range 함수\n",
    "# 1 부터 99까지의 정수 중 짝수만 저장된 튜플을 생성하라.\n",
    "\n",
    "# (2, 4, 6, 8 ... 98)\n",
    "t1 = tuple(range(2,100,2))\n",
    "print(t1)"
   ]
  },
  {
   "cell_type": "code",
   "execution_count": 237,
   "id": "230500a8-0fc5-43e7-8027-3302086290ae",
   "metadata": {},
   "outputs": [
    {
     "name": "stdout",
     "output_type": "stream",
     "text": [
      "[8.8, 8.9, 8.7, 9.2, 9.3, 9.7, 9.9, 9.5]\n"
     ]
    }
   ],
   "source": [
    "# 081 별 표현식\n",
    "# 기본적으로 데이터 언패킹은 좌변의 변수와 우변 데이터 개수가 같아야 합니다. 하지만 star expression을 사용하면 변수의 개수가 달라도 데이터 언패킹을 할 수 있습니다. \n",
    "# 튜플에 저장된 데이터 중에서 앞에 있는 두 개의 데이터만 필요할 경우 나머지 데이터의 언패킹 코드를 작성할 필요가 없습니다.\n",
    "\n",
    "# >> a, b, *c = (0, 1, 2, 3, 4, 5)\n",
    "# >> a\n",
    "# 0\n",
    "# >> b\n",
    "# 1\n",
    "# >> c\n",
    "# [2, 3, 4, 5]\n",
    "# 다음과 같이 10개의 값이 저장된 scores 리스트가 있을 때, start expression을 사용하여 좌측 8개의 값을 valid_score 변수에 바인딩하여라.\n",
    "\n",
    "scores = [8.8, 8.9, 8.7, 9.2, 9.3, 9.7, 9.9, 9.5, 7.8, 9.4]\n",
    "*valid_score, a, b = scores\n",
    "print(valid_score)"
   ]
  },
  {
   "cell_type": "code",
   "execution_count": 239,
   "id": "dd39922a-7063-4ba6-b7e3-1a1d9e3598fc",
   "metadata": {},
   "outputs": [
    {
     "name": "stdout",
     "output_type": "stream",
     "text": [
      "[8.7, 9.2, 9.3, 9.7, 9.9, 9.5, 7.8, 9.4]\n"
     ]
    }
   ],
   "source": [
    "# 082\n",
    "# 다음과 같이 10개의 값이 저장된 scores 리스트가 있을 때, start expression을 사용하여 우측 8개의 값을 valid_score 변수에 바인딩하여라.\n",
    "\n",
    "scores = [8.8, 8.9, 8.7, 9.2, 9.3, 9.7, 9.9, 9.5, 7.8, 9.4]\n",
    "a, b, *valid_score = scores\n",
    "print(valid_score)"
   ]
  },
  {
   "cell_type": "code",
   "execution_count": 241,
   "id": "22e64b3a-814a-445c-ae41-d3b67363ff57",
   "metadata": {},
   "outputs": [
    {
     "name": "stdout",
     "output_type": "stream",
     "text": [
      "[8.9, 8.7, 9.2, 9.3, 9.7, 9.9, 9.5, 7.8]\n"
     ]
    }
   ],
   "source": [
    "# 083\n",
    "# 다음과 같이 10개의 값이 저장된 scores 리스트가 있을 때, start expression을 사용하여 가운데 있는 8개의 값을 valid_score 변수에 바인딩하여라.\n",
    "\n",
    "scores = [8.8, 8.9, 8.7, 9.2, 9.3, 9.7, 9.9, 9.5, 7.8, 9.4]\n",
    "a, *valid_score, b = scores\n",
    "print(valid_score)"
   ]
  },
  {
   "cell_type": "code",
   "execution_count": 244,
   "id": "bcfc8197-2804-447f-b61c-451e9fbd585f",
   "metadata": {},
   "outputs": [
    {
     "data": {
      "text/plain": [
       "dict"
      ]
     },
     "execution_count": 244,
     "metadata": {},
     "output_type": "execute_result"
    }
   ],
   "source": [
    "# 084 비어있는 딕셔너리\n",
    "# temp 이름의 비어있는 딕셔너리를 만들라.\n",
    "\n",
    "temp ={}\n",
    "type(temp)"
   ]
  },
  {
   "cell_type": "code",
   "execution_count": 257,
   "id": "297cc534-1e10-483b-be91-55128e744de3",
   "metadata": {},
   "outputs": [
    {
     "data": {
      "text/plain": [
       "{'메로나': 1000, '폴라포': 1200, '빵빠레': 1800}"
      ]
     },
     "execution_count": 257,
     "metadata": {},
     "output_type": "execute_result"
    }
   ],
   "source": [
    "# 085\n",
    "# 다음 아이스크림 이름과 희망 가격을 딕셔너리로 구성하라.\n",
    "\n",
    "# 이름\t희망 가격\n",
    "# 메로나\t1000\n",
    "# 폴라포\t1200\n",
    "# 빵빠레\t1800\n",
    "dic ={'메로나' : 1000, '폴라포' : 1200, '빵빠레' : 1800}\n",
    "dic"
   ]
  },
  {
   "cell_type": "code",
   "execution_count": 265,
   "id": "79e976e0-29c6-4641-a55c-25f0e6cf0049",
   "metadata": {},
   "outputs": [
    {
     "data": {
      "text/plain": [
       "{'메로나': 1000, '폴라포': 1200, '빵빠레': 1800, '죠스바': 1200, '월드콘': 1500}"
      ]
     },
     "execution_count": 265,
     "metadata": {},
     "output_type": "execute_result"
    }
   ],
   "source": [
    "# 086\n",
    "# 085 번의 딕셔너리에 아래 아이스크림 가격정보를 추가하라.\n",
    "\n",
    "# 이름\t희망 가격\n",
    "# 죠스바\t1200\n",
    "# 월드콘\t1500\n",
    "dic['죠스바'] = 1200\n",
    "dic['월드콘'] = 1500\n",
    "dic"
   ]
  },
  {
   "cell_type": "code",
   "execution_count": 299,
   "id": "550774d6-ba57-4950-995c-c2b2378b1d4a",
   "metadata": {},
   "outputs": [
    {
     "name": "stdout",
     "output_type": "stream",
     "text": [
      "메로나 가격: 1000\n"
     ]
    }
   ],
   "source": [
    "# 087\n",
    "# 다음 딕셔너리를 사용하여 메로나 가격을 출력하라.\n",
    "\n",
    "# ice = {'메로나': 1000,\n",
    "#        '폴로포': 1200,\n",
    "#        '빵빠레': 1800,\n",
    "#        '죠스바': 1200,\n",
    "#        '월드콘': 1500}\n",
    "# 실행 예:\n",
    "# 메로나 가격: 1000\n",
    "ice = {'메로나': 1000,\n",
    "        '폴로포': 1200,\n",
    "        '빵빠레': 1800,\n",
    "        '죠스바': 1200,\n",
    "        '월드콘': 1500}\n",
    "# ice.pop('메로나')\n",
    "print(\"메로나 가격:\", ice[\"메로나\"])"
   ]
  },
  {
   "cell_type": "code",
   "execution_count": 369,
   "id": "3d5c0634-fd87-4a2b-a51d-251ec53308d6",
   "metadata": {},
   "outputs": [
    {
     "data": {
      "text/plain": [
       "{'메로나': 1300, '폴로포': 1200, '빵빠레': 1800, '죠스바': 1200, '월드콘': 1500}"
      ]
     },
     "execution_count": 369,
     "metadata": {},
     "output_type": "execute_result"
    }
   ],
   "source": [
    "# 088\n",
    "# 다음 딕셔너리에서 메로나의 가격을 1300으로 수정하라.\n",
    "\n",
    "ice = {'메로나': 1000,\n",
    "       '폴로포': 1200,\n",
    "       '빵빠레': 1800,\n",
    "       '죠스바': 1200,\n",
    "       '월드콘': 1500}\n",
    "\n",
    "ice[\"메로나\"] = 1300\n",
    "ice"
   ]
  },
  {
   "cell_type": "code",
   "execution_count": 373,
   "id": "3e936eb0-09e9-4acd-8411-133478b898ba",
   "metadata": {},
   "outputs": [
    {
     "data": {
      "text/plain": [
       "{'폴로포': 1200, '빵빠레': 1800, '죠스바': 1200, '월드콘': 1500}"
      ]
     },
     "execution_count": 373,
     "metadata": {},
     "output_type": "execute_result"
    }
   ],
   "source": [
    "# 089\n",
    "# 다음 딕셔너리에서 메로나를 삭제하라.\n",
    "\n",
    "ice = {'메로나': 1000,\n",
    "       '폴로포': 1200,\n",
    "       '빵빠레': 1800,\n",
    "       '죠스바': 1200,\n",
    "       '월드콘': 1500}\n",
    "del ice[\"메로나\"]\n",
    "ice"
   ]
  },
  {
   "cell_type": "code",
   "execution_count": 378,
   "id": "841a988e-8287-44fe-b22b-e33158cc3e88",
   "metadata": {},
   "outputs": [
    {
     "ename": "SyntaxError",
     "evalue": "invalid syntax (3704922911.py, line 4)",
     "output_type": "error",
     "traceback": [
      "\u001b[1;36m  Cell \u001b[1;32mIn[378], line 4\u001b[1;36m\u001b[0m\n\u001b[1;33m    >> icecream = {'폴라포': 1200, '빵빠레': 1800, '월드콘': 1500, '메로나': 1000}\u001b[0m\n\u001b[1;37m    ^\u001b[0m\n\u001b[1;31mSyntaxError\u001b[0m\u001b[1;31m:\u001b[0m invalid syntax\n"
     ]
    }
   ],
   "source": [
    "# 090\n",
    "# 다음 코드에서 에러가 발생한 원인을 설명하라.\n",
    "\n",
    ">> icecream = {'폴라포': 1200, '빵빠레': 1800, '월드콘': 1500, '메로나': 1000}\n",
    ">> icecream['누가바']\n",
    "Traceback (most recent call last):\n",
    "  File \"<pyshell#69>\", line 1, in <module>\n",
    "    icecream['누가바']\n",
    "KeyError: '누가바'\n",
    "\n",
    "#없는 값을 호출했기 때문에 (없는 키로 인덱싱했기 때문에)"
   ]
  },
  {
   "cell_type": "code",
   "execution_count": 382,
   "id": "7b841931-0507-48b0-957c-a79d38442b60",
   "metadata": {},
   "outputs": [
    {
     "data": {
      "text/plain": [
       "{'메로나': [300, 20], '비비빅': [400, 3], '조스바': [250, 100]}"
      ]
     },
     "execution_count": 382,
     "metadata": {},
     "output_type": "execute_result"
    }
   ],
   "source": [
    "# 091 딕셔너리 생성\n",
    "# 아래의 표에서, 아이스크림 이름을 키값으로, (가격, 재고) 리스트를 딕셔너리의 값으로 저장하라. 딕셔너리의 이름은 inventory로 한다.\n",
    "\n",
    "# 이름\t가격\t재고\n",
    "# 메로나\t300\t20\n",
    "# 비비빅\t400\t3\n",
    "# 죠스바\t250\t100\n",
    "inventory = {'메로나' : [300,20], '비비빅' : [400 ,3], '조스바':[250,100]}\n",
    "inventory"
   ]
  },
  {
   "cell_type": "code",
   "execution_count": 391,
   "id": "2d3eae45-5a4a-4f78-a392-7ec7287c9757",
   "metadata": {},
   "outputs": [
    {
     "name": "stdout",
     "output_type": "stream",
     "text": [
      "300 원\n"
     ]
    }
   ],
   "source": [
    "# 092 딕셔너리 인덱싱\n",
    "# inventory 딕셔너리에서 메로나의 가격을 화면에 출력하라.\n",
    "\n",
    "inventory = {\"메로나\": [300, 20],\n",
    "               \"비비빅\": [400, 3],\n",
    "               \"죠스바\": [250, 100]}\n",
    "# 실행 예시:\n",
    "# 300 원\n",
    "inventory[\"메로나\"][0]\n",
    "print(inventory[\"메로나\"][0] ,'원')"
   ]
  },
  {
   "cell_type": "code",
   "execution_count": 399,
   "id": "73715ee1-7f0c-418c-bcd1-ca5fa3349ba9",
   "metadata": {},
   "outputs": [
    {
     "name": "stdout",
     "output_type": "stream",
     "text": [
      "20 개\n"
     ]
    }
   ],
   "source": [
    "# 093 딕셔너리 인덱싱\n",
    "# inventory 딕셔너리에서 메로나의 재고를 화면에 출력하라.\n",
    "\n",
    "inventory = {\"메로나\": [300, 20],\n",
    "              \"비비빅\": [400, 3],\n",
    "              \"죠스바\": [250, 100]}\n",
    "# 실행 예시:\n",
    "# 20 개\n",
    "inventory[\"메로나\"][1]\n",
    "print(inventory[\"메로나\"][1], '개')"
   ]
  },
  {
   "cell_type": "code",
   "execution_count": 408,
   "id": "a0f37b69-f77f-4e5d-9197-cdbdc7dfd352",
   "metadata": {},
   "outputs": [
    {
     "data": {
      "text/plain": [
       "{'메로나': [300, 20], '비비빅': [400, 3], '죠스바': [250, 100], '월드콘': [500, 7]}"
      ]
     },
     "execution_count": 408,
     "metadata": {},
     "output_type": "execute_result"
    }
   ],
   "source": [
    "# 094 딕셔너리 추가\n",
    "# inventory 딕셔너리에 아래 데이터를 추가하라.\n",
    "\n",
    "inventory = {\"메로나\": [300, 20],\n",
    "              \"비비빅\": [400, 3],\n",
    "              \"죠스바\": [250, 100]}\n",
    "# 이름\t가격\t재고\n",
    "# 월드콘\t500\t7\n",
    "inventory[\"월드콘\"] =[500, 7] \n",
    "inventory"
   ]
  },
  {
   "cell_type": "code",
   "execution_count": 419,
   "id": "f9d4b04f-b176-47e7-9899-a3ed4087699b",
   "metadata": {},
   "outputs": [
    {
     "name": "stdout",
     "output_type": "stream",
     "text": [
      "['탱크보이', '폴라포', '빵빠레', '월드콘', '메로나'] <class 'list'>\n"
     ]
    }
   ],
   "source": [
    "# 095 딕셔너리 keys() 메서드\n",
    "# 다음의 딕셔너리로부터 key 값으로만 구성된 리스트를 생성하라.\n",
    "\n",
    "icecream = {'탱크보이': 1200, '폴라포': 1200, '빵빠레': 1800, '월드콘': 1500, '메로나': 1000}\n",
    "l1 =list(icecream.keys())\n",
    "print(l1,type(l1))"
   ]
  },
  {
   "cell_type": "code",
   "execution_count": 423,
   "id": "85bf361f-c79e-4985-9254-025b1148acc6",
   "metadata": {},
   "outputs": [
    {
     "name": "stdout",
     "output_type": "stream",
     "text": [
      "[1200, 1200, 1800, 1500, 1000] <class 'list'>\n"
     ]
    }
   ],
   "source": [
    "# 096 딕셔너리 values() 메서드\n",
    "# 다음의 딕셔너리에서 values 값으로만 구성된 리스트를 생성하라.\n",
    "\n",
    "icecream = {'탱크보이': 1200, '폴라포': 1200, '빵빠레': 1800, '월드콘': 1500, '메로나': 1000}\n",
    "l2 = list(icecream.values())\n",
    "print(l2,type(l2))"
   ]
  },
  {
   "cell_type": "code",
   "execution_count": 427,
   "id": "c483c79e-81c8-4e14-ad2b-63e0ffd4c3c0",
   "metadata": {},
   "outputs": [
    {
     "name": "stdout",
     "output_type": "stream",
     "text": [
      "6700\n"
     ]
    }
   ],
   "source": [
    "# 097 딕셔너리 values() 메서드\n",
    "# icecream 딕셔너리에서 아이스크림 판매 금액의 총합을 출력하라.\n",
    "\n",
    "icecream = {'탱크보이': 1200, '폴라포': 1200, '빵빠레': 1800, '월드콘': 1500, '메로나': 1000}\n",
    "# 출력 예시:\n",
    "# 6700\n",
    "print(sum(icecream.values()))"
   ]
  },
  {
   "cell_type": "code",
   "execution_count": 433,
   "id": "d3fb31d3-4249-4348-97b9-9f8fbedfddfe",
   "metadata": {},
   "outputs": [
    {
     "name": "stdout",
     "output_type": "stream",
     "text": [
      "{'탱크보이': 1200, '폴라포': 1200, '빵빠레': 1800, '월드콘': 1500, '메로나': 1000, '팥빙수': 2700, '아맛나': 1000}\n"
     ]
    }
   ],
   "source": [
    "# 098 딕셔너리 update 메서드\n",
    "# 아래의 new_product 딕셔너리를 다음 icecream 딕셔너리에 추가하라.\n",
    "\n",
    "icecream = {'탱크보이': 1200, '폴라포': 1200, '빵빠레': 1800, '월드콘': 1500, '메로나': 1000}\n",
    "new_product = {'팥빙수':2700, '아맛나':1000}\n",
    "# 실행 예시:\n",
    "# >> print(icecream)\n",
    "# {'탱크보이': 1200,  '폴라포': 1200,  '빵빠레': 1800,  '월드콘': 1500,  '메로나': 1000,  '팥빙수':2700, '아맛나':1000}\n",
    "icecream.update(new_product)\n",
    "print(icecream)"
   ]
  },
  {
   "cell_type": "code",
   "execution_count": 441,
   "id": "22545e28-bd93-48a2-87b5-b19a0eee0601",
   "metadata": {},
   "outputs": [
    {
     "name": "stdout",
     "output_type": "stream",
     "text": [
      "{'apple': 300, 'pear': 250, 'peach': 400}\n"
     ]
    }
   ],
   "source": [
    "# 099 zip과 dict\n",
    "# 아래 두 개의 튜플을 하나의 딕셔너리로 변환하라. keys를 키로, vals를 값으로 result 이름의 딕셔너리로 저장한다.\n",
    "\n",
    "keys = (\"apple\", \"pear\", \"peach\")\n",
    "vals = (300, 250, 400)\n",
    "# 실행 예시:\n",
    "# >> print(result)\n",
    "# {'apple': 300, 'pear': 250, 'peach': 400}\n",
    "result = dict(zip(keys,vals))\n",
    "print(result)"
   ]
  },
  {
   "cell_type": "code",
   "execution_count": 443,
   "id": "ec81531d-1b67-4c9e-a777-f14c1eecef7a",
   "metadata": {},
   "outputs": [
    {
     "name": "stdout",
     "output_type": "stream",
     "text": [
      "{'09/05': 10500, '09/06': 10300, '09/07': 10100, '09/08': 10800, '09/09': 11000}\n"
     ]
    }
   ],
   "source": [
    "# 100 zip과 dict\n",
    "# date와 close_price 두 개의 리스트를 close_table 이름의 딕셔너리로 생성하라.\n",
    "\n",
    "date = ['09/05', '09/06', '09/07', '09/08', '09/09']\n",
    "close_price = [10500, 10300, 10100, 10800, 11000]\n",
    "# 실행 예시:\n",
    "# >> print(close_table)\n",
    "# {'09/05': 10500, '09/06': 10300, '09/07': 10100, '09/08': 10800, '09/09': 11000}\n",
    "close_table = dict(zip(date,close_price))\n",
    "print(close_table)"
   ]
  }
 ],
 "metadata": {
  "kernelspec": {
   "display_name": "Python 3 (ipykernel)",
   "language": "python",
   "name": "python3"
  },
  "language_info": {
   "codemirror_mode": {
    "name": "ipython",
    "version": 3
   },
   "file_extension": ".py",
   "mimetype": "text/x-python",
   "name": "python",
   "nbconvert_exporter": "python",
   "pygments_lexer": "ipython3",
   "version": "3.12.4"
  }
 },
 "nbformat": 4,
 "nbformat_minor": 5
}
