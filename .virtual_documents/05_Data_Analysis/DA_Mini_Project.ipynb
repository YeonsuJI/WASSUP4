











import pandas as pd


access_data = pd.read_table('C:/workspace/WASSUP4/05_Data_Analysis/data/mini.csv', sep=',')


access_data.head()


access_data.tail()


access_data.info()


access_data.describe()





# target이 1일 때 특징 찾아보기
target_1_data = access_data[access_data['target'] == 1]
target_1_data


# target이 0일 때 특징 찾아보기
target_0_data = access_data[access_data['target'] == 0]
target_0_data


payment_pattern_data = target_1_data.groupby('payment_pattern')[['abandoned_learning_sessions','recent_learning_achievement']].mean()
payment_pattern_data


recent_learning_achievement_data = target_1_data.groupby('recent_learning_achievement')[['abandoned_learning_sessions','payment_pattern']].mean()
recent_learning_achievement_data


# target이 1인 학생들 중에서 최근 학습 성취도와 중단된 세선 수를 가지고 payment_pattern 분석
selected_1_data = target_1_data[['recent_learning_achievement', 'abandoned_learning_sessions','payment_pattern']]
selected_1_data = selected_1_data.sort_values(by='recent_learning_achievement')
selected_1_data


# target이 0인 학생들 중에서 최근 학습 성취도와 중단된 세선 수를 가지고 payment_pattern 분석
selected_0_data = target_0_data[['recent_learning_achievement', 'abandoned_learning_sessions','payment_pattern']]
selected_0_data = selected_0_data.sort_values(by='recent_learning_achievement')
selected_0_data


import matplotlib.pyplot as plt
import seaborn as sns
import koreanize_matplotlib





# 결제 패턴에서 0,1달 결제한 그룹과 2달 이상 결제한 그룹을 나눠서 각 그룹들의 target 1 의 비율을  구해보자
# 각 그룹으로 payment_pattern을 나누기
group_1 = access_data[access_data['payment_pattern'].isin([0, 1, 2, 4])]
group_2 = access_data[access_data['payment_pattern'].isin([3, 5, 6, 7])]

# 각 그룹의 target == 1인 비율 계산
group_1_target_1_ratio = group_1[group_1['target'] == 1].shape[0] / group_1.shape[0] * 100
group_2_target_1_ratio = group_2[group_2['target'] == 1].shape[0] / group_2.shape[0] * 100

print(group_1_target_1_ratio)
print(group_2_target_1_ratio)

# result_table = pd.DataFrame({
#     'Payment Pattern Group': ['0, 1, 2, 4', '3, 5, 6, 7'],
#     'Target 1 Ratio (%)': [group_1_target_1_ratio, group_2_target_1_ratio]
# })

# print(result_table)


groups = ['1달 이하 결제', '2달 이상 결제']
ratios = [group_1_target_1_ratio, group_2_target_1_ratio]

plt.figure(figsize=(8, 6))
plt.bar(groups, ratios, color=['skyblue', 'lightgreen'])


plt.title('Target == 1 비율 (Payment Pattern별)', fontsize=16)
plt.xlabel('Payment Pattern Group', fontsize=12)
plt.ylabel('Target 1 비율 (%)', fontsize=12)

# y축 범위 설정 (0에서 100까지)
plt.ylim(0, 100)

# 값 표시
for i, ratio in enumerate(ratios):
    plt.text(i, ratio + 1, f'{ratio:.2f}%', ha='center', fontsize=12)

# 그래프 표시
plt.tight_layout()
plt.show()



# 최근 학습 성취도 박스플롯
def plot_boxplot(df, col):
    plt.figure(figsize=(10, 6))
    sns.boxplot(x=df[col])
    plt.title(f'Boxplot of {col}')
    plt.show()

plot_boxplot(access_data, 'recent_learning_achievement')



# 중단된 학습 세션 수 박스플롯
def plot_boxplot(df, col):
    plt.figure(figsize=(10, 6))
    sns.boxplot(x=df[col])
    plt.title(f'Boxplot of {col}')
    plt.show()

plot_boxplot(access_data, 'abandoned_learning_sessions')


# abandoned_learning_sessions 시각화 (target = 1)
plt.subplot(1, 2, 1)
sns.lineplot(data=selected_1_data, x='recent_learning_achievement', y='abandoned_learning_sessions')
plt.title('최근 학습 성취도와 중단된 학습 세션 수')
plt.xlabel('Recent Learning Achievement')
plt.ylabel('Abandoned Learning Sessions')

# payment_pattern 시각화
plt.subplot(1, 2, 2)
sns.lineplot(data=selected_1_data, x='recent_learning_achievement', y='payment_pattern')
plt.title('최근 학습 성취도와 결제 패턴')
plt.xlabel('Recent Learning Achievement')
plt.ylabel('Payment Pattern')

plt.tight_layout()
plt.show()


# abandoned_learning_sessions 시각화  (target = 0)
plt.subplot(1, 2, 1)
sns.lineplot(data=selected_0_data, x='recent_learning_achievement', y='abandoned_learning_sessions')
plt.title('최근 학습 성취도와 중단된 학습 세션 수')
plt.xlabel('Recent Learning Achievement')
plt.ylabel('Abandoned Learning Sessions')

# payment_pattern 시각화
plt.subplot(1, 2, 2)
sns.lineplot(data=selected_0_data, x='recent_learning_achievement', y='payment_pattern')
plt.title('최근 학습 성취도와 결제 패턴')
plt.xlabel('Recent Learning Achievement')
plt.ylabel('Payment Pattern')

plt.tight_layout()
plt.show()


fig, axes = plt.subplots(nrows=1, ncols=2, figsize=(18, 12))

plt.subplot(2, 2, 1)
plt.scatter(selected_1_data['recent_learning_achievement'], selected_1_data['abandoned_learning_sessions'], c='blue', label='Abandoned Learning Sessions')
plt.title('최근 학습 성취도의 산포도 (Target = 1)')
plt.xlabel('학습 성취도')
plt.ylabel('중단된 학습 세션 수')
plt.legend()

plt.subplot(2, 2, 2)
plt.scatter(selected_0_data['recent_learning_achievement'], selected_0_data['abandoned_learning_sessions'], c='blue', label='Abandoned Learning Sessions')
plt.title('최근 학습 성취도의 산포도 (Target = 0)')
plt.xlabel('학습 성취도')
plt.ylabel('중단된 학습 세션 수')
plt.legend()

plt.subplot(2, 2, 3)
plt.scatter(selected_1_data['recent_learning_achievement'], selected_1_data['payment_pattern'], c='green', label='payment pattern')
plt.title('최근 학습 성취도의 산포도 (Target = 1)')
plt.xlabel('학습 성취도')
plt.ylabel('결제 패턴')
plt.legend()

plt.subplot(2, 2, 4)
plt.scatter(selected_0_data['recent_learning_achievement'], selected_0_data['payment_pattern'], c='green', label='payment pattern')
plt.title('최근 학습 성취도의 산포도 (Target = 0)')
plt.xlabel('학습 성취도')
plt.ylabel('결제 패턴')
plt.legend()

plt.tight_layout()
plt.show()



# target이 1일 때 중단된 학습 세션수와 결제 패턴의 그룹바이
aband_pay_1_data = target_1_data.groupby(['abandoned_learning_sessions', 'payment_pattern']).size().reset_index(name='count')
aband_pay_1_data


# target이 0일 때 중단된 학습 세션수와 결제 패턴의 그룹바이
aband_pay_0_data = target_0_data.groupby(['abandoned_learning_sessions', 'payment_pattern']).size().reset_index(name='count')
aband_pay_0_data


fig, axes = plt.subplots(nrows=1, ncols=2, figsize=(18, 6))

plt.subplot(1, 2, 1)
plt.scatter(aband_pay_1_data['abandoned_learning_sessions'], aband_pay_1_data['payment_pattern'], 
            s=aband_pay_1_data['count']*10, c='blue', alpha=0.5)
plt.title('중단된 학습 세션과 결제 패턴의 관계 (Target = 1)')
plt.xlabel('중단된 학습 세션 수')
plt.ylabel('결제 패턴')


plt.subplot(1, 2, 2)
plt.scatter(aband_pay_0_data['abandoned_learning_sessions'], aband_pay_0_data['payment_pattern'], 
            s=aband_pay_0_data['count']*10, c='blue', alpha=0.5)
plt.title('중단된 학습 세션과 결제 패턴의 관계 (Target = 0)')
plt.xlabel('중단된 학습 세션 수')
plt.ylabel('결제 패턴')

# 레이아웃 조정
plt.tight_layout()

# 그래프 표시
plt.show()


# 피벗 테이블 생성
pivot_1_table = selected_1_data.pivot_table(values='recent_learning_achievement', 
                                        index='abandoned_learning_sessions', 
                                        columns='payment_pattern')


pivot_0_table = selected_0_data.pivot_table(values='recent_learning_achievement', 
                                        index='abandoned_learning_sessions', 
                                        columns='payment_pattern')


fig, axes = plt.subplots(nrows=1, ncols=2, figsize=(18, 8)) 


plt.subplot(1, 2, 1)
sns.heatmap(data=pivot_1_table,
            annot=True,  
            fmt='.1f',   
            vmin=selected_1_data['recent_learning_achievement'].min(), 
            vmax=selected_1_data['recent_learning_achievement'].max(),  
            cmap="BuGn"
           )
plt.xlabel('결제 패턴', fontsize=10, labelpad=30)
plt.ylabel('중단된 학습 세션', fontsize=14, labelpad=30)
plt.title('Target = 1', fontsize=16)
plt.tick_params(axis='y', rotation=0)


plt.subplot(1, 2, 2)
sns.heatmap(data=pivot_0_table,
            annot=True,  
            fmt='.1f',   
            vmin=selected_0_data['recent_learning_achievement'].min(),  
            vmax=selected_0_data['recent_learning_achievement'].max(),  
            cmap="BuGn"
           )
plt.xlabel('결제 패턴', fontsize=10, labelpad=30)
plt.ylabel('중단된 학습 세션 수', fontsize=14, labelpad=30)
plt.title('Target = 0', fontsize=16)
plt.tick_params(axis='y', rotation=0)

# 레이아웃 조정
plt.tight_layout()

# 그래프 표시
plt.show()











selected_columns_data = access_data[['subscription_duration', 'monthly_active_learning_days', 'total_completed_courses', 'target']]
selected_columns_data = selected_columns_data.sort_values(by='subscription_duration')
selected_columns_data


selected_columns_data.describe()


# 서비스 이용에 가입한 기간을 3개의 범주로 나눠서 target이 1과 0인 사용자의 수를 구함.
bins = [0, 11, 20, float('inf')]  # 1~10, 11~20, 20 이상
labels = ['1-10', '11-20', '20+']

selected_columns_data['duration_category'] = pd.cut(selected_columns_data['subscription_duration'], bins=bins, labels=labels, right=False)

# target에 따라 그룹화하여 각 범주에서의 개수 세기
grouped_bin_data = selected_columns_data.groupby(['duration_category', 'target']).size().unstack(fill_value=0)

# 열 이름 변경
grouped_bin_data.columns = ['Target 0 Count', 'Target 1 Count']

# 결과 표시
grouped_bin_data


# 각 범주에서 Target 0 Count와 Target 1 Count의 합과 비율 구하기
grouped_bin_data['Total Count'] = grouped_bin_data['Target 0 Count'] + grouped_bin_data['Target 1 Count']

# 비율 계산하기
grouped_bin_data['Target 0 Ratio'] = grouped_bin_data['Target 0 Count'] / grouped_bin_data['Total Count']
grouped_bin_data['Target 1 Ratio'] = grouped_bin_data['Target 1 Count'] / grouped_bin_data['Total Count']

# 결과 표시
grouped_bin_data



import matplotlib.pyplot as plt

# 비율 시각화 그래프
plt.figure(figsize=(10, 6))

# 막대 그래프 생성 (비율을 기준으로)
grouped_bin_data[['Target 0 Ratio', 'Target 1 Ratio']].plot(kind='bar', stacked=False)

# 그래프 제목과 레이블 설정
plt.title('서비스 이용 기간에 따른 Target 0과 Target 1 사용자 비율', fontsize=16)
plt.xlabel('서비스 이용 기간 범주', fontsize=12)
plt.ylabel('사용자 비율', fontsize=12)

# 레전드 추가
plt.legend(title='Target', labels=['0', '1'])

# 그래프 표시
plt.xticks(rotation=0)  # x축 레이블 회전
plt.tight_layout()  # 레이아웃 조정
plt.show()






# subscription_duration을 기준으로 그룹화하여 target에 따른 사용자 수 세기
grouped_data = selected_columns_data.groupby(['subscription_duration', 'target']).size().unstack(fill_value=0)
grouped_data.columns = ['Target 0 Count', 'Target 1 Count']
grouped_data


grouped_data.plot(kind='bar', figsize=(12, 6), color=['skyblue', 'lightgreen'])

plt.title('구독 기간과 target과의 관계', fontsize=16)
plt.xlabel('사용자별 구독 기간(월)', fontsize=12)
plt.ylabel('사용자 수', fontsize=12)
plt.xticks(rotation=45)
plt.legend(title='Target', labels=['Target 0', 'Target 1'])
plt.grid(axis='y')

plt.tight_layout()
plt.show()


grouped_2_data = selected_columns_data.groupby(['monthly_active_learning_days', 'target']).size().unstack(fill_value=0)
grouped_2_data.columns = ['Target 0 Count', 'Target 1 Count']
grouped_2_data


grouped_2_data.plot(kind='bar', figsize=(12, 6), color=['skyblue', 'lightgreen'])

plt.title('월간 활동 일수과 target과의 관계', fontsize=16)
plt.xlabel('월간 활동적인 학습 일수', fontsize=12)
plt.ylabel('사용자 수', fontsize=12)
plt.xticks(rotation=45)
plt.legend(title='Target', labels=['Target 0', 'Target 1'])
plt.grid(axis='y')

plt.tight_layout()
plt.show()





# subscription_duration을 기준으로 그룹화
grouped_4_data = selected_columns_data.groupby(['monthly_active_learning_days', 'subscription_duration']).size().unstack(fill_value=0)
grouped_4_data.columns = ['Duration ' + str(col) for col in grouped_4_data.columns]
grouped_4_data


# 구독 기간을 월간 활동 일수로 그룹화
heatmap_data = selected_columns_data.groupby(['monthly_active_learning_days', 'subscription_duration']).size().unstack(fill_value=0)

plt.figure(figsize=(12, 6))
sns.heatmap(heatmap_data, annot=True, fmt='d', cmap="coolwarm", linewidths=0.5)

plt.title('월간 활동적인 학습 일수와 사용자 구독 기간의 관계', fontsize=16)
plt.xlabel('사용자 구독 기간', fontsize=12)
plt.ylabel('월간 활동적인 학습 일수', fontsize=12)

plt.tight_layout()
plt.show()



# 사용자의 비율을 계산하기 위한 데이터 준비

cohort_data = access_data.groupby(['subscription_duration', 'monthly_active_learning_days'])['target'].mean().reset_index()

# target 비율을 백분율로 변환
cohort_data['target_ratio'] = cohort_data['target'] * 100

# 피벗 테이블 생성
pivot_table = cohort_data.pivot(index='subscription_duration', columns='monthly_active_learning_days', values='target_ratio')

# 히트맵 생성
plt.figure(figsize=(12, 6))
sns.heatmap(pivot_table, 
            annot=True,  # 각 셀에 값 표시
            fmt='.1f',   # 소수점 1자리로 표시
            cmap='viridis',  # 색상 맵
            cbar_kws={'label': 'Target 1 비율 (%)'},  # 색상 바 레이블
            linewidths=.5)  # 셀 간격

# 그래프 제목과 축 레이블 설정
plt.title('구독 기간과 월간 활성 학습 일수에 따른 Target 1 비율', fontsize=16)
plt.xlabel('구독 기간', fontsize=12)
plt.ylabel('월간 활성 학습 일수', fontsize=12)

plt.tight_layout()
plt.show()











#학습 세션에 소요된 평균 시간(분) 박스플롯
def plot_boxplot(df, col):
    plt.figure(figsize=(10, 6))
    sns.boxplot(x=df[col])
    plt.title(f'Boxplot of {col}')
    plt.show()

plot_boxplot(access_data, 'average_time_per_learning_session')


# target이 1인 데이터만 필터링
filtered_data = access_data[access_data['target'] == 1]

# 구독 유형별로 커뮤니티 참여도 수 계산
community_engagement_by_subscription = filtered_data.groupby('subscription_type')['community_engagement_level'].count()

# 결과 출력
community_engagement_by_subscription


engagement_counts = access_data.groupby(['subscription_type', 'community_engagement_level']).size().unstack()
engagement_counts


engagement_1_counts = target_1_data.groupby(['subscription_type', 'community_engagement_level']).size().unstack()

engagement_1_counts


engagement_0_counts = target_0_data.groupby(['subscription_type', 'community_engagement_level']).size().unstack()

engagement_0_counts


import numpy as np

# 'access_data'를 사용해서 engagement_counts 생성
engagement_counts = access_data.groupby(['subscription_type', 'community_engagement_level']).size().unstack()

# engagement_counts의 인덱스를 정렬
engagement_counts = engagement_counts.sort_index()

# 그래프 그리기
fig, ax = plt.subplots(figsize=(12, 6))

# bar폭을 조정하기 위한 변수
bar_width = 0.35

# x축 값 (커뮤니티 참여 수준)
x = np.arange(len(engagement_counts.columns))

# bar 차트를 각 구독 유형에 대해 그리기
for i, subscription_type in enumerate(engagement_counts.index):
    ax.bar(x + i * bar_width, engagement_counts.loc[subscription_type], bar_width, label=f'{subscription_type}', alpha=0.7)

# 그래프 제목 및 레이블 설정
ax.set_xlabel('커뮤니티 참여도', fontsize=12)
ax.set_ylabel('사용자 수', fontsize=12)
ax.set_title('구독 유형별 커뮤니티 참여도에 따른 사용자 수', fontsize=16)
ax.set_xticks(x + bar_width / 2)
ax.set_xticklabels(engagement_counts.columns, rotation=45)

# 범례 추가
ax.legend(title='Subscription Type')

# 레이아웃 조정
plt.tight_layout()

# 그래프 표시
plt.show()


# target이 1
target_1_data = access_data[access_data['target'] == 1]

engagement_counts_1 = target_1_data.groupby(['subscription_type', 'community_engagement_level']).size().unstack()
engagement_counts_1 = engagement_counts_1.sort_index()

fig, ax = plt.subplots(figsize=(12, 6))
bar_width = 0.35

x = np.arange(len(engagement_counts_1.columns))

for i, subscription_type in enumerate(engagement_counts_1.index):
    ax.bar(x + i * bar_width, engagement_counts_1.loc[subscription_type], bar_width, label=f'{subscription_type}', alpha=0.7)


ax.set_xlabel('커뮤니티 참여도', fontsize=12)
ax.set_ylabel('사용자 수 (target = 1)', fontsize=12)
ax.set_title('구독 유형별 커뮤니티 참여도에 따른 사용자 수 (Target = 1)', fontsize=16)
ax.set_xticks(x + bar_width / 2)
ax.set_xticklabels(engagement_counts_1.columns, rotation=45)
ax.legend(title='구독유형')

plt.tight_layout()
plt.show()


# target이 0
target_0_data = access_data[access_data['target'] == 0]

engagement_counts_0 = target_0_data.groupby(['subscription_type', 'community_engagement_level']).size().unstack()
engagement_counts_0 = engagement_counts_0.sort_index()

fig, ax = plt.subplots(figsize=(12, 6))
bar_width = 0.35


x = np.arange(len(engagement_counts_0.columns))

for i, subscription_type in enumerate(engagement_counts_0.index):
    ax.bar(x + i * bar_width, engagement_counts_0.loc[subscription_type], bar_width, label=f'{subscription_type}', alpha=0.7)

ax.set_xlabel('커뮤니티 참여도', fontsize=12)
ax.set_ylabel('사용자 수 (target = 0)', fontsize=12)
ax.set_title('구독 유형별 커뮤니티 참여도에 따른 사용자 수 (Target = 0)', fontsize=16)
ax.set_xticks(x + bar_width / 2)
ax.set_xticklabels(engagement_counts_0.columns, rotation=45)
ax.legend(title='구독 유형')

plt.tight_layout()
plt.show()





# 구독 유형별로 그룹화하여 'monthly_active_learning_days'와 'subscription_duration'에 대한 빈도수를 계산
grouped_5_data = access_data.groupby(['subscription_type', 'monthly_active_learning_days', 'subscription_duration']).size().unstack(fill_value=0)
grouped_5_data.columns = ['Duration ' + str(col) for col in grouped_5_data.columns]
grouped_5_data



# grouped_5_data에서 구독 유형이 'Basic'인 데이터만 추출
basic_grouped_data = grouped_5_data.xs('Basic', level='subscription_type')
basic_grouped_data



# grouped_5_data의 구조 확인
grouped_5_data.head()



# 히트맵 그리기
plt.figure(figsize=(12, 8))
sns.heatmap(basic_grouped_data, annot=True, cmap='Blues', fmt='d')

# 제목과 축 레이블 설정
plt.title('베이직 사용자: 월간 활동 학습 일수와 구독 기간의 관계', fontsize=16)
plt.xlabel('구독 기간', fontsize=12)
plt.ylabel('월간 활동 학습 일수', fontsize=12)

# 레이아웃 설정
plt.tight_layout()
plt.show()


premium_grouped_data = grouped_5_data.xs('Premium', level='subscription_type')
premium_grouped_data



# 히트맵 그리기
plt.figure(figsize=(12, 8))
sns.heatmap(premium_grouped_data, annot=True, cmap='Blues', fmt='d')

# 제목과 축 레이블 설정
plt.title('프리미엄 사용자: 월간 활동 학습 일수와 구독 기간의 관계', fontsize=16)
plt.xlabel('구독 기간', fontsize=12)
plt.ylabel('월간 활동 학습 일수', fontsize=12)

# 레이아웃 설정
plt.tight_layout()
plt.show()


# 프리미엄 사용자이면서 커뮤니티 참여도가 5인 데이터만 필터링
premium_community_5_data = access_data[(access_data['subscription_type'] == 'Premium') & (access_data['community_engagement_level'] == 5)]
premium_community_5_grouped = premium_community_5_data.groupby(['monthly_active_learning_days', 'subscription_duration']).size().unstack(fill_value=0)

plt.figure(figsize=(12, 8))
sns.heatmap(premium_community_5_grouped, annot=True, cmap='Blues', fmt='d')

plt.title('프리미엄 사용자 (커뮤니티 참여도 5): 월간 활동 학습 일수와 구독 기간의 관계', fontsize=16)
plt.xlabel('구독 기간', fontsize=12)
plt.ylabel('월간 활동 학습 일수', fontsize=12)

plt.tight_layout()
plt.show()


# target이 1인 데이터만 필터링
premium_community_5_target_1 = premium_community_5_data[premium_community_5_data['target'] == 1]
premium_community_5_target_1_grouped = premium_community_5_target_1.groupby(['monthly_active_learning_days', 'subscription_duration']).size().unstack(fill_value=0)

plt.figure(figsize=(12, 8))
sns.heatmap(premium_community_5_target_1_grouped, annot=True, cmap='Blues', fmt='d')

plt.title('프리미엄 사용자 (커뮤니티 참여도 5, Target 1): 월간 활동 학습 일수와 구독 기간의 관계', fontsize=16)
plt.xlabel('구독 기간', fontsize=12)
plt.ylabel('월간 활동 학습 일수', fontsize=12)

plt.tight_layout()
plt.show()


premium_community_5_target_1 = premium_community_5_data[premium_community_5_data['target'] == 0]
premium_community_5_target_1_grouped = premium_community_5_target_1.groupby(['monthly_active_learning_days', 'subscription_duration']).size().unstack(fill_value=0)

plt.figure(figsize=(12, 8))
sns.heatmap(premium_community_5_target_1_grouped, annot=True, cmap='Blues', fmt='d')

plt.title('프리미엄 사용자 (커뮤니티 참여도 5, Target 0): 월간 활동 학습 일수와 구독 기간의 관계', fontsize=16)
plt.xlabel('구독 기간', fontsize=12)
plt.ylabel('월간 활동 학습 일수', fontsize=12)

plt.tight_layout()
plt.show()





# target별로 그룹화하여 개수 세기
target_counts = premium_community_5_data['target'].value_counts()

total_count = target_counts.sum()
target_0_ratio = target_counts.get(0, 0) / total_count * 100
target_1_ratio = target_counts.get(1, 0) / total_count * 100

print(f"Target 0 비율: {target_0_ratio:.2f}%")
print(f"Target 1 비율: {target_1_ratio:.2f}%")


labels = ['Target 0', 'Target 1']
values = [target_0_ratio, target_1_ratio]

plt.figure(figsize=(8, 6))
plt.bar(labels, values, color=['skyblue', 'lightgreen'])

plt.title('프리미엄 사용자, 커뮤니티 참여도 5인 사람들의 Target 0과 Target 1 비율', fontsize=16)
plt.ylabel('비율 (%)', fontsize=12)
plt.xlabel('Target 값', fontsize=12)

for i, v in enumerate(values):
    plt.text(i, v + 1, f'{v:.2f}%', ha='center', fontsize=10)

plt.tight_layout()
plt.show()





# average_time_per_learning_session이 이상치 176 이상인 사람 추가
premium_community_5_200_data = access_data[(access_data['subscription_type'] == 'Premium') & (access_data['community_engagement_level'] == 5) &(access_data['average_time_per_learning_session'] >= 176)]

target_counts = premium_community_5_200_data['target'].value_counts()

total_count = target_counts.sum()
target_0_ratio = target_counts.get(0, 0) / total_count * 100
target_1_ratio = target_counts.get(1, 0) / total_count * 100

labels = ['Target 0', 'Target 1']
values = [target_0_ratio, target_1_ratio]

plt.figure(figsize=(8, 6))
plt.bar(labels, values, color=['skyblue', 'lightgreen'])

plt.title('프리미엄 사용자, 커뮤니티 참여도 5, 학습 세션 평균 시간이 176 이상인 사람들의 Target 0과 Target 1 비율', fontsize=16)
plt.ylabel('비율 (%)', fontsize=12)
plt.xlabel('Target 값', fontsize=12)

for i, v in enumerate(values):
    plt.text(i, v + 1, f'{v:.2f}%', ha='center', fontsize=10)

plt.tight_layout()
plt.show()


# average_time_per_learning_session이 평균(55) 이상인 사람 추가
premium_community_5_200_data = access_data[(access_data['subscription_type'] == 'Premium') & (access_data['community_engagement_level'] == 5) &(access_data['average_time_per_learning_session'] >= 55)]

target_counts = premium_community_5_200_data['target'].value_counts()

total_count = target_counts.sum()
target_0_ratio = target_counts.get(0, 0) / total_count * 100
target_1_ratio = target_counts.get(1, 0) / total_count * 100

labels = ['Target 0', 'Target 1']
values = [target_0_ratio, target_1_ratio]

plt.figure(figsize=(8, 6))
plt.bar(labels, values, color=['skyblue', 'lightgreen'])

plt.title('프리미엄 사용자, 커뮤니티 참여도 5, 학습 세션 평균 시간이 55 이상인 사람들의 Target 0과 Target 1 비율', fontsize=16)
plt.ylabel('비율 (%)', fontsize=12)
plt.xlabel('Target 값', fontsize=12)

for i, v in enumerate(values):
    plt.text(i, v + 1, f'{v:.2f}%', ha='center', fontsize=10)

plt.tight_layout()
plt.show()





#total_completed_courses가 13 이상인 사람 추가
premium_community_5_13_data = access_data[(access_data['subscription_type'] == 'Premium') & (access_data['community_engagement_level'] == 5) &(access_data['total_completed_courses'] >= 13)]

target_counts = premium_community_5_13_data['target'].value_counts()

total_count = target_counts.sum()
target_0_ratio = target_counts.get(0, 0) / total_count * 100
target_1_ratio = target_counts.get(1, 0) / total_count * 100

labels = ['Target 0', 'Target 1']
values = [target_0_ratio, target_1_ratio]

plt.figure(figsize=(8, 6))
plt.bar(labels, values, color=['skyblue', 'lightgreen'])
plt.title('프리미엄 사용자, 커뮤니티 참여도 5, 완료된 코스 13 이상인 사람들의 Target 0과 Target 1 비율', fontsize=16)
plt.ylabel('비율 (%)', fontsize=12)
plt.xlabel('Target 값', fontsize=12)

for i, v in enumerate(values):
    plt.text(i, v + 1, f'{v:.2f}%', ha='center', fontsize=10)

plt.tight_layout()
plt.show()





#  abandoned_learning_sessions가 3 이하인 사람 추가
premium_community_5_abandoned_sessions_data = access_data[(access_data['subscription_type'] == 'Premium') & (access_data['community_engagement_level'] == 5) & (access_data['abandoned_learning_sessions'] <= 3)]

target_counts = premium_community_5_abandoned_sessions_data['target'].value_counts()
total_count = target_counts.sum()

if total_count > 0:
    target_0_ratio = target_counts.get(0, 0) / total_count * 100
    target_1_ratio = target_counts.get(1, 0) / total_count * 100
else:
    target_0_ratio = target_1_ratio = 0

labels = ['Target 0', 'Target 1']
values = [target_0_ratio, target_1_ratio]

plt.figure(figsize=(8, 6))
plt.bar(labels, values, color=['skyblue', 'lightgreen'])
plt.title('프리미엄 사용자, 커뮤니티 참여도 5, 중단된 학습 세션 3 이하인 사람들의 Target 0과 Target 1 비율', fontsize=16)
plt.ylabel('비율 (%)', fontsize=12)
plt.xlabel('Target 값', fontsize=12)

for i, v in enumerate(values):
    plt.text(i, v + 1, f'{v:.2f}%', ha='center', fontsize=10)

plt.tight_layout()
plt.show()



# abandoned_learning_sessions가 3 이상인 사람 추가
premium_community_5_abandoned_4_sessions_data = access_data[(access_data['subscription_type'] == 'Premium') & (access_data['community_engagement_level'] == 5) & (access_data['abandoned_learning_sessions'] >= 3)]

target_counts = premium_community_5_abandoned_4_sessions_data['target'].value_counts()
total_count = target_counts.sum()

if total_count > 0:
    target_0_ratio = target_counts.get(0, 0) / total_count * 100
    target_1_ratio = target_counts.get(1, 0) / total_count * 100
else:
    target_0_ratio = target_1_ratio = 0

labels = ['Target 0', 'Target 1']
values = [target_0_ratio, target_1_ratio]

plt.figure(figsize=(8, 6))
plt.bar(labels, values, color=['skyblue', 'lightgreen'])
plt.title('프리미엄 사용자, 커뮤니티 참여도 5, 중단된 학습 세션 3 이상인 사람들의 Target 0과 Target 1 비율', fontsize=16)
plt.ylabel('비율 (%)', fontsize=12)
plt.xlabel('Target 값', fontsize=12)

for i, v in enumerate(values):
    plt.text(i, v + 1, f'{v:.2f}%', ha='center', fontsize=10)

plt.tight_layout()
plt.show()





# recent_learning_ achievement 75이상 추가
premium_community_5_achievement_sessions_data = access_data[(access_data['subscription_type'] == 'Premium') & (access_data['community_engagement_level'] == 5) & (access_data['recent_learning_achievement'] >= 75)]

target_counts = premium_community_5_achievement_sessions_data['target'].value_counts()
total_count = target_counts.sum()

if total_count > 0:
    target_0_ratio = target_counts.get(0, 0) / total_count * 100
    target_1_ratio = target_counts.get(1, 0) / total_count * 100
else:
    target_0_ratio = target_1_ratio = 0

labels = ['Target 0', 'Target 1']
values = [target_0_ratio, target_1_ratio]

plt.figure(figsize=(8, 6))
plt.bar(labels, values, color=['skyblue', 'lightgreen'])
plt.title('프리미엄 사용자, 커뮤니티 참여도 5, 학습성취도 75 이상인 사람들의 Target 0과 Target 1 비율', fontsize=16)
plt.ylabel('비율 (%)', fontsize=12)
plt.xlabel('Target 값', fontsize=12)

for i, v in enumerate(values):
    plt.text(i, v + 1, f'{v:.2f}%', ha='center', fontsize=10)

plt.tight_layout()
plt.show()


# recent_learning_ achievement 100이상 추가
premium_community_5_achievement_sessions_data = access_data[(access_data['subscription_type'] == 'Premium') & (access_data['community_engagement_level'] == 5) & (access_data['recent_learning_achievement'] >= 100)]

target_counts = premium_community_5_achievement_sessions_data['target'].value_counts()
total_count = target_counts.sum()

if total_count > 0:
    target_0_ratio = target_counts.get(0, 0) / total_count * 100
    target_1_ratio = target_counts.get(1, 0) / total_count * 100
else:
    target_0_ratio = target_1_ratio = 0

labels = ['Target 0', 'Target 1']
values = [target_0_ratio, target_1_ratio]

plt.figure(figsize=(8, 6))
plt.bar(labels, values, color=['skyblue', 'lightgreen'])
plt.title('프리미엄 사용자, 커뮤니티 참여도 5, 학습성취도 100 이상인 사람들의 Target 0과 Target 1 비율', fontsize=16)
plt.ylabel('비율 (%)', fontsize=12)
plt.xlabel('Target 값', fontsize=12)

for i, v in enumerate(values):
    plt.text(i, v + 1, f'{v:.2f}%', ha='center', fontsize=10)

plt.tight_layout












