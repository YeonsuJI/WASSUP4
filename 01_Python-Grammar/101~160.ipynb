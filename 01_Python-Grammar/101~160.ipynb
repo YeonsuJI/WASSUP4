{
 "cells": [
  {
   "cell_type": "code",
   "execution_count": null,
   "id": "5ced89bb-c884-49e0-a9c7-006e4e42a2ca",
   "metadata": {},
   "outputs": [],
   "source": [
    "# 101\n",
    "# 파이썬에서 True 혹은 False를 갖는 데이터 타입은 무엇인가?\n",
    "\n",
    "#답: 불린 (논리형) "
   ]
  },
  {
   "cell_type": "code",
   "execution_count": 1,
   "id": "877240f2-e8d1-4035-9046-08849d7be4ab",
   "metadata": {},
   "outputs": [
    {
     "name": "stdout",
     "output_type": "stream",
     "text": [
      "False\n"
     ]
    }
   ],
   "source": [
    "# 102\n",
    "# 아래 코드의 출력 결과를 예상하라\n",
    "\n",
    "print(3 == 5)\n",
    "# 거짓"
   ]
  },
  {
   "cell_type": "code",
   "execution_count": 3,
   "id": "3c6c4c1c-d26b-41b2-a4ca-929049743a40",
   "metadata": {},
   "outputs": [
    {
     "name": "stdout",
     "output_type": "stream",
     "text": [
      "True\n"
     ]
    }
   ],
   "source": [
    "# 103\n",
    "# 아래 코드의 출력 결과를 예상하라\n",
    "\n",
    "print(3 < 5)\n",
    "# 참"
   ]
  },
  {
   "cell_type": "code",
   "execution_count": 7,
   "id": "d9e16ddf-c392-465c-a1f0-8706be4b7bae",
   "metadata": {},
   "outputs": [
    {
     "name": "stdout",
     "output_type": "stream",
     "text": [
      "True\n"
     ]
    }
   ],
   "source": [
    "# 104\n",
    "# 아래 코드의 결과를 예상하라.\n",
    "\n",
    "x = 4\n",
    "print(1 < x < 5)\n",
    "# 참"
   ]
  },
  {
   "cell_type": "code",
   "execution_count": 9,
   "id": "78ff7368-9321-41d0-8ba9-c694b26389b9",
   "metadata": {},
   "outputs": [
    {
     "name": "stdout",
     "output_type": "stream",
     "text": [
      "True\n"
     ]
    }
   ],
   "source": [
    "# 105\n",
    "# 아래 코드의 결과를 예상하라.\n",
    "\n",
    "print ((3 == 3) and (4 != 3))\n",
    "# 참"
   ]
  },
  {
   "cell_type": "code",
   "execution_count": 15,
   "id": "421623b1-0212-4db4-ad53-44cb12d3cc4e",
   "metadata": {},
   "outputs": [
    {
     "ename": "SyntaxError",
     "evalue": "expression cannot contain assignment, perhaps you meant \"==\"? (1554253385.py, line 4)",
     "output_type": "error",
     "traceback": [
      "\u001b[1;36m  Cell \u001b[1;32mIn[15], line 4\u001b[1;36m\u001b[0m\n\u001b[1;33m    print(3 => 4)\u001b[0m\n\u001b[1;37m          ^\u001b[0m\n\u001b[1;31mSyntaxError\u001b[0m\u001b[1;31m:\u001b[0m expression cannot contain assignment, perhaps you meant \"==\"?\n"
     ]
    }
   ],
   "source": [
    "# 106\n",
    "# 아래 코드에서 에러가 발생하는 원인에 대해 설명하라.\n",
    "\n",
    "print(3 => 4)\n",
    "# 부등호의 위치가 잘못됨"
   ]
  },
  {
   "cell_type": "code",
   "execution_count": 19,
   "id": "f4bb3a2e-66d2-4020-bb50-42f8e4cb58af",
   "metadata": {},
   "outputs": [],
   "source": [
    "# 107\n",
    "# 아래 코드의 출력 결과를 예상하라\n",
    "\n",
    "if 4 < 3:\n",
    "    print(\"Hello World\")\n",
    "    # 거짓이라서 출력이 안됨"
   ]
  },
  {
   "cell_type": "code",
   "execution_count": 23,
   "id": "181a7733-f2e3-4bc5-bf1c-5d829d1b979d",
   "metadata": {},
   "outputs": [
    {
     "name": "stdout",
     "output_type": "stream",
     "text": [
      "Hi, there.\n"
     ]
    }
   ],
   "source": [
    "# 108\n",
    "# 아래 코드의 출력 결과를 예상하라\n",
    "\n",
    "if 4 < 3:\n",
    "    print(\"Hello World.\")\n",
    "else:\n",
    "    print(\"Hi, there.\")\n",
    "    # Hi, there."
   ]
  },
  {
   "cell_type": "code",
   "execution_count": 25,
   "id": "e9c50b1e-8ad7-4ec3-90b4-31456596cddb",
   "metadata": {},
   "outputs": [
    {
     "name": "stdout",
     "output_type": "stream",
     "text": [
      "1\n",
      "2\n",
      "4\n"
     ]
    }
   ],
   "source": [
    "# 109\n",
    "# 아래 코드의 출력 결과를 예상하라\n",
    "\n",
    "if True :\n",
    "    print (\"1\")\n",
    "    print (\"2\")\n",
    "else :\n",
    "    print(\"3\")\n",
    "print(\"4\")\n",
    "# 1 \n",
    "# 2 \n",
    "# 4"
   ]
  },
  {
   "cell_type": "code",
   "execution_count": 29,
   "id": "9855c47b-1053-4b92-9ea6-38b7f2085947",
   "metadata": {},
   "outputs": [
    {
     "name": "stdout",
     "output_type": "stream",
     "text": [
      "3\n",
      "5\n"
     ]
    }
   ],
   "source": [
    "# 110\n",
    "# 아래 코드의 출력 결과를 예상하라\n",
    "\n",
    "if True :\n",
    "    if False:\n",
    "        print(\"1\")\n",
    "        print(\"2\")\n",
    "    else:\n",
    "        print(\"3\")\n",
    "else :\n",
    "    print(\"4\")\n",
    "print(\"5\")\n",
    "#3\n",
    "#5"
   ]
  },
  {
   "cell_type": "code",
   "execution_count": 38,
   "id": "2a077f47-07dd-4b60-93be-c2550d449178",
   "metadata": {},
   "outputs": [
    {
     "name": "stdin",
     "output_type": "stream",
     "text": [
      " 안녕하세요\n"
     ]
    },
    {
     "name": "stdout",
     "output_type": "stream",
     "text": [
      "안녕하세요안녕하세요\n"
     ]
    }
   ],
   "source": [
    "# 111\n",
    "# 사용자로부터 입력받은 문자열을 두 번 출력하라. \n",
    "# 아래는 사용자가 \"안녕하세요\"를 입력한 경우의 출력 결과이다.\n",
    "\n",
    "# >> 안녕하세요\n",
    "# 안녕하세요안녕하세요\n",
    "\n",
    "print(input()*2)"
   ]
  },
  {
   "cell_type": "code",
   "execution_count": 49,
   "id": "b216adde-31b9-43a5-8a95-3009410d0009",
   "metadata": {},
   "outputs": [
    {
     "name": "stdin",
     "output_type": "stream",
     "text": [
      "숫자를 입력하세요: 30\n"
     ]
    },
    {
     "name": "stdout",
     "output_type": "stream",
     "text": [
      "40\n"
     ]
    }
   ],
   "source": [
    "# 112\n",
    "# 사용자로부터 하나의 숫자를 입력받고, 입력 받은 숫자에 10을 더해 출력하라.\n",
    "\n",
    "# >> 숫자를 입력하세요: 30\n",
    "# 40\n",
    "\n",
    "print( int(input('숫자를 입력하세요:'))+10)"
   ]
  },
  {
   "cell_type": "code",
   "execution_count": 57,
   "id": "9bafec0f-f90d-40a9-b683-fa031490c13b",
   "metadata": {},
   "outputs": [
    {
     "name": "stdin",
     "output_type": "stream",
     "text": [
      " 30\n"
     ]
    },
    {
     "name": "stdout",
     "output_type": "stream",
     "text": [
      "짝수\n"
     ]
    }
   ],
   "source": [
    "# 113\n",
    "# 사용자로부터 하나의 숫자를 입력 받고 짝수/홀수를 판별하라.\n",
    "\n",
    "# >> 30\n",
    "# 짝수\n",
    "a = int(input()) \n",
    "if a%2 == 0 :\n",
    "    print(\"짝수\")\n",
    "else:\n",
    "    print(\"홀수\")"
   ]
  },
  {
   "cell_type": "code",
   "execution_count": 77,
   "id": "234d5ca3-d3f7-4632-880f-589bf9cbf2ab",
   "metadata": {},
   "outputs": [
    {
     "name": "stdin",
     "output_type": "stream",
     "text": [
      "입력값: 240\n"
     ]
    },
    {
     "name": "stdout",
     "output_type": "stream",
     "text": [
      "출력값: 255\n"
     ]
    }
   ],
   "source": [
    "# 114\n",
    "# 사용자로부터 값을 입력받은 후 해당 값에 20을 더한 값을 출력하라. 단 사용자가 입력한 값과 20을 더한 계산 값이 255를 초과하는 경우 255를 출력해야 한다.\n",
    "\n",
    "# >> 입력값: 200\n",
    "# 출력값: 220\n",
    "# >> 입력값: 240\n",
    "# 출력값: 255\n",
    "\n",
    "a= int(input(\"입력값:\"))\n",
    "if a+20 >255:\n",
    "    print(\"출력값:\",255)\n",
    "else:\n",
    "    print(\"출력값:\", a+20)"
   ]
  },
  {
   "cell_type": "code",
   "execution_count": 83,
   "id": "ce368177-ade1-44c7-9796-a8e67d558817",
   "metadata": {},
   "outputs": [
    {
     "name": "stdin",
     "output_type": "stream",
     "text": [
      "입력값: 15\n"
     ]
    },
    {
     "name": "stdout",
     "output_type": "stream",
     "text": [
      "출력값: 0\n"
     ]
    }
   ],
   "source": [
    "# 115\n",
    "# 사용자로부터 하나의 값을 입력받은 후 해당 값에 20을 뺀 값을 출력하라. 단 출력 값의 범위는 0~255이다. 예를 들어 결괏값이 0보다 작은 값이되는 경우 0을 출력하고 255보다 큰 값이 되는 경우 255를 출력해야 한다.\n",
    "\n",
    "# >> 입력값: 200\n",
    "# 출력값: 180\n",
    "# >> 입력값: 15\n",
    "# 출력값: 0\n",
    "\n",
    "a= int(input(\"입력값:\"))\n",
    "if a-20 >255:\n",
    "    print(\"출력값:\",255)\n",
    "elif a-20<=0:\n",
    "    print(\"출력값:\",0)\n",
    "else:\n",
    "    print(\"출력값:\",a-20)"
   ]
  },
  {
   "cell_type": "code",
   "execution_count": 99,
   "id": "d531b22e-21ee-4448-ac3b-2868303f1baf",
   "metadata": {},
   "outputs": [
    {
     "name": "stdin",
     "output_type": "stream",
     "text": [
      "현재시간: 03:10\n"
     ]
    },
    {
     "name": "stdout",
     "output_type": "stream",
     "text": [
      "정각이 아닙니다\n"
     ]
    }
   ],
   "source": [
    "# 116\n",
    "# 사용자로부터 입력 받은 시간이 정각인지 판별하라.\n",
    "\n",
    "# >> 현재시간:02:00\n",
    "# 정각 입니다.\n",
    "# >> 현재시간:03:10\n",
    "# 정각이 아닙니다\n",
    "a= input(\"현재시간:\")\n",
    "if a[3:5] ==\"00\":\n",
    "    print(\"정각입니다\")\n",
    "else :\n",
    "    print(\"정각이 아닙니다\")"
   ]
  },
  {
   "cell_type": "code",
   "execution_count": 114,
   "id": "5388251a-0317-420f-ac3c-366166a4d17f",
   "metadata": {},
   "outputs": [
    {
     "name": "stdin",
     "output_type": "stream",
     "text": [
      "좋아하는 과일은? 홍시\n"
     ]
    },
    {
     "name": "stdout",
     "output_type": "stream",
     "text": [
      "정답입니다\n"
     ]
    }
   ],
   "source": [
    "# 117\n",
    "# 사용자로 입력받은 단어가 아래 fruit 리스트에 포함되어 있는지를 확인하라. 포함되었다면 \"정답입니다\"를 아닐 경우 \"오답입니다\" 출력하라.\n",
    "\n",
    "# fruit = [\"사과\", \"포도\", \"홍시\"]\n",
    "# >> 좋아하는 과일은? 사과\n",
    "# 정답입니다.\n",
    "fruit = [\"사과\", \"포도\", \"홍시\"]\n",
    "if input(\"좋아하는 과일은?\") in fruit:\n",
    "    print(\"정답입니다\")\n",
    "else:\n",
    "    print(\"오답입니다\")"
   ]
  },
  {
   "cell_type": "code",
   "execution_count": 122,
   "id": "2eb33ef6-16b0-4579-8ccc-04e8aa3dc29f",
   "metadata": {},
   "outputs": [
    {
     "name": "stdin",
     "output_type": "stream",
     "text": [
      " sk\n"
     ]
    },
    {
     "name": "stdout",
     "output_type": "stream",
     "text": [
      "투자 경고 종목이 아닙니다\n"
     ]
    }
   ],
   "source": [
    "# 118\n",
    "# 투자 경고 종목 리스트가 있을 때 사용자로부터 종목명을 입력 받은 후 해당 종목이 투자 경고 종목이라면 '투자 경고 종목입니다'를 아니면 \"투자 경고 종목이 아닙니다.\"를 출력하는 프로그램을 작성하라.\n",
    "\n",
    "warn_investment_list = [\"Microsoft\", \"Google\", \"Naver\", \"Kakao\", \"SAMSUNG\", \"LG\"]\n",
    "if input() in warn_investment_list:\n",
    "    print(\"투자 경고 종목입니다\")\n",
    "else:\n",
    "    print(\"투자 경고 종목이 아닙니다\")\n"
   ]
  },
  {
   "cell_type": "code",
   "execution_count": 158,
   "id": "084d88d2-d6f9-41b3-bc21-a6d9a1b61d54",
   "metadata": {},
   "outputs": [
    {
     "name": "stdin",
     "output_type": "stream",
     "text": [
      "제가 좋아하는 계절은 :  여름\n"
     ]
    },
    {
     "name": "stdout",
     "output_type": "stream",
     "text": [
      "정답입니다\n"
     ]
    }
   ],
   "source": [
    "# 119\n",
    "# 아래와 같이 fruit 딕셔너리가 정의되어 있다. 사용자가 입력한 값이 딕셔너리 키 (key) 값에 포함되었다면 \"정답입니다\"를 아닐 경우 \"오답입니다\" 출력하라.\n",
    "\n",
    "# fruit = {\"봄\" : \"딸기\", \"여름\" : \"토마토\", \"가을\" : \"사과\"}\n",
    "# >> 제가좋아하는계절은: 봄\n",
    "# 정답입니다.\n",
    "fruit = {\"봄\" : \"딸기\", \"여름\" : \"토마토\", \"가을\" : \"사과\"}\n",
    "if input(\"제가 좋아하는 계절은 : \") in fruit.keys():\n",
    "    print(\"정답입니다\")\n",
    "else:\n",
    "    print(\"오답입니다\")"
   ]
  },
  {
   "cell_type": "code",
   "execution_count": 164,
   "id": "9f1add64-e75f-4cf6-ab9c-62539edeb298",
   "metadata": {},
   "outputs": [
    {
     "name": "stdin",
     "output_type": "stream",
     "text": [
      "좋아하는 과일은? 토마토\n"
     ]
    },
    {
     "name": "stdout",
     "output_type": "stream",
     "text": [
      "정답입니다\n"
     ]
    }
   ],
   "source": [
    "# 120\n",
    "# 아래와 같이 fruit 딕셔너리가 정의되어 있다. 사용자가 입력한 값이 딕셔너리 값 (value)에 포함되었다면 \"정답입니다\"를 아닐 경우 \"오답입니다\" 출력하라.\n",
    "\n",
    "# fruit = {\"봄\" : \"딸기\", \"여름\" : \"토마토\", \"가을\" : \"사과\"}\n",
    "# >> 좋아하는과일은? 한라봉\n",
    "# 오답입니다.\n",
    "fruit = {\"봄\" : \"딸기\", \"여름\" : \"토마토\", \"가을\" : \"사과\"}\n",
    "if input(\"좋아하는 과일은?\") in fruit.values():\n",
    "    print(\"정답입니다\")\n",
    "else:\n",
    "    print(\"오답입니다\")"
   ]
  },
  {
   "cell_type": "code",
   "execution_count": 4,
   "id": "5c645c49-30a4-4fc3-bb76-b6a70897087a",
   "metadata": {},
   "outputs": [
    {
     "name": "stdin",
     "output_type": "stream",
     "text": [
      " a\n"
     ]
    },
    {
     "name": "stdout",
     "output_type": "stream",
     "text": [
      "A\n"
     ]
    }
   ],
   "source": [
    "# 121\n",
    "# 사용자로부터 문자 한 개를 입력 받고, 소문자일 경우 대문자로, 대문자 일 경우, 소문자로 변경해서 출력하라.\n",
    "\n",
    "# >> a\n",
    "# A\n",
    "\n",
    "a = input()\n",
    "print(a.upper())"
   ]
  },
  {
   "cell_type": "code",
   "execution_count": 100,
   "id": "288c92b8-76b2-4dc5-b941-1cc961dcdbf3",
   "metadata": {},
   "outputs": [
    {
     "name": "stdin",
     "output_type": "stream",
     "text": [
      " 81\n"
     ]
    },
    {
     "name": "stdout",
     "output_type": "stream",
     "text": [
      "grade is A\n"
     ]
    }
   ],
   "source": [
    "# 122\n",
    "# 점수 구간에 해당하는 학점이 아래와 같이 정의되어 있다. 사용자로부터 score를 입력받아 학점을 출력하라.\n",
    "\n",
    "# 점수\t학점\n",
    "# 81~100 A\n",
    "# 61~80\tB\n",
    "# 41~60\tC\n",
    "# 21~40\tD\n",
    "# 0~20\tE\n",
    "# >> score: 83\n",
    "# grade is A\n",
    "a = int(input())\n",
    "if a >= 81 and a <=100:\n",
    "    print(\"grade is A\")\n",
    "elif a >= 61 and a <=80:\n",
    "    print(\"grade is B\")\n",
    "elif a >= 41 and a <=60:\n",
    "    print(\"grade is C\")\n",
    "elif a >= 21 and a <=40:\n",
    "    print(\"grade is D\")\n",
    "else:\n",
    "    print(\"grade is E\")"
   ]
  },
  {
   "cell_type": "code",
   "execution_count": 48,
   "id": "46f31e2a-c406-4da9-a1f7-09864be7e9a5",
   "metadata": {},
   "outputs": [
    {
     "name": "stdin",
     "output_type": "stream",
     "text": [
      "입력: 100 위안\n"
     ]
    },
    {
     "name": "stdout",
     "output_type": "stream",
     "text": [
      "17100 원\n"
     ]
    }
   ],
   "source": [
    "# 123\n",
    "# 사용자로부터 달러, 엔, 유로, 또는 위안 금액을 입력받은 후 이를 원으로 변환하는 프로그램을 작성하라. \n",
    "# 각 통화별 환율은 다음과 같다. 사용자는 100 달러, 1000 엔, 13 유로, 100 위안과 같이 금액과 통화명 사이에 공백을 넣어 입력한다고 가정한다.\n",
    "\n",
    "# 통화명\t환율\n",
    "# 달러\t1167\n",
    "# 엔\t1.096\n",
    "# 유로\t1268\n",
    "# 위안\t171\n",
    "# >> 입력: 100 달러\n",
    "# 116700.00 원\n",
    "\n",
    "환율 = {\"달러\" : 1167, \"엔\" : 1.096, \"유로\" : 1268, \"위안\" : 171}\n",
    "a = input(\"입력:\").split()\n",
    "l = int(a[0])\n",
    "w = a[1]\n",
    "c = 환율.get(w)\n",
    "\n",
    "print(l*c,\"원\")"
   ]
  },
  {
   "cell_type": "code",
   "execution_count": 70,
   "id": "55899ae9-bb62-42ef-ba1d-669e4a752ac3",
   "metadata": {},
   "outputs": [
    {
     "name": "stdin",
     "output_type": "stream",
     "text": [
      "number: 80\n",
      "number: 100\n",
      "number: 10\n"
     ]
    },
    {
     "name": "stdout",
     "output_type": "stream",
     "text": [
      "100\n"
     ]
    }
   ],
   "source": [
    "# 124\n",
    "# 사용자로부터 세 개의 숫자를 입력 받은 후 가장 큰 숫자를 출력하라.\n",
    "\n",
    "# >> input number1: 10\n",
    "# >> input number2: 9\n",
    "# >> input number3: 20\n",
    "# 20\n",
    "a = int(input(\"number:\"))\n",
    "b = int(input(\"number:\"))\n",
    "c = int(input(\"number:\"))\n",
    "if a > b and a>c:\n",
    "    print(a)\n",
    "elif b > a and b>c:\n",
    "    print(b)\n",
    "else :\n",
    "    print(c)"
   ]
  },
  {
   "cell_type": "code",
   "execution_count": 327,
   "id": "a4c9d824-fb37-4f08-98d1-676ee4119660",
   "metadata": {},
   "outputs": [
    {
     "name": "stdin",
     "output_type": "stream",
     "text": [
      "휴대전화 번호 입력: 010-345-1922\n"
     ]
    },
    {
     "name": "stdout",
     "output_type": "stream",
     "text": [
      "당신은 알수없음 사용자입니다.\n"
     ]
    }
   ],
   "source": [
    "# 125\n",
    "# 휴대폰 번호 앞자리에 따라 통신사는 아래와 같이 구분된다. 사용자로부터 휴대전화 번호를 입력 받고, 통신사를 출력하는 프로그램을 작성하라.\n",
    "\n",
    "# 번호\t통신사\n",
    "# 011\tSKT\n",
    "# 016\tKT\n",
    "# 019\tLGU\n",
    "# 010\t알수없음\n",
    "# >> 휴대전화 번호 입력: 011-345-1922\n",
    "# 당신은 SKT 사용자입니다.\n",
    "a = {\"011\" : \"SKT\" , \"016\" : \"KT\", \"019\" : \"LGU\", \"010\" : \"알수없음\"}\n",
    "b = input(\"휴대전화 번호 입력:\")\n",
    "c = b.split(\"-\")\n",
    "d = c[0]\n",
    "\n",
    "if d == \"011\":\n",
    "    com = \"SKT\"\n",
    "elif d == \"016\":\n",
    "    com = \"KT\"\n",
    "elif d == \"019\":\n",
    "    com = \"LGU\"\n",
    "elif d == \"010\":\n",
    "    com = \"알수없음\"\n",
    "print(f\"당신은 {com} 사용자입니다.\")"
   ]
  },
  {
   "cell_type": "code",
   "execution_count": 114,
   "id": "80135d29-010d-4377-89f4-5e0b500ce596",
   "metadata": {},
   "outputs": [
    {
     "name": "stdin",
     "output_type": "stream",
     "text": [
      "우편번호:  01900\n"
     ]
    },
    {
     "name": "stdout",
     "output_type": "stream",
     "text": [
      "노원구\n"
     ]
    }
   ],
   "source": [
    "# 126\n",
    "# 우편번호는 5자리로 구성되는데, 앞의 세자리는 구를 나타낸다. 예를들어, 강북구의 경우 010, 011, 012 세 자리로 시작한다.\n",
    "\n",
    "# -      0\t      1\t       2\t    3\t    4\t    5\t    6\t   7\t   8\t  9\n",
    "# 01\t강북구\t강북구\t강북구\t도봉구\t도봉구\t도봉구\t노원구\t노원구\t노원구\t노원구\n",
    "# 사용자로 부터 5자리 우편번호를 입력받고 구를 판별하라\n",
    "\n",
    "# >> 우편번호: 01400\n",
    "# 도봉구\n",
    "\n",
    "a = input(\"우편번호: \")\n",
    "b = a[:3]\n",
    "if b == \"010\" or b == \"011\" or b == \"012\":\n",
    "    print(\"강북구\")\n",
    "elif b == \"013\" or b == \"014\" or b == \"015\":\n",
    "    print(\"도봉구\")\n",
    "elif b == \"016\" or b == \"017\" or b == \"018\" or b ==\"019\":\n",
    "    print(\"노원구\")"
   ]
  },
  {
   "cell_type": "code",
   "execution_count": 120,
   "id": "28a8b127-7675-42c8-b70e-23095924dbbe",
   "metadata": {},
   "outputs": [
    {
     "name": "stdin",
     "output_type": "stream",
     "text": [
      "주민등록번호: 970116-2548784\n"
     ]
    },
    {
     "name": "stdout",
     "output_type": "stream",
     "text": [
      "여자\n"
     ]
    }
   ],
   "source": [
    "# 127\n",
    "# 주민등록번호 뒷 자리 7자리 중 첫째 자리는 성별을 나타내는데, 1, 3은 남자 2, 4는 여자를 의미한다. \n",
    "# 사용자로부터 13자리의 주민등록번호를 입력 받은 후 성별 (남자, 여자)를 출력하는 프로그램을 작성하라.\n",
    "\n",
    "# >> 주민등록번호: 821010-1635210\n",
    "# 남자\n",
    "a = input(\"주민등록번호:\")\n",
    "b = int(a[7])\n",
    "if b == 1 or b == 3:\n",
    "    print(\"남자\")\n",
    "elif  b == 2 or b== 4:\n",
    "    print(\"여자\")"
   ]
  },
  {
   "cell_type": "code",
   "execution_count": 136,
   "id": "76de0a2f-3d49-4fb3-9c9b-48c7d99799ed",
   "metadata": {},
   "outputs": [
    {
     "name": "stdin",
     "output_type": "stream",
     "text": [
      "주민등록번호: 821010-1635210\n"
     ]
    },
    {
     "name": "stdout",
     "output_type": "stream",
     "text": [
      "지방\n"
     ]
    }
   ],
   "source": [
    "# 128\n",
    "# 주민등록번호의 뒷 자리 7자리 중 두번째와 세번째는 지역코드를 의미한다. 주민 등록 번호를 입력 받은 후 출생지가 서울인지 아닌지 판단하는 코드를 작성하라\n",
    "\n",
    "# 지역코드\t출생지\n",
    "# 00 ~ 08\t서울\n",
    "# 09 ~ 12\t부산\n",
    "# >> 주민등록번호: 821010-1635210\n",
    "# 서울이 아닙니다.\n",
    "# >> 주민등록번호: 861010-1015210\n",
    "# 서울 입니다.\n",
    "a = input(\"주민등록번호:\")\n",
    "b = a[8:10]\n",
    "c = int(a[8:10])\n",
    "# b1 = [\"00\", \"01\",\"02\",\"03\",\"04\",\"05\",\"06\",\"07\",\"08\"]\n",
    "# if b in b1:\n",
    "#     print(\"서울 입니다\")\n",
    "# else :\n",
    "#     print(\"서울이 아닙니다\")\n",
    "if c >=0 and c <9:\n",
    "    print(\"서울\")\n",
    "else:\n",
    "    print(\"지방\")"
   ]
  },
  {
   "cell_type": "code",
   "execution_count": 146,
   "id": "a3f7dbec-0951-4768-bd32-c3bcabd8caf6",
   "metadata": {},
   "outputs": [
    {
     "name": "stdin",
     "output_type": "stream",
     "text": [
      "주민등록번호: 821010-1635210\n"
     ]
    },
    {
     "name": "stdout",
     "output_type": "stream",
     "text": [
      "유효하지 않은 주민등록번호입니다.\n"
     ]
    }
   ],
   "source": [
    "# 129\n",
    "# 주민등록번호는 13자리로 구성되는데 마지막 자리수는 주민등록번호의 유효성을 체크하는데 사용된다. \n",
    "# 먼저 앞에서부터 12자리의 숫자에 2, 3, 4, 5, 6, 7, 8, 9, 2, 3, 4, 5를 차례로 곱한 뒤 그 값을 전부 더한다. \n",
    "# 연산 결과 값을 11로 나누면 나머지가 나오는데 11에서 나머지를 뺀 값이 주민등록번호의 마지막 번호가 된다.\n",
    "\n",
    "#   8 2 1 0 1 0 - 1 6 3 5 2 1 0\n",
    "# x 2 3 4 5 6 7   8 9 2 3 4 5 \n",
    "# -----------------------------\n",
    "# 1차 계산: (8*2 + 2*3 + 1*4 + 0*5 + 1*6 + 0*7 + 1*8 + 6*9 + 3*2 + 5*3 + 2*4 + 1*5) = (128 % 11) = 7\n",
    "# 2차 계산: 11 -7 = 4\n",
    "# 위와 같이 821010-1635210에 대해서 계산을 해보면 마지막 자리는 4가 되어야 함을 알 수 있다. 즉, 821010-1635210은 유효하지 않은 주민등록번호임을 알 수 있다.\n",
    "\n",
    "# 다음과 같이 사용자로부터 주민등록번호를 입력받은 후 주민등록번호가 유효한지를 출력하는 프로그램을 작성하라.\n",
    "\n",
    "# >> 주민등록번호: 821010-1635210\n",
    "# 유효하지 않은 주민등록번호입니다. \n",
    "\n",
    "a = input(\"주민등록번호:\")\n",
    "b = int(a[0])*2 + int(a[1])*3 + int(a[2])*4 + int(a[3])*5 + int(a[4])*6 + int(a[5])*7 + int(a[7])*8 + int(a[8])*9 + int(a[9])*2 + int(a[10])*3 + int(a[11])*4 + int(a[12])*5\n",
    "c = b%11\n",
    "d = 11 - c # 계산2\n",
    "e = str(d)\n",
    "if e == a[-1]:\n",
    "    print(\"유효한 주민등록번호입니다\")\n",
    "else :\n",
    "    print(\"유효하지 않은 주민등록번호입니다.\")"
   ]
  },
  {
   "cell_type": "code",
   "execution_count": 166,
   "id": "ace9babe-bbaa-4137-a4ff-e35ce988e6e3",
   "metadata": {},
   "outputs": [
    {
     "name": "stdout",
     "output_type": "stream",
     "text": [
      "상승장\n"
     ]
    }
   ],
   "source": [
    "# 130\n",
    "# 아래 코드는 비트코인의 가격 정보를 딕셔너리로 가져오는 코드이다.\n",
    "\n",
    "import requests\n",
    "btc = requests.get(\"https://api.bithumb.com/public/ticker/\").json()['data']\n",
    "# btc 딕셔너리 안에는 시가, 종가, 최고가, 최저가 등이 저장되어 있다. 최고가와 최저가의 차이를 변동폭으로 정의할 때 (시가 + 변동폭)이 최고가 보다 높을 경우 \"상승장\", 그렇지 않은 경우 \"하락장\" 문자열을 출력하라.\n",
    "\n",
    "# Key Name\tDescription\n",
    "# opening_price\t최근 24시간 내 시작 거래금액\n",
    "# closing_price\t최근 24시간 내 마지막 거래금액\n",
    "# min_price\t최근 24시간 내 최저 거래금액\n",
    "# max_price\t최근 24시간 내 최고 거래금액\n",
    "a = float(btc['opening_price']) # 시가\n",
    "b = float(btc['max_price']) - float(btc['min_price']) #변동폭\n",
    "c = a + b\n",
    "if c >float(btc['max_price']):\n",
    "    print(\"상승장\")\n",
    "else:\n",
    "    print(\"하락장\")"
   ]
  },
  {
   "cell_type": "code",
   "execution_count": 170,
   "id": "04e71fd8-21b8-469e-83d3-5471c7099ac5",
   "metadata": {},
   "outputs": [
    {
     "name": "stdout",
     "output_type": "stream",
     "text": [
      "사과\n",
      "귤\n",
      "수박\n"
     ]
    }
   ],
   "source": [
    "# 131\n",
    "# for문의 실행결과를 예측하라.\n",
    "\n",
    "과일 = [\"사과\", \"귤\", \"수박\"]\n",
    "for 변수 in 과일:\n",
    "    print(변수)\n",
    "# 예측 답 : 사과 귤 수박"
   ]
  },
  {
   "cell_type": "code",
   "execution_count": 174,
   "id": "9508905f-b584-4d72-a2b8-27f5266a9c6b",
   "metadata": {},
   "outputs": [
    {
     "name": "stdout",
     "output_type": "stream",
     "text": [
      "#####\n",
      "#####\n",
      "#####\n"
     ]
    }
   ],
   "source": [
    "# 132\n",
    "# for문의 실행결과를 예측하라.\n",
    "\n",
    "과일 = [\"사과\", \"귤\", \"수박\"]\n",
    "for 변수 in 과일:\n",
    "    print(\"#####\")\n",
    "    # 예측 답: ##### ##### #####"
   ]
  },
  {
   "cell_type": "code",
   "execution_count": 178,
   "id": "309e0759-330a-4114-85e1-f6ce4a7459de",
   "metadata": {},
   "outputs": [
    {
     "name": "stdout",
     "output_type": "stream",
     "text": [
      "A\n",
      "B\n",
      "C\n"
     ]
    }
   ],
   "source": [
    "# 133\n",
    "# 다음 for 문과 동일한 기능을 수행하는 코드를 작성하세요.\n",
    "\n",
    "#for 변수 in [\"A\", \"B\", \"C\"]:\n",
    " #   print(변수)\n",
    "변수 = 'A'\n",
    "print(변수)\n",
    "변수 = 'B'\n",
    "print(변수)\n",
    "변수 = 'C'\n",
    "print(변수)"
   ]
  },
  {
   "cell_type": "code",
   "execution_count": 180,
   "id": "b472c35e-b309-440d-aadc-93437c6e1600",
   "metadata": {},
   "outputs": [
    {
     "name": "stdout",
     "output_type": "stream",
     "text": [
      "출력: A\n",
      "출력: B\n",
      "출력: C\n"
     ]
    }
   ],
   "source": [
    "# 134\n",
    "# for문을 풀어서 동일한 동작을하는 코드를 작성하라.\n",
    "\n",
    "# for 변수 in [\"A\", \"B\", \"C\"]:\n",
    "#   print(\"출력:\", 변수)\n",
    "변수 = 'A'\n",
    "print(\"출력:\",변수)\n",
    "변수 = 'B'\n",
    "print(\"출력:\",변수)\n",
    "변수 = 'C'\n",
    "print(\"출력:\",변수)"
   ]
  },
  {
   "cell_type": "code",
   "execution_count": 184,
   "id": "c3af9b6c-b53d-4d1c-869c-1ddf187b00e8",
   "metadata": {},
   "outputs": [
    {
     "name": "stdout",
     "output_type": "stream",
     "text": [
      "출력: a\n",
      "출력: b\n",
      "출력: c\n"
     ]
    }
   ],
   "source": [
    "# 135\n",
    "# for문을 풀어서 동일한 동작을 하는 코드를 작성하라.\n",
    "\n",
    "# for 변수 in [\"A\", \"B\", \"C\"]:\n",
    "#   b = 변수.lower()\n",
    "#   print(\"변환:\", b)\n",
    "변수 = 'A'\n",
    "b = 변수.lower()\n",
    "print(\"출력:\",b)\n",
    "변수 = 'B'\n",
    "b = 변수.lower()\n",
    "print(\"출력:\",b)\n",
    "변수 = 'C'\n",
    "b = 변수.lower()\n",
    "print(\"출력:\",b)"
   ]
  },
  {
   "cell_type": "code",
   "execution_count": 186,
   "id": "3edfc532-a86c-40c6-b59b-3c16fc59a32a",
   "metadata": {},
   "outputs": [
    {
     "name": "stdout",
     "output_type": "stream",
     "text": [
      "10\n",
      "20\n",
      "30\n"
     ]
    }
   ],
   "source": [
    "# 136\n",
    "# 다음 코드를 for문으로 작성하라.\n",
    "\n",
    "# 변수 = 10\n",
    "# print(변수)\n",
    "# 변수 = 20\n",
    "# print(변수)\n",
    "# 변수 = 30\n",
    "# print(변수)\n",
    "for 변수 in ['10', '20', '30']:\n",
    "    print(변수)\n"
   ]
  },
  {
   "cell_type": "code",
   "execution_count": 190,
   "id": "373d587b-84bc-4c52-8a22-b2db910c62b6",
   "metadata": {},
   "outputs": [
    {
     "name": "stdout",
     "output_type": "stream",
     "text": [
      "10\n",
      "20\n",
      "30\n"
     ]
    }
   ],
   "source": [
    "# 137\n",
    "# 다음 코드를 for문으로 작성하라.\n",
    "\n",
    "# print(10)\n",
    "# print(20)\n",
    "# print(30)\n",
    "for a in ['10', '20', '30']:\n",
    "    print(a)"
   ]
  },
  {
   "cell_type": "code",
   "execution_count": 198,
   "id": "521c2953-a10b-4fc9-997d-91203613dcbf",
   "metadata": {},
   "outputs": [
    {
     "name": "stdout",
     "output_type": "stream",
     "text": [
      "10\n",
      "-------\n",
      "20\n",
      "-------\n",
      "30\n",
      "-------\n"
     ]
    }
   ],
   "source": [
    "# 138\n",
    "# 다음 코드를 for문으로 작성하라.\n",
    "\n",
    "# print(10)\n",
    "# print(\"-------\")\n",
    "# print(20)\n",
    "# print(\"-------\")\n",
    "# print(30)\n",
    "# print(\"-------\")\n",
    "for a in ['10','20','30']:\n",
    "    print(a)\n",
    "    print(\"-------\")"
   ]
  },
  {
   "cell_type": "code",
   "execution_count": 202,
   "id": "1c4f822d-c6ed-49c5-8807-8bee867af741",
   "metadata": {},
   "outputs": [
    {
     "name": "stdout",
     "output_type": "stream",
     "text": [
      "\"++++\"\n",
      "10\n",
      "20\n",
      "30\n"
     ]
    }
   ],
   "source": [
    "# 139\n",
    "# 다음 코드를 for문으로 작성하라.\n",
    "\n",
    "# print(\"++++\")\n",
    "# print(10)\n",
    "# print(20)\n",
    "# print(30)\n",
    "\n",
    "for a in ['\"++++\"','10','20','30']:\n",
    "    print(a)\n",
    "\n",
    "# print(\"++++\")\n",
    "# for 변수 in [10, 20, 30]:\n",
    "#   print(변수)\n",
    "# `print(\"++++\")` 코드가 함정입니다. 파이썬 for문은 반복되는 코드에만 사용합니다."
   ]
  },
  {
   "cell_type": "code",
   "execution_count": 206,
   "id": "c4743b75-0c4c-45ee-8eff-d5bbb86bb367",
   "metadata": {},
   "outputs": [
    {
     "name": "stdout",
     "output_type": "stream",
     "text": [
      "-------\n",
      "-------\n",
      "-------\n",
      "-------\n"
     ]
    }
   ],
   "source": [
    "# 140\n",
    "# 다음 코드를 for문으로 작성하라.\n",
    "\n",
    "# print(\"-------\")\n",
    "# print(\"-------\")\n",
    "# print(\"-------\")\n",
    "# print(\"-------\")\n",
    "# for a in ['10','20','30','40']:\n",
    "#     print(\"-------\")\n",
    "for a in ['1','2','3','5']:\n",
    "    print(\"-------\")"
   ]
  },
  {
   "cell_type": "code",
   "execution_count": 224,
   "id": "fcb5bd49-6449-438a-868a-f6b206133af5",
   "metadata": {},
   "outputs": [
    {
     "name": "stdout",
     "output_type": "stream",
     "text": [
      "110\n",
      "210\n",
      "310\n"
     ]
    }
   ],
   "source": [
    "# 141\n",
    "# 다음과 같이 판매가가 저장된 리스트가 있을 때 부가세가 포함된 가격을 for 문을 사용해서 화면에 출력하라. 단 부가세는 10원으로 가정한다.\n",
    "\n",
    "# 리스트 = [100, 200, 300]\n",
    "# 110\n",
    "# 210\n",
    "# 310\n",
    "l1 = [100, 200, 300]\n",
    "\n",
    "for b in l1:\n",
    "    print(b + 10)\n"
   ]
  },
  {
   "cell_type": "code",
   "execution_count": 242,
   "id": "a8455ee9-3654-4fc0-85e7-45eb3b6ab23a",
   "metadata": {},
   "outputs": [
    {
     "name": "stdout",
     "output_type": "stream",
     "text": [
      "오늘의 메뉴: 김밥\n",
      "오늘의 메뉴: 라면\n",
      "오늘의 메뉴: 튀김\n"
     ]
    }
   ],
   "source": [
    "# 142\n",
    "# for 문을 사용해서 리스트에 저장된 값을 다음과 같이 출력하라.\n",
    "\n",
    "# 리스트 = [\"김밥\", \"라면\", \"튀김\"]\n",
    "# 오늘의 메뉴: 김밥\n",
    "# 오늘의 메뉴: 라면\n",
    "# 오늘의 메뉴: 튀김\n",
    "l1 = [\"김밥\", \"라면\", \"튀김\"]\n",
    "for m in l1:\n",
    "    print(\"오늘의 메뉴:\",m)"
   ]
  },
  {
   "cell_type": "code",
   "execution_count": 244,
   "id": "364f687b-6c68-4aaf-ba23-d27052096549",
   "metadata": {},
   "outputs": [
    {
     "name": "stdout",
     "output_type": "stream",
     "text": [
      "6\n",
      "4\n",
      "4\n"
     ]
    }
   ],
   "source": [
    "# 143\n",
    "# 리스트에 주식 종목이름이 저장돼 있다.\n",
    "\n",
    "# 리스트 = [\"SK하이닉스\", \"삼성전자\", \"LG전자\"]\n",
    "# 저장된 문자열의 길이를 다음과 같이 출력하라.\n",
    "\n",
    "# 6\n",
    "# 4\n",
    "# 4\n",
    "l1 = [\"SK하이닉스\", \"삼성전자\", \"LG전자\"]\n",
    "for c in l1:\n",
    "    print(len(c))"
   ]
  },
  {
   "cell_type": "code",
   "execution_count": 254,
   "id": "20cf2d9d-dc63-4b04-9c7f-698870bea362",
   "metadata": {},
   "outputs": [
    {
     "name": "stdout",
     "output_type": "stream",
     "text": [
      "dog 3\n",
      "cat 3\n",
      "parrot 6\n"
     ]
    }
   ],
   "source": [
    "# 144\n",
    "# 리스트에는 동물이름이 문자열로 저장돼 있다.\n",
    "\n",
    "# 리스트 = ['dog', 'cat', 'parrot']\n",
    "# 동물 이름과 글자수를 다음과 같이 출력하라.\n",
    "\n",
    "# dog 3\n",
    "# cat 3\n",
    "# parrot 6\n",
    "l1 = ['dog', 'cat', 'parrot']\n",
    "for a in l1:\n",
    "    print(a, len(a))"
   ]
  },
  {
   "cell_type": "code",
   "execution_count": 256,
   "id": "79e0e326-b44e-42ee-a0dd-a57402ee22cb",
   "metadata": {},
   "outputs": [
    {
     "name": "stdout",
     "output_type": "stream",
     "text": [
      "d\n",
      "c\n",
      "p\n"
     ]
    }
   ],
   "source": [
    "# 145\n",
    "# 리스트에 동물 이름 저장돼 있다.\n",
    "\n",
    "# 리스트 = ['dog', 'cat', 'parrot']\n",
    "# for문을 사용해서 동물 이름의 첫 글자만 출력하라.\n",
    "\n",
    "# d\n",
    "# c\n",
    "# p\n",
    "l1 = ['dog', 'cat', 'parrot']\n",
    "\n",
    "for a in l1:\n",
    "    print(a[0])"
   ]
  },
  {
   "cell_type": "code",
   "execution_count": 270,
   "id": "ac150d6d-50e5-4a97-88f2-941c25d9c4bb",
   "metadata": {},
   "outputs": [
    {
     "name": "stdout",
     "output_type": "stream",
     "text": [
      "3 x 1\n",
      "3 x 2\n",
      "3 x 3\n"
     ]
    }
   ],
   "source": [
    "# 146\n",
    "# 리스트에는 세 개의 숫자가 바인딩돼 있다.\n",
    "\n",
    "# 리스트 = [1, 2, 3]\n",
    "# for문을 사용해서 다음과 같이 출력하라.\n",
    "\n",
    "# 3 x 1\n",
    "# 3 x 2\n",
    "# 3 x 3\n",
    "\n",
    "l1 = [1, 2, 3]\n",
    "for n in l1:\n",
    "    print('3 x', n)"
   ]
  },
  {
   "cell_type": "code",
   "execution_count": 276,
   "id": "353bea28-457e-4280-96f0-b7960c45c51a",
   "metadata": {},
   "outputs": [
    {
     "name": "stdout",
     "output_type": "stream",
     "text": [
      "3 x 1 = 3\n",
      "3 x 2 = 6\n",
      "3 x 3 = 9\n"
     ]
    }
   ],
   "source": [
    "# 147\n",
    "# 리스트에는 세 개의 숫자가 바인딩돼 있다.\n",
    "\n",
    "# 리스트 = [1, 2, 3]\n",
    "# for문을 사용해서 다음과 같이 출력하라.\n",
    "\n",
    "# 3 x 1 = 3\n",
    "# 3 x 2 = 6\n",
    "# 3 x 3 = 9\n",
    "\n",
    "l1 = [1, 2, 3]\n",
    "for n in l1:\n",
    "    print('3 x', n,'=', 3*n)"
   ]
  },
  {
   "cell_type": "code",
   "execution_count": 293,
   "id": "0b68efaf-cbd5-454d-99e1-884ea9574df6",
   "metadata": {},
   "outputs": [
    {
     "name": "stdout",
     "output_type": "stream",
     "text": [
      "나\n",
      "다\n",
      "라\n"
     ]
    }
   ],
   "source": [
    "# 148\n",
    "# 리스트에는 네 개의 문자열이 바인딩돼 있다.\n",
    "\n",
    "# 리스트 = [\"가\", \"나\", \"다\", \"라\"]\n",
    "# for문을 사용해서 다음과 같이 출력하라.\n",
    "\n",
    "# 나\n",
    "# 다\n",
    "# 라\n",
    "\n",
    "l1 = [\"가\", \"나\", \"다\", \"라\"]\n",
    "l2 = l1[1:]\n",
    "for h in l2:\n",
    "    print(h)"
   ]
  },
  {
   "cell_type": "code",
   "execution_count": 299,
   "id": "cf58f867-8c55-4dc9-a1b0-ff33a278a62b",
   "metadata": {},
   "outputs": [
    {
     "name": "stdout",
     "output_type": "stream",
     "text": [
      "가\n",
      "다\n"
     ]
    }
   ],
   "source": [
    "# 149\n",
    "# 리스트에는 네 개의 문자열이 바인딩돼 있다.\n",
    "\n",
    "# 리스트 = [\"가\", \"나\", \"다\", \"라\"]\n",
    "# for문을 사용해서 다음과 같이 출력하라.\n",
    "\n",
    "# 가\n",
    "# 다\n",
    "l1 = [\"가\", \"나\", \"다\", \"라\"]\n",
    "l2 = l1[0::2]\n",
    "for h in l2:\n",
    "    print(h)"
   ]
  },
  {
   "cell_type": "code",
   "execution_count": 319,
   "id": "a030c08a-f345-456d-8a99-24f36d009574",
   "metadata": {},
   "outputs": [
    {
     "name": "stdout",
     "output_type": "stream",
     "text": [
      "라\n",
      "다\n",
      "나\n",
      "가\n"
     ]
    }
   ],
   "source": [
    "# 150\n",
    "# 리스트에는 네 개의 문자열이 바인딩돼 있다.\n",
    "\n",
    "# 리스트 = [\"가\", \"나\", \"다\", \"라\"]\n",
    "# for문을 사용해서 다음과 같이 출력하라.\n",
    "\n",
    "# 라\n",
    "# 다\n",
    "# 나\n",
    "# 가\n",
    "l1 = [\"가\", \"나\", \"다\", \"라\"]\n",
    "# l1.reverse()\n",
    "# l1\n",
    "# for h in l1:\n",
    "#     print(h)\n",
    "for 변수 in l1[: :-1]:\n",
    "  print(변수)"
   ]
  },
  {
   "cell_type": "code",
   "execution_count": 323,
   "id": "f6ea6be2-dad0-4c48-a0b1-0b453ccdab05",
   "metadata": {},
   "outputs": [
    {
     "name": "stdout",
     "output_type": "stream",
     "text": [
      "-20\n",
      "-3\n"
     ]
    }
   ],
   "source": [
    "# 151\n",
    "# 리스트에는 네 개의 정수가 저장돼 있다.\n",
    "\n",
    "# 리스트 = [3, -20, -3, 44]\n",
    "# for문을 사용해서 리스트의 음수를 출력하라.\n",
    "\n",
    "# -20\n",
    "# -3\n",
    "l1= [3, -20, -3, 44]\n",
    "# l2 = l1[1:3]\n",
    "# for 음수 in l2:\n",
    "#     print(음수)\n",
    "for 음수 in l1:\n",
    "    if 음수 < 0:\n",
    "        print(음수)"
   ]
  },
  {
   "cell_type": "code",
   "execution_count": 329,
   "id": "e62c97c9-8aaa-4679-86eb-ed3376802a8f",
   "metadata": {},
   "outputs": [
    {
     "name": "stdout",
     "output_type": "stream",
     "text": [
      "3\n"
     ]
    }
   ],
   "source": [
    "# 152\n",
    "# for문을 사용해서 3의 배수만을 출력하라.\n",
    "\n",
    "# 리스트 = [3, 100, 23, 44]\n",
    "# 3\n",
    "l1 = [3, 100, 23, 44]\n",
    "for n in l1:\n",
    "    if n%3 ==0:\n",
    "        print(n)"
   ]
  },
  {
   "cell_type": "code",
   "execution_count": 331,
   "id": "15614b66-063f-4715-9f63-d596767d194c",
   "metadata": {},
   "outputs": [
    {
     "name": "stdout",
     "output_type": "stream",
     "text": [
      "12\n",
      "18\n"
     ]
    }
   ],
   "source": [
    "# 153\n",
    "# 리스트에서 20 보다 작은 3의 배수를 출력하라\n",
    "\n",
    "# 리스트 = [13, 21, 12, 14, 30, 18]\n",
    "# 12\n",
    "# 18\n",
    "\n",
    "l1 = [13, 21, 12, 14, 30, 18]\n",
    "for n in l1:\n",
    "    if n%3 == 0 and n <20:\n",
    "        print(n)"
   ]
  },
  {
   "cell_type": "code",
   "execution_count": 333,
   "id": "b1bfad5c-f189-4de2-bcfa-6474e171f96c",
   "metadata": {},
   "outputs": [
    {
     "name": "stdout",
     "output_type": "stream",
     "text": [
      "study\n",
      "python\n",
      "language\n"
     ]
    }
   ],
   "source": [
    "# 154\n",
    "# 리스트에서 세 글자 이상의 문자를 화면에 출력하라\n",
    "\n",
    "# 리스트 = [\"I\", \"study\", \"python\", \"language\", \"!\"]\n",
    "# study\n",
    "# python\n",
    "# language\n",
    "\n",
    "l1 = [\"I\", \"study\", \"python\", \"language\", \"!\"]\n",
    "for s in l1:\n",
    "    if len(s) >= 3 :\n",
    "        print(s)"
   ]
  },
  {
   "cell_type": "code",
   "execution_count": 343,
   "id": "ef147c1c-942c-464b-907f-0ed529804bdc",
   "metadata": {},
   "outputs": [
    {
     "name": "stdout",
     "output_type": "stream",
     "text": [
      "A\n",
      "D\n"
     ]
    }
   ],
   "source": [
    "# 155\n",
    "# 리스트에서 대문자만 화면에 출력하라.\n",
    "\n",
    "# 리스트 = [\"A\", \"b\", \"c\", \"D\"]\n",
    "# A\n",
    "# D\n",
    "# (참고) isupper() 메서드는 대문자 여부를 판별합니다.\n",
    "\n",
    "# >> 변수 = \"A\"\n",
    "# >> 변수.isupper()\n",
    "# True\n",
    "# >> 변수 = \"a\"\n",
    "# >> 변수.isupper()\n",
    "# False\n",
    "l1 = [\"A\", \"b\", \"c\", \"D\"]\n",
    "\n",
    "for a in l1:\n",
    "    if a.isupper() == True:\n",
    "        print(a)"
   ]
  },
  {
   "cell_type": "code",
   "execution_count": 353,
   "id": "944837b7-436d-4d1a-a924-65db8d585405",
   "metadata": {},
   "outputs": [
    {
     "name": "stdout",
     "output_type": "stream",
     "text": [
      "b\n",
      "c\n"
     ]
    }
   ],
   "source": [
    "# 156\n",
    "# 리스트에서 소문자만 화면에 출력하라.\n",
    "\n",
    "# 리스트 = [\"A\", \"b\", \"c\", \"D\"]\n",
    "# b\n",
    "# c\n",
    "l1 = [\"A\", \"b\", \"c\", \"D\"]\n",
    "for a in l1:\n",
    "    if a.islower() == True:\n",
    "        print(a)"
   ]
  },
  {
   "cell_type": "code",
   "execution_count": 371,
   "id": "6daa3ee0-eccd-4766-aad2-31d9cb665091",
   "metadata": {},
   "outputs": [
    {
     "name": "stdout",
     "output_type": "stream",
     "text": [
      "Dog\n",
      "Cat\n",
      "Parrot\n"
     ]
    }
   ],
   "source": [
    "# 157\n",
    "# 이름의 첫 글자를 대문자로 변경해서 출력하라.\n",
    "\n",
    "# 리스트 = ['dog', 'cat', 'parrot']\n",
    "# Dog\n",
    "# Cat\n",
    "# Parrot\n",
    "l1 = ['dog', 'cat', 'parrot']\n",
    "\n",
    "# for a in l1:\n",
    "#     print(a.capitalize()) # 뒤에 대문자가 있으면 소문자로 바꿔버리는 문제가 있음.\n",
    "\n",
    "for a in l1:\n",
    "    print(a.upper()[0]+a[1:])"
   ]
  },
  {
   "cell_type": "code",
   "execution_count": 377,
   "id": "2a587b2e-9537-472d-bcf2-cf7d4fe4a549",
   "metadata": {},
   "outputs": [
    {
     "name": "stdout",
     "output_type": "stream",
     "text": [
      "hello\n",
      "ex01\n",
      "intro\n"
     ]
    }
   ],
   "source": [
    "# 158\n",
    "# 파일 이름이 저장된 리스트에서 확장자를 제거하고 파일 이름만 화면에 출력하라. (힌트: split() 메서드)\n",
    "\n",
    "# 리스트 = ['hello.py', 'ex01.py', 'intro.hwp']\n",
    "# hello\n",
    "# ex01\n",
    "# intro\n",
    "l1 = ['hello.py', 'ex01.py', 'intro.hwp']\n",
    "for f in l1:\n",
    "    print(f.split(\".\")[0])"
   ]
  },
  {
   "cell_type": "code",
   "execution_count": 397,
   "id": "38978752-624a-42ba-a765-7e5b5728fd93",
   "metadata": {},
   "outputs": [
    {
     "name": "stdout",
     "output_type": "stream",
     "text": [
      "intra.h\n",
      "define.h\n"
     ]
    }
   ],
   "source": [
    "# 159\n",
    "# 파일 이름이 저장된 리스트에서 확장자가 .h인 파일 이름을 출력하라.\n",
    "\n",
    "# 리스트 = ['intra.h', 'intra.c', 'define.h', 'run.py']\n",
    "# intra.h\n",
    "# define.h\n",
    "\n",
    "##내가 푼 답\n",
    "# l1 = ['intra.h', 'intra.c', 'define.h', 'run.py']\n",
    "# for f in l1:\n",
    "#     if f[-2:] == \".h\":\n",
    "#         print(f)\n",
    "\n",
    "리스트 = ['intra.h', 'intra.c', 'define.h', 'run.py']\n",
    "for 변수 in 리스트:\n",
    "  split = 변수.split(\".\")\n",
    "  if split[1] == \"h\" :\n",
    "    print(변수)\n"
   ]
  },
  {
   "cell_type": "code",
   "execution_count": 399,
   "id": "ee91ac52-f073-4323-9a98-189090d6f4ae",
   "metadata": {},
   "outputs": [
    {
     "name": "stdout",
     "output_type": "stream",
     "text": [
      "intra.h\n",
      "intra.c\n",
      "define.h\n"
     ]
    }
   ],
   "source": [
    "# 160\n",
    "# 파일 이름이 저장된 리스트에서 확장자가 .h나 .c인 파일을 화면에 출력하라.\n",
    "\n",
    "# 리스트 = ['intra.h', 'intra.c', 'define.h', 'run.py']\n",
    "# intra.h\n",
    "# intra.c\n",
    "# define.h\n",
    "\n",
    "## 내가 푼 답\n",
    "# l1 = ['intra.h', 'intra.c', 'define.h', 'run.py']\n",
    "# for f in l1:\n",
    "#     if f[-2:] == \".h\" or f[-2:] == \".c\":\n",
    "#         print(f)\n",
    "\n",
    "리스트 = ['intra.h', 'intra.c', 'define.h', 'run.py']\n",
    "for 변수 in 리스트:\n",
    "  split = 변수.split(\".\")\n",
    "  if split[1] == \"h\" or split[1] == 'c':\n",
    "    print(변수)"
   ]
  }
 ],
 "metadata": {
  "kernelspec": {
   "display_name": "Python 3 (ipykernel)",
   "language": "python",
   "name": "python3"
  },
  "language_info": {
   "codemirror_mode": {
    "name": "ipython",
    "version": 3
   },
   "file_extension": ".py",
   "mimetype": "text/x-python",
   "name": "python",
   "nbconvert_exporter": "python",
   "pygments_lexer": "ipython3",
   "version": "3.12.4"
  }
 },
 "nbformat": 4,
 "nbformat_minor": 5
}
