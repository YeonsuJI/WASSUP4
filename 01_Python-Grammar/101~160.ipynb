{
 "cells": [
  {
   "cell_type": "code",
   "execution_count": null,
   "id": "5ced89bb-c884-49e0-a9c7-006e4e42a2ca",
   "metadata": {},
   "outputs": [],
   "source": [
    "# 101\n",
    "# 파이썬에서 True 혹은 False를 갖는 데이터 타입은 무엇인가?\n",
    "\n",
    "#답: 불린 (논리형) "
   ]
  },
  {
   "cell_type": "code",
   "execution_count": 1,
   "id": "877240f2-e8d1-4035-9046-08849d7be4ab",
   "metadata": {},
   "outputs": [
    {
     "name": "stdout",
     "output_type": "stream",
     "text": [
      "False\n"
     ]
    }
   ],
   "source": [
    "# 102\n",
    "# 아래 코드의 출력 결과를 예상하라\n",
    "\n",
    "print(3 == 5)\n",
    "# 거짓"
   ]
  },
  {
   "cell_type": "code",
   "execution_count": 3,
   "id": "3c6c4c1c-d26b-41b2-a4ca-929049743a40",
   "metadata": {},
   "outputs": [
    {
     "name": "stdout",
     "output_type": "stream",
     "text": [
      "True\n"
     ]
    }
   ],
   "source": [
    "# 103\n",
    "# 아래 코드의 출력 결과를 예상하라\n",
    "\n",
    "print(3 < 5)\n",
    "# 참"
   ]
  },
  {
   "cell_type": "code",
   "execution_count": 7,
   "id": "d9e16ddf-c392-465c-a1f0-8706be4b7bae",
   "metadata": {},
   "outputs": [
    {
     "name": "stdout",
     "output_type": "stream",
     "text": [
      "True\n"
     ]
    }
   ],
   "source": [
    "# 104\n",
    "# 아래 코드의 결과를 예상하라.\n",
    "\n",
    "x = 4\n",
    "print(1 < x < 5)\n",
    "# 참"
   ]
  },
  {
   "cell_type": "code",
   "execution_count": 9,
   "id": "78ff7368-9321-41d0-8ba9-c694b26389b9",
   "metadata": {},
   "outputs": [
    {
     "name": "stdout",
     "output_type": "stream",
     "text": [
      "True\n"
     ]
    }
   ],
   "source": [
    "# 105\n",
    "# 아래 코드의 결과를 예상하라.\n",
    "\n",
    "print ((3 == 3) and (4 != 3))\n",
    "# 참"
   ]
  },
  {
   "cell_type": "code",
   "execution_count": 15,
   "id": "421623b1-0212-4db4-ad53-44cb12d3cc4e",
   "metadata": {},
   "outputs": [
    {
     "ename": "SyntaxError",
     "evalue": "expression cannot contain assignment, perhaps you meant \"==\"? (1554253385.py, line 4)",
     "output_type": "error",
     "traceback": [
      "\u001b[1;36m  Cell \u001b[1;32mIn[15], line 4\u001b[1;36m\u001b[0m\n\u001b[1;33m    print(3 => 4)\u001b[0m\n\u001b[1;37m          ^\u001b[0m\n\u001b[1;31mSyntaxError\u001b[0m\u001b[1;31m:\u001b[0m expression cannot contain assignment, perhaps you meant \"==\"?\n"
     ]
    }
   ],
   "source": [
    "# 106\n",
    "# 아래 코드에서 에러가 발생하는 원인에 대해 설명하라.\n",
    "\n",
    "print(3 => 4)\n",
    "# 부등호의 위치가 잘못됨"
   ]
  },
  {
   "cell_type": "code",
   "execution_count": 19,
   "id": "f4bb3a2e-66d2-4020-bb50-42f8e4cb58af",
   "metadata": {},
   "outputs": [],
   "source": [
    "# 107\n",
    "# 아래 코드의 출력 결과를 예상하라\n",
    "\n",
    "if 4 < 3:\n",
    "    print(\"Hello World\")\n",
    "    # 거짓이라서 출력이 안됨"
   ]
  },
  {
   "cell_type": "code",
   "execution_count": 23,
   "id": "181a7733-f2e3-4bc5-bf1c-5d829d1b979d",
   "metadata": {},
   "outputs": [
    {
     "name": "stdout",
     "output_type": "stream",
     "text": [
      "Hi, there.\n"
     ]
    }
   ],
   "source": [
    "# 108\n",
    "# 아래 코드의 출력 결과를 예상하라\n",
    "\n",
    "if 4 < 3:\n",
    "    print(\"Hello World.\")\n",
    "else:\n",
    "    print(\"Hi, there.\")\n",
    "    # Hi, there."
   ]
  },
  {
   "cell_type": "code",
   "execution_count": 25,
   "id": "e9c50b1e-8ad7-4ec3-90b4-31456596cddb",
   "metadata": {},
   "outputs": [
    {
     "name": "stdout",
     "output_type": "stream",
     "text": [
      "1\n",
      "2\n",
      "4\n"
     ]
    }
   ],
   "source": [
    "# 109\n",
    "# 아래 코드의 출력 결과를 예상하라\n",
    "\n",
    "if True :\n",
    "    print (\"1\")\n",
    "    print (\"2\")\n",
    "else :\n",
    "    print(\"3\")\n",
    "print(\"4\")\n",
    "# 1 \n",
    "# 2 \n",
    "# 4"
   ]
  },
  {
   "cell_type": "code",
   "execution_count": 29,
   "id": "9855c47b-1053-4b92-9ea6-38b7f2085947",
   "metadata": {},
   "outputs": [
    {
     "name": "stdout",
     "output_type": "stream",
     "text": [
      "3\n",
      "5\n"
     ]
    }
   ],
   "source": [
    "# 110\n",
    "# 아래 코드의 출력 결과를 예상하라\n",
    "\n",
    "if True :\n",
    "    if False:\n",
    "        print(\"1\")\n",
    "        print(\"2\")\n",
    "    else:\n",
    "        print(\"3\")\n",
    "else :\n",
    "    print(\"4\")\n",
    "print(\"5\")\n",
    "#3\n",
    "#5"
   ]
  },
  {
   "cell_type": "code",
   "execution_count": 38,
   "id": "2a077f47-07dd-4b60-93be-c2550d449178",
   "metadata": {},
   "outputs": [
    {
     "name": "stdin",
     "output_type": "stream",
     "text": [
      " 안녕하세요\n"
     ]
    },
    {
     "name": "stdout",
     "output_type": "stream",
     "text": [
      "안녕하세요안녕하세요\n"
     ]
    }
   ],
   "source": [
    "# 111\n",
    "# 사용자로부터 입력받은 문자열을 두 번 출력하라. \n",
    "# 아래는 사용자가 \"안녕하세요\"를 입력한 경우의 출력 결과이다.\n",
    "\n",
    "# >> 안녕하세요\n",
    "# 안녕하세요안녕하세요\n",
    "\n",
    "print(input()*2)"
   ]
  },
  {
   "cell_type": "code",
   "execution_count": 49,
   "id": "b216adde-31b9-43a5-8a95-3009410d0009",
   "metadata": {},
   "outputs": [
    {
     "name": "stdin",
     "output_type": "stream",
     "text": [
      "숫자를 입력하세요: 30\n"
     ]
    },
    {
     "name": "stdout",
     "output_type": "stream",
     "text": [
      "40\n"
     ]
    }
   ],
   "source": [
    "# 112\n",
    "# 사용자로부터 하나의 숫자를 입력받고, 입력 받은 숫자에 10을 더해 출력하라.\n",
    "\n",
    "# >> 숫자를 입력하세요: 30\n",
    "# 40\n",
    "\n",
    "print( int(input('숫자를 입력하세요:'))+10)"
   ]
  },
  {
   "cell_type": "code",
   "execution_count": 57,
   "id": "9bafec0f-f90d-40a9-b683-fa031490c13b",
   "metadata": {},
   "outputs": [
    {
     "name": "stdin",
     "output_type": "stream",
     "text": [
      " 30\n"
     ]
    },
    {
     "name": "stdout",
     "output_type": "stream",
     "text": [
      "짝수\n"
     ]
    }
   ],
   "source": [
    "# 113\n",
    "# 사용자로부터 하나의 숫자를 입력 받고 짝수/홀수를 판별하라.\n",
    "\n",
    "# >> 30\n",
    "# 짝수\n",
    "a = int(input()) \n",
    "if a%2 == 0 :\n",
    "    print(\"짝수\")\n",
    "else:\n",
    "    print(\"홀수\")"
   ]
  },
  {
   "cell_type": "code",
   "execution_count": 77,
   "id": "234d5ca3-d3f7-4632-880f-589bf9cbf2ab",
   "metadata": {},
   "outputs": [
    {
     "name": "stdin",
     "output_type": "stream",
     "text": [
      "입력값: 240\n"
     ]
    },
    {
     "name": "stdout",
     "output_type": "stream",
     "text": [
      "출력값: 255\n"
     ]
    }
   ],
   "source": [
    "# 114\n",
    "# 사용자로부터 값을 입력받은 후 해당 값에 20을 더한 값을 출력하라. 단 사용자가 입력한 값과 20을 더한 계산 값이 255를 초과하는 경우 255를 출력해야 한다.\n",
    "\n",
    "# >> 입력값: 200\n",
    "# 출력값: 220\n",
    "# >> 입력값: 240\n",
    "# 출력값: 255\n",
    "\n",
    "a= int(input(\"입력값:\"))\n",
    "if a+20 >255:\n",
    "    print(\"출력값:\",255)\n",
    "else:\n",
    "    print(\"출력값:\", a+20)"
   ]
  },
  {
   "cell_type": "code",
   "execution_count": 83,
   "id": "ce368177-ade1-44c7-9796-a8e67d558817",
   "metadata": {},
   "outputs": [
    {
     "name": "stdin",
     "output_type": "stream",
     "text": [
      "입력값: 15\n"
     ]
    },
    {
     "name": "stdout",
     "output_type": "stream",
     "text": [
      "출력값: 0\n"
     ]
    }
   ],
   "source": [
    "# 115\n",
    "# 사용자로부터 하나의 값을 입력받은 후 해당 값에 20을 뺀 값을 출력하라. 단 출력 값의 범위는 0~255이다. 예를 들어 결괏값이 0보다 작은 값이되는 경우 0을 출력하고 255보다 큰 값이 되는 경우 255를 출력해야 한다.\n",
    "\n",
    "# >> 입력값: 200\n",
    "# 출력값: 180\n",
    "# >> 입력값: 15\n",
    "# 출력값: 0\n",
    "\n",
    "a= int(input(\"입력값:\"))\n",
    "if a-20 >255:\n",
    "    print(\"출력값:\",255)\n",
    "elif a-20<=0:\n",
    "    print(\"출력값:\",0)\n",
    "else:\n",
    "    print(\"출력값:\",a-20)"
   ]
  },
  {
   "cell_type": "code",
   "execution_count": 99,
   "id": "d531b22e-21ee-4448-ac3b-2868303f1baf",
   "metadata": {},
   "outputs": [
    {
     "name": "stdin",
     "output_type": "stream",
     "text": [
      "현재시간: 03:10\n"
     ]
    },
    {
     "name": "stdout",
     "output_type": "stream",
     "text": [
      "정각이 아닙니다\n"
     ]
    }
   ],
   "source": [
    "# 116\n",
    "# 사용자로부터 입력 받은 시간이 정각인지 판별하라.\n",
    "\n",
    "# >> 현재시간:02:00\n",
    "# 정각 입니다.\n",
    "# >> 현재시간:03:10\n",
    "# 정각이 아닙니다\n",
    "a= input(\"현재시간:\")\n",
    "if a[3:5] ==\"00\":\n",
    "    print(\"정각입니다\")\n",
    "else :\n",
    "    print(\"정각이 아닙니다\")"
   ]
  },
  {
   "cell_type": "code",
   "execution_count": 114,
   "id": "5388251a-0317-420f-ac3c-366166a4d17f",
   "metadata": {},
   "outputs": [
    {
     "name": "stdin",
     "output_type": "stream",
     "text": [
      "좋아하는 과일은? 홍시\n"
     ]
    },
    {
     "name": "stdout",
     "output_type": "stream",
     "text": [
      "정답입니다\n"
     ]
    }
   ],
   "source": [
    "# 117\n",
    "# 사용자로 입력받은 단어가 아래 fruit 리스트에 포함되어 있는지를 확인하라. 포함되었다면 \"정답입니다\"를 아닐 경우 \"오답입니다\" 출력하라.\n",
    "\n",
    "# fruit = [\"사과\", \"포도\", \"홍시\"]\n",
    "# >> 좋아하는 과일은? 사과\n",
    "# 정답입니다.\n",
    "fruit = [\"사과\", \"포도\", \"홍시\"]\n",
    "if input(\"좋아하는 과일은?\") in fruit:\n",
    "    print(\"정답입니다\")\n",
    "else:\n",
    "    print(\"오답입니다\")"
   ]
  },
  {
   "cell_type": "code",
   "execution_count": 122,
   "id": "2eb33ef6-16b0-4579-8ccc-04e8aa3dc29f",
   "metadata": {},
   "outputs": [
    {
     "name": "stdin",
     "output_type": "stream",
     "text": [
      " sk\n"
     ]
    },
    {
     "name": "stdout",
     "output_type": "stream",
     "text": [
      "투자 경고 종목이 아닙니다\n"
     ]
    }
   ],
   "source": [
    "# 118\n",
    "# 투자 경고 종목 리스트가 있을 때 사용자로부터 종목명을 입력 받은 후 해당 종목이 투자 경고 종목이라면 '투자 경고 종목입니다'를 아니면 \"투자 경고 종목이 아닙니다.\"를 출력하는 프로그램을 작성하라.\n",
    "\n",
    "warn_investment_list = [\"Microsoft\", \"Google\", \"Naver\", \"Kakao\", \"SAMSUNG\", \"LG\"]\n",
    "if input() in warn_investment_list:\n",
    "    print(\"투자 경고 종목입니다\")\n",
    "else:\n",
    "    print(\"투자 경고 종목이 아닙니다\")\n"
   ]
  },
  {
   "cell_type": "code",
   "execution_count": 158,
   "id": "084d88d2-d6f9-41b3-bc21-a6d9a1b61d54",
   "metadata": {},
   "outputs": [
    {
     "name": "stdin",
     "output_type": "stream",
     "text": [
      "제가 좋아하는 계절은 :  여름\n"
     ]
    },
    {
     "name": "stdout",
     "output_type": "stream",
     "text": [
      "정답입니다\n"
     ]
    }
   ],
   "source": [
    "# 119\n",
    "# 아래와 같이 fruit 딕셔너리가 정의되어 있다. 사용자가 입력한 값이 딕셔너리 키 (key) 값에 포함되었다면 \"정답입니다\"를 아닐 경우 \"오답입니다\" 출력하라.\n",
    "\n",
    "# fruit = {\"봄\" : \"딸기\", \"여름\" : \"토마토\", \"가을\" : \"사과\"}\n",
    "# >> 제가좋아하는계절은: 봄\n",
    "# 정답입니다.\n",
    "fruit = {\"봄\" : \"딸기\", \"여름\" : \"토마토\", \"가을\" : \"사과\"}\n",
    "if input(\"제가 좋아하는 계절은 : \") in fruit.keys():\n",
    "    print(\"정답입니다\")\n",
    "else:\n",
    "    print(\"오답입니다\")"
   ]
  },
  {
   "cell_type": "code",
   "execution_count": 164,
   "id": "9f1add64-e75f-4cf6-ab9c-62539edeb298",
   "metadata": {},
   "outputs": [
    {
     "name": "stdin",
     "output_type": "stream",
     "text": [
      "좋아하는 과일은? 토마토\n"
     ]
    },
    {
     "name": "stdout",
     "output_type": "stream",
     "text": [
      "정답입니다\n"
     ]
    }
   ],
   "source": [
    "# 120\n",
    "# 아래와 같이 fruit 딕셔너리가 정의되어 있다. 사용자가 입력한 값이 딕셔너리 값 (value)에 포함되었다면 \"정답입니다\"를 아닐 경우 \"오답입니다\" 출력하라.\n",
    "\n",
    "# fruit = {\"봄\" : \"딸기\", \"여름\" : \"토마토\", \"가을\" : \"사과\"}\n",
    "# >> 좋아하는과일은? 한라봉\n",
    "# 오답입니다.\n",
    "fruit = {\"봄\" : \"딸기\", \"여름\" : \"토마토\", \"가을\" : \"사과\"}\n",
    "if input(\"좋아하는 과일은?\") in fruit.values():\n",
    "    print(\"정답입니다\")\n",
    "else:\n",
    "    print(\"오답입니다\")"
   ]
  },
  {
   "cell_type": "code",
   "execution_count": null,
   "id": "5c645c49-30a4-4fc3-bb76-b6a70897087a",
   "metadata": {},
   "outputs": [],
   "source": []
  },
  {
   "cell_type": "code",
   "execution_count": null,
   "id": "288c92b8-76b2-4dc5-b941-1cc961dcdbf3",
   "metadata": {},
   "outputs": [],
   "source": []
  },
  {
   "cell_type": "code",
   "execution_count": null,
   "id": "46f31e2a-c406-4da9-a1f7-09864be7e9a5",
   "metadata": {},
   "outputs": [],
   "source": []
  },
  {
   "cell_type": "code",
   "execution_count": null,
   "id": "55899ae9-bb62-42ef-ba1d-669e4a752ac3",
   "metadata": {},
   "outputs": [],
   "source": []
  },
  {
   "cell_type": "code",
   "execution_count": null,
   "id": "a4c9d824-fb37-4f08-98d1-676ee4119660",
   "metadata": {},
   "outputs": [],
   "source": []
  }
 ],
 "metadata": {
  "kernelspec": {
   "display_name": "Python 3 (ipykernel)",
   "language": "python",
   "name": "python3"
  },
  "language_info": {
   "codemirror_mode": {
    "name": "ipython",
    "version": 3
   },
   "file_extension": ".py",
   "mimetype": "text/x-python",
   "name": "python",
   "nbconvert_exporter": "python",
   "pygments_lexer": "ipython3",
   "version": "3.12.4"
  }
 },
 "nbformat": 4,
 "nbformat_minor": 5
}
