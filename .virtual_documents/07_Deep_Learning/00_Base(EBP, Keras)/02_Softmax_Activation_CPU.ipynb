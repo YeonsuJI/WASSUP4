


import warnings
warnings.filterwarnings('ignore')








import numpy as np

def sigmoid(x):
    y_hat = 1 / (1 + np.exp(-x))
    return y_hat





import matplotlib.pyplot as plt

n = np.linspace(-10.0, 10.0, 2000)

plt.figure(figsize = (9, 6))
plt.plot(n, sigmoid(n))
plt.show()





def softmax(x):
    m = np.max(x)
    sm = np.exp(x - m)/np.sum(np.exp(x - m))
    return sm





import matplotlib.pyplot as plt

n = np.linspace(-10.0, 10.0, 2000)

plt.figure(figsize = (9, 6))
plt.plot(n, softmax(n))
plt.show()








y_hat = np.array([5.2, 4.8, 5.0])





np.set_printoptions(suppress = True, precision = 5)

print(sigmoid(y_hat))
print('%.5f' % np.sum(sigmoid(y_hat)))





np.set_printoptions(suppress = True)

print(softmax(y_hat))
print('%.5f' % np.sum(softmax(y_hat)))








y_hat = np.array([3.8, 1.4, 0.5])





print(sigmoid(y_hat))
print('%.5f' % np.sum(sigmoid(y_hat)))





print(softmax(y_hat))
print('%.5f' % np.sum(softmax(y_hat)))



