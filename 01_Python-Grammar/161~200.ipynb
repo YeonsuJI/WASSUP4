{
 "cells": [
  {
   "cell_type": "code",
   "execution_count": 5,
   "id": "c1c7008f-de56-4b64-8113-1fe5e481088f",
   "metadata": {},
   "outputs": [
    {
     "name": "stdout",
     "output_type": "stream",
     "text": [
      "0 1 2 3 4 5 6 7 8 9 10 11 12 13 14 15 16 17 18 19 20 21 22 23 24 25 26 27 28 29 30 31 32 33 34 35 36 37 38 39 40 41 42 43 44 45 46 47 48 49 50 51 52 53 54 55 56 57 58 59 60 61 62 63 64 65 66 67 68 69 70 71 72 73 74 75 76 77 78 79 80 81 82 83 84 85 86 87 88 89 90 91 92 93 94 95 96 97 98 99 "
     ]
    }
   ],
   "source": [
    "# 161\n",
    "# for문과 range 구문을 사용해서 0~99까지 한 라인에 하나씩 순차적으로 출력하는 프로그램을 작성하라.\n",
    "\n",
    "for i in range(100):\n",
    "    print(i, end=\" \")"
   ]
  },
  {
   "cell_type": "code",
   "execution_count": 7,
   "id": "12b3de4f-634d-4812-a4da-fbbca6fbe31b",
   "metadata": {},
   "outputs": [
    {
     "name": "stdout",
     "output_type": "stream",
     "text": [
      "2002\n",
      "2006\n",
      "2010\n",
      "2014\n",
      "2018\n",
      "2022\n",
      "2026\n",
      "2030\n",
      "2034\n",
      "2038\n",
      "2042\n",
      "2046\n",
      "2050\n"
     ]
    }
   ],
   "source": [
    "# 162\n",
    "# 월드컵은 4년에 한 번 개최된다. range()를 사용하여 2002~2050년까지 중 월드컵이 개최되는 연도를 출력하라.\n",
    "\n",
    "# 2002\n",
    "# 2006\n",
    "# 2010\n",
    "# ...\n",
    "# 2042\n",
    "# 2046\n",
    "# 2050\n",
    "# 참고) range의 세번 째 파라미터는 증감폭을 결정합니다.\n",
    "\n",
    "# >> print(list(range(0, 10, 2)))\n",
    "# [0, 2, 4, 6, 8]\n",
    "\n",
    "for i in range(2002,2051,4):\n",
    "    print(i)\n"
   ]
  },
  {
   "cell_type": "code",
   "execution_count": 19,
   "id": "56ea8122-94c6-4cb4-a82b-3ad95aefd7e3",
   "metadata": {},
   "outputs": [
    {
     "name": "stdout",
     "output_type": "stream",
     "text": [
      "3\n",
      "6\n",
      "9\n",
      "12\n",
      "15\n",
      "18\n",
      "21\n",
      "24\n",
      "27\n",
      "30\n"
     ]
    }
   ],
   "source": [
    "# 163\n",
    "# 1부터 30까지의 숫자 중 3의 배수를 출력하라.\n",
    "\n",
    "# 3 \n",
    "# 6 \n",
    "# 9 \n",
    "# 12 \n",
    "# 15 \n",
    "# 18 \n",
    "# 21 \n",
    "# 24 \n",
    "# 27 \n",
    "# 30\n",
    "for num in range(1,31):\n",
    "    if num%3 ==0:\n",
    "        print(num)\n"
   ]
  },
  {
   "cell_type": "code",
   "execution_count": 39,
   "id": "29909dff-2fb8-4a5b-a9de-d270c74b9d9b",
   "metadata": {},
   "outputs": [
    {
     "name": "stdout",
     "output_type": "stream",
     "text": [
      "9998979695949392919089888786858483828180797877767574737271706968676665646362616059585756555453525150494847464544434241403938373635343332313029282726252423222120191817161514131211109876543210"
     ]
    }
   ],
   "source": [
    "# 164\n",
    "# 99부터 0까지 1씩 감소하는 숫자들을, 한 라인에 하나씩 출력하라.\n",
    "for num in range(100):\n",
    "    print(99-num, end =\"\")"
   ]
  },
  {
   "cell_type": "code",
   "execution_count": 41,
   "id": "56536211-a667-4505-bb10-8bd52b27d7ef",
   "metadata": {},
   "outputs": [
    {
     "name": "stdout",
     "output_type": "stream",
     "text": [
      "0.0\n",
      "0.1\n",
      "0.2\n",
      "0.3\n",
      "0.4\n",
      "0.5\n",
      "0.6\n",
      "0.7\n",
      "0.8\n",
      "0.9\n"
     ]
    }
   ],
   "source": [
    "# 165\n",
    "# for문을 사용해서 아래와 같이 출력하라.\n",
    "\n",
    "# 0.0\n",
    "# 0.1\n",
    "# 0.2\n",
    "# 0.3\n",
    "# 0.4\n",
    "# 0.5\n",
    "# ...\n",
    "# 0.9\n",
    "for num in range(10):\n",
    "    print(num/10)"
   ]
  },
  {
   "cell_type": "code",
   "execution_count": 133,
   "id": "e7431c11-25f8-42e2-92af-2ccfbb1340e6",
   "metadata": {},
   "outputs": [
    {
     "name": "stdout",
     "output_type": "stream",
     "text": [
      "3 x 0 = 0\n",
      "3 x 1 = 3\n",
      "3 x 2 = 6\n",
      "3 x 3 = 9\n",
      "3 x 4 = 12\n",
      "3 x 5 = 15\n",
      "3 x 6 = 18\n",
      "3 x 7 = 21\n",
      "3 x 8 = 24\n",
      "3 x 9 = 27\n"
     ]
    }
   ],
   "source": [
    "# 166\n",
    "# 구구단 3단을 출력하라.\n",
    "\n",
    "# 3x1 = 3\n",
    "# 3x2 = 6\n",
    "# 3x3 = 9\n",
    "# 3x4 = 12\n",
    "# 3x5 = 15\n",
    "# 3x6 = 18\n",
    "# 3x7 = 21\n",
    "# 3x8 = 24\n",
    "# 3x9 = 27\n",
    "for num in range(10):\n",
    "    # print(\"3\",\"x\",num, \"=\", 3*num)\n",
    "    print(f\"3 x {num} = {3*num}\")\n",
    "\n",
    "# for num in range(1,10):\n",
    "#     print(3*num)\n",
    "\n",
    "    "
   ]
  },
  {
   "cell_type": "code",
   "execution_count": 60,
   "id": "283d8432-767a-4ffa-ba93-5b9fcc1ef897",
   "metadata": {},
   "outputs": [
    {
     "name": "stdout",
     "output_type": "stream",
     "text": [
      "3 x 1 =3\n",
      "3 x 3 =9\n",
      "3 x 5 =15\n",
      "3 x 7 =21\n",
      "3 x 9 =27\n"
     ]
    }
   ],
   "source": [
    "# 167\n",
    "# 구구단 3단을 출력하라. 단 홀수 번째만 출력한다.\n",
    "\n",
    "# 3x1 = 3\n",
    "# 3x3 = 9\n",
    "# 3x5 = 15\n",
    "# 3x7 = 21\n",
    "# 3x9 = 27\n",
    "for num in range(1,10,2):\n",
    "    print(f\"3 x {num} ={3 *num}\")\n"
   ]
  },
  {
   "cell_type": "code",
   "execution_count": 444,
   "id": "5d73b7ab-099f-42b0-85fb-52c510a12868",
   "metadata": {},
   "outputs": [
    {
     "name": "stdout",
     "output_type": "stream",
     "text": [
      "합 : 55\n"
     ]
    }
   ],
   "source": [
    "# 168\n",
    "# 1~10까지의 숫자에 대해 모두 더한 값을 출력하는 프로그램을 for 문을 사용하여 작성하라.\n",
    "\n",
    "# 합 : 55\n",
    "num1 = 0\n",
    "for num in range(1,11):\n",
    "    num1 += num\n",
    "print(\"합 :\" ,num1)\n",
    "\n",
    "# hab = 0\n",
    "# for i in range(1, 11):\n",
    "#     hab += i\n",
    "# print (\"합 :\", hab)\n"
   ]
  },
  {
   "cell_type": "code",
   "execution_count": 440,
   "id": "3fde951e-feb8-4dc8-8bda-6eb19a5821be",
   "metadata": {},
   "outputs": [
    {
     "name": "stdout",
     "output_type": "stream",
     "text": [
      "합 : 25\n"
     ]
    }
   ],
   "source": [
    "# 169\n",
    "# 1~10까지의 숫자 중 모든 홀수의 합을 출력하는 프로그램을 for 문을 사용하여 작성하라.\n",
    "\n",
    "# 합: 25\n",
    "num1 = 0\n",
    "for num in range(1,11,2):\n",
    "    num1 += num\n",
    "print(\"합 :\" ,num1)"
   ]
  },
  {
   "cell_type": "code",
   "execution_count": 442,
   "id": "2b6643db-aa84-4844-8f7c-ade7709ff4ef",
   "metadata": {},
   "outputs": [
    {
     "name": "stdout",
     "output_type": "stream",
     "text": [
      "곱:  3628800\n"
     ]
    }
   ],
   "source": [
    "# 170\n",
    "# 1~10까지의 숫자를 모두 곱한 값을 출력하는 프로그램을 for 문을 사용하여 작성하라.\n",
    "\n",
    "num1 = 1\n",
    "for num in range(1,11):\n",
    "    num1 *=num\n",
    "print(\"곱: \", num1 )"
   ]
  },
  {
   "cell_type": "code",
   "execution_count": 105,
   "id": "8ef7fdc9-3561-48c3-b635-7b6b3ad8e0d3",
   "metadata": {},
   "outputs": [
    {
     "name": "stdout",
     "output_type": "stream",
     "text": [
      "32100\n",
      "32150\n",
      "32000\n",
      "32500\n"
     ]
    }
   ],
   "source": [
    "# 171\n",
    "# 아래와 같이 리스트의 데이터를 출력하라. 단, for문과 range문을 사용하라.\n",
    "\n",
    "price_list = [32100, 32150, 32000, 32500]\n",
    "# 32100\n",
    "# 32150\n",
    "# 32000\n",
    "# 32500\n",
    "\n",
    "for i in range(4):\n",
    "    a = price_list[i]\n",
    "    print(a)"
   ]
  },
  {
   "cell_type": "code",
   "execution_count": 107,
   "id": "310e08ee-7ab1-4b0f-b65b-84dde8fd93cd",
   "metadata": {},
   "outputs": [
    {
     "name": "stdout",
     "output_type": "stream",
     "text": [
      "0 32100\n",
      "1 32150\n",
      "2 32000\n",
      "3 32500\n"
     ]
    }
   ],
   "source": [
    "# 172\n",
    "# 아래와 같이 리스트의 데이터를 출력하라. 단, for문과 range문을 사용하라.\n",
    "\n",
    "price_list = [32100, 32150, 32000, 32500]\n",
    "# 0 32100\n",
    "# 1 32150\n",
    "# 2 32000\n",
    "# 3 32500\n",
    "for i in range(4):\n",
    "    a = price_list[i]\n",
    "    print(i,a)"
   ]
  },
  {
   "cell_type": "code",
   "execution_count": 117,
   "id": "e98369b4-b41a-445e-a459-769ecaaff256",
   "metadata": {},
   "outputs": [
    {
     "name": "stdout",
     "output_type": "stream",
     "text": [
      "3 32100\n",
      "2 32150\n",
      "1 32000\n",
      "0 32500\n"
     ]
    }
   ],
   "source": [
    "# 173\n",
    "# 아래와 같이 리스트의 데이터를 출력하라. 단, for문과 range문을 사용하라.\n",
    "\n",
    "price_list = [32100, 32150, 32000, 32500]\n",
    "# 3 32100\n",
    "# 2 32150\n",
    "# 1 32000\n",
    "# 0 32500\n",
    "for i in range(4):\n",
    "    a = price_list[i]\n",
    "    print(3-i,a)"
   ]
  },
  {
   "cell_type": "code",
   "execution_count": 139,
   "id": "3146efc1-b9dc-43aa-97a2-167913dab1ce",
   "metadata": {},
   "outputs": [
    {
     "name": "stdout",
     "output_type": "stream",
     "text": [
      "100 32150\n",
      "110 32000\n",
      "120 32500\n"
     ]
    }
   ],
   "source": [
    "# 174\n",
    "# 아래와 같이 리스트의 데이터를 출력하라. 단, for문과 range문을 사용하라.\n",
    "\n",
    "price_list = [32100, 32150, 32000, 32500]\n",
    "# 100 32150\n",
    "# 110 32000\n",
    "# 120 32500\n",
    "for i in range(1,4):\n",
    "    a = price_list[i]\n",
    "    print(i*10 + 90,a)"
   ]
  },
  {
   "cell_type": "code",
   "execution_count": 215,
   "id": "7751ca85-1413-4998-8f44-b313780f0eba",
   "metadata": {},
   "outputs": [
    {
     "name": "stdout",
     "output_type": "stream",
     "text": [
      "['가', '나']\n",
      "['나', '다']\n",
      "['다', '라']\n"
     ]
    }
   ],
   "source": [
    "# 175\n",
    "# my_list를 아래와 같이 출력하라.\n",
    "\n",
    "my_list = [\"가\", \"나\", \"다\", \"라\"]\n",
    "# 가 나\n",
    "# 나 다\n",
    "# 다 라\n",
    "\n",
    "for han in range(3):\n",
    "    \n",
    "         print(my_list[han:han+2])"
   ]
  },
  {
   "cell_type": "code",
   "execution_count": 205,
   "id": "416ac50e-3c44-4271-933a-c8a7d7626c46",
   "metadata": {},
   "outputs": [
    {
     "name": "stdout",
     "output_type": "stream",
     "text": [
      "['가', '나', '다']\n",
      "['나', '다', '라']\n",
      "['다', '라', '마']\n"
     ]
    }
   ],
   "source": [
    "# 176\n",
    "# 리스트를 아래와 같이 출력하라.\n",
    "\n",
    "my_list = [\"가\", \"나\", \"다\", \"라\", \"마\"]\n",
    "# 가 나 다\n",
    "# 나 다 라\n",
    "# 다 라 마\n",
    "for han in range(3):\n",
    "    \n",
    "    print(my_list[han:han+3])"
   ]
  },
  {
   "cell_type": "code",
   "execution_count": 239,
   "id": "581eb070-6bd2-4568-83ca-d0e6a04830af",
   "metadata": {},
   "outputs": [
    {
     "name": "stdout",
     "output_type": "stream",
     "text": [
      "[]\n",
      "['가', '나', '다']\n",
      "['가', '나']\n",
      "['가']\n"
     ]
    }
   ],
   "source": [
    "# 177\n",
    "# 반복문과 range 함수를 사용해서 my_list를 아래와 같이 출력하라.\n",
    "\n",
    "my_list = [\"가\", \"나\", \"다\", \"라\"]\n",
    "# 라 다\n",
    "# 다 나\n",
    "# 나 가\n",
    "for han in range(len(my_list)):\n",
    "    print(my_list[:-han])"
   ]
  },
  {
   "cell_type": "code",
   "execution_count": 243,
   "id": "9da3cb37-c8b2-4b68-8ed2-3b6cf149b7ec",
   "metadata": {},
   "outputs": [
    {
     "name": "stdout",
     "output_type": "stream",
     "text": [
      "100\n",
      "200\n",
      "400\n"
     ]
    }
   ],
   "source": [
    "# 178\n",
    "# 리스트에는 네 개의 정수가 저장되어 있다. 각각의 데이터에 대해서 자신과 우측값과의 차분값을 화면에 출력하라.\n",
    "\n",
    "my_list = [100, 200, 400, 800]\n",
    "# 예를들어 100을 기준으로 우측에 위치한 200과의 차분 값를 화면에 출력하고, 200을 기준으로 우측에 위치한 400과의 차분값을 화면에 출력한다. \n",
    "#이어서 400을 기준으로 우측에 위치한 800과의 차분값을 화면에 출력한다.\n",
    "\n",
    "# 100\n",
    "# 200\n",
    "# 400\n",
    "for d in range(3):\n",
    "    print(my_list[d+1]-my_list[d])"
   ]
  },
  {
   "cell_type": "code",
   "execution_count": 247,
   "id": "2592f25b-4b2d-4743-b962-f5d7c66d9ff1",
   "metadata": {},
   "outputs": [
    {
     "name": "stdout",
     "output_type": "stream",
     "text": [
      "233.33333333333334\n",
      "466.6666666666667\n",
      "733.3333333333334\n",
      "1033.3333333333333\n"
     ]
    }
   ],
   "source": [
    "# 179\n",
    "# 리스트에는 6일 간의 종가 데이터가 저장되어 있다. 종가 데이터의 3일 이동 평균을 계산하고 이를 화면에 출력하라.\n",
    "\n",
    "my_list = [100, 200, 400, 800, 1000, 1300]\n",
    "# 첫 번째 줄에는 100, 200, 400의 평균값이 출력된다. 두 번째 줄에는 200, 400, 800의 평균값이 출력된다. 같은 방식으로 나머지 데이터의 평균을 출력한다.\n",
    "\n",
    "# 233.33333333333334\n",
    "# 466.6666666666667\n",
    "# 733.3333333333334\n",
    "# 1033.3333333333333\n",
    "for i in range(4): # i = 0 1 2 3\n",
    "    print((my_list[i+1] + my_list[i] + my_list[i+2])/3)"
   ]
  },
  {
   "cell_type": "code",
   "execution_count": 438,
   "id": "a3df00f1-dfe7-454a-826b-8e2eef0861a3",
   "metadata": {},
   "outputs": [
    {
     "name": "stdout",
     "output_type": "stream",
     "text": [
      "[50, 100, 30, 80, 0]\n"
     ]
    }
   ],
   "source": [
    "# 180\n",
    "# 리스트에 5일간의 저가, 고가 정보가 저장돼 있다. 고가와 저가의 차를 변동폭이라고 정의할 때, low, high 두 개의 리스트를 사용해서 5일간의 변동폭을 volatility 리스트에 저장하라.\n",
    "\n",
    "low_prices  = [100, 200, 400, 800, 1000]\n",
    "high_prices = [150, 300, 430, 880, 1000]\n",
    "\n",
    "# for v in range(5): # v = 0 1 2 3 4    range(시작점 (0) , 끝점-1 )\n",
    "#     a =high_prices[v] - low_prices[v]\n",
    "#     print(a, end = \" \")\n",
    "\n",
    "volatility = []\n",
    "for v in range(5):\n",
    "    volatility.append(high_prices[v] - low_prices[v])\n",
    "print(volatility)"
   ]
  },
  {
   "cell_type": "code",
   "execution_count": 286,
   "id": "9c7d2d8c-80e1-42ef-9d42-0836706a6563",
   "metadata": {},
   "outputs": [
    {
     "name": "stdout",
     "output_type": "stream",
     "text": [
      "[['101호', '102호'], ['201호', '202호'], ['301호', '302호']]\n"
     ]
    }
   ],
   "source": [
    "# 181\n",
    "# 아래 표에서 하나의 행을 하나의 리스트로, 총 3개의 리스트를 갖는 이차원 리스트 apart를 정의하라.\n",
    "\n",
    "# 101호\t102호\n",
    "# 201호\t202호\n",
    "# 301호\t302호\n",
    "\n",
    "# ho = ['101호', '102호', '201호', '202호', '301호', '302호']\n",
    "# apart = []\n",
    "# for  i in range(0,6,2): # i 0 2 4\n",
    "#     apart.append(ho[i:i+2])\n",
    "#     print(apart)\n",
    "\n",
    "apart = [['101호', '102호'], ['201호', '202호'], ['301호', '302호']] \n",
    "print(apart)"
   ]
  },
  {
   "cell_type": "code",
   "execution_count": 292,
   "id": "5231948a-33c8-46ee-9877-dcc8520eb105",
   "metadata": {},
   "outputs": [
    {
     "name": "stdout",
     "output_type": "stream",
     "text": [
      "[['시가', 100, 200, 300], ['종가', 80, 210, 330]]\n"
     ]
    }
   ],
   "source": [
    "# 182\n",
    "# 아래 표에서 하나의 열을 하나의 리스트로, 총 2개의 리스트를 갖는 이차원 리스트 stock을 정의하라.\n",
    "\n",
    "# 시가\t종가\n",
    "# 100\t80\n",
    "# 200\t210\n",
    "# 300\t330\n",
    "stock = [[\"시가\",100, 200,300], [\"종가\",80, 210,330]] \n",
    "print(stock)"
   ]
  },
  {
   "cell_type": "code",
   "execution_count": 300,
   "id": "ff3ca072-03c2-403c-979c-34338e0bea0c",
   "metadata": {},
   "outputs": [
    {
     "name": "stdout",
     "output_type": "stream",
     "text": [
      "{'시가': [100, 200, 300], '종가': [80, 210, 330]}\n"
     ]
    }
   ],
   "source": [
    "# 183\n",
    "# 아래 표를 stock 이름의 딕셔너리로 표현하라.시가를 key로 저장하고, 나머지 같은 열의 데이터를 리스트로 저장해서 value로 저장한다. \n",
    "#종가 역시 key로 저장하고 나머지 같은 열의 데이터를 리스트로 저장해서 value로 저장한다.\n",
    "\n",
    "# 시가\t종가\n",
    "# 100\t80\n",
    "# 200\t210\n",
    "# 300\t330\n",
    "\n",
    "stock = {'시가':[100, 200, 300], '종가' : [80, 210, 330]}\n",
    "print(stock)"
   ]
  },
  {
   "cell_type": "code",
   "execution_count": 302,
   "id": "3248c445-9dbd-4a10-89bd-d2c451050f98",
   "metadata": {},
   "outputs": [
    {
     "name": "stdout",
     "output_type": "stream",
     "text": [
      "{'10/10': [80, 110, 70, 90], '10/11': [210, 230, 190, 200]}\n"
     ]
    }
   ],
   "source": [
    "# 184\n",
    "# 아래 표를 stock 이라는 이름의 딕셔너리로 표현하라. 날짜를 key로 저장하고, 나머지 같은 행의 데이터를 리스트로 저장해서 value로 저장한다. 첫 열이 날짜이다.\n",
    "\n",
    "# 10/10\t80\t110\t70\t90\n",
    "# 10/11\t210\t230\t190\t200\n",
    "stock = {'10/10':[80, 110, 70, 90], '10/11' : [210, 230, 190,200]}\n",
    "print(stock)"
   ]
  },
  {
   "cell_type": "code",
   "execution_count": 314,
   "id": "fc72f5d0-1aee-48dd-ab2d-8a8133c4e9af",
   "metadata": {},
   "outputs": [
    {
     "name": "stdout",
     "output_type": "stream",
     "text": [
      "101 호\n",
      "102 호\n",
      "201 호\n",
      "202 호\n",
      "301 호\n",
      "302 호\n"
     ]
    }
   ],
   "source": [
    "# 185\n",
    "# 리스트에 저장된 데이터를 아래와 같이 출력하라.\n",
    "\n",
    "apart = [ [101, 102], [201, 202], [301, 302] ]\n",
    "# 101 호\n",
    "# 102 호\n",
    "# 201 호\n",
    "# 202 호\n",
    "# 301 호\n",
    "# 302 호\n",
    "# print(apart[0][0],\"호\")\n",
    "# print(apart[0][1],\"호\")\n",
    "# print(apart[1][0],\"호\")\n",
    "# print(apart[1][1],\"호\")\n",
    "# print(apart[2][0],\"호\")\n",
    "# print(apart[2][1],\"호\")\n",
    "\n",
    "for row in apart:\n",
    "    for col in row:\n",
    "        print(col, \"호\")\n"
   ]
  },
  {
   "cell_type": "code",
   "execution_count": 316,
   "id": "c4f8b7aa-87c1-4789-be97-e13976c44524",
   "metadata": {},
   "outputs": [
    {
     "name": "stdout",
     "output_type": "stream",
     "text": [
      "301 호\n",
      "302 호\n",
      "201 호\n",
      "202 호\n",
      "101 호\n",
      "102 호\n"
     ]
    }
   ],
   "source": [
    "# 186\n",
    "# 리스트에 저장된 데이터를 아래와 같이 출력하라.\n",
    "\n",
    "apart = [ [101, 102], [201, 202], [301, 302] ]\n",
    "# 301 호\n",
    "# 302 호\n",
    "# 201 호\n",
    "# 202 호\n",
    "# 101 호\n",
    "# 102 호\n",
    "for row in apart[::-1]:\n",
    "    for col in row:\n",
    "        print(col, \"호\")"
   ]
  },
  {
   "cell_type": "code",
   "execution_count": 330,
   "id": "c73f36ce-96b3-4155-b52a-bccedad33632",
   "metadata": {},
   "outputs": [
    {
     "name": "stdout",
     "output_type": "stream",
     "text": [
      "302 호\n",
      "301 호\n",
      "202 호\n",
      "201 호\n",
      "102 호\n",
      "101 호\n"
     ]
    }
   ],
   "source": [
    "# 187\n",
    "# 리스트에 저장된 데이터를 아래와 같이 출력하라.\n",
    "\n",
    "apart = [ [101, 102], [201, 202], [301, 302] ]\n",
    "# 302 호\n",
    "# 301 호\n",
    "# 202 호\n",
    "# 201 호\n",
    "# 102 호\n",
    "# 101 호\n",
    "for row in apart[::-1]:\n",
    "    for col in row[::-1]:\n",
    "        print(col, \"호\")"
   ]
  },
  {
   "cell_type": "code",
   "execution_count": 332,
   "id": "f42c22cf-b87d-4ee1-80ce-86e7435ffdd5",
   "metadata": {},
   "outputs": [
    {
     "name": "stdout",
     "output_type": "stream",
     "text": [
      "101 호\n",
      "-----\n",
      "102 호\n",
      "-----\n",
      "201 호\n",
      "-----\n",
      "202 호\n",
      "-----\n",
      "301 호\n",
      "-----\n",
      "302 호\n",
      "-----\n"
     ]
    }
   ],
   "source": [
    "# 188\n",
    "# 리스트에 저장된 데이터를 아래와 같이 출력하라.\n",
    "\n",
    "apart = [ [101, 102], [201, 202], [301, 302] ]\n",
    "# 101 호\n",
    "# -----\n",
    "# 102 호\n",
    "# -----\n",
    "# 201 호\n",
    "# -----\n",
    "# 202 호\n",
    "# -----\n",
    "# 301 호\n",
    "# -----\n",
    "# 302 호\n",
    "# -----\n",
    "for row in apart:\n",
    "    for col in row:\n",
    "        print(col, \"호\")\n",
    "        print(\"-----\")"
   ]
  },
  {
   "cell_type": "code",
   "execution_count": 336,
   "id": "6f039e6e-5947-4254-a9ee-238871296770",
   "metadata": {},
   "outputs": [
    {
     "name": "stdout",
     "output_type": "stream",
     "text": [
      "101 호\n",
      "102 호\n",
      "-----\n",
      "201 호\n",
      "202 호\n",
      "-----\n",
      "301 호\n",
      "302 호\n",
      "-----\n"
     ]
    }
   ],
   "source": [
    "# 189\n",
    "# 리스트에 저장된 데이터를 아래와 같이 출력하라.\n",
    "\n",
    "\n",
    "# 101 호\n",
    "# 102 호\n",
    "# -----\n",
    "# 201 호\n",
    "# 202 호\n",
    "# -----\n",
    "# 301 호\n",
    "# 302 호\n",
    "# -----\n",
    "apart = [ [101, 102], [201, 202], [301, 302] ]\n",
    "for row in apart: # row == [101, 102]   [201, 202]  [301, 302]\n",
    "    for col in row: # col == 101  102 ---    201  202 ---  301 302     \n",
    "        print(col, \"호\")\n",
    "    print(\"-----\")"
   ]
  },
  {
   "cell_type": "code",
   "execution_count": 338,
   "id": "5c4264ac-fb24-42c4-9081-69a806baebdd",
   "metadata": {},
   "outputs": [
    {
     "name": "stdout",
     "output_type": "stream",
     "text": [
      "101 호\n",
      "102 호\n",
      "201 호\n",
      "202 호\n",
      "301 호\n",
      "302 호\n",
      "-----\n"
     ]
    }
   ],
   "source": [
    "# 190\n",
    "# 리스트에 저장된 데이터를 아래와 같이 출력하라.\n",
    "\n",
    "apart = [ [101, 102], [201, 202], [301, 302] ]\n",
    "# 101 호\n",
    "# 102 호\n",
    "# 201 호\n",
    "# 202 호\n",
    "# 301 호\n",
    "# 302 호\n",
    "# -----\n",
    "for row in apart:\n",
    "    for col in row:\n",
    "        print(col, \"호\")\n",
    "print(\"-----\")"
   ]
  },
  {
   "cell_type": "code",
   "execution_count": 344,
   "id": "9470acb2-af90-4d4d-989e-a9d557e8333f",
   "metadata": {},
   "outputs": [
    {
     "name": "stdout",
     "output_type": "stream",
     "text": [
      "2000.28\n",
      "3050.427\n",
      "2050.2870000000003\n",
      "1980.2772\n",
      "7501.05\n",
      "2050.2870000000003\n",
      "2050.2870000000003\n",
      "1980.2772\n",
      "15452.163\n",
      "15052.107\n",
      "15552.177\n",
      "14902.086000000001\n"
     ]
    }
   ],
   "source": [
    "# 191\n",
    "# data에는 매수한 종목들의 OHLC (open/high/low/close) 가격 정보가 바인딩 되어있다.\n",
    " \n",
    "# data = [\n",
    "#      [ 2000,  3050,  2050,  1980],\n",
    "#      [ 7500,  2050,  2050,  1980],\n",
    "#      [15450, 15050, 15550, 14900]\n",
    "#  ]\n",
    "# 수수료를 .014 %로 가정할 때, 각 가격에 수수료를 포함한 가격을 한라인에 하나씩 출력하라.\n",
    "# 0.00014  \n",
    "# 2000.28 \n",
    "# 3050.427\n",
    "# 2050.2870000000003\n",
    "# ...\n",
    "data = [[ 2000,  3050,  2050,  1980],[ 7500,  2050,  2050,  1980],[15450, 15050, 15550, 14900]]\n",
    "\n",
    "# a* 0.014 +a \n",
    "for d in data: # d = [ 2000,  3050,  2050,  1980] [ 7500,  2050,  2050,  1980] [15450, 15050, 15550, 14900]\n",
    "    for d1 in d: # d1 = 2000  3050  2050   1980\n",
    "        print(d1*1.00014)"
   ]
  },
  {
   "cell_type": "code",
   "execution_count": 474,
   "id": "9b829be6-d21b-4763-97e1-a5fbb3d5a8f5",
   "metadata": {},
   "outputs": [
    {
     "name": "stdout",
     "output_type": "stream",
     "text": [
      "2000.28\n",
      "3050.427\n",
      "2050.2870000000003\n",
      "1980.2772\n",
      "----\n",
      "7501.05\n",
      "2050.2870000000003\n",
      "2050.2870000000003\n",
      "1980.2772\n",
      "----\n",
      "15452.163\n",
      "15052.107\n",
      "15552.177\n",
      "14902.086000000001\n",
      "----\n"
     ]
    }
   ],
   "source": [
    "# 192\n",
    "# 191번의 출력 결과에 행단위로 \"----\" 구분자를 추가하라.\n",
    "\n",
    "# 2000.28\n",
    "# 3050.427\n",
    "# 2050.2870000000003\n",
    "# 1980.2772\n",
    "# ----\n",
    "# 7501.05\n",
    "# 2050.2870000000003\n",
    "# 2050.2870000000003\n",
    "# 1980.2772\n",
    "# ----\n",
    "# 15452.163\n",
    "# 15052.107\n",
    "# 15552.177\n",
    "# 14902.086000000001\n",
    "# ----\n",
    "data = [[ 2000,  3050,  2050,  1980],[ 7500,  2050,  2050,  1980],[15450, 15050, 15550, 14900]]\n",
    "\n",
    "\n",
    "for d in data: # d = [ 2000,  3050,  2050,  1980] [ 7500,  2050,  2050,  1980] [15450, 15050, 15550, 14900]\n",
    "    for d1 in d: # d1 = 2000  3050  2050   1980\n",
    "        print(d1*1.00014)\n",
    "    print(\"----\")    "
   ]
  },
  {
   "cell_type": "code",
   "execution_count": 484,
   "id": "05cd9f7c-edc6-4c28-937a-36f8cda94814",
   "metadata": {},
   "outputs": [
    {
     "name": "stdout",
     "output_type": "stream",
     "text": [
      "[2000.28, 3050.427, 2050.287, 1980.2772, 7501.05, 2050.287, 2050.287, 1980.2772, 15452.163, 15052.107, 15552.177, 14902.086]\n"
     ]
    }
   ],
   "source": [
    "# 193\n",
    "# 192 번 문제의 결괏값을 result 이름의 리스트에 1차원 배열로 저장하라.\n",
    "\n",
    "\n",
    "# 2000.28\n",
    "# 3050.427\n",
    "# 2050.2870000000003\n",
    "# 1980.2772\n",
    "# ----\n",
    "# 7501.05\n",
    "# 2050.2870000000003\n",
    "# 2050.2870000000003\n",
    "# 1980.2772\n",
    "# ----\n",
    "# 15452.163\n",
    "# 15052.107\n",
    "# 15552.177\n",
    "# 14902.086000000001\n",
    "# ----\n",
    "# >> print(result)\n",
    "# [2000.28, 3050.427, 2050.2870000000003, 1980.2772, 7501.05, 2050.2870000000003, 2050.2870000000003, ...]\n",
    "data = [[ 2000,  3050,  2050,  1980],[ 7500,  2050,  2050,  1980],[15450, 15050, 15550, 14900]]\n",
    "result = []\n",
    "for d in data: # d = [ 2000,  3050,  2050,  1980] [ 7500,  2050,  2050,  1980] [15450, 15050, 15550, 14900]\n",
    "    for d1 in d: # d1 = 2000  3050  2050   1980\n",
    "        result.append(d1 *0.00014 + d1)\n",
    "print(result)   "
   ]
  },
  {
   "cell_type": "code",
   "execution_count": 366,
   "id": "ae960e76-8aff-47a5-991a-980782290f42",
   "metadata": {},
   "outputs": [
    {
     "name": "stdout",
     "output_type": "stream",
     "text": [
      "[[2000.28, 3050.427, 2050.287, 1980.2772], [7501.05, 2050.287, 2050.287, 1980.2772], [15452.163, 15052.107, 15552.177, 14902.086]]\n"
     ]
    }
   ],
   "source": [
    "# 194\n",
    "# 191번 문제의 결괏값을 result 이름의 리스트에 2차원 배열로 저장하라. 저장 포맷은 아래와 같다. 각 행에 대한 데이터끼리 리스트에 저장되어야 한다.\n",
    "\n",
    "# >> print(result)\n",
    "# [\n",
    "#  [2000.28, 3050.427, 2050.2870000000003, 1980.2772],\n",
    "#  [7501.05, 2050.2870000000003, 2050.2870000000003, 1980.2772],\n",
    "#  [15452.163, 15052.107, 15552.177, 14902.086000000001]\n",
    "# ]\n",
    "result = []\n",
    "\n",
    "for d in data: # d = [ 2000, 3050, 2050, 1980] [ 7500,  2050,  2050,  1980] [15450, 15050, 15550, 14900]\n",
    "    result1 = []\n",
    "    for d1 in d: # d1 = 2000  3050  2050   1980    \n",
    "        result1.append(d1*0.00014 + d1)\n",
    "    result.append(result1)\n",
    "print(result)\n",
    "        "
   ]
  },
  {
   "cell_type": "code",
   "execution_count": 394,
   "id": "99702be1-2c91-484d-af58-30f562b5df2a",
   "metadata": {},
   "outputs": [
    {
     "name": "stdout",
     "output_type": "stream",
     "text": [
      "100\n",
      "190\n",
      "310\n"
     ]
    }
   ],
   "source": [
    "# 195\n",
    "# ohlc 리스트에는 시가(open), 고가 (high), 저가 (low) , 종가(close)가 날짜별로 저장돼 있다. 화면에 종가데이터를 출력하라.\n",
    "\n",
    "ohlc = [[\"open\", \"high\", \"low\", \"close\"],[100, 110, 70, 100],[200, 210, 180, 190],[300, 310, 300, 310]]\n",
    "# 100\n",
    "# 190\n",
    "# 310\n",
    "for data in ohlc[1:4]: # data = [100, 110, 70, 100] [200, 210, 180, 190] [300, 310, 300, 310]\n",
    "    print(data[-1]) \n",
    "       \n",
    "        "
   ]
  },
  {
   "cell_type": "code",
   "execution_count": 408,
   "id": "9b0b82a2-aa27-4732-a543-f4a9077ff9ec",
   "metadata": {},
   "outputs": [
    {
     "name": "stdout",
     "output_type": "stream",
     "text": [
      "190\n",
      "310\n"
     ]
    }
   ],
   "source": [
    "# 196\n",
    "# ohlc 리스트에는 시가(open), 고가 (high), 저가 (low) , 종가(close)가 날짜별로 저장돼 있다. 종가가 150원보다 큰경우에만 종가를 출력하라.\n",
    "\n",
    "ohlc = [[\"open\", \"high\", \"low\", \"close\"],\n",
    "        [100, 110, 70, 100],\n",
    "        [200, 210, 180, 190],\n",
    "        [300, 310, 300, 310]]\n",
    "# 190\n",
    "# 310\n",
    "for data in ohlc[1:4]:\n",
    "    if data[-1] >= 150:\n",
    "        print(data[-1])\n",
    "    "
   ]
  },
  {
   "cell_type": "code",
   "execution_count": 410,
   "id": "a49422f3-9662-434e-a036-8f0420cfb2cc",
   "metadata": {},
   "outputs": [
    {
     "name": "stdout",
     "output_type": "stream",
     "text": [
      "100\n",
      "310\n"
     ]
    }
   ],
   "source": [
    "# 197\n",
    "# ohlc 리스트에는 시가(open), 고가 (high), 저가 (low) , 종가(close)가 날짜별로 저장돼 있다. 종가가 시가 보다 크거나 같은 경우에만 종가를 출력하라.\n",
    "\n",
    "ohlc = [[\"open\", \"high\", \"low\", \"close\"],\n",
    "        [100, 110, 70, 100],\n",
    "        [200, 210, 180, 190],\n",
    "        [300, 310, 300, 310]]\n",
    "# 100\n",
    "# 310\n",
    "\n",
    "for data in ohlc[1:4]:\n",
    "    if data[-1] >= data[0]: \n",
    "        print(data[-1])\n",
    "    "
   ]
  },
  {
   "cell_type": "code",
   "execution_count": 414,
   "id": "6f6f2356-4d9d-43fc-9de4-18f5479dd0ae",
   "metadata": {},
   "outputs": [
    {
     "name": "stdout",
     "output_type": "stream",
     "text": [
      "[40, 30, 10]\n"
     ]
    }
   ],
   "source": [
    "# 198\n",
    "# ohlc 리스트에는 시가(open), 고가 (high), 저가 (low) , 종가(close)가 날짜별로 저장돼 있다. 고가와 저가의 차이를 변동폭으로 정의할 때 변동폭을 volatility 이름의 리스트에 저장하라.\n",
    "\n",
    "ohlc = [[\"open\", \"high\", \"low\", \"close\"],\n",
    "        [100, 110, 70, 100],\n",
    "        [200, 210, 180, 190],\n",
    "        [300, 310, 300, 310]]\n",
    "# >> print(volatility)\n",
    "# [40, 30, 10]\n",
    "volatility = []\n",
    "for data in ohlc[1:4]:\n",
    "    volatility.append(data[1]-data[2])\n",
    "print(volatility)\n",
    "    "
   ]
  },
  {
   "cell_type": "code",
   "execution_count": 472,
   "id": "cb08acc0-ba5d-4870-ab38-00e6fd56af03",
   "metadata": {},
   "outputs": [
    {
     "name": "stdout",
     "output_type": "stream",
     "text": [
      "10\n"
     ]
    }
   ],
   "source": [
    "# 199\n",
    "# 리스트에는 3일 간의 ohlc 데이터가 저장돼 있다. 종가가 시가보다 높은 날의 변동성 (고가 - 저가)을 화면에 출력하라.\n",
    "\n",
    "ohlc = [[\"open\", \"high\", \"low\", \"close\"],\n",
    "        [100, 110, 70, 100],\n",
    "        [200, 210, 180, 190],\n",
    "        [300, 310, 300, 310]]\n",
    "# 종가가 시가보다 높은 거래일의 OHLC는 [300, 310, 300, 310] 이다. 따라서 이 거래일의 변동성은 10 (310 - 300)이다.\n",
    "\n",
    "# 10\n",
    "for data in ohlc[1:4]:\n",
    "    if data[-1] > data[0]:\n",
    "        print(data[1]-data[2])\n",
    "    "
   ]
  },
  {
   "cell_type": "code",
   "execution_count": 482,
   "id": "96c3242e-2088-4595-a73d-33398db83943",
   "metadata": {},
   "outputs": [
    {
     "name": "stdout",
     "output_type": "stream",
     "text": [
      "0\n"
     ]
    }
   ],
   "source": [
    "# 200\n",
    "# 리스트에는 3일 간의 ohlc 데이터가 저장돼 있다. 시가에 매수해서 종가에 매도 했을 경우 총 수익금을 계산하라.\n",
    "\n",
    "ohlc = [[\"open\", \"high\", \"low\", \"close\"],\n",
    "        [100, 110, 70, 100],\n",
    "        [200, 210, 180, 190],\n",
    "        [300, 310, 300, 310]]\n",
    "# 1일차 수익 0원 (100 - 100), 2일차 수익 -10원 (190 - 200), 3일차 수익 10원 (310 - 300) 이다.\n",
    "\n",
    "# 0\n",
    "b =0\n",
    "for data in ohlc[1:4]:\n",
    "    a = data[-1]-data[0]\n",
    "    b += a\n",
    "print(b)"
   ]
  },
  {
   "cell_type": "code",
   "execution_count": null,
   "id": "c37a648d-0984-4b54-b291-c0c499302835",
   "metadata": {},
   "outputs": [],
   "source": []
  },
  {
   "cell_type": "code",
   "execution_count": null,
   "id": "7b898665-4947-4e68-a6b7-a1628d456774",
   "metadata": {},
   "outputs": [],
   "source": []
  },
  {
   "cell_type": "code",
   "execution_count": null,
   "id": "c9891f3f-2000-4e8e-9324-bf1b651569c7",
   "metadata": {},
   "outputs": [],
   "source": []
  }
 ],
 "metadata": {
  "kernelspec": {
   "display_name": "Python 3 (ipykernel)",
   "language": "python",
   "name": "python3"
  },
  "language_info": {
   "codemirror_mode": {
    "name": "ipython",
    "version": 3
   },
   "file_extension": ".py",
   "mimetype": "text/x-python",
   "name": "python",
   "nbconvert_exporter": "python",
   "pygments_lexer": "ipython3",
   "version": "3.12.4"
  }
 },
 "nbformat": 4,
 "nbformat_minor": 5
}
