


f = open('나없는파일', 'r')


4/0


a = [1,2,3]
a[3]





# 1. Try-except만 쓰는 방법
try: 
    4/0
except :
    print('0으로 나눌 수 없습니다.')


try: 
    4/0
except ZeroDivisionError : #에러를 따로 지정해둬서 지정된 에러만 예외처리
    print('0으로 나눌 수 없습니다.') 


try: 
    a = [1,2,3]
    a[3]
except ZeroDivisionError : #에러를 따로 지정해둬서 지정된 에러만 예외처리
    print('0으로 나눌 수 없습니다.') 


# 에러를 따로 구분을 해줘야지 어떤 에러인지 찾기가 수월


try: 
    4/0
except ZeroDivisionError as e:
      print('0으로 나눌 수 없습니다.')
      print(e)





# 여러개의 오류 처리하기



try:
    a = [1,2]
    print(a[3])
    4/0
except ZeroDivisionError:
    print("0으로 나눌 수 없습니다.")
except IndexError:
    print("인덱싱 할 수 없습니다.")



try:
    a = [1,2]
    print(a[3])
    4/0
except ZeroDivisionError as e:
    print(e)
except IndexError as e:
    print(e)





try:
    age=int(input('나이를 입력하세요: '))
except:
    print('입력이 정확하지 않습니다.')
else: # 오류가 발생하지 않으면 이어서 정상적으로 동작할 코드
    if age <= 18:
        print('미성년자는 출입금지입니다.')
    else:
        print('환영합니다.')
























































































































