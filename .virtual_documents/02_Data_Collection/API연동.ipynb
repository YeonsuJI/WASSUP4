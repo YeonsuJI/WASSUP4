


import requests, json, pandas as pd


URL ='http://www.krei.re.kr:18181/chart/main_chart/index/kind/W/sdate/2019-01-01/edate/2019-12-31'
resp = requests.get(URL)
resp




data = resp.text
print(type(data), len(data))
print(data)


data2 = resp.json()
print(type(data2), len(data2))
print(data2)


data2





id = []
date = []
symbol = []
open = []
close = []

for i in data2:
    id_.append(i['id'])
    date.append(i['date'])
    symbol.append(i['symbol'])
    open.append(i['open'])
    close.append(i['close'])
    













































