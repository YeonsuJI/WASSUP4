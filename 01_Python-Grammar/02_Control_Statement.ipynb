{
 "cells": [
  {
   "cell_type": "markdown",
   "id": "a0e5bed2-de3f-46f4-9f58-4f8d51075db2",
   "metadata": {},
   "source": [
    "## if문\n",
    "'돈이 있으면 택시를 타고 가고, 돈이 없으면 걸어간다.'"
   ]
  },
  {
   "cell_type": "code",
   "execution_count": 3,
   "id": "ec67b230-5bf5-49a4-9947-becde5e37b74",
   "metadata": {},
   "outputs": [
    {
     "name": "stdout",
     "output_type": "stream",
     "text": [
      "택시를 타고 가라\n"
     ]
    }
   ],
   "source": [
    "money = True\n",
    "if money:\n",
    "   print(\"택시를 타고 가라\")\n",
    "else:\n",
    "   print(\"걸어 가라\")"
   ]
  },
  {
   "cell_type": "code",
   "execution_count": 7,
   "id": "68d59b77-3d99-4903-a88f-3095ba5f6944",
   "metadata": {},
   "outputs": [
    {
     "ename": "IndentationError",
     "evalue": "unexpected indent (3745732759.py, line 6)",
     "output_type": "error",
     "traceback": [
      "\u001b[1;36m  Cell \u001b[1;32mIn[7], line 6\u001b[1;36m\u001b[0m\n\u001b[1;33m    print(\"가라\")\u001b[0m\n\u001b[1;37m    ^\u001b[0m\n\u001b[1;31mIndentationError\u001b[0m\u001b[1;31m:\u001b[0m unexpected indent\n"
     ]
    }
   ],
   "source": [
    "# 코드 블럭 들여쓰기 해라\n",
    "money = True\n",
    "if money:\n",
    "   print(\"택시를\")\n",
    "print(\"타고\")\n",
    "   print(\"가라\")"
   ]
  },
  {
   "cell_type": "code",
   "execution_count": 9,
   "id": "2621909b-21e7-4066-8e56-439669ea4fb3",
   "metadata": {},
   "outputs": [
    {
     "ename": "IndentationError",
     "evalue": "unexpected indent (2588056833.py, line 6)",
     "output_type": "error",
     "traceback": [
      "\u001b[1;36m  Cell \u001b[1;32mIn[9], line 6\u001b[1;36m\u001b[0m\n\u001b[1;33m    print(\"가라\")\u001b[0m\n\u001b[1;37m    ^\u001b[0m\n\u001b[1;31mIndentationError\u001b[0m\u001b[1;31m:\u001b[0m unexpected indent\n"
     ]
    }
   ],
   "source": [
    "# 코드 블럭 계층 주의\n",
    "money = True\n",
    "if money:\n",
    "    print(\"택시를\")\n",
    "    print(\"타고\")\n",
    "        print(\"가라\")\n"
   ]
  },
  {
   "cell_type": "markdown",
   "id": "d5289ce6-64ce-4a7f-bb62-9b0c49731b0c",
   "metadata": {},
   "source": [
    "### 비교 연산자"
   ]
  },
  {
   "cell_type": "code",
   "execution_count": 12,
   "id": "fc8853ab-903b-449f-934b-b33ae472b65f",
   "metadata": {},
   "outputs": [
    {
     "data": {
      "text/plain": [
       "True"
      ]
     },
     "execution_count": 12,
     "metadata": {},
     "output_type": "execute_result"
    }
   ],
   "source": [
    "x = 3\n",
    "y =2\n",
    "x > y"
   ]
  },
  {
   "cell_type": "code",
   "execution_count": 14,
   "id": "1de4e68d-f0a3-4776-b77b-402cd48028a7",
   "metadata": {},
   "outputs": [
    {
     "data": {
      "text/plain": [
       "False"
      ]
     },
     "execution_count": 14,
     "metadata": {},
     "output_type": "execute_result"
    }
   ],
   "source": [
    "x < y"
   ]
  },
  {
   "cell_type": "code",
   "execution_count": 16,
   "id": "3b681614-21d7-495d-a383-701d0374f003",
   "metadata": {},
   "outputs": [
    {
     "data": {
      "text/plain": [
       "True"
      ]
     },
     "execution_count": 16,
     "metadata": {},
     "output_type": "execute_result"
    }
   ],
   "source": [
    " x!=y"
   ]
  },
  {
   "cell_type": "markdown",
   "id": "6b3a434c-a0a7-46ce-b521-18273d2f62e2",
   "metadata": {},
   "source": [
    "## quiz : \n",
    "만약 3000원 이상의 돈을 가지고 있으면 택시타고, 그렇지 않으면 걸어가라"
   ]
  },
  {
   "cell_type": "code",
   "execution_count": 27,
   "id": "9713bca3-f94f-4502-b9f2-2f4a5dbf4f0c",
   "metadata": {},
   "outputs": [
    {
     "name": "stdout",
     "output_type": "stream",
     "text": [
      "택시를 타라\n"
     ]
    }
   ],
   "source": [
    "money = 4000\n",
    "if money>=3000 :\n",
    "    print(\"택시를 타라\")\n",
    "else:\n",
    "    print(\"걸어가라\")"
   ]
  },
  {
   "cell_type": "markdown",
   "id": "0faf2162-5583-4757-a62e-ce4bceae6592",
   "metadata": {},
   "source": [
    "### quiz :\n",
    "돈이 3000원 이상 있거나 카드가 있다면 택시를 타고 가고, 그렇지 않으면 걸어가라."
   ]
  },
  {
   "cell_type": "code",
   "execution_count": 34,
   "id": "33857ee1-d048-4109-a84b-bdda5b4fc4e0",
   "metadata": {},
   "outputs": [
    {
     "name": "stdout",
     "output_type": "stream",
     "text": [
      "택시를 타라\n"
     ]
    }
   ],
   "source": [
    "money = 0\n",
    "card = True\n",
    "if money>=3000 or card:\n",
    "    print(\"택시를 타라\")\n",
    "else:\n",
    "    print(\"걸어가라\")"
   ]
  },
  {
   "cell_type": "code",
   "execution_count": 36,
   "id": "08e69556-97a8-4448-85e9-878dc230dfdf",
   "metadata": {},
   "outputs": [
    {
     "data": {
      "text/plain": [
       "True"
      ]
     },
     "execution_count": 36,
     "metadata": {},
     "output_type": "execute_result"
    }
   ],
   "source": [
    ">>> 1 in [1, 2, 3]"
   ]
  },
  {
   "cell_type": "code",
   "execution_count": 38,
   "id": "4ba9efda-51a0-41e7-a932-0d2089b6a0a4",
   "metadata": {},
   "outputs": [
    {
     "data": {
      "text/plain": [
       "False"
      ]
     },
     "execution_count": 38,
     "metadata": {},
     "output_type": "execute_result"
    }
   ],
   "source": [
    ">>> 1 not in [1, 2, 3]"
   ]
  },
  {
   "cell_type": "code",
   "execution_count": 40,
   "id": "46268d59-5a8d-4488-9052-5fe30dcbe118",
   "metadata": {},
   "outputs": [
    {
     "data": {
      "text/plain": [
       "True"
      ]
     },
     "execution_count": 40,
     "metadata": {},
     "output_type": "execute_result"
    }
   ],
   "source": [
    "'a' in ('a', 'b', 'c')"
   ]
  },
  {
   "cell_type": "code",
   "execution_count": 42,
   "id": "f3ef768b-6b2e-4fca-91f2-8027bca4642f",
   "metadata": {},
   "outputs": [
    {
     "data": {
      "text/plain": [
       "False"
      ]
     },
     "execution_count": 42,
     "metadata": {},
     "output_type": "execute_result"
    }
   ],
   "source": [
    "'a' not in ('a', 'b', 'c')"
   ]
  },
  {
   "cell_type": "markdown",
   "id": "60ad178b-35b8-4630-967a-a12e1952badc",
   "metadata": {},
   "source": [
    "### quiz :\n",
    "만약 주머니에 돈이 있으면 택시를 타고 가고, 없으면 걸어가라."
   ]
  },
  {
   "cell_type": "code",
   "execution_count": 65,
   "id": "e99d5848-de21-40bc-a69d-be98ff4228a3",
   "metadata": {},
   "outputs": [
    {
     "name": "stdout",
     "output_type": "stream",
     "text": [
      "택시를 타라\n"
     ]
    }
   ],
   "source": [
    "pocket = ['phone', 'card','money']\n",
    "if 'money' in pocket:\n",
    "    print(\"택시를 타라\")\n",
    "else:\n",
    "    print(\"걸어가라\")"
   ]
  },
  {
   "cell_type": "markdown",
   "id": "7afb9e1e-6850-45af-92ad-8185671a49d3",
   "metadata": {},
   "source": [
    "## pass\n",
    "주머니에 돈이 있으면 가만히 있고, 주머니에 돈이 없으면 카드를 꺼내라."
   ]
  },
  {
   "cell_type": "code",
   "execution_count": 69,
   "id": "77f9c75b-1ca3-4545-8e02-7a4cb7a295a5",
   "metadata": {},
   "outputs": [],
   "source": [
    "pocket = ['phone', 'card','money']\n",
    "if 'money' in pocket:\n",
    "    pass\n",
    "else:\n",
    "    print(\"걸어가라\")"
   ]
  },
  {
   "cell_type": "markdown",
   "id": "54657614-6cbd-482b-886b-3443b03ecf9a",
   "metadata": {},
   "source": [
    "## elif\n",
    "주머니에 돈이 있으면 택시를 타고 가고,\n",
    "주머니에 돈은 없지만 카드가 있으면 택시를 타고 가고,\n",
    "돈도 없고 카드도 없으면 걸어가라."
   ]
  },
  {
   "cell_type": "code",
   "execution_count": 112,
   "id": "9dd5d210-ab09-467a-a674-f267306ddd56",
   "metadata": {},
   "outputs": [
    {
     "name": "stdout",
     "output_type": "stream",
     "text": [
      "현금택시\n"
     ]
    }
   ],
   "source": [
    "pocket = ['phone', 'money']\n",
    "card =True\n",
    "if 'money' in pocket:\n",
    "    print(\"현금택시\")\n",
    "else:\n",
    "    if card:\n",
    "        print(\"카드택시\")\n",
    "    else:\n",
    "        print(\"걸어가라\")"
   ]
  },
  {
   "cell_type": "code",
   "execution_count": 119,
   "id": "30a1ec40-91c9-4ee3-b2bd-c3dfccd4e82d",
   "metadata": {},
   "outputs": [
    {
     "name": "stdout",
     "output_type": "stream",
     "text": [
      "카드로 택시를 타라\n"
     ]
    }
   ],
   "source": [
    "pocket = ['phone', 'card','money1']\n",
    "if 'money' in pocket:\n",
    "    print(\"현금으로 택시를 타라\")\n",
    "elif 'money' or 'card' in pocket:\n",
    "    print(\"카드로 택시를 타라\")\n",
    "else:\n",
    "    print(\"걸어가라\")"
   ]
  },
  {
   "cell_type": "markdown",
   "id": "b92d8471-a4f5-4ff1-8a1e-327bcd41a8c1",
   "metadata": {},
   "source": [
    "## if문 한 줄로 작성하기"
   ]
  },
  {
   "cell_type": "code",
   "execution_count": 121,
   "id": "d18782c1-424c-41b8-8fb0-30711c310b59",
   "metadata": {},
   "outputs": [
    {
     "name": "stdout",
     "output_type": "stream",
     "text": [
      "카드를 꺼내라\n"
     ]
    }
   ],
   "source": [
    "if 'money' in pocket:\n",
    "    pass\n",
    "else:\n",
    "    print(\"카드를 꺼내라\")"
   ]
  },
  {
   "cell_type": "code",
   "execution_count": 123,
   "id": "87ae0509-5b04-4882-b82f-5d88210f2f64",
   "metadata": {},
   "outputs": [
    {
     "name": "stdout",
     "output_type": "stream",
     "text": [
      "카드를 꺼내라\n"
     ]
    }
   ],
   "source": [
    "if 'money' in pocket: pass\n",
    "else: print(\"카드를 꺼내라\")"
   ]
  },
  {
   "cell_type": "markdown",
   "id": "09153725-ad41-4efa-b7f8-11f966832a6b",
   "metadata": {},
   "source": [
    "### 조건부 표현식"
   ]
  },
  {
   "cell_type": "code",
   "execution_count": 134,
   "id": "1b585abf-bc2c-49f6-9daf-eb352bd7a85a",
   "metadata": {},
   "outputs": [
    {
     "name": "stdout",
     "output_type": "stream",
     "text": [
      "success\n"
     ]
    }
   ],
   "source": [
    "score = 60\n",
    "if score >= 60:\n",
    "    message = \"success\"\n",
    "    # print(message)\n",
    "else:\n",
    "    message = \"failure\"\n",
    "    # print(message)\n",
    "print(message)"
   ]
  },
  {
   "cell_type": "code",
   "execution_count": 138,
   "id": "1e5f38e5-e257-461f-b9e0-1f8697f3312c",
   "metadata": {},
   "outputs": [
    {
     "name": "stdout",
     "output_type": "stream",
     "text": [
      "success\n"
     ]
    }
   ],
   "source": [
    "massage = 'success' if score >= 60 else 'failure'\n",
    "print(message)"
   ]
  },
  {
   "cell_type": "markdown",
   "id": "7a342dd6-fd86-4fb2-9c59-7a074490c779",
   "metadata": {},
   "source": [
    "## while 반복문"
   ]
  },
  {
   "cell_type": "code",
   "execution_count": 143,
   "id": "f753987f-4a36-4f9e-9b56-b74798f022d8",
   "metadata": {},
   "outputs": [
    {
     "name": "stdout",
     "output_type": "stream",
     "text": [
      "나무를 1번 찍었습니다.\n",
      "나무를 2번 찍었습니다.\n",
      "나무를 3번 찍었습니다.\n",
      "나무를 4번 찍었습니다.\n",
      "나무를 5번 찍었습니다.\n",
      "나무를 6번 찍었습니다.\n",
      "나무를 7번 찍었습니다.\n",
      "나무를 8번 찍었습니다.\n",
      "나무를 9번 찍었습니다.\n",
      "나무를 10번 찍었습니다.\n",
      "나무 넘어갑니다.\n"
     ]
    }
   ],
   "source": [
    "treeHit = 0\n",
    "while treeHit < 10:\n",
    "    treeHit = treeHit +1\n",
    "    print(\"나무를 %d번 찍었습니다.\" %treeHit)\n",
    "    if treeHit ==10:\n",
    "         print(\"나무 넘어갑니다.\")\n"
   ]
  },
  {
   "cell_type": "code",
   "execution_count": 147,
   "id": "9b9a3d11-438d-483f-b0ac-81d022908273",
   "metadata": {},
   "outputs": [],
   "source": [
    "prompt = '''\n",
    "1. Add\n",
    "2. Del\n",
    "3. List\n",
    "4. Quit\n",
    "\n",
    "Enter number : '''"
   ]
  },
  {
   "cell_type": "code",
   "execution_count": 149,
   "id": "2eb71a83-645f-426b-9b70-4b95706083f3",
   "metadata": {},
   "outputs": [
    {
     "data": {
      "text/plain": [
       "'\\n1. Add\\n2. Del\\n3. List\\n4. Quit\\n\\nEnter number : '"
      ]
     },
     "execution_count": 149,
     "metadata": {},
     "output_type": "execute_result"
    }
   ],
   "source": [
    "prompt"
   ]
  },
  {
   "cell_type": "code",
   "execution_count": 151,
   "id": "bd276163-2d41-4918-82f9-b132cb8ca2d7",
   "metadata": {},
   "outputs": [
    {
     "name": "stdout",
     "output_type": "stream",
     "text": [
      "\n",
      "1. Add\n",
      "2. Del\n",
      "3. List\n",
      "4. Quit\n",
      "\n",
      "Enter number : \n"
     ]
    }
   ],
   "source": [
    "print(prompt)"
   ]
  },
  {
   "cell_type": "code",
   "execution_count": 153,
   "id": "cbb85533-ffc1-4d8a-a997-baa6a928f54c",
   "metadata": {},
   "outputs": [
    {
     "name": "stdin",
     "output_type": "stream",
     "text": [
      " 안녕하세요\n"
     ]
    },
    {
     "data": {
      "text/plain": [
       "'안녕하세요'"
      ]
     },
     "execution_count": 153,
     "metadata": {},
     "output_type": "execute_result"
    }
   ],
   "source": [
    "input() "
   ]
  },
  {
   "cell_type": "code",
   "execution_count": 157,
   "id": "0d765de2-06b0-4d95-afa5-15c9635f06f7",
   "metadata": {},
   "outputs": [
    {
     "name": "stdout",
     "output_type": "stream",
     "text": [
      "\n",
      "1. Add\n",
      "2. Del\n",
      "3. List\n",
      "4. Quit\n",
      "\n",
      "Enter number : \n"
     ]
    },
    {
     "name": "stdin",
     "output_type": "stream",
     "text": [
      " 2\n"
     ]
    },
    {
     "name": "stdout",
     "output_type": "stream",
     "text": [
      "\n",
      "1. Add\n",
      "2. Del\n",
      "3. List\n",
      "4. Quit\n",
      "\n",
      "Enter number : \n"
     ]
    },
    {
     "name": "stdin",
     "output_type": "stream",
     "text": [
      " 1\n"
     ]
    },
    {
     "name": "stdout",
     "output_type": "stream",
     "text": [
      "\n",
      "1. Add\n",
      "2. Del\n",
      "3. List\n",
      "4. Quit\n",
      "\n",
      "Enter number : \n"
     ]
    },
    {
     "name": "stdin",
     "output_type": "stream",
     "text": [
      " 3\n"
     ]
    },
    {
     "name": "stdout",
     "output_type": "stream",
     "text": [
      "\n",
      "1. Add\n",
      "2. Del\n",
      "3. List\n",
      "4. Quit\n",
      "\n",
      "Enter number : \n"
     ]
    },
    {
     "name": "stdin",
     "output_type": "stream",
     "text": [
      " 4\n"
     ]
    }
   ],
   "source": [
    "number = 0\n",
    "while number != 4:\n",
    "    print(prompt)\n",
    "    number = int(input()) #input은 무조건 문자열로 반환하기 때문에 int로 바꿔줌"
   ]
  },
  {
   "cell_type": "markdown",
   "id": "9cbf97ab-e70a-42c7-acf0-f90df69986eb",
   "metadata": {},
   "source": [
    "## While 문 강제로 빠져나가기"
   ]
  },
  {
   "cell_type": "code",
   "execution_count": 160,
   "id": "061585e4-1ba4-4703-9efd-45749ae15d12",
   "metadata": {},
   "outputs": [
    {
     "name": "stdout",
     "output_type": "stream",
     "text": [
      "돈을 받았으니 커피를 줍니다.\n",
      "남은 커피의 양은 9개입니다.\n",
      "돈을 받았으니 커피를 줍니다.\n",
      "남은 커피의 양은 8개입니다.\n",
      "돈을 받았으니 커피를 줍니다.\n",
      "남은 커피의 양은 7개입니다.\n",
      "돈을 받았으니 커피를 줍니다.\n",
      "남은 커피의 양은 6개입니다.\n",
      "돈을 받았으니 커피를 줍니다.\n",
      "남은 커피의 양은 5개입니다.\n",
      "돈을 받았으니 커피를 줍니다.\n",
      "남은 커피의 양은 4개입니다.\n",
      "돈을 받았으니 커피를 줍니다.\n",
      "남은 커피의 양은 3개입니다.\n",
      "돈을 받았으니 커피를 줍니다.\n",
      "남은 커피의 양은 2개입니다.\n",
      "돈을 받았으니 커피를 줍니다.\n",
      "남은 커피의 양은 1개입니다.\n",
      "돈을 받았으니 커피를 줍니다.\n",
      "남은 커피의 양은 0개입니다.\n",
      "커피가 다 떨어졌습니다. 판매를 중지합니다.\n"
     ]
    }
   ],
   "source": [
    "coffee = 10\n",
    "money = 300\n",
    "while money:\n",
    "    print(\"돈을 받았으니 커피를 줍니다.\")\n",
    "    coffee = coffee -1\n",
    "    print(\"남은 커피의 양은 %d개입니다.\" % coffee)\n",
    "    if coffee == 0:\n",
    "        print(\"커피가 다 떨어졌습니다. 판매를 중지합니다.\")\n",
    "        break"
   ]
  },
  {
   "cell_type": "markdown",
   "id": "8b3aa394-aefe-4b2f-89a8-19eb8fceecfb",
   "metadata": {},
   "source": [
    "## quiz\n",
    "money를 사용자 입력 받는\n",
    "커피 자판기 프로그램을 만들어보자"
   ]
  },
  {
   "cell_type": "code",
   "execution_count": 201,
   "id": "b117eb53-c1ae-43e7-86fb-67dfcaf74589",
   "metadata": {},
   "outputs": [],
   "source": [
    "prompt = '''\n",
    "1. Add\n",
    "2. Del\n",
    "3. List\n",
    "4. Quit\n",
    "\n",
    "Enter number : '''"
   ]
  },
  {
   "cell_type": "code",
   "execution_count": 189,
   "id": "eb7cbbfc-574d-424c-bbb2-c9a4e44b45bd",
   "metadata": {},
   "outputs": [
    {
     "name": "stdout",
     "output_type": "stream",
     "text": [
      "\n",
      "1. 믹스커피\n",
      "2. 블랙커피\n",
      "3. 우유\n",
      "4. 저리가\n",
      "\n",
      "Enter number : \n"
     ]
    },
    {
     "name": "stdin",
     "output_type": "stream",
     "text": [
      " 5\n"
     ]
    },
    {
     "name": "stdout",
     "output_type": "stream",
     "text": [
      "\n",
      "1. 믹스커피\n",
      "2. 블랙커피\n",
      "3. 우유\n",
      "4. 저리가\n",
      "\n",
      "Enter number : \n"
     ]
    },
    {
     "name": "stdin",
     "output_type": "stream",
     "text": [
      " 5\n"
     ]
    },
    {
     "name": "stdout",
     "output_type": "stream",
     "text": [
      "\n",
      "1. 믹스커피\n",
      "2. 블랙커피\n",
      "3. 우유\n",
      "4. 저리가\n",
      "\n",
      "Enter number : \n"
     ]
    },
    {
     "name": "stdin",
     "output_type": "stream",
     "text": [
      " 6\n"
     ]
    },
    {
     "name": "stdout",
     "output_type": "stream",
     "text": [
      "\n",
      "1. 믹스커피\n",
      "2. 블랙커피\n",
      "3. 우유\n",
      "4. 저리가\n",
      "\n",
      "Enter number : \n"
     ]
    },
    {
     "name": "stdin",
     "output_type": "stream",
     "text": [
      " 4\n"
     ]
    }
   ],
   "source": [
    "number = 0\n",
    "pocket= [\"money\", \"card\"]\n",
    "while number != 4:\n",
    "    if \"money\" in pocket or \"card\" in pocket:\n",
    "        print(prompt)\n",
    "        number = int(input())\n",
    "        if number == 1:\n",
    "            print(\"믹스커피를 추출합니다\")\n",
    "        elif number == 2:\n",
    "            print(\"블랙커피를 추출합니다\")\n",
    "        elif number == 3:\n",
    "            print(\"우유를 추출합니다\")\n",
    "    else:\n",
    "        break\n",
    "        "
   ]
  },
  {
   "cell_type": "code",
   "execution_count": 213,
   "id": "74b4e069-8c45-4920-a9b3-d77ee4b7865b",
   "metadata": {},
   "outputs": [
    {
     "name": "stdin",
     "output_type": "stream",
     "text": [
      "돈을 넣어주세요. 300\n"
     ]
    },
    {
     "name": "stdout",
     "output_type": "stream",
     "text": [
      "커피를 줍니다\n",
      "남은 커피의 양은9개 입니다.\n"
     ]
    },
    {
     "name": "stdin",
     "output_type": "stream",
     "text": [
      "돈을 넣어주세요. 500\n"
     ]
    },
    {
     "name": "stdout",
     "output_type": "stream",
     "text": [
      "거스름돈 200을 주고 커피를 줍니다\n",
      "남은 커피의 양은8개 입니다.\n"
     ]
    },
    {
     "name": "stdin",
     "output_type": "stream",
     "text": [
      "돈을 넣어주세요. 600\n"
     ]
    },
    {
     "name": "stdout",
     "output_type": "stream",
     "text": [
      "거스름돈 300을 주고 커피를 줍니다\n",
      "남은 커피의 양은7개 입니다.\n"
     ]
    },
    {
     "name": "stdin",
     "output_type": "stream",
     "text": [
      "돈을 넣어주세요. 1000\n"
     ]
    },
    {
     "name": "stdout",
     "output_type": "stream",
     "text": [
      "거스름돈 700을 주고 커피를 줍니다\n",
      "남은 커피의 양은6개 입니다.\n"
     ]
    },
    {
     "name": "stdin",
     "output_type": "stream",
     "text": [
      "돈을 넣어주세요. 200\n"
     ]
    },
    {
     "name": "stdout",
     "output_type": "stream",
     "text": [
      "돈을 다시 돌려주고 커피를 주지 않습니다.\n",
      "남은 커피의 양은6개 입니다.\n"
     ]
    },
    {
     "name": "stdin",
     "output_type": "stream",
     "text": [
      "돈을 넣어주세요. 30\n"
     ]
    },
    {
     "name": "stdout",
     "output_type": "stream",
     "text": [
      "돈을 다시 돌려주고 커피를 주지 않습니다.\n",
      "남은 커피의 양은6개 입니다.\n"
     ]
    },
    {
     "name": "stdin",
     "output_type": "stream",
     "text": [
      "돈을 넣어주세요. 3000\n"
     ]
    },
    {
     "name": "stdout",
     "output_type": "stream",
     "text": [
      "거스름돈 2700을 주고 커피를 줍니다\n",
      "남은 커피의 양은5개 입니다.\n"
     ]
    },
    {
     "name": "stdin",
     "output_type": "stream",
     "text": [
      "돈을 넣어주세요. 3000\n"
     ]
    },
    {
     "name": "stdout",
     "output_type": "stream",
     "text": [
      "거스름돈 2700을 주고 커피를 줍니다\n",
      "남은 커피의 양은4개 입니다.\n"
     ]
    },
    {
     "name": "stdin",
     "output_type": "stream",
     "text": [
      "돈을 넣어주세요. 300\n"
     ]
    },
    {
     "name": "stdout",
     "output_type": "stream",
     "text": [
      "커피를 줍니다\n",
      "남은 커피의 양은3개 입니다.\n"
     ]
    },
    {
     "name": "stdin",
     "output_type": "stream",
     "text": [
      "돈을 넣어주세요. 300\n"
     ]
    },
    {
     "name": "stdout",
     "output_type": "stream",
     "text": [
      "커피를 줍니다\n",
      "남은 커피의 양은2개 입니다.\n"
     ]
    },
    {
     "name": "stdin",
     "output_type": "stream",
     "text": [
      "돈을 넣어주세요. 300\n"
     ]
    },
    {
     "name": "stdout",
     "output_type": "stream",
     "text": [
      "커피를 줍니다\n",
      "남은 커피의 양은1개 입니다.\n"
     ]
    },
    {
     "name": "stdin",
     "output_type": "stream",
     "text": [
      "돈을 넣어주세요. 300\n"
     ]
    },
    {
     "name": "stdout",
     "output_type": "stream",
     "text": [
      "커피를 줍니다\n",
      "남은 커피의 양은0개 입니다.\n",
      "커피가 다 떨어졌습니다. 판매를 중지합니다.\n"
     ]
    }
   ],
   "source": [
    "coffee = 10\n",
    "while True :\n",
    "    \n",
    "    money = int(input(\"돈을 넣어주세요.\"))\n",
    "\n",
    "    if money == 300: #돈을 딱 맞게 받은 케이스\n",
    "        print('커피를 줍니다')\n",
    "        coffee -= 1\n",
    "        #재고 소진\n",
    "        print(f'남은 커피의 양은{coffee}개 입니다.')\n",
    "    \n",
    "    elif money > 300 : #돈을 더 받았을 경우\n",
    "        # print('거스름돈 %d을 주고 커피를 줍니다.'%(money-300)) #거스름돈 계산\n",
    "        print(f'거스름돈 {money -300}을 주고 커피를 줍니다')\n",
    "        coffee -= 1\n",
    "        #재고 소진\n",
    "        print(f'남은 커피의 양은{coffee}개 입니다.')\n",
    "        \n",
    "    else : #돈이 부족할 경우\n",
    "        print('돈을 다시 돌려주고 커피를 주지 않습니다.')\n",
    "        print(f'남은 커피의 양은{coffee}개 입니다.')\n",
    "        #남은 재고 체크\n",
    "    \n",
    "    if coffee == 0: #커피가 다 떨어졌을 경우\n",
    "        print('커피가 다 떨어졌습니다. 판매를 중지합니다.')\n",
    "        break"
   ]
  },
  {
   "cell_type": "markdown",
   "id": "4e113410-f17a-403a-a2f4-0304c97ea11f",
   "metadata": {},
   "source": [
    "## while문 맨 처음으로 돌아가기 continue"
   ]
  },
  {
   "cell_type": "code",
   "execution_count": 231,
   "id": "a7f98e0e-dd72-4331-bbdd-2fb1801e8241",
   "metadata": {},
   "outputs": [
    {
     "name": "stdout",
     "output_type": "stream",
     "text": [
      "1\n",
      "3\n",
      "5\n",
      "7\n",
      "9\n"
     ]
    }
   ],
   "source": [
    "a = 0\n",
    "while a < 10:\n",
    "    a +=1\n",
    "    \n",
    "    if a%2 == 0:\n",
    "        continue\n",
    "        \n",
    "    print(a)"
   ]
  },
  {
   "cell_type": "markdown",
   "id": "e24c1fc9-4d47-411b-87db-2b5d0d551bdc",
   "metadata": {},
   "source": [
    "## For 반복문\n",
    "for 변수 in 이터러블 객체: #이터레이션 : 시퀀스의 항목 개수만큼 순서대로 반복\n",
    "    수행할 문장1\n",
    "    문장 222"
   ]
  },
  {
   "cell_type": "code",
   "execution_count": 239,
   "id": "d95d17af-6462-4ba3-adf9-e8c4ff80fea7",
   "metadata": {},
   "outputs": [
    {
     "name": "stdout",
     "output_type": "stream",
     "text": [
      "one\n",
      "two\n",
      "three\n"
     ]
    }
   ],
   "source": [
    "# 전령적인 for문\n",
    "test_list = ['one', 'two', 'three']\n",
    "\n",
    "for i in test_list:\n",
    "    print(i)\n"
   ]
  },
  {
   "cell_type": "code",
   "execution_count": 253,
   "id": "ef84f87c-3a72-4063-8acf-b79b86c3b865",
   "metadata": {},
   "outputs": [
    {
     "name": "stdout",
     "output_type": "stream",
     "text": [
      "(1, 2)\n",
      "(3, 4)\n",
      "(5, 6)\n"
     ]
    }
   ],
   "source": [
    "a = [(1,2),(3,4),(5,6)]\n",
    "for i in a:\n",
    "    print(i)"
   ]
  },
  {
   "cell_type": "code",
   "execution_count": 255,
   "id": "5bda0ace-0263-466f-bd28-37a40bb5fff6",
   "metadata": {},
   "outputs": [
    {
     "name": "stdout",
     "output_type": "stream",
     "text": [
      "3\n",
      "7\n",
      "11\n"
     ]
    }
   ],
   "source": [
    "for first, last in a:\n",
    "    print(first+last)"
   ]
  },
  {
   "cell_type": "markdown",
   "id": "b5b1921e-73ea-455b-a720-71831e70c636",
   "metadata": {},
   "source": [
    "## quiz\n",
    "총 5명의 학생이 시험을 보았는데 시험 점수가 60점 이상이면 합격이고 그렇지 않으면 불합격이다. 합격인지, 불합격인지 결과를 보여 주시오."
   ]
  },
  {
   "cell_type": "code",
   "execution_count": 266,
   "id": "117a0479-718a-4b3d-af2d-9ac75776631e",
   "metadata": {},
   "outputs": [
    {
     "name": "stdout",
     "output_type": "stream",
     "text": [
      "90\n",
      "1번 학생은 90 합격\n",
      "25\n",
      "2번 학생은 25 불합격\n",
      "67\n",
      "3번 학생은 67 합격\n",
      "45\n",
      "4번 학생은 45 불합격\n",
      "80\n",
      "5번 학생은 80 합격\n"
     ]
    }
   ],
   "source": [
    "scores = [90, 25, 67, 45, 80]\n",
    "number = 0\n",
    "for s in scores :\n",
    "    print(s)\n",
    "    number += 1\n",
    "    if s>= 60:\n",
    "        print(f\"{number}번 학생은 {s} 합격\")\n",
    "    else:\n",
    "        print(f\"{number}번 학생은 {s} 불합격\")"
   ]
  },
  {
   "cell_type": "code",
   "execution_count": null,
   "id": "dd3dd0a9-1fed-426c-ac60-e6140637be9f",
   "metadata": {},
   "outputs": [],
   "source": []
  },
  {
   "cell_type": "code",
   "execution_count": null,
   "id": "44f4ff94-6d42-49c6-9e72-922e4eb25dac",
   "metadata": {},
   "outputs": [],
   "source": []
  },
  {
   "cell_type": "code",
   "execution_count": null,
   "id": "9d0e6cde-ae68-4ff2-a73b-49273c727967",
   "metadata": {},
   "outputs": [],
   "source": []
  },
  {
   "cell_type": "code",
   "execution_count": null,
   "id": "0b8b3899-9566-40de-b566-e55599a30116",
   "metadata": {},
   "outputs": [],
   "source": []
  },
  {
   "cell_type": "code",
   "execution_count": null,
   "id": "801d80da-3406-44e8-8867-f54bdbbd3c5c",
   "metadata": {},
   "outputs": [],
   "source": []
  },
  {
   "cell_type": "code",
   "execution_count": null,
   "id": "6b5e2203-d9f2-4a7d-8caa-027c12746d91",
   "metadata": {},
   "outputs": [],
   "source": []
  }
 ],
 "metadata": {
  "kernelspec": {
   "display_name": "Python 3 (ipykernel)",
   "language": "python",
   "name": "python3"
  },
  "language_info": {
   "codemirror_mode": {
    "name": "ipython",
    "version": 3
   },
   "file_extension": ".py",
   "mimetype": "text/x-python",
   "name": "python",
   "nbconvert_exporter": "python",
   "pygments_lexer": "ipython3",
   "version": "3.12.4"
  }
 },
 "nbformat": 4,
 "nbformat_minor": 5
}
