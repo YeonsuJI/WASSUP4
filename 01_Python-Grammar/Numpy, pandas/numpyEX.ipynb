{
 "cells": [
  {
   "cell_type": "code",
   "execution_count": 1,
   "id": "6d5261e8-e5be-4b5d-9609-62e4f9c9a57d",
   "metadata": {},
   "outputs": [],
   "source": [
    "# Numpy\n",
    "# Numerical Python\n",
    "# 고성능 수치 계산을 위한 라이브러리\n",
    "# 벡터나 행렬 연산에 편리한 기능 제공\n",
    "# 모든 원소는 같은 자료형만 가능"
   ]
  },
  {
   "cell_type": "code",
   "execution_count": 2,
   "id": "0047a824-7aa3-4c45-87fe-210323211efd",
   "metadata": {},
   "outputs": [
    {
     "name": "stdout",
     "output_type": "stream",
     "text": [
      "[ 0  1  2  3  4  5  6  7  8  9 10 11 12 13 14]\n",
      "[[ 0  3  6  9 12]\n",
      " [ 1  4  7 10 13]\n",
      " [ 2  5  8 11 14]]\n",
      "<class 'numpy.ndarray'>\n",
      "(3, 5)\n",
      "int32\n",
      "2\n",
      "15\n"
     ]
    }
   ],
   "source": [
    "import numpy as np\n",
    "a = np.arange( 15 ) # 1차원 데이터\n",
    "print( a )\n",
    "a = a.reshape( 3,5, order='F') #c행부터 할당 기본값F열부터 할당# reshape : 차원을 바꾸는 함수\n",
    "#a = np.arange(15).reshape(3,5) 이것도 가능\n",
    "print( a )\n",
    "print( type( a )  )\n",
    "print( a.shape )\n",
    "print( a.dtype )\n",
    "print(a.ndim) # 몇 차원 데이터인지 알려주는 것\n",
    "print(a.size)\n",
    "# print( dir(np)) # 넘파이에서 쓸 수 있는 것들"
   ]
  },
  {
   "cell_type": "code",
   "execution_count": 3,
   "id": "add506e5-8b13-494a-81b8-a1ad5cdbeafc",
   "metadata": {},
   "outputs": [
    {
     "name": "stdout",
     "output_type": "stream",
     "text": [
      "[[ 0  3  6  9 12]\n",
      " [ 1  4  7 10 13]\n",
      " [ 2  5  8 11 14]]\n"
     ]
    }
   ],
   "source": [
    "print(a)"
   ]
  },
  {
   "cell_type": "code",
   "execution_count": 4,
   "id": "df0f735a-3073-4382-816d-3c469f6a0a7d",
   "metadata": {},
   "outputs": [
    {
     "name": "stdout",
     "output_type": "stream",
     "text": [
      "<class 'list'>\n",
      "<class 'numpy.ndarray'>\n",
      "<class 'tuple'>\n",
      "<class 'numpy.ndarray'>\n",
      "<class 'set'>\n",
      "<class 'numpy.ndarray'>\n"
     ]
    }
   ],
   "source": [
    "b = [-1, 2, 5, -3, 0, 7, -9, 7, -4,-7] # list\n",
    "print(type(b))\n",
    "b = np.array(b)\n",
    "print(type(b))\n",
    "\n",
    "t = (10,20,30,40,50) # Tuple\n",
    "print(type(t))\n",
    "t = np.array(t)\n",
    "print(type(t))\n",
    "\n",
    "s = {10,20,30,40,50} # set\n",
    "print(type(s))\n",
    "s = np.array(s)\n",
    "print(type(s))\n",
    "\n",
    "# 딕셔너리는 넘파이로 바로 바꿀 수 없음. but 판다스로 호환 가능\n"
   ]
  },
  {
   "cell_type": "code",
   "execution_count": 5,
   "id": "f95da58c-e754-4e5a-8d50-c5c305daf3a9",
   "metadata": {},
   "outputs": [
    {
     "name": "stdout",
     "output_type": "stream",
     "text": [
      "(10,)\n",
      "1\n",
      "int32\n",
      "[-1  2  5 -3  0  7 -9  7 -4 -7]\n",
      "[1 2 5 3 0 7 9 7 4 7]\n",
      "[1.         1.41421356 2.23606798 1.73205081 0.         2.64575131\n",
      " 3.         2.64575131 2.         2.64575131]\n",
      "[ 1  4 25  9  0 49 81 49 16 49]\n",
      "[False False False False False False False False False False]\n",
      "-3\n",
      "-0.3\n",
      "7\n",
      "-9\n",
      "5\n",
      "6\n",
      "[-9 -7 -4 -3 -1  0  2  5  7  7]\n",
      "[ 7  7  5  2  0 -1 -3 -4 -7 -9]\n",
      "-0.5\n"
     ]
    }
   ],
   "source": [
    "print(b.shape)\n",
    "print(b.ndim)\n",
    "print(b.dtype)\n",
    "print(b)\n",
    "\n",
    "# print(help(np.arange))  # help(원하는 함수의 설명만도 볼 수 잇음) = dir 이라고 생각하면 편함\n",
    "print(np.abs(b))          # 절대값\n",
    "print(np.sqrt(np.abs(b))) #제곱근 / 이중함수 가능 \n",
    "# nan = not a number (음수의 경우에 주로 나옴)\n",
    "print(np.square(b))       # 제곱\n",
    "print(np.isnan(b))        # nan이면 True 아니면 False\n",
    "print(np.sum(b))          # 합계\n",
    "print(np.mean(b))         # 평균\n",
    "print(np.max(b))          # 최값\n",
    "print(np.min(b))          # 최솟값\n",
    "print(np.argmax(b))       # 최댓값 인덱스\n",
    "print(np.argmin(b))       # 최솟값 인덱스\n",
    "print(np.sort(b))         # 오름차순 정렬\n",
    "print(np.sort(b)[::-1])   # 내림차순 정렬 [start : end : step]\n",
    "print(np.median(b))       # 중간값\n"
   ]
  },
  {
   "cell_type": "code",
   "execution_count": 6,
   "id": "98faf83a-3dcd-4431-a81f-cf488f3cae49",
   "metadata": {},
   "outputs": [],
   "source": [
    "c = np.zeros((3,3))"
   ]
  },
  {
   "cell_type": "code",
   "execution_count": 7,
   "id": "c299d286-b60d-4ca7-9088-529ea6502953",
   "metadata": {},
   "outputs": [
    {
     "name": "stdout",
     "output_type": "stream",
     "text": [
      "[[0. 0. 0.]\n",
      " [0. 0. 0.]\n",
      " [0. 0. 0.]]\n"
     ]
    }
   ],
   "source": [
    "print(c)"
   ]
  },
  {
   "cell_type": "code",
   "execution_count": 8,
   "id": "1106b1c3-d2a5-45f3-97ab-159735381fdc",
   "metadata": {},
   "outputs": [],
   "source": [
    "d = np.ones((3,3))"
   ]
  },
  {
   "cell_type": "code",
   "execution_count": 9,
   "id": "b94290bd-b05c-4ebf-9c85-4cdea67b4a93",
   "metadata": {},
   "outputs": [
    {
     "name": "stdout",
     "output_type": "stream",
     "text": [
      "[[1. 1. 1.]\n",
      " [1. 1. 1.]\n",
      " [1. 1. 1.]]\n"
     ]
    }
   ],
   "source": [
    "print(d)"
   ]
  },
  {
   "cell_type": "code",
   "execution_count": 10,
   "id": "f1385d8d-d23c-4cdc-a773-f7d85265c37a",
   "metadata": {},
   "outputs": [
    {
     "data": {
      "text/plain": [
       "array([[0., 0., 0.],\n",
       "       [0., 0., 0.],\n",
       "       [0., 0., 0.]])"
      ]
     },
     "execution_count": 10,
     "metadata": {},
     "output_type": "execute_result"
    }
   ],
   "source": [
    "np.zeros_like(d)"
   ]
  },
  {
   "cell_type": "code",
   "execution_count": 11,
   "id": "4435f513-b91d-47c4-b398-5edabb0dff1c",
   "metadata": {},
   "outputs": [
    {
     "data": {
      "text/plain": [
       "array([[1., 1., 1.],\n",
       "       [1., 1., 1.],\n",
       "       [1., 1., 1.]])"
      ]
     },
     "execution_count": 11,
     "metadata": {},
     "output_type": "execute_result"
    }
   ],
   "source": [
    "np.ones_like(c)"
   ]
  },
  {
   "cell_type": "code",
   "execution_count": 12,
   "id": "b1504ea4-f6e9-459e-ac18-c5350d917f52",
   "metadata": {},
   "outputs": [
    {
     "data": {
      "text/plain": [
       "array([[0.3726647 , 0.54649523, 0.12094826],\n",
       "       [0.90002562, 0.23506053, 0.70075717],\n",
       "       [0.35334318, 0.70350475, 0.96732143]])"
      ]
     },
     "execution_count": 12,
     "metadata": {},
     "output_type": "execute_result"
    }
   ],
   "source": [
    "np.random.rand(3,3)"
   ]
  },
  {
   "cell_type": "code",
   "execution_count": 13,
   "id": "ade3fef6-5920-4425-a271-16e579e2729e",
   "metadata": {},
   "outputs": [
    {
     "data": {
      "text/plain": [
       "array([[[24,  7, 30],\n",
       "        [26, 24,  1],\n",
       "        [29,  3,  2]],\n",
       "\n",
       "       [[ 5, 19, 25],\n",
       "        [20, 23,  7],\n",
       "        [ 9, 10, 31]],\n",
       "\n",
       "       [[33, 30, 35],\n",
       "        [39, 21,  4],\n",
       "        [21, 38, 27]]])"
      ]
     },
     "execution_count": 13,
     "metadata": {},
     "output_type": "execute_result"
    }
   ],
   "source": [
    "np.random.randint(1,40,size =(3,3,3)) # size =는 없어도 됨"
   ]
  },
  {
   "cell_type": "code",
   "execution_count": 14,
   "id": "d01b1105-34ce-43ac-a018-91abad693840",
   "metadata": {},
   "outputs": [
    {
     "name": "stdout",
     "output_type": "stream",
     "text": [
      "<class 'list'>\n",
      "[[1, 2, 3], [4, 5, 6]]\n",
      "<class 'numpy.ndarray'>\n",
      "[[1 2 3]\n",
      " [4 5 6]]\n",
      "21\n",
      "[5 7 9]\n",
      "[ 6 15]\n",
      "3.5\n",
      "[2.5 3.5 4.5]\n",
      "6\n",
      "[4 5 6]\n",
      "[3 6]\n",
      "1.707825127659933\n",
      "2.9166666666666665\n"
     ]
    }
   ],
   "source": [
    "c = [[1,2,3], [4,5,6]]\n",
    "print(type(c))\n",
    "print(c)\n",
    "c = np.array(c)\n",
    "print(type(c))\n",
    "print(c)\n",
    "\n",
    "print(np.sum(c))\n",
    "print(np.sum(c, axis =0)) # 행끼리 계산\n",
    "print(np.sum(c, axis =1)) # 열끼리 계산\n",
    "print(np.median(c))\n",
    "print(np.median(c,  axis = 0)) #행끼리의 중간값\n",
    "print(np.max(c))\n",
    "print(np.max(c,  axis = 0)) # 행끼리 큰값 비교\n",
    "print(np.max(c,  axis = 1)) # 열끼리 큰값 비교\n",
    "\n",
    "print(np.std(c)) #표준편차\n",
    "print(np.var(c)) #분산"
   ]
  },
  {
   "cell_type": "code",
   "execution_count": 15,
   "id": "f8887409-0da6-4ecb-9813-4183dfa12343",
   "metadata": {},
   "outputs": [
    {
     "name": "stdout",
     "output_type": "stream",
     "text": [
      "[12 22 32 42 52]\n",
      "[11 22 33 44 55]\n",
      "[ 100  400  900 1600 2500]\n",
      "[ -5.44021111  18.25890501 -29.64094872  29.80452642 -13.11874269]\n",
      "[False False False  True  True]\n",
      "[11 22 33 44 55]\n",
      "[ 9 18 27 36 45]\n",
      "[ 10  40  90 160 250]\n",
      "[10. 10. 10. 10. 10.]\n"
     ]
    }
   ],
   "source": [
    "# element wise\n",
    "d = [10,20,30,40,50]\n",
    "# print(d +2)  # error\n",
    "d= np.array(d)\n",
    "print(d+2)  #리스트는 int랑 연산이 불가능한데 넘파이는 가능\n",
    "\n",
    "e = np.array([1,2,3,4,5]) \n",
    "print(d+e) # 값의 갯수 다르면 에러 뜸.\n",
    "print(d ** 2) # **두개 붙이면 제곱 연산자\n",
    "print(d * np.sin(d))\n",
    "print(d > 35) # 비교 연산자라서 결과값이 논리값이 나옴\n",
    "\n",
    "print(np.add(d,e))\n",
    "print(np.subtract(d,e))\n",
    "print(np.multiply(d,e))\n",
    "print(np.divide(d,e))"
   ]
  },
  {
   "cell_type": "code",
   "execution_count": 16,
   "id": "234b6fb1-e712-4c78-82c6-2894374d7189",
   "metadata": {},
   "outputs": [
    {
     "name": "stdout",
     "output_type": "stream",
     "text": [
      "[[0 0]\n",
      " [3 4]]\n",
      "[[3 4]\n",
      " [5 4]]\n",
      "[[3 4]\n",
      " [5 4]]\n",
      "[[3 4]\n",
      " [5 4]]\n"
     ]
    }
   ],
   "source": [
    "f = np.array( [ [0,1], [1,1] ] )\n",
    "g = np.array( [ [2,0], [3,4] ] )\n",
    "print(f*g)          # 행끼리 곱\n",
    "print(f@g)          # 행렬곱\n",
    "print(np.dot(f,g))  # 행렬곱\n",
    "print(f.dot(g))"
   ]
  },
  {
   "cell_type": "code",
   "execution_count": 42,
   "id": "880c1618-4bd4-4645-988e-7ced71ca86c2",
   "metadata": {},
   "outputs": [
    {
     "name": "stdout",
     "output_type": "stream",
     "text": [
      "[0. 0. 0. 0. 0. 0. 0. 0. 0. 0.]\n",
      "[[0. 0. 0. 0. 0.]\n",
      " [0. 0. 0. 0. 0.]\n",
      " [0. 0. 0. 0. 0.]\n",
      " [0. 0. 0. 0. 0.]\n",
      " [0. 0. 0. 0. 0.]]\n",
      "[1. 1. 1. 1. 1. 1. 1. 1. 1. 1.]\n",
      "<class 'numpy.ndarray'>\n",
      "[98 62 38  5  2 96 21 35 76 38]\n",
      "18\n",
      "[[0.93890255 0.61320393]\n",
      " [0.93211911 0.3127229 ]\n",
      " [0.36139414 0.61980689]\n",
      " [0.00957847 0.00748364]\n",
      " [0.40617669 0.73121944]]\n"
     ]
    }
   ],
   "source": [
    "h = np.zeros(10)\n",
    "print(h)\n",
    "i = np.zeros((5, 5))  #zeros는 행열 데이터를 줄 때 무조건 튜플로 줘야함\n",
    "print(i)\n",
    "j = np.ones(10)\n",
    "print(j)\n",
    "\n",
    "#np.random.random 0~1사이의 난수 발생\n",
    "#np.random.randint 균일 분포의 정수 난수 발생\n",
    "#np.random.rand 0~1 사이의 균일 분포 난수 matrix array 생성\n",
    "#np.random.randn 가우시안 표준 정규 분포 난수 matrix array 생성\n",
    "#np.random.normal  평균, 표준편차, sample 개수\n",
    "\n",
    "k = np.random.random(10) *100\n",
    "k = np.array([int(i) for i in k])\n",
    "print(type(k))\n",
    "print(k)\n",
    "\n",
    "print(np.random.randint(10,20))\n",
    "print(np.random.rand(5,2))"
   ]
  },
  {
   "cell_type": "code",
   "execution_count": 68,
   "id": "c8e0fd9c-8048-4a7d-a81d-566b63d7f49a",
   "metadata": {},
   "outputs": [
    {
     "name": "stdout",
     "output_type": "stream",
     "text": [
      "[10, 11, 12, 13, 14]\n",
      "[10, 12, 14]\n",
      "[10, 11, 12, 13, 14, 15, 16, 17, 18, 19]\n",
      "[15, 16, 17, 18, 19]\n",
      "[10, 11, 12, 13, 14, 15, 16, 17, 18]\n",
      "[19, 18, 17, 16, 15, 14, 13, 12, 11, 10]\n",
      "[10 11 12 13 14]\n",
      "[10 12 14]\n",
      "[10 11 12 13 14 15 16 17]\n"
     ]
    }
   ],
   "source": [
    "# 슬라이싱\n",
    "m = [i for i in range(10,20)]\n",
    "print(m[0:5])\n",
    "print(m[0:5:2])\n",
    "print(m[:])\n",
    "print(m[5:])\n",
    "print(m[:-1])\n",
    "print(m[::-1])\n",
    "\n",
    "#ndarray\n",
    "w = np.arange(10,20)\n",
    "print(w[:5]) # 넘파이 인덱스는 출력될 때 , 가 없다\n",
    "print(w[:5:2])\n",
    "print(w[:8])"
   ]
  },
  {
   "cell_type": "code",
   "execution_count": 112,
   "id": "4417dbdf-a081-48af-ba04-89d29fbd5575",
   "metadata": {},
   "outputs": [
    {
     "name": "stdout",
     "output_type": "stream",
     "text": [
      "13\n",
      "[[1, 2, 3, 4, 5], [6, 7, 8, 9, 10], [11, 12, 13, 14, 15]]\n",
      "[11, 12, 13, 14, 15]\n",
      "[6, 7]\n",
      "[[1, 2, 3, 4, 5], [6, 7, 8, 9, 10]]\n",
      "[[ 1  2  3  4  5]\n",
      " [ 6  7  8  9 10]\n",
      " [11 12 13 14 15]]\n",
      "13\n",
      "[[ 1  2  3  4  5]\n",
      " [ 6  7  8  9 10]\n",
      " [11 12 13 14 15]]\n",
      "[11 12 13 14 15]\n",
      "[[1 2 3 4 5]]\n",
      "[[1 2]\n",
      " [6 7]]\n",
      "[[ 1  2  3  4  5]\n",
      " [ 6  7  8  9 10]\n",
      " [11 12 13 14 15]]\n",
      "[[1 2 3 4]\n",
      " [6 7 8 9]]\n",
      "13\n",
      "[[15 14 13 12 11]\n",
      " [10  9  8  7  6]\n",
      " [ 5  4  3  2  1]]\n",
      "[[ 1  2  3  4  5]\n",
      " [11 12 13 14 15]]\n",
      "[[ 2  4  5]\n",
      " [ 7  9 10]\n",
      " [12 14 15]]\n",
      "[[ 1  2  3  4  5]\n",
      " [ 6  7  8  9 10]] [3, 4]\n"
     ]
    }
   ],
   "source": [
    "r = [ [1,2,3,4,5], [6,7,8,9,10], [11,12,13,14,15] ]\n",
    "print(r[2][2])\n",
    "print(r[:][:])\n",
    "print(r[2][:])\n",
    "print(r[1][:2])\n",
    "print(r[:2][:2])\n",
    "\n",
    "s = np.arange(1,16).reshape(3,5)\n",
    "print(s)\n",
    "print(s[2][2])\n",
    "print(s[:][:])\n",
    "print(s[2][:])\n",
    "print(s[:2][:1])\n",
    "\n",
    "print(s[:2, :2]) # [행, 열]\n",
    "print(s[:,:])\n",
    "print(s[:-1,:-1])\n",
    "print(s[2][2])\n",
    "print(s[::-1, ::-1])\n",
    "\n",
    "print(s[[0,2]]) # 2차원 인덱스: 범위 지정이 아니라 값을 지정 - 0행이랑 2행 출력\n",
    "print(s[ :,[1,3,4] ])\n",
    "print(s[0:2],[3,4] )"
   ]
  },
  {
   "cell_type": "code",
   "execution_count": 114,
   "id": "791cba5f-f445-4400-a2e2-0bdd2d2f964a",
   "metadata": {},
   "outputs": [
    {
     "name": "stdout",
     "output_type": "stream",
     "text": [
      "[[ 1  2  3  4  5]\n",
      " [ 6  7  8  9 10]\n",
      " [11 12 13 14 15]]\n",
      "[[ 1  6 11]\n",
      " [ 2  7 12]\n",
      " [ 3  8 13]\n",
      " [ 4  9 14]\n",
      " [ 5 10 15]]\n"
     ]
    }
   ],
   "source": [
    "# 전치 행렬\n",
    "print(s)  # 3행 5열\n",
    "print(s.T) #5행 3열"
   ]
  },
  {
   "cell_type": "code",
   "execution_count": 134,
   "id": "e19cc881-62a2-470f-998d-9227cd07d85b",
   "metadata": {},
   "outputs": [
    {
     "name": "stdout",
     "output_type": "stream",
     "text": [
      "(1, 4)\n",
      "(2, 5)\n",
      "(3, 6)\n",
      "[(1, 4), (2, 5), (3, 6)]\n",
      "[1, 2, 3, 4, 5, 6]\n",
      "[1, 2, 3, 1, 2, 3]\n"
     ]
    }
   ],
   "source": [
    "# 결합 / 분리\n",
    "a = [1,2,3]\n",
    "b = [4,5,6]\n",
    "for ab in zip(a,b): # 튜플로 합쳐서 만들어줌\n",
    "    print(ab)\n",
    "print(list(zip(a,b) ))\n",
    "print( a + b )\n",
    "print( a* 2 )\n",
    "# print( a + 2 ) # 에러"
   ]
  },
  {
   "cell_type": "code",
   "execution_count": 132,
   "id": "dfc87d31-3515-4d3b-9a94-9b2c7d232b74",
   "metadata": {},
   "outputs": [
    {
     "name": "stdout",
     "output_type": "stream",
     "text": [
      "[[10. 64.]\n",
      " [40. 56.]]\n",
      "[[ 3. 57.]\n",
      " [51. 21.]]\n",
      "[[10. 64.  3. 57.]\n",
      " [40. 56. 51. 21.]]\n",
      "[[10. 64.]\n",
      " [40. 56.]\n",
      " [ 3. 57.]\n",
      " [51. 21.]]\n",
      "[[ 13. 121.]\n",
      " [ 91.  77.]]\n"
     ]
    }
   ],
   "source": [
    "c = np.floor(np.random.rand(2, 2) * 100)\n",
    "print(c)\n",
    "d = np.floor(np.random.rand(2, 2) * 100)\n",
    "print(d)\n",
    "print(np.hstack( (c, d) ) ) # 매개변수 튜플로 묶어서 넣어야 함\n",
    "print(np.vstack( (c, d) ) ) \n",
    "print( c + d )"
   ]
  },
  {
   "cell_type": "code",
   "execution_count": 148,
   "id": "df994f28-fa78-489b-986b-9fb8a20028dc",
   "metadata": {},
   "outputs": [
    {
     "name": "stdout",
     "output_type": "stream",
     "text": [
      "[[62. 14. 44. 24. 62. 66. 28. 76. 11. 67. 83. 80. 42. 34. 19.]\n",
      " [ 4. 82. 38. 57. 13. 14. 50. 97. 30.  8. 65. 73. 11. 45. 86.]]\n",
      "[array([[62., 14., 44., 24., 62.],\n",
      "       [ 4., 82., 38., 57., 13.]]), array([[66., 28., 76., 11., 67.],\n",
      "       [14., 50., 97., 30.,  8.]]), array([[83., 80., 42., 34., 19.],\n",
      "       [65., 73., 11., 45., 86.]])]\n",
      "[[62. 14. 44. 24. 62.]\n",
      " [ 4. 82. 38. 57. 13.]]\n",
      "[[66. 28. 76. 11. 67.]\n",
      " [14. 50. 97. 30.  8.]]\n",
      "[[83. 80. 42. 34. 19.]\n",
      " [65. 73. 11. 45. 86.]]\n",
      "[[62. 14. 44.]\n",
      " [ 4. 82. 38.]]\n",
      "[[24. 62. 66. 28.]\n",
      " [57. 13. 14. 50.]]\n",
      "[[76. 11. 67. 83. 80.]\n",
      " [97. 30.  8. 65. 73.]]\n",
      "[[42. 34. 19.]\n",
      " [11. 45. 86.]]\n"
     ]
    }
   ],
   "source": [
    "e = np.floor(np.random.rand( 2, 15 ) * 100)\n",
    "print(e)\n",
    "print( np.hsplit( e, 3))\n",
    "for arr in np.hsplit(e, 3):\n",
    "    print(arr)\n",
    "for arr in np.hsplit( e, (3, 7, 12) ):  # [0:3] [3:7] [7:12] [12:]\n",
    "    print(arr)"
   ]
  },
  {
   "cell_type": "code",
   "execution_count": 164,
   "id": "37ff4d2a-dd14-4f3f-a6c2-7033c25e2047",
   "metadata": {},
   "outputs": [
    {
     "name": "stdout",
     "output_type": "stream",
     "text": [
      "[1, 2, 'C', 'D', 5]\n",
      "['1' '2' 'C' 'D' '5']\n",
      "['작다' '작다' '크다' '크다' '크다']\n",
      "['참' '참' '거짓' '거짓' '참']\n"
     ]
    }
   ],
   "source": [
    "f = np.array( [1, 2, 3, 4, 5] )\n",
    "g = np.array( ['A', 'B', 'C', 'D', 'E'] )\n",
    "h = np.array( [True, True, False, False, True] )\n",
    "#삼항연산            조건 ? 참 : 거짓\n",
    "#                    참 if 조건 else 거짓  \n",
    "print( [x if z else y for x, y, z in zip(f, g, h)] )\n",
    "\n",
    "print( np.where( h ,f , g) )\n",
    "print( np.where(f < 3, '작다', '크다') )\n",
    "print( np.where( h ,'참' , '거짓') )"
   ]
  },
  {
   "cell_type": "code",
   "execution_count": 177,
   "id": "039aa0de-2632-4124-a86b-b7d38ad25c60",
   "metadata": {},
   "outputs": [
    {
     "name": "stdout",
     "output_type": "stream",
     "text": [
      "<class 'numpy.ndarray'>\n",
      "<class 'numpy.lib.npyio.NpzFile'>\n",
      "[0 1 2 3 4 5 6 7 8 9]\n",
      "[ 0  1  2  3  4  5  6  7  8  9 10 11 12 13 14 15 16 17 18 19]\n"
     ]
    }
   ],
   "source": [
    "i = np.arange(10)\n",
    "np.save('i.npy', i)\n",
    "ii = np.load('i.npy')\n",
    "print(type(ii))\n",
    "\n",
    "j = np.arange(10)\n",
    "k = np.arange(20)\n",
    "np.savez( 'jk.npz', x=j, y=k )\n",
    "jk = np.load( 'jk.npz' )\n",
    "print( type(jk))\n",
    "print( jk['x'])\n",
    "print( jk['y'])"
   ]
  },
  {
   "cell_type": "code",
   "execution_count": null,
   "id": "dce61243-e886-4b48-8502-c3456704c13a",
   "metadata": {},
   "outputs": [],
   "source": []
  },
  {
   "cell_type": "code",
   "execution_count": null,
   "id": "de65374a-3cd7-41a4-9eec-d768d74c7537",
   "metadata": {},
   "outputs": [],
   "source": []
  },
  {
   "cell_type": "code",
   "execution_count": null,
   "id": "d4b1cdf8-2cce-4b06-bde0-62a1a3ef7dcd",
   "metadata": {},
   "outputs": [],
   "source": []
  },
  {
   "cell_type": "code",
   "execution_count": null,
   "id": "09c2fc99-6630-4256-a07d-5b31cb294413",
   "metadata": {},
   "outputs": [],
   "source": []
  }
 ],
 "metadata": {
  "kernelspec": {
   "display_name": "Python 3 (ipykernel)",
   "language": "python",
   "name": "python3"
  },
  "language_info": {
   "codemirror_mode": {
    "name": "ipython",
    "version": 3
   },
   "file_extension": ".py",
   "mimetype": "text/x-python",
   "name": "python",
   "nbconvert_exporter": "python",
   "pygments_lexer": "ipython3",
   "version": "3.12.4"
  }
 },
 "nbformat": 4,
 "nbformat_minor": 5
}
