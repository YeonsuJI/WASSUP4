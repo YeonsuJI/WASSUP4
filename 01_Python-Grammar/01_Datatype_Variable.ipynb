{
 "cells": [
  {
   "cell_type": "markdown",
   "id": "f9b3d6d6-47eb-45ae-b561-25743d84706e",
   "metadata": {},
   "source": [
    "# 변수와 자료형"
   ]
  },
  {
   "cell_type": "markdown",
   "id": "6bbe856e-7345-4bcd-85a5-2913e4c296d7",
   "metadata": {},
   "source": [
    "### 자료형의 값을 저장하는 공간, 변수"
   ]
  },
  {
   "cell_type": "code",
   "execution_count": 3,
   "id": "53f7c42c-2acd-48d6-ba0b-6cff96aa0612",
   "metadata": {},
   "outputs": [
    {
     "name": "stdout",
     "output_type": "stream",
     "text": [
      "1\n"
     ]
    }
   ],
   "source": [
    "a = 1\n",
    "print(a)"
   ]
  },
  {
   "cell_type": "code",
   "execution_count": 5,
   "id": "836f8210-57f3-4487-a066-23d3ef8bd534",
   "metadata": {},
   "outputs": [
    {
     "data": {
      "text/plain": [
       "'python'"
      ]
     },
     "execution_count": 5,
     "metadata": {},
     "output_type": "execute_result"
    }
   ],
   "source": [
    "b = 'python'\n",
    "b"
   ]
  },
  {
   "cell_type": "code",
   "execution_count": 7,
   "id": "0b365b45-98f0-4d78-a249-762d5c416b18",
   "metadata": {},
   "outputs": [
    {
     "data": {
      "text/plain": [
       "[1, 2, 3]"
      ]
     },
     "execution_count": 7,
     "metadata": {},
     "output_type": "execute_result"
    }
   ],
   "source": [
    "c = [1,2,3]\n",
    "c"
   ]
  },
  {
   "cell_type": "markdown",
   "id": "fe756d3a-835b-4e4e-8264-8cd2730c013e",
   "metadata": {},
   "source": [
    "# 숫자형"
   ]
  },
  {
   "cell_type": "code",
   "execution_count": 10,
   "id": "dee6caec-b723-4d61-a2de-4d7d0bdb3d93",
   "metadata": {
    "scrolled": true
   },
   "outputs": [
    {
     "data": {
      "text/plain": [
       "123"
      ]
     },
     "execution_count": 10,
     "metadata": {},
     "output_type": "execute_result"
    }
   ],
   "source": [
    "# 정수형\n",
    "a = 123\n",
    "a"
   ]
  },
  {
   "cell_type": "code",
   "execution_count": 12,
   "id": "ce19f1b4-6bcc-44e5-9362-47172f77f4b2",
   "metadata": {},
   "outputs": [
    {
     "data": {
      "text/plain": [
       "-178"
      ]
     },
     "execution_count": 12,
     "metadata": {},
     "output_type": "execute_result"
    }
   ],
   "source": [
    "a= -178\n",
    "a"
   ]
  },
  {
   "cell_type": "code",
   "execution_count": 14,
   "id": "a6fcb9be-fb7c-484d-a28e-7580e42f10cf",
   "metadata": {},
   "outputs": [
    {
     "data": {
      "text/plain": [
       "0"
      ]
     },
     "execution_count": 14,
     "metadata": {},
     "output_type": "execute_result"
    }
   ],
   "source": [
    "a= 0\n",
    "a"
   ]
  },
  {
   "cell_type": "code",
   "execution_count": 20,
   "id": "8fd17edf-7cd6-4c6c-931f-b70c052ddeda",
   "metadata": {},
   "outputs": [
    {
     "data": {
      "text/plain": [
       "((1, 2), -3.45)"
      ]
     },
     "execution_count": 20,
     "metadata": {},
     "output_type": "execute_result"
    }
   ],
   "source": [
    "# 실수형\n",
    "a = 1,2\n",
    "b = -3.45\n",
    "a, b"
   ]
  },
  {
   "cell_type": "code",
   "execution_count": 22,
   "id": "2420564c-ae0e-46c3-8863-45845ac900af",
   "metadata": {},
   "outputs": [
    {
     "data": {
      "text/plain": [
       "42400000000.0"
      ]
     },
     "execution_count": 22,
     "metadata": {},
     "output_type": "execute_result"
    }
   ],
   "source": [
    "a = 4.24E10\n",
    "a"
   ]
  },
  {
   "cell_type": "code",
   "execution_count": 24,
   "id": "9994901c-b025-4254-a199-658c567c1376",
   "metadata": {},
   "outputs": [
    {
     "data": {
      "text/plain": [
       "4.24e-10"
      ]
     },
     "execution_count": 24,
     "metadata": {},
     "output_type": "execute_result"
    }
   ],
   "source": [
    "a = 4.24E-10\n",
    "a"
   ]
  },
  {
   "cell_type": "code",
   "execution_count": 26,
   "id": "baf28788-0298-4e1e-b7d9-d3dd90b03245",
   "metadata": {},
   "outputs": [
    {
     "name": "stdout",
     "output_type": "stream",
     "text": [
      "127\n"
     ]
    }
   ],
   "source": [
    "# 8진수와 16진수\n",
    "a = 0o177\n",
    "print(a)"
   ]
  },
  {
   "cell_type": "code",
   "execution_count": 28,
   "id": "d0680803-4272-4e2b-bfaf-b09165c9286f",
   "metadata": {},
   "outputs": [
    {
     "data": {
      "text/plain": [
       "(2303, 2748)"
      ]
     },
     "execution_count": 28,
     "metadata": {},
     "output_type": "execute_result"
    }
   ],
   "source": [
    "a = 0x8ff\n",
    "b = 0xABC\n",
    "a, b"
   ]
  },
  {
   "cell_type": "markdown",
   "id": "9faebfd4-8951-4427-b41f-723eda54467c",
   "metadata": {},
   "source": [
    "## 연산자"
   ]
  },
  {
   "cell_type": "code",
   "execution_count": 37,
   "id": "b8339751-e38f-43f3-bd2b-de32c01f637c",
   "metadata": {},
   "outputs": [
    {
     "data": {
      "text/plain": [
       "7"
      ]
     },
     "execution_count": 37,
     "metadata": {},
     "output_type": "execute_result"
    }
   ],
   "source": [
    "#사칙연산\n",
    "a= 3\n",
    "b = 4\n",
    "a + b"
   ]
  },
  {
   "cell_type": "code",
   "execution_count": 39,
   "id": "a31bf45c-c066-4bc3-bf1e-63c5a6fe37ef",
   "metadata": {},
   "outputs": [
    {
     "data": {
      "text/plain": [
       "(-1, 12, 0.75)"
      ]
     },
     "execution_count": 39,
     "metadata": {},
     "output_type": "execute_result"
    }
   ],
   "source": [
    "a-b, a*b, a/b"
   ]
  },
  {
   "cell_type": "code",
   "execution_count": 45,
   "id": "b89838fb-2614-4083-a1c3-96958c4876a6",
   "metadata": {},
   "outputs": [
    {
     "data": {
      "text/plain": [
       "81"
      ]
     },
     "execution_count": 45,
     "metadata": {},
     "output_type": "execute_result"
    }
   ],
   "source": [
    "# x의 y제곱을 나타내는 **연산자\n",
    "a ** b # 3의 4승"
   ]
  },
  {
   "cell_type": "code",
   "execution_count": 47,
   "id": "a7326ac9-2961-4122-9ed1-ced016f21cc3",
   "metadata": {},
   "outputs": [
    {
     "data": {
      "text/plain": [
       "(1, 3)"
      ]
     },
     "execution_count": 47,
     "metadata": {},
     "output_type": "execute_result"
    }
   ],
   "source": [
    "# 나눗셈 후 나머지를 리턴\n",
    "7%3 , 3%7"
   ]
  },
  {
   "cell_type": "code",
   "execution_count": 51,
   "id": "9ed71584-7358-4288-a4ab-3621edf122aa",
   "metadata": {},
   "outputs": [
    {
     "data": {
      "text/plain": [
       "1"
      ]
     },
     "execution_count": 51,
     "metadata": {},
     "output_type": "execute_result"
    }
   ],
   "source": [
    "# 나눗셈 후 몫을 리턴\n",
    "7//4"
   ]
  },
  {
   "cell_type": "code",
   "execution_count": 55,
   "id": "406b81c9-f6b6-4ffd-9869-ec4035fd7289",
   "metadata": {},
   "outputs": [
    {
     "data": {
      "text/plain": [
       "4"
      ]
     },
     "execution_count": 55,
     "metadata": {},
     "output_type": "execute_result"
    }
   ],
   "source": [
    "# 복합 연산자\n",
    "a = a + 1\n",
    "a"
   ]
  },
  {
   "cell_type": "code",
   "execution_count": 57,
   "id": "f396df3a-33ad-49d9-a59c-b44b4ba1957e",
   "metadata": {
    "scrolled": true
   },
   "outputs": [
    {
     "data": {
      "text/plain": [
       "5"
      ]
     },
     "execution_count": 57,
     "metadata": {},
     "output_type": "execute_result"
    }
   ],
   "source": [
    "a += 1\n",
    "a"
   ]
  },
  {
   "cell_type": "code",
   "execution_count": 69,
   "id": "c90b08b0-c639-48de-97bf-e6d2fbc5020a",
   "metadata": {},
   "outputs": [
    {
     "data": {
      "text/plain": [
       "4"
      ]
     },
     "execution_count": 69,
     "metadata": {},
     "output_type": "execute_result"
    }
   ],
   "source": [
    "a=5\n",
    "a -=1\n",
    "a"
   ]
  },
  {
   "cell_type": "markdown",
   "id": "808dd84e-4cac-44a7-9c38-ef2239b1242c",
   "metadata": {},
   "source": [
    "## 문자열\n",
    "    \"Lifr is too short, You need pyhton\"\n",
    "    \"a\"\n",
    "    \"123\""
   ]
  },
  {
   "cell_type": "code",
   "execution_count": 72,
   "id": "8e097a5d-b08d-4c6d-bc73-39807f1f8631",
   "metadata": {},
   "outputs": [
    {
     "data": {
      "text/plain": [
       "'Hello World'"
      ]
     },
     "execution_count": 72,
     "metadata": {},
     "output_type": "execute_result"
    }
   ],
   "source": [
    "\"Hello World\""
   ]
  },
  {
   "cell_type": "code",
   "execution_count": 74,
   "id": "6bf92525-36f7-4f76-b99b-d4a6922fd580",
   "metadata": {},
   "outputs": [
    {
     "data": {
      "text/plain": [
       "'Python is fun'"
      ]
     },
     "execution_count": 74,
     "metadata": {},
     "output_type": "execute_result"
    }
   ],
   "source": [
    "'Python is fun'"
   ]
  },
  {
   "cell_type": "code",
   "execution_count": 76,
   "id": "19d272fc-5cf9-45de-a560-79ded7da3764",
   "metadata": {},
   "outputs": [
    {
     "data": {
      "text/plain": [
       "'Lifr is too short, You need pyhton'"
      ]
     },
     "execution_count": 76,
     "metadata": {},
     "output_type": "execute_result"
    }
   ],
   "source": [
    "\"\"\"Lifr is too short, You need pyhton\"\"\""
   ]
  },
  {
   "cell_type": "code",
   "execution_count": 78,
   "id": "2cef1849-6f06-4e31-958a-033f1c8277eb",
   "metadata": {},
   "outputs": [
    {
     "data": {
      "text/plain": [
       "'Lifr is too short, You need pyhton'"
      ]
     },
     "execution_count": 78,
     "metadata": {},
     "output_type": "execute_result"
    }
   ],
   "source": [
    "'''Lifr is too short, You need pyhton'''"
   ]
  },
  {
   "cell_type": "markdown",
   "id": "9ba8fcca-a10e-40f7-ad0b-9b48e021e7af",
   "metadata": {},
   "source": [
    "### 1. 문자열에 작은따옴표 포함하기\n",
    "Python's favorite food is perl"
   ]
  },
  {
   "cell_type": "code",
   "execution_count": 87,
   "id": "dd8414e1-fab1-4446-a6fe-d5b2d6c01d78",
   "metadata": {},
   "outputs": [
    {
     "data": {
      "text/plain": [
       "\"Python's favorite food is perl\""
      ]
     },
     "execution_count": 87,
     "metadata": {},
     "output_type": "execute_result"
    }
   ],
   "source": [
    "\"Python's favorite food is perl\""
   ]
  },
  {
   "cell_type": "markdown",
   "id": "2b730054-67e0-4e7a-bebc-6ff72a011d72",
   "metadata": {},
   "source": [
    "## 2. 문자열에 큰따옴표 포함하기\n",
    "\"Python is very easy.\" he says."
   ]
  },
  {
   "cell_type": "code",
   "execution_count": 91,
   "id": "aefd3026-d874-4032-8c7b-64f64e0b86ee",
   "metadata": {},
   "outputs": [
    {
     "ename": "SyntaxError",
     "evalue": "invalid syntax (2498016959.py, line 1)",
     "output_type": "error",
     "traceback": [
      "\u001b[1;36m  Cell \u001b[1;32mIn[91], line 1\u001b[1;36m\u001b[0m\n\u001b[1;33m    \"Python is very easy.\" he says.\u001b[0m\n\u001b[1;37m                           ^\u001b[0m\n\u001b[1;31mSyntaxError\u001b[0m\u001b[1;31m:\u001b[0m invalid syntax\n"
     ]
    }
   ],
   "source": [
    "\"Python is very easy.\" he says."
   ]
  },
  {
   "cell_type": "code",
   "execution_count": 93,
   "id": "45701633-fbd1-49a5-9c6e-2d0b91a9bf17",
   "metadata": {},
   "outputs": [
    {
     "data": {
      "text/plain": [
       "'\"Python is very easy.\" he says.'"
      ]
     },
     "execution_count": 93,
     "metadata": {},
     "output_type": "execute_result"
    }
   ],
   "source": [
    "'\"Python is very easy.\" he says.'"
   ]
  },
  {
   "cell_type": "markdown",
   "id": "da5525d2-f2c5-4047-8e3c-0e61eed411f8",
   "metadata": {},
   "source": [
    "### 3. 역슬래시를 사용해서 작은따옴표와 큰따옴표를 문자열에 포함하기\n",
    "\n",
    "food = 'Python\\\\'s favorite food is perl'  \n",
    "say = \"\\\\\"python is very easy.\\\\\" he says.\""
   ]
  },
  {
   "cell_type": "code",
   "execution_count": 99,
   "id": "18e1522d-ef05-4fc5-8c2d-6b187a692ad9",
   "metadata": {},
   "outputs": [
    {
     "data": {
      "text/plain": [
       "\"Python's favorite food is perl\""
      ]
     },
     "execution_count": 99,
     "metadata": {},
     "output_type": "execute_result"
    }
   ],
   "source": [
    "food = 'Python\\'s favorite food is perl'\n",
    "food"
   ]
  },
  {
   "cell_type": "code",
   "execution_count": 104,
   "id": "0d78f58b-83ad-4c83-bacf-40cfd7264e50",
   "metadata": {},
   "outputs": [
    {
     "data": {
      "text/plain": [
       "'\"python is very easy.\" he says.'"
      ]
     },
     "execution_count": 104,
     "metadata": {},
     "output_type": "execute_result"
    }
   ],
   "source": [
    "say = \"\\\"python is very easy.\\\" he says.\"\n",
    "say"
   ]
  },
  {
   "cell_type": "markdown",
   "id": "9ac9141a-c286-42d8-9d47-4691c937dfd7",
   "metadata": {},
   "source": [
    "### 여러 줄인 문자열을 변수에 대입하고 싶을 때"
   ]
  },
  {
   "cell_type": "code",
   "execution_count": 107,
   "id": "a1da7e36-8483-46a6-8d63-d4ad368b4f59",
   "metadata": {},
   "outputs": [
    {
     "ename": "SyntaxError",
     "evalue": "unterminated string literal (detected at line 1) (2933464639.py, line 1)",
     "output_type": "error",
     "traceback": [
      "\u001b[1;36m  Cell \u001b[1;32mIn[107], line 1\u001b[1;36m\u001b[0m\n\u001b[1;33m    a = 'Life is too short\u001b[0m\n\u001b[1;37m        ^\u001b[0m\n\u001b[1;31mSyntaxError\u001b[0m\u001b[1;31m:\u001b[0m unterminated string literal (detected at line 1)\n"
     ]
    }
   ],
   "source": [
    "a = 'Life is too short\n",
    "You need python'"
   ]
  },
  {
   "cell_type": "code",
   "execution_count": 115,
   "id": "e61439a6-abe4-433f-9d5c-85a793845de1",
   "metadata": {},
   "outputs": [
    {
     "data": {
      "text/plain": [
       "'Life is too short You need python'"
      ]
     },
     "execution_count": 115,
     "metadata": {},
     "output_type": "execute_result"
    }
   ],
   "source": [
    "a = 'Life is too short You need python'\n",
    "a"
   ]
  },
  {
   "cell_type": "code",
   "execution_count": 117,
   "id": "b1933852-87f7-4c0e-8816-39e19c9638ed",
   "metadata": {},
   "outputs": [
    {
     "data": {
      "text/plain": [
       "'Life is too short\\nYou need python'"
      ]
     },
     "execution_count": 117,
     "metadata": {},
     "output_type": "execute_result"
    }
   ],
   "source": [
    "# 1. 줄을 바꾸기 위한 이스케이프 코드 \\n 삽입하기\n",
    "multiline = \"Life is too short\\nYou need python\"\n",
    "multiline"
   ]
  },
  {
   "cell_type": "code",
   "execution_count": 119,
   "id": "adfb0632-5cce-42fc-ad82-2d97c8890479",
   "metadata": {},
   "outputs": [
    {
     "name": "stdout",
     "output_type": "stream",
     "text": [
      "Life is too short\n",
      "You need python\n"
     ]
    }
   ],
   "source": [
    "print(multiline)"
   ]
  },
  {
   "cell_type": "code",
   "execution_count": 121,
   "id": "aed9f186-aa12-41d3-bde1-b513afdce268",
   "metadata": {},
   "outputs": [
    {
     "data": {
      "text/plain": [
       "'\\nLife is too short\\nYou need python\\n'"
      ]
     },
     "execution_count": 121,
     "metadata": {},
     "output_type": "execute_result"
    }
   ],
   "source": [
    "# 2. 연속된 작은따옴표 3개 또는 큰따옴표 3개 사용하기 -구간 지정\n",
    "'''\n",
    "Life is too short\n",
    "You need python\n",
    "'''"
   ]
  },
  {
   "cell_type": "code",
   "execution_count": 123,
   "id": "b356697f-f0db-43d8-9873-03d1fa4bdff8",
   "metadata": {},
   "outputs": [
    {
     "data": {
      "text/plain": [
       "'\\nLife is too short\\nYou need python\\n'"
      ]
     },
     "execution_count": 123,
     "metadata": {},
     "output_type": "execute_result"
    }
   ],
   "source": [
    "\"\"\"\n",
    "Life is too short\n",
    "You need python\n",
    "\"\"\""
   ]
  },
  {
   "cell_type": "markdown",
   "id": "effa9ca2-dafb-479a-bf0d-81172476cb63",
   "metadata": {},
   "source": [
    "### 문자열 연산하기"
   ]
  },
  {
   "cell_type": "code",
   "execution_count": 138,
   "id": "ae69fce3-7848-4642-96aa-3c5da6a76bed",
   "metadata": {},
   "outputs": [
    {
     "data": {
      "text/plain": [
       "'python is fun!'"
      ]
     },
     "execution_count": 138,
     "metadata": {},
     "output_type": "execute_result"
    }
   ],
   "source": [
    "head = \"python\"\n",
    "tail = ' is fun!'\n",
    "head + tail"
   ]
  },
  {
   "cell_type": "code",
   "execution_count": 140,
   "id": "cf198f18-a2bc-45b1-a6bd-a4e4ebb50924",
   "metadata": {},
   "outputs": [
    {
     "data": {
      "text/plain": [
       "'pythonpython'"
      ]
     },
     "execution_count": 140,
     "metadata": {},
     "output_type": "execute_result"
    }
   ],
   "source": [
    " head * 2"
   ]
  },
  {
   "cell_type": "code",
   "execution_count": 142,
   "id": "4b3c4ed2-038c-488c-98e8-8bf0b3c3845b",
   "metadata": {},
   "outputs": [
    {
     "name": "stdout",
     "output_type": "stream",
     "text": [
      "==================================================\n",
      "My program\n",
      "==================================================\n"
     ]
    }
   ],
   "source": [
    "print(\"=\" *50)\n",
    "print(\"My program\")\n",
    "print(\"=\" *50)"
   ]
  },
  {
   "cell_type": "code",
   "execution_count": 144,
   "id": "1a38ac6f-21fe-4ec6-946e-aaba0ab261a3",
   "metadata": {},
   "outputs": [
    {
     "data": {
      "text/plain": [
       "17"
      ]
     },
     "execution_count": 144,
     "metadata": {},
     "output_type": "execute_result"
    }
   ],
   "source": [
    "a = \"Life is too short\"\n",
    "len(a)"
   ]
  },
  {
   "cell_type": "markdown",
   "id": "4552498d-abb5-43ff-b9e0-9fe53988195e",
   "metadata": {},
   "source": [
    "### 문자열 인덱싱과 슬라이싱"
   ]
  },
  {
   "cell_type": "code",
   "execution_count": 147,
   "id": "6e0fb0ae-110c-4436-b7a4-4e68e0029a49",
   "metadata": {},
   "outputs": [
    {
     "data": {
      "text/plain": [
       "'Life is too short, You need Python'"
      ]
     },
     "execution_count": 147,
     "metadata": {},
     "output_type": "execute_result"
    }
   ],
   "source": [
    "a = \"Life is too short, You need Python\"\n",
    "a"
   ]
  },
  {
   "cell_type": "code",
   "execution_count": 153,
   "id": "a1e80cd7-4807-40f6-b4a1-72bb5bac63d3",
   "metadata": {},
   "outputs": [
    {
     "data": {
      "text/plain": [
       "'e'"
      ]
     },
     "execution_count": 153,
     "metadata": {},
     "output_type": "execute_result"
    }
   ],
   "source": [
    "a[3]"
   ]
  },
  {
   "cell_type": "code",
   "execution_count": 155,
   "id": "28a9efe8-9c14-4847-a408-1688d7bcbcec",
   "metadata": {},
   "outputs": [
    {
     "data": {
      "text/plain": [
       "','"
      ]
     },
     "execution_count": 155,
     "metadata": {},
     "output_type": "execute_result"
    }
   ],
   "source": [
    "a[17]"
   ]
  },
  {
   "cell_type": "code",
   "execution_count": 157,
   "id": "8cf5a7a6-a71a-46f9-a895-9272f5ca2160",
   "metadata": {},
   "outputs": [
    {
     "data": {
      "text/plain": [
       "'n'"
      ]
     },
     "execution_count": 157,
     "metadata": {},
     "output_type": "execute_result"
    }
   ],
   "source": [
    "a[-1]"
   ]
  },
  {
   "cell_type": "code",
   "execution_count": 161,
   "id": "2797e1c3-dcea-4ecd-aec3-e6b3015cbcc7",
   "metadata": {},
   "outputs": [
    {
     "data": {
      "text/plain": [
       "'P'"
      ]
     },
     "execution_count": 161,
     "metadata": {},
     "output_type": "execute_result"
    }
   ],
   "source": [
    "a[-6]"
   ]
  },
  {
   "cell_type": "code",
   "execution_count": 163,
   "id": "094a2fe6-7e33-4654-9a0b-122f1afc9046",
   "metadata": {
    "scrolled": true
   },
   "outputs": [
    {
     "data": {
      "text/plain": [
       "'L'"
      ]
     },
     "execution_count": 163,
     "metadata": {},
     "output_type": "execute_result"
    }
   ],
   "source": [
    "a[-0]"
   ]
  },
  {
   "cell_type": "code",
   "execution_count": 165,
   "id": "9e3381d9-08fc-4341-bddc-1740e048a8cc",
   "metadata": {},
   "outputs": [
    {
     "data": {
      "text/plain": [
       "'Life'"
      ]
     },
     "execution_count": 165,
     "metadata": {},
     "output_type": "execute_result"
    }
   ],
   "source": [
    "a[0]+a[1]+a[2]+a[3]"
   ]
  },
  {
   "cell_type": "code",
   "execution_count": 177,
   "id": "87664934-3527-4469-8295-7a68e92b8643",
   "metadata": {},
   "outputs": [
    {
     "data": {
      "text/plain": [
       "'Life'"
      ]
     },
     "execution_count": 177,
     "metadata": {},
     "output_type": "execute_result"
    }
   ],
   "source": [
    "# a[start:end-1] - 슬라이싱은 끝번호를 인식하지 않기 때문\n",
    "a[0:4]"
   ]
  },
  {
   "cell_type": "code",
   "execution_count": 175,
   "id": "8a74973e-c1ed-48e0-a643-9669eafc65d7",
   "metadata": {},
   "outputs": [
    {
     "data": {
      "text/plain": [
       "'Lif'"
      ]
     },
     "execution_count": 175,
     "metadata": {},
     "output_type": "execute_result"
    }
   ],
   "source": [
    "a[0:3]"
   ]
  },
  {
   "cell_type": "code",
   "execution_count": 181,
   "id": "7a7b00c4-c490-4695-94e7-fa7e94d4261a",
   "metadata": {},
   "outputs": [
    {
     "data": {
      "text/plain": [
       "'short, '"
      ]
     },
     "execution_count": 181,
     "metadata": {},
     "output_type": "execute_result"
    }
   ],
   "source": [
    "a[12:19]"
   ]
  },
  {
   "cell_type": "code",
   "execution_count": 185,
   "id": "240f8a35-c6d5-49bf-b14a-4b4ad9b00c92",
   "metadata": {},
   "outputs": [
    {
     "data": {
      "text/plain": [
       "'short, You need Python'"
      ]
     },
     "execution_count": 185,
     "metadata": {},
     "output_type": "execute_result"
    }
   ],
   "source": [
    "a[12:] #인덱스 12 이후로 다 뽑아줘"
   ]
  },
  {
   "cell_type": "code",
   "execution_count": 187,
   "id": "ec7fca8e-e72e-4ecd-994d-89b386362edd",
   "metadata": {},
   "outputs": [
    {
     "data": {
      "text/plain": [
       "'Life is too short'"
      ]
     },
     "execution_count": 187,
     "metadata": {},
     "output_type": "execute_result"
    }
   ],
   "source": [
    "a[:17]"
   ]
  },
  {
   "cell_type": "code",
   "execution_count": 195,
   "id": "9eeb0bcd-f06e-4b72-a0d8-a49c02f2f6aa",
   "metadata": {},
   "outputs": [
    {
     "data": {
      "text/plain": [
       "'Life is too short, You need Python'"
      ]
     },
     "execution_count": 195,
     "metadata": {},
     "output_type": "execute_result"
    }
   ],
   "source": [
    "a[:]"
   ]
  },
  {
   "cell_type": "code",
   "execution_count": 199,
   "id": "a5db4c51-ddc2-411d-a575-419a26f92a78",
   "metadata": {},
   "outputs": [
    {
     "data": {
      "text/plain": [
       "'You need'"
      ]
     },
     "execution_count": 199,
     "metadata": {},
     "output_type": "execute_result"
    }
   ],
   "source": [
    "a[19:-7]"
   ]
  },
  {
   "cell_type": "code",
   "execution_count": 209,
   "id": "2219884e-be44-4011-ae1c-7cc4bd90e036",
   "metadata": {},
   "outputs": [
    {
     "data": {
      "text/plain": [
       "('20240904', 'Sunny')"
      ]
     },
     "execution_count": 209,
     "metadata": {},
     "output_type": "execute_result"
    }
   ],
   "source": [
    "a = \"20240904Sunny\"\n",
    "date = a[0:8]\n",
    "weather = a[8:13]\n",
    "date, weather"
   ]
  },
  {
   "cell_type": "code",
   "execution_count": 211,
   "id": "aed34ad3-e82d-490c-8f4f-d0aee66b00f8",
   "metadata": {},
   "outputs": [
    {
     "data": {
      "text/plain": [
       "('2024', '0904')"
      ]
     },
     "execution_count": 211,
     "metadata": {},
     "output_type": "execute_result"
    }
   ],
   "source": [
    "year = date[:4]\n",
    "day = date[4:]\n",
    "year, day"
   ]
  },
  {
   "cell_type": "code",
   "execution_count": 215,
   "id": "db298157-169f-4e45-b8ce-ace4c975120b",
   "metadata": {},
   "outputs": [
    {
     "data": {
      "text/plain": [
       "'i'"
      ]
     },
     "execution_count": 215,
     "metadata": {},
     "output_type": "execute_result"
    }
   ],
   "source": [
    "# 문자열을 변경할 수 있을까? \n",
    "a = \"pithon\"\n",
    "a[1]"
   ]
  },
  {
   "cell_type": "code",
   "execution_count": 217,
   "id": "90359a1b-ba44-4116-ac06-3ab240f9b98c",
   "metadata": {},
   "outputs": [
    {
     "ename": "TypeError",
     "evalue": "'str' object does not support item assignment",
     "output_type": "error",
     "traceback": [
      "\u001b[1;31m---------------------------------------------------------------------------\u001b[0m",
      "\u001b[1;31mTypeError\u001b[0m                                 Traceback (most recent call last)",
      "Cell \u001b[1;32mIn[217], line 1\u001b[0m\n\u001b[1;32m----> 1\u001b[0m a[\u001b[38;5;241m1\u001b[39m] \u001b[38;5;241m=\u001b[39m \u001b[38;5;124m'\u001b[39m\u001b[38;5;124my\u001b[39m\u001b[38;5;124m'\u001b[39m\n",
      "\u001b[1;31mTypeError\u001b[0m: 'str' object does not support item assignment"
     ]
    }
   ],
   "source": [
    "a[1] = 'y' #변경불가능한(immutable) 자료형"
   ]
  },
  {
   "cell_type": "code",
   "execution_count": 221,
   "id": "4f24328b-e3b0-43fb-8529-8a9cc32afd9a",
   "metadata": {},
   "outputs": [
    {
     "data": {
      "text/plain": [
       "'python'"
      ]
     },
     "execution_count": 221,
     "metadata": {},
     "output_type": "execute_result"
    }
   ],
   "source": [
    "a = 'pithon'\n",
    "a[0] + 'y' + a[2:]"
   ]
  },
  {
   "cell_type": "code",
   "execution_count": 233,
   "id": "6c5a2eeb-4661-4cd8-8613-4fe39fe0fee6",
   "metadata": {},
   "outputs": [
    {
     "data": {
      "text/plain": [
       "'python'"
      ]
     },
     "execution_count": 233,
     "metadata": {},
     "output_type": "execute_result"
    }
   ],
   "source": [
    "a = 'pithon'\n",
    "b ='y'\n",
    "a[0] + b + a[2:] # a[0]을 a[:1]로 변경 가능"
   ]
  },
  {
   "cell_type": "markdown",
   "id": "6435e660-bb31-456d-a81e-08ce0c8a751d",
   "metadata": {},
   "source": [
    "#### 문자열 포매팅"
   ]
  },
  {
   "cell_type": "code",
   "execution_count": 247,
   "id": "0d642eea-53cd-457b-8de7-246284d46098",
   "metadata": {},
   "outputs": [
    {
     "data": {
      "text/plain": [
       "'I eat 3 apples'"
      ]
     },
     "execution_count": 247,
     "metadata": {},
     "output_type": "execute_result"
    }
   ],
   "source": [
    "\"I eat %d apples\"%3"
   ]
  },
  {
   "cell_type": "code",
   "execution_count": 249,
   "id": "07df2c9d-4521-4325-b87b-1f99a53e3c52",
   "metadata": {},
   "outputs": [
    {
     "data": {
      "text/plain": [
       "'I eat five apples'"
      ]
     },
     "execution_count": 249,
     "metadata": {},
     "output_type": "execute_result"
    }
   ],
   "source": [
    "\"I eat %s apples\"%'five'"
   ]
  },
  {
   "cell_type": "code",
   "execution_count": 251,
   "id": "6fe35912-308e-40f4-99ee-ced5bcf02f24",
   "metadata": {},
   "outputs": [
    {
     "data": {
      "text/plain": [
       "'I eat 3 apples'"
      ]
     },
     "execution_count": 251,
     "metadata": {},
     "output_type": "execute_result"
    }
   ],
   "source": [
    "number = 3\n",
    "\"I eat %d apples\"%number"
   ]
  },
  {
   "cell_type": "code",
   "execution_count": 257,
   "id": "56ade3ed-efd8-4c14-adc0-31081a5cd8dd",
   "metadata": {},
   "outputs": [
    {
     "data": {
      "text/plain": [
       "'I ate 10 apples. so I was sick for three days'"
      ]
     },
     "execution_count": 257,
     "metadata": {},
     "output_type": "execute_result"
    }
   ],
   "source": [
    "number = 10\n",
    "day= \"three\"\n",
    "\"I ate %d apples. so I was sick for %s days\"%(number, day)"
   ]
  },
  {
   "cell_type": "code",
   "execution_count": 263,
   "id": "c696ac86-49ae-4120-86dd-0c1581835f27",
   "metadata": {},
   "outputs": [
    {
     "data": {
      "text/plain": [
       "'Error is 98%'"
      ]
     },
     "execution_count": 263,
     "metadata": {},
     "output_type": "execute_result"
    }
   ],
   "source": [
    "# Error is 98%\n",
    "\"Error is %d%%\"%98"
   ]
  },
  {
   "cell_type": "code",
   "execution_count": 265,
   "id": "8c45e443-5571-4f4b-ab56-215da80ffa32",
   "metadata": {},
   "outputs": [
    {
     "data": {
      "text/plain": [
       "'3.42'"
      ]
     },
     "execution_count": 265,
     "metadata": {},
     "output_type": "execute_result"
    }
   ],
   "source": [
    "# 소수점 표현하기\n",
    "\n",
    "\"%0.2f\"%3.42134234"
   ]
  },
  {
   "cell_type": "markdown",
   "id": "c04a29a9-710c-45c4-9b24-b68bde929bf6",
   "metadata": {},
   "source": [
    "#### 포맷함수를 사용한 포매팅"
   ]
  },
  {
   "cell_type": "code",
   "execution_count": 269,
   "id": "4e2f2a51-ff09-4fc9-8817-bd8256bc9bdc",
   "metadata": {},
   "outputs": [
    {
     "data": {
      "text/plain": [
       "'I eat 3 apples'"
      ]
     },
     "execution_count": 269,
     "metadata": {},
     "output_type": "execute_result"
    }
   ],
   "source": [
    "#맨 뒤에 점에서 Tab누르면 여러가지 객체 나옴\n",
    "\"I eat {0} apples\".format(3) "
   ]
  },
  {
   "cell_type": "code",
   "execution_count": 271,
   "id": "5d1f9c1a-225c-47f7-b544-716f5a5b5f09",
   "metadata": {},
   "outputs": [
    {
     "data": {
      "text/plain": [
       "'I eat five apples'"
      ]
     },
     "execution_count": 271,
     "metadata": {},
     "output_type": "execute_result"
    }
   ],
   "source": [
    "\"I eat {0} apples\".format(\"five\") "
   ]
  },
  {
   "cell_type": "code",
   "execution_count": 275,
   "id": "8805aedf-fbc3-4142-b5cc-584a8b8233ae",
   "metadata": {},
   "outputs": [
    {
     "data": {
      "text/plain": [
       "'I eat 10 apples'"
      ]
     },
     "execution_count": 275,
     "metadata": {},
     "output_type": "execute_result"
    }
   ],
   "source": [
    "\"I eat {} apples\".format(number) # {} 중괄호 안에 0은 없어도 됨."
   ]
  },
  {
   "cell_type": "code",
   "execution_count": 277,
   "id": "f8ce00c8-2d8f-40f0-95d1-cbecc77280d2",
   "metadata": {},
   "outputs": [
    {
     "data": {
      "text/plain": [
       "'I ate 10 apples. so I was sick for three days'"
      ]
     },
     "execution_count": 277,
     "metadata": {},
     "output_type": "execute_result"
    }
   ],
   "source": [
    "\"I ate {} apples. so I was sick for {} days\".format(number, day) "
   ]
  },
  {
   "cell_type": "code",
   "execution_count": 279,
   "id": "51d3ee74-adc7-45ff-b6d5-47546b278dd6",
   "metadata": {},
   "outputs": [
    {
     "data": {
      "text/plain": [
       "'I ate 10 apples. so I was sick for three days'"
      ]
     },
     "execution_count": 279,
     "metadata": {},
     "output_type": "execute_result"
    }
   ],
   "source": [
    "\"I ate {a} apples. so I was sick for {b} days\".format(a=number,b=day) "
   ]
  },
  {
   "cell_type": "code",
   "execution_count": 281,
   "id": "2ef1fd2a-3d01-40f6-816a-afca89a9fce0",
   "metadata": {},
   "outputs": [
    {
     "data": {
      "text/plain": [
       "'I ate 10 apples. so I was sick for three days'"
      ]
     },
     "execution_count": 281,
     "metadata": {},
     "output_type": "execute_result"
    }
   ],
   "source": [
    "\"I ate {a} apples. so I was sick for {b} days\".format(b=day,a=number) "
   ]
  },
  {
   "cell_type": "code",
   "execution_count": 291,
   "id": "46303fed-d865-4325-b3f2-9272750d36f8",
   "metadata": {},
   "outputs": [
    {
     "data": {
      "text/plain": [
       "'3.1416'"
      ]
     },
     "execution_count": 291,
     "metadata": {},
     "output_type": "execute_result"
    }
   ],
   "source": [
    "y = 3.141592\n",
    "\"{0:0.4f}\".format(y)"
   ]
  },
  {
   "cell_type": "code",
   "execution_count": 293,
   "id": "f9b5a720-3297-473c-afa0-7639a1eaabba",
   "metadata": {},
   "outputs": [
    {
     "data": {
      "text/plain": [
       "'3.1416'"
      ]
     },
     "execution_count": 293,
     "metadata": {},
     "output_type": "execute_result"
    }
   ],
   "source": [
    "y = 3.141592\n",
    "\"%0.4f\"%y"
   ]
  },
  {
   "cell_type": "code",
   "execution_count": 295,
   "id": "46259bfc-bd6c-4e2a-9f27-2e10826f3029",
   "metadata": {},
   "outputs": [
    {
     "data": {
      "text/plain": [
       "'{and}'"
      ]
     },
     "execution_count": 295,
     "metadata": {},
     "output_type": "execute_result"
    }
   ],
   "source": [
    "\"{{and}}\".format()"
   ]
  },
  {
   "cell_type": "markdown",
   "id": "cef85b74-7de8-41ba-9467-945862aa4d9c",
   "metadata": {},
   "source": [
    "## f문자열 포매팅"
   ]
  },
  {
   "cell_type": "code",
   "execution_count": 298,
   "id": "31dd75c7-f08c-460b-ae05-2ed7b7485709",
   "metadata": {},
   "outputs": [
    {
     "data": {
      "text/plain": [
       "'나의 이름은 홍길동입니다. 나이는 30입니다.'"
      ]
     },
     "execution_count": 298,
     "metadata": {},
     "output_type": "execute_result"
    }
   ],
   "source": [
    "name = '홍길동'\n",
    "age = 30\n",
    "'나의 이름은 {a}입니다. 나이는 {b}입니다.'.format(a=name,b=age)"
   ]
  },
  {
   "cell_type": "code",
   "execution_count": 306,
   "id": "d45b4431-307a-41cd-9e2a-7809f1500759",
   "metadata": {},
   "outputs": [
    {
     "data": {
      "text/plain": [
       "'나의 이름은 홍길동입니다. 나이는 30입니다.'"
      ]
     },
     "execution_count": 306,
     "metadata": {},
     "output_type": "execute_result"
    }
   ],
   "source": [
    "f'나의 이름은 {name}입니다. 나이는 {age}입니다.'"
   ]
  },
  {
   "cell_type": "code",
   "execution_count": 304,
   "id": "5518848a-c67d-4b15-a190-ec5e5cea017c",
   "metadata": {},
   "outputs": [
    {
     "data": {
      "text/plain": [
       "'나의 이름은 홍길동입니다. 나이는 31입니다.'"
      ]
     },
     "execution_count": 304,
     "metadata": {},
     "output_type": "execute_result"
    }
   ],
   "source": [
    "f'나의 이름은 {name}입니다. 나이는 {age+1}입니다.'"
   ]
  },
  {
   "cell_type": "code",
   "execution_count": 310,
   "id": "ff3bc8da-4210-48e7-8388-95c77da8fd34",
   "metadata": {},
   "outputs": [
    {
     "data": {
      "text/plain": [
       "{'name': '홍길동', 'age': 30}"
      ]
     },
     "execution_count": 310,
     "metadata": {},
     "output_type": "execute_result"
    }
   ],
   "source": [
    "d = {'name':'홍길동','age':30} # key로 조회\n",
    "d"
   ]
  },
  {
   "cell_type": "code",
   "execution_count": 312,
   "id": "ac85a7b1-fa6b-46ef-b969-c514acca9f14",
   "metadata": {},
   "outputs": [
    {
     "data": {
      "text/plain": [
       "'홍길동'"
      ]
     },
     "execution_count": 312,
     "metadata": {},
     "output_type": "execute_result"
    }
   ],
   "source": [
    "d['name']"
   ]
  },
  {
   "cell_type": "code",
   "execution_count": 316,
   "id": "0ac137e9-38da-418c-8e92-ebcc643d5a4c",
   "metadata": {},
   "outputs": [
    {
     "data": {
      "text/plain": [
       "'나의 이름은 홍길동입니다. 나이는 30입니다.'"
      ]
     },
     "execution_count": 316,
     "metadata": {},
     "output_type": "execute_result"
    }
   ],
   "source": [
    "f\"나의 이름은 {d['name']}입니다. 나이는 {d['age']}입니다.\"\n",
    "# 안과 밖의 큰따옴표랑 작은따옴표 구분해주기"
   ]
  },
  {
   "cell_type": "code",
   "execution_count": 320,
   "id": "e08ac0a5-3e72-4aa4-9844-84a5dc781ac2",
   "metadata": {},
   "outputs": [
    {
     "data": {
      "text/plain": [
       "'3.1416'"
      ]
     },
     "execution_count": 320,
     "metadata": {},
     "output_type": "execute_result"
    }
   ],
   "source": [
    "y\n",
    "f'{y:0.4f}'"
   ]
  },
  {
   "cell_type": "code",
   "execution_count": 322,
   "id": "2b506881-5341-4d7b-a9bc-359bc2d6d54b",
   "metadata": {},
   "outputs": [
    {
     "data": {
      "text/plain": [
       "'    3.1416'"
      ]
     },
     "execution_count": 322,
     "metadata": {},
     "output_type": "execute_result"
    }
   ],
   "source": [
    "f'{y:10.4f}'"
   ]
  },
  {
   "cell_type": "markdown",
   "id": "c8e0856b-bd90-4423-9753-8387579c1c65",
   "metadata": {},
   "source": [
    "### 문자열 관련 함수들"
   ]
  },
  {
   "cell_type": "code",
   "execution_count": 325,
   "id": "7150b20b-4b2a-4af2-8ab6-b3a1e37681e9",
   "metadata": {},
   "outputs": [
    {
     "data": {
      "text/plain": [
       "5"
      ]
     },
     "execution_count": 325,
     "metadata": {},
     "output_type": "execute_result"
    }
   ],
   "source": [
    "a = 'hobby'\n",
    "len(a)"
   ]
  },
  {
   "cell_type": "code",
   "execution_count": 327,
   "id": "0d40aa33-7d6b-4a76-90b6-6e57f6ea2675",
   "metadata": {},
   "outputs": [
    {
     "data": {
      "text/plain": [
       "2"
      ]
     },
     "execution_count": 327,
     "metadata": {},
     "output_type": "execute_result"
    }
   ],
   "source": [
    "# 특정 문자열 개수를 세기\n",
    "a.count('b')"
   ]
  },
  {
   "cell_type": "code",
   "execution_count": 329,
   "id": "c05de736-6925-400f-a23d-bd73e6f24057",
   "metadata": {},
   "outputs": [
    {
     "data": {
      "text/plain": [
       "14"
      ]
     },
     "execution_count": 329,
     "metadata": {},
     "output_type": "execute_result"
    }
   ],
   "source": [
    "#위치 알려주기\n",
    "a = 'python is the best choice'\n",
    "a.find('b')"
   ]
  },
  {
   "cell_type": "code",
   "execution_count": 333,
   "id": "d8734698-cf7e-44f4-aa39-4150eced4605",
   "metadata": {
    "scrolled": true
   },
   "outputs": [
    {
     "data": {
      "text/plain": [
       "-1"
      ]
     },
     "execution_count": 333,
     "metadata": {},
     "output_type": "execute_result"
    }
   ],
   "source": [
    "a.find('k') #없는 문자열을 넣으면 -1이 나옴"
   ]
  },
  {
   "cell_type": "code",
   "execution_count": 341,
   "id": "e5abad08-0360-424f-a2d7-81849de8870b",
   "metadata": {},
   "outputs": [
    {
     "data": {
      "text/plain": [
       "\u001b[1;31mDocstring:\u001b[0m\n",
       "S.find(sub[, start[, end]]) -> int\n",
       "\n",
       "Return the lowest index in S where substring sub is found,\n",
       "such that sub is contained within S[start:end].  Optional\n",
       "arguments start and end are interpreted as in slice notation.\n",
       "\n",
       "Return -1 on failure.\n",
       "\u001b[1;31mType:\u001b[0m      builtin_function_or_method"
      ]
     },
     "metadata": {},
     "output_type": "display_data"
    }
   ],
   "source": [
    "a.find?"
   ]
  },
  {
   "cell_type": "code",
   "execution_count": 343,
   "id": "a12ec019-057a-4a21-8297-53f6ba1912a8",
   "metadata": {},
   "outputs": [
    {
     "name": "stdout",
     "output_type": "stream",
     "text": [
      "Help on built-in function find:\n",
      "\n",
      "find(...) method of builtins.str instance\n",
      "    S.find(sub[, start[, end]]) -> int\n",
      "\n",
      "    Return the lowest index in S where substring sub is found,\n",
      "    such that sub is contained within S[start:end].  Optional\n",
      "    arguments start and end are interpreted as in slice notation.\n",
      "\n",
      "    Return -1 on failure.\n",
      "\n"
     ]
    }
   ],
   "source": [
    "help(a.find)"
   ]
  },
  {
   "cell_type": "code",
   "execution_count": 349,
   "id": "a5a34259-7b44-4903-a9c2-2aae05859aa2",
   "metadata": {},
   "outputs": [
    {
     "data": {
      "text/plain": [
       "(8, 8)"
      ]
     },
     "execution_count": 349,
     "metadata": {},
     "output_type": "execute_result"
    }
   ],
   "source": [
    "# 위치 알려주기1\n",
    "\n",
    "a = 'Life is too short'\n",
    "a.index('t'),a.find('t')"
   ]
  },
  {
   "cell_type": "code",
   "execution_count": null,
   "id": "3cab6eb6-de58-4ea4-8f3f-5568dd768218",
   "metadata": {},
   "outputs": [],
   "source": [
    "#index는 없는 값을 찾으려면 error가 생김\n",
    "#find는 없는 값을 찾아도 -1로 반환해줌"
   ]
  },
  {
   "cell_type": "code",
   "execution_count": 351,
   "id": "9665e214-3fb4-4728-a8cf-ad46bba27e07",
   "metadata": {
    "scrolled": true
   },
   "outputs": [
    {
     "data": {
      "text/plain": [
       "'abcd'"
      ]
     },
     "execution_count": 351,
     "metadata": {},
     "output_type": "execute_result"
    }
   ],
   "source": [
    "# 문자열 삽입 join\n",
    "'abcd'"
   ]
  },
  {
   "cell_type": "code",
   "execution_count": 355,
   "id": "0a5e6eb8-e015-4a86-b527-2c347e227d98",
   "metadata": {},
   "outputs": [
    {
     "data": {
      "text/plain": [
       "'a,b,c,d'"
      ]
     },
     "execution_count": 355,
     "metadata": {},
     "output_type": "execute_result"
    }
   ],
   "source": [
    "# 반드시 문자열로 반환합니다.\n",
    "','.join('abcd')"
   ]
  },
  {
   "cell_type": "code",
   "execution_count": 357,
   "id": "8897fbd5-c3fc-4247-ab2c-a9a17f1651e7",
   "metadata": {},
   "outputs": [
    {
     "data": {
      "text/plain": [
       "'a,b,c,d'"
      ]
     },
     "execution_count": 357,
     "metadata": {},
     "output_type": "execute_result"
    }
   ],
   "source": [
    "','.join(['a','b','c','d'])"
   ]
  },
  {
   "cell_type": "code",
   "execution_count": 359,
   "id": "d4bad449-969b-4bff-b2fe-5b7951cddf7a",
   "metadata": {},
   "outputs": [
    {
     "data": {
      "text/plain": [
       "'HI'"
      ]
     },
     "execution_count": 359,
     "metadata": {},
     "output_type": "execute_result"
    }
   ],
   "source": [
    "a = \"hi\"\n",
    "a.upper()"
   ]
  },
  {
   "cell_type": "code",
   "execution_count": 361,
   "id": "58f6308b-c3af-4f10-bb31-e848bb10d39b",
   "metadata": {},
   "outputs": [
    {
     "data": {
      "text/plain": [
       "\u001b[1;31mSignature:\u001b[0m \u001b[0ma\u001b[0m\u001b[1;33m.\u001b[0m\u001b[0mupper\u001b[0m\u001b[1;33m(\u001b[0m\u001b[1;33m)\u001b[0m\u001b[1;33m\u001b[0m\u001b[1;33m\u001b[0m\u001b[0m\n",
       "\u001b[1;31mDocstring:\u001b[0m Return a copy of the string converted to uppercase.\n",
       "\u001b[1;31mType:\u001b[0m      builtin_function_or_method"
      ]
     },
     "metadata": {},
     "output_type": "display_data"
    }
   ],
   "source": [
    "a.upper?"
   ]
  },
  {
   "cell_type": "code",
   "execution_count": 363,
   "id": "b34fea18-f683-496e-97f7-722ec805b5f4",
   "metadata": {},
   "outputs": [
    {
     "data": {
      "text/plain": [
       "'hi'"
      ]
     },
     "execution_count": 363,
     "metadata": {},
     "output_type": "execute_result"
    }
   ],
   "source": [
    "a = 'HI'\n",
    "a.lower()"
   ]
  },
  {
   "cell_type": "code",
   "execution_count": 367,
   "id": "6dc8ef36-7d2e-4cb8-a3b1-e9ab4b54e40f",
   "metadata": {},
   "outputs": [
    {
     "data": {
      "text/plain": [
       "'   hi'"
      ]
     },
     "execution_count": 367,
     "metadata": {},
     "output_type": "execute_result"
    }
   ],
   "source": [
    "#공백 지우기\n",
    "a = \"   hi   \"\n",
    "a.rstrip()"
   ]
  },
  {
   "cell_type": "code",
   "execution_count": 369,
   "id": "32560ebb-4f9a-4b84-8217-583b1bd6d434",
   "metadata": {
    "scrolled": true
   },
   "outputs": [
    {
     "data": {
      "text/plain": [
       "'hi   '"
      ]
     },
     "execution_count": 369,
     "metadata": {},
     "output_type": "execute_result"
    }
   ],
   "source": [
    "a.lstrip()"
   ]
  },
  {
   "cell_type": "code",
   "execution_count": 371,
   "id": "a2e95448-000c-4a72-ac29-50f589764891",
   "metadata": {},
   "outputs": [
    {
     "data": {
      "text/plain": [
       "'hi'"
      ]
     },
     "execution_count": 371,
     "metadata": {},
     "output_type": "execute_result"
    }
   ],
   "source": [
    "a.strip()"
   ]
  },
  {
   "cell_type": "code",
   "execution_count": 373,
   "id": "5ff5a1b6-cb2d-4865-8ee8-ef7b427c70e7",
   "metadata": {},
   "outputs": [
    {
     "data": {
      "text/plain": [
       "' Your leg is too short'"
      ]
     },
     "execution_count": 373,
     "metadata": {},
     "output_type": "execute_result"
    }
   ],
   "source": [
    "a = 'Life is too short'\n",
    "a.replace(\"Life\", \" Your leg\")"
   ]
  },
  {
   "cell_type": "code",
   "execution_count": 375,
   "id": "73ec8f70-1871-4e51-a4b6-4c4eaffcc9a8",
   "metadata": {},
   "outputs": [
    {
     "data": {
      "text/plain": [
       "['Life', 'is', 'too', 'short']"
      ]
     },
     "execution_count": 375,
     "metadata": {},
     "output_type": "execute_result"
    }
   ],
   "source": [
    "# 문자열 나누기\n",
    "a.split() # 리스트로 반환해줍니다."
   ]
  },
  {
   "cell_type": "code",
   "execution_count": 377,
   "id": "29c2b565-3bf9-4727-be5e-71bf325f5777",
   "metadata": {},
   "outputs": [
    {
     "data": {
      "text/plain": [
       "['a', 'b', 'c', 'd']"
      ]
     },
     "execution_count": 377,
     "metadata": {},
     "output_type": "execute_result"
    }
   ],
   "source": [
    "b = 'a:b:c:d'\n",
    "b.split(':')"
   ]
  }
 ],
 "metadata": {
  "kernelspec": {
   "display_name": "Python 3 (ipykernel)",
   "language": "python",
   "name": "python3"
  },
  "language_info": {
   "codemirror_mode": {
    "name": "ipython",
    "version": 3
   },
   "file_extension": ".py",
   "mimetype": "text/x-python",
   "name": "python",
   "nbconvert_exporter": "python",
   "pygments_lexer": "ipython3",
   "version": "3.12.4"
  }
 },
 "nbformat": 4,
 "nbformat_minor": 5
}
