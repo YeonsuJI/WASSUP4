


money = True
if money:
   print("택시를 타고 가라")
else:
   print("걸어 가라")


# 코드 블럭 들여쓰기 해라
money = True
if money:
   print("택시를")
print("타고")
   print("가라")


# 코드 블럭 계층 주의
money = True
if money:
    print("택시를")
    print("타고")
        print("가라")






x = 3
y =2
x > y


x < y


 x!=y





money = 4000
if money>=3000 :
    print("택시를 타라")
else:
    print("걸어가라")





money = 0
card = True
if money>=3000 or card:
    print("택시를 타라")
else:
    print("걸어가라")


>>> 1 in [1, 2, 3]


>>> 1 not in [1, 2, 3]


'a' in ('a', 'b', 'c')


'a' not in ('a', 'b', 'c')





pocket = ['phone', 'card','money']
if 'money' in pocket:
    print("택시를 타라")
else:
    print("걸어가라")





pocket = ['phone', 'card','money']
if 'money' in pocket:
    pass
else:
    print("걸어가라")





pocket = ['phone', 'money']
card =True
if 'money' in pocket:
    print("현금택시")
else:
    if card:
        print("카드택시")
    else:
        print("걸어가라")


pocket = ['phone', 'card','money1']
if 'money' in pocket:
    print("현금으로 택시를 타라")
elif 'money' or 'card' in pocket:
    print("카드로 택시를 타라")
else:
    print("걸어가라")





if 'money' in pocket:
    pass
else:
    print("카드를 꺼내라")


if 'money' in pocket: pass
else: print("카드를 꺼내라")





score = 60
if score >= 60:
    message = "success"
    # print(message)
else:
    message = "failure"
    # print(message)
print(message)


massage = 'success' if score >= 60 else 'failure'
print(message)





treeHit = 0
while treeHit < 10:
    treeHit = treeHit +1
    print("나무를 %d번 찍었습니다." %treeHit)
    if treeHit ==10:
         print("나무 넘어갑니다.")



prompt = '''
1. Add
2. Del
3. List
4. Quit

Enter number : '''


prompt


print(prompt)


input() 


number = 0
while number != 4:
    print(prompt)
    number = int(input()) #input은 무조건 문자열로 반환하기 때문에 int로 바꿔줌





coffee = 10
money = 300
while money:
    print("돈을 받았으니 커피를 줍니다.")
    coffee = coffee -1
    print("남은 커피의 양은 %d개입니다." % coffee)
    if coffee == 0:
        print("커피가 다 떨어졌습니다. 판매를 중지합니다.")
        break





prompt = '''
1. Add
2. Del
3. List
4. Quit

Enter number : '''


number = 0
pocket= ["money", "card"]
while number != 4:
    if "money" in pocket or "card" in pocket:
        print(prompt)
        number = int(input())
        if number == 1:
            print("믹스커피를 추출합니다")
        elif number == 2:
            print("블랙커피를 추출합니다")
        elif number == 3:
            print("우유를 추출합니다")
    else:
        break
        


coffee = 10
while True :
    
    money = int(input("돈을 넣어주세요."))

    if money == 300: #돈을 딱 맞게 받은 케이스
        print('커피를 줍니다')
        coffee -= 1
        #재고 소진
        print(f'남은 커피의 양은{coffee}개 입니다.')
    
    elif money > 300 : #돈을 더 받았을 경우
        # print('거스름돈 %d을 주고 커피를 줍니다.'%(money-300)) #거스름돈 계산
        print(f'거스름돈 {money -300}을 주고 커피를 줍니다')
        coffee -= 1
        #재고 소진
        print(f'남은 커피의 양은{coffee}개 입니다.')
        
    else : #돈이 부족할 경우
        print('돈을 다시 돌려주고 커피를 주지 않습니다.')
        print(f'남은 커피의 양은{coffee}개 입니다.')
        #남은 재고 체크
    
    if coffee == 0: #커피가 다 떨어졌을 경우
        print('커피가 다 떨어졌습니다. 판매를 중지합니다.')
        break





a = 0
while a < 10:
    a +=1
    
    if a%2 == 0:
        continue
        
    print(a)





# 전령적인 for문
test_list = ['one', 'two', 'three']

for i in test_list:
    print(i)



a = [(1,2),(3,4),(5,6)]
for i in a:
    print(i)


for first, last in a:
    print(first+last)





scores = [90, 25, 67, 45, 80]
number = 0
for s in scores :
    print(s)
    number += 1
    if s>= 60:
        print(f"{number}번 학생은 {s} 합격")
    else:
        print(f"{number}번 학생은 {s} 불합격")





scores = [90,25,67,45,80]

number = 0 #인덱스 번호 
for s in scores:
    number +=1
    if s <60:
        continue
    print(f"{number}번 학생 축하합니다. 합격입니다.")





range?


range(10) #range(시작_숫자, 끝_숫자) 형태를 사용하는데, 이때 끝 숫자는 포함되지 않는다.


type(range(10))


for i in range(10):
    print(i)


for i in range(1,11):
    print(i)





a = 0
for i in range (1,11):
    a += i
print(a)


scores = [90,25,67,45,80]

# number = 0 #인덱스 번호 
for s in  range(len(scores)):
    # number +=1
    if scores[s] <60:
        continue
    print(f"{s+1}번 학생 축하합니다. 합격입니다.")






for n in range(2,10):
    for i in range(1,10):
        # print(n, "X", i, "=",n*i)
        print(f"{n} x {i} = {n*i}")#, end =" ")
    print()


for i in range(2,10):
    print('=' *10) 
    print(f'{i}단')
    for j in range(1,10):
        print(f"{i}x{j}={i* j}")





>>> a = [1,2,3,4]
>>> result = []
>>> for num in a:
...     result.append(num*3)
...
>>> print(result)




>>> a = [1,2,3,4]
>>> result = [num * 3 for num in a if num % 2 == 0]
>>> print(result)




result = [x*y for x in range(2,10)
          for y in range(1,10)]
print(result)


import time

start = time.time() 
numbers = [i for i in range(1000000)] 
end = time.time() 
print('List Comprehension Time:', end-start)

start = time.time() 
numbers = []
for i in range(1000000):
    numbers.append(i)
end = time.time() 
print('For loop Time:', end-start)








contact = {}
while True:
    print('------전화번호부 프로그램-----')
    print('1.추가 2.조회 3.검색 4.수정 5.삭제  9.종료')

    menu = int(input("메뉴를 선택해주세요.(숫자 only ): "))
    if menu == 1:
        print("연락처를 추가합니다. ")
        new_name = input('이름: ')
        new_tel = input('전화번호 : ')
        print(new_name, new_tel)
        
        # contact[new_name] = new_tel
        contact.setdefault(new_name, new_tel)

    elif menu == 2:
        print("연락처를 조회합니다.")
        # print(contact)
        for name, tel in contact.items():
            print(name, ':', tel)
            
    elif menu == 3:
        print("연락처를 검색합니다.")
        search_name = input("검색 이름 : ")
        # print(contact[search_name])
        print(contact.get(search_name, "없는 이름입니다."))
        

    elif menu == 4:
        print("연락처를 수정합니다.")
        mod_name = input("수정 이름 : ")

        if mod_name in contact:
            mod_tel = input("수정 전화번호 :")
            contact[mod_name] = mod_tel
        else:
            print("등록되지 않은 이름입니다.")

    elif menu == 5:
        print("연락처를 삭제합니다.")
        del_name = input("삭제 이름 : ")

        if del_name in contact:
            del contact[del_name]
        else:
            print("등록되지 않은 이름입니다.")

    elif menu == 9:
        print("프로그램을 종료합니다.")
        break
    else :
        print("유효한 입력이 아닙니다.")


phonebook = {}

while True:
    print("\n전화번호 관리 프로그램")
    print("1: 연락처 추가")
    print("2: 연락처 전체 보기")
    print("3: 연락처 검색")
    print("4: 연락처 수정")
    print("5: 연락처 삭제")
    print("6: 프로그램 종료")

    number = input("원하는 기능의 번호를 입력하세요: ")

    if number == '1': 
        name = input("추가할 이름을 입력하세요: ")
        phone_number = input(f"{name}님의 전화번호를 입력하세요: ")
        phonebook[name] = phone_number
        print(f"{name}님의 연락처가 추가되었습니다.")
        
    elif number == '2':  
        if phonebook:
            print("전체 연락처 목록:")
            for name, phone_number in phonebook.items():
                print(f"{name}: {phone_number}")
        else:
            print("저장된 연락처가 없습니다.")

    elif number == '3': 
        name = input("검색할 이름을 입력하세요: ")
        if name in phonebook:
            print(f"{name}님의 전화번호: {phonebook[name]}")
        else:
            print(f"{name}님의 연락처를 찾을 수 없습니다.")

    elif number == '4': 
        name = input("수정할 연락처의 이름을 입력하세요: ")
        if name in phonebook:
            new_phone_number = input(f"{name}님의 새 전화번호를 입력하세요: ")
            phonebook[name] = new_phone_number
            print(f"{name}님의 연락처가 수정되었습니다.")
        else:
            print(f"{name}님의 연락처를 찾을 수 없습니다.")

    elif number == '5':  
        name = input("삭제할 이름을 입력하세요: ")
        if name in phonebook:
            del phonebook[name]
            print(f"{name}님의 연락처가 삭제되었습니다.")
        else:
            print(f"{name}님의 연락처를 찾을 수 없습니다.")

    elif number == '6': 
        print("프로그램을 종료합니다.")
        break

    else:
        print("유효한 번호를 입력하세요.")




phonebook = {}


features = ["1: 연락처 추가", "2: 연락처 전체 보기", "3: 연락처 검색", "4: 연락처 수정", "5: 연락처 삭제", "6: 프로그램 종료"]

while True:
    for feature in features:  
        print(feature)
    
    number = input("원하는 기능의 번호를 입력하세요: ")

    if number == '1':  
        for _ in range(1): 
            name = input("추가할 이름을 입력하세요: ")
            phone_number = input(f"{name}님의 전화번호를 입력하세요: ")
            phonebook[name] = phone_number
            print(f"{name}님의 연락처가 추가되었습니다.")
        
    elif number == '2':  
        for _ in range(1): 
            if phonebook:
                print("전체 연락처 목록:")
                for name, phone_number in phonebook.items():
                    print(f"{name}: {phone_number}")
            else:
                print("저장된 연락처가 없습니다.")

    elif number == '3':  
        for _ in range(1):  
            name = input("검색할 이름을 입력하세요: ")
            if name in phonebook:
                print(f"{name}님의 전화번호: {phonebook[name]}")
            else:
                print(f"{name}님의 연락처를 찾을 수 없습니다.")

    elif number == '4':  
        for _ in range(1):  
            name = input("수정할 연락처의 이름을 입력하세요: ")
            if name in phonebook:
                new_phone_number = input(f"{name}님의 새 전화번호를 입력하세요: ")
                phonebook[name] = new_phone_number
                print(f"{name}님의 연락처가 수정되었습니다.")
            else:
                print(f"{name}님의 연락처를 찾을 수 없습니다.")

    elif number == '5':  
        for _ in range(1): 
            name = input("삭제할 이름을 입력하세요: ")
            if name in phonebook:
                del phonebook[name]
                print(f"{name}님의 연락처가 삭제되었습니다.")
            else:
                print(f"{name}님의 연락처를 찾을 수 없습니다.")

    elif number == '6':  # 프로그램 종료
        print("프로그램을 종료합니다.")
        break

    else:  
        for _ in range(1):  # for 문을 활용한 오류 처리
            print("유효한 번호를 입력하세요.")


































