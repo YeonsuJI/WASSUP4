{
 "cells": [
  {
   "cell_type": "markdown",
   "id": "06bdef0f-360b-4020-9671-36ac11275623",
   "metadata": {},
   "source": [
    "## 함수와 입출력\n"
   ]
  },
  {
   "cell_type": "markdown",
   "id": "7fdfc018-89e5-4912-b2d6-8978bf24e3c8",
   "metadata": {},
   "source": [
    "### 함수"
   ]
  },
  {
   "cell_type": "code",
   "execution_count": 53,
   "id": "7d4d7bf9-b227-4cda-b5f8-3724fd5aaeaf",
   "metadata": {},
   "outputs": [],
   "source": [
    "def add(a,b):\n",
    "    return a + b"
   ]
  },
  {
   "cell_type": "code",
   "execution_count": 55,
   "id": "2e3fb53e-1ed4-44a7-acd4-7a921d600b37",
   "metadata": {},
   "outputs": [
    {
     "name": "stdout",
     "output_type": "stream",
     "text": [
      "7\n"
     ]
    }
   ],
   "source": [
    "a = 3\n",
    "b = 4 \n",
    "c = add(a, b)\n",
    "print(c)"
   ]
  },
  {
   "cell_type": "markdown",
   "id": "0d1a8949-e73f-4aa2-8c55-f461bdc51d22",
   "metadata": {},
   "source": [
    "## 매개변수와 인수"
   ]
  },
  {
   "cell_type": "code",
   "execution_count": 57,
   "id": "f6c12e04-33df-4c03-8ad2-0339bf8d8a1d",
   "metadata": {},
   "outputs": [
    {
     "name": "stdout",
     "output_type": "stream",
     "text": [
      "7\n"
     ]
    }
   ],
   "source": [
    "def add(a,b): # a, b 는 매개변수\n",
    "    return a + b\n",
    "\n",
    "print(add(3,4)) # 3,4는 인수"
   ]
  },
  {
   "cell_type": "markdown",
   "id": "d9098976-2b84-4969-b66d-ff6c4f63cf1a",
   "metadata": {},
   "source": [
    "## 입력값과 리턴값에 따른 함수의 형태"
   ]
  },
  {
   "cell_type": "code",
   "execution_count": 91,
   "id": "8cf6e9c3-64c0-4ec2-8dff-ed9330c90890",
   "metadata": {},
   "outputs": [],
   "source": [
    "#일반적인 함수\n",
    "def add1(a,b):\n",
    "    result = a+b\n",
    "    return result"
   ]
  },
  {
   "cell_type": "code",
   "execution_count": 95,
   "id": "bbb5a9c1-f165-40e3-a9b1-74674b646606",
   "metadata": {},
   "outputs": [
    {
     "data": {
      "text/plain": [
       "7"
      ]
     },
     "execution_count": 95,
     "metadata": {},
     "output_type": "execute_result"
    }
   ],
   "source": [
    "add1 (3,4)"
   ]
  },
  {
   "cell_type": "code",
   "execution_count": 109,
   "id": "79174c40-c342-4a51-9c5b-b13f34ee10f1",
   "metadata": {},
   "outputs": [],
   "source": [
    "# 입력값이 없는 함수\n",
    "def say1():\n",
    "    return 'Hi'"
   ]
  },
  {
   "cell_type": "code",
   "execution_count": 111,
   "id": "e99d9390-b413-476f-8b72-ad128cc53ceb",
   "metadata": {
    "scrolled": true
   },
   "outputs": [
    {
     "data": {
      "text/plain": [
       "'Hi'"
      ]
     },
     "execution_count": 111,
     "metadata": {},
     "output_type": "execute_result"
    }
   ],
   "source": [
    "say1()"
   ]
  },
  {
   "cell_type": "code",
   "execution_count": 113,
   "id": "29a85cf9-ca68-47c5-b568-ac254c4aface",
   "metadata": {},
   "outputs": [],
   "source": [
    "d = say1()"
   ]
  },
  {
   "cell_type": "code",
   "execution_count": 115,
   "id": "0817b65f-81be-4533-bd12-bd4528b00187",
   "metadata": {},
   "outputs": [
    {
     "name": "stdout",
     "output_type": "stream",
     "text": [
      "Hi\n"
     ]
    }
   ],
   "source": [
    "print(d)"
   ]
  },
  {
   "cell_type": "code",
   "execution_count": 97,
   "id": "b24773cb-caf8-4958-b922-286f5aab5703",
   "metadata": {},
   "outputs": [],
   "source": [
    "# 리턴값이 없는 함수\n",
    "def add2(a, b):\n",
    "    print(\"%d, %d의 합은 %d입니다.\" % (a, b, a+b))\n"
   ]
  },
  {
   "cell_type": "code",
   "execution_count": 99,
   "id": "1478b70c-1a74-4123-a490-f4dae37f819c",
   "metadata": {},
   "outputs": [
    {
     "name": "stdout",
     "output_type": "stream",
     "text": [
      "3, 4의 합은 7입니다.\n"
     ]
    }
   ],
   "source": [
    "add2(3,4)"
   ]
  },
  {
   "cell_type": "code",
   "execution_count": 101,
   "id": "ffd3aad0-a07c-49be-bb8f-f033c8895818",
   "metadata": {},
   "outputs": [
    {
     "name": "stdout",
     "output_type": "stream",
     "text": [
      "3, 4의 합은 7입니다.\n"
     ]
    }
   ],
   "source": [
    "c = add2(3,4)"
   ]
  },
  {
   "cell_type": "code",
   "execution_count": 103,
   "id": "c6d00726-48ef-4d9b-a7f0-c56e8947d8e4",
   "metadata": {},
   "outputs": [
    {
     "name": "stdout",
     "output_type": "stream",
     "text": [
      "None\n"
     ]
    }
   ],
   "source": [
    "print(c)"
   ]
  },
  {
   "cell_type": "code",
   "execution_count": 107,
   "id": "fa87c096-0b1e-45a6-a297-785cadd94077",
   "metadata": {},
   "outputs": [],
   "source": [
    "# 입력값도, 리턴값도 없는 함수\n",
    "def say2():\n",
    "    print(\"Hi\")"
   ]
  },
  {
   "cell_type": "code",
   "execution_count": 117,
   "id": "5ac3ab7f-3640-45f6-94af-33ef40f37ec6",
   "metadata": {},
   "outputs": [
    {
     "name": "stdout",
     "output_type": "stream",
     "text": [
      "Hi\n"
     ]
    }
   ],
   "source": [
    "say2()"
   ]
  },
  {
   "cell_type": "code",
   "execution_count": 119,
   "id": "1e141046-f401-4427-b0a6-e0b3c5ef8c52",
   "metadata": {},
   "outputs": [
    {
     "name": "stdout",
     "output_type": "stream",
     "text": [
      "Hi\n"
     ]
    }
   ],
   "source": [
    "d = say2()"
   ]
  },
  {
   "cell_type": "code",
   "execution_count": 121,
   "id": "50d142d6-949b-45c5-a178-ff1eddea31a1",
   "metadata": {},
   "outputs": [
    {
     "name": "stdout",
     "output_type": "stream",
     "text": [
      "None\n"
     ]
    }
   ],
   "source": [
    "print(d)"
   ]
  },
  {
   "cell_type": "markdown",
   "id": "6baf8091-7624-42d1-b32f-5acb8e688f5a",
   "metadata": {},
   "source": [
    "## 매개변수를 지정하여 호출하기"
   ]
  },
  {
   "cell_type": "code",
   "execution_count": 127,
   "id": "69637ddd-f20e-42a6-8481-5f0bbbddcda9",
   "metadata": {},
   "outputs": [],
   "source": [
    "def sub(a,b):\n",
    "    return a-b"
   ]
  },
  {
   "cell_type": "code",
   "execution_count": 129,
   "id": "2526d3db-6ab1-402a-b18a-f475982a2f24",
   "metadata": {},
   "outputs": [
    {
     "name": "stdout",
     "output_type": "stream",
     "text": [
      "4\n"
     ]
    }
   ],
   "source": [
    "result = sub(a =7,b=3)\n",
    "print(result)"
   ]
  },
  {
   "cell_type": "code",
   "execution_count": 131,
   "id": "0d133027-12a7-4983-814f-42b356d5e6a1",
   "metadata": {},
   "outputs": [
    {
     "name": "stdout",
     "output_type": "stream",
     "text": [
      "-2\n"
     ]
    }
   ],
   "source": [
    "result = sub(b=5, a=3)\n",
    "print(result)"
   ]
  },
  {
   "cell_type": "markdown",
   "id": "b842e2a4-b38f-4e16-9f47-e5002b802aeb",
   "metadata": {},
   "source": [
    "### 입력값이 몇 개가 될지 모를 때는 어떻게 해야 할까?"
   ]
  },
  {
   "cell_type": "code",
   "execution_count": 135,
   "id": "f02159f2-ba71-4282-b5b5-9b3cbb3839fd",
   "metadata": {},
   "outputs": [
    {
     "data": {
      "text/plain": [
       "\u001b[1;31mSignature:\u001b[0m \u001b[0mprint\u001b[0m\u001b[1;33m(\u001b[0m\u001b[1;33m*\u001b[0m\u001b[0margs\u001b[0m\u001b[1;33m,\u001b[0m \u001b[0msep\u001b[0m\u001b[1;33m=\u001b[0m\u001b[1;34m' '\u001b[0m\u001b[1;33m,\u001b[0m \u001b[0mend\u001b[0m\u001b[1;33m=\u001b[0m\u001b[1;34m'\\n'\u001b[0m\u001b[1;33m,\u001b[0m \u001b[0mfile\u001b[0m\u001b[1;33m=\u001b[0m\u001b[1;32mNone\u001b[0m\u001b[1;33m,\u001b[0m \u001b[0mflush\u001b[0m\u001b[1;33m=\u001b[0m\u001b[1;32mFalse\u001b[0m\u001b[1;33m)\u001b[0m\u001b[1;33m\u001b[0m\u001b[1;33m\u001b[0m\u001b[0m\n",
       "\u001b[1;31mDocstring:\u001b[0m\n",
       "Prints the values to a stream, or to sys.stdout by default.\n",
       "\n",
       "sep\n",
       "  string inserted between values, default a space.\n",
       "end\n",
       "  string appended after the last value, default a newline.\n",
       "file\n",
       "  a file-like object (stream); defaults to the current sys.stdout.\n",
       "flush\n",
       "  whether to forcibly flush the stream.\n",
       "\u001b[1;31mType:\u001b[0m      builtin_function_or_method"
      ]
     },
     "metadata": {},
     "output_type": "display_data"
    }
   ],
   "source": [
    "print?"
   ]
  },
  {
   "cell_type": "code",
   "execution_count": 139,
   "id": "f9af0d0c-662b-46d4-aa2a-3a3aeace391e",
   "metadata": {},
   "outputs": [],
   "source": [
    "# 사용자의 입력이 몇개든, 전부 다 누적해서 더해주는 함수\n",
    "def add_many(*args):\n",
    "    result = 0\n",
    "    for i in args:\n",
    "        result = result+i #args에 입력받은 모든 값을 더한다.\n",
    "    return result"
   ]
  },
  {
   "cell_type": "code",
   "execution_count": 141,
   "id": "25b2c26d-b2fd-4166-8315-37fd840edb2c",
   "metadata": {},
   "outputs": [
    {
     "data": {
      "text/plain": [
       "15"
      ]
     },
     "execution_count": 141,
     "metadata": {},
     "output_type": "execute_result"
    }
   ],
   "source": [
    "add_many(1,2,3,4,5)"
   ]
  },
  {
   "cell_type": "code",
   "execution_count": 143,
   "id": "75874619-7679-49cc-a3f6-0fa82828e7fd",
   "metadata": {},
   "outputs": [
    {
     "data": {
      "text/plain": [
       "55"
      ]
     },
     "execution_count": 143,
     "metadata": {},
     "output_type": "execute_result"
    }
   ],
   "source": [
    "add_many(1,2,3,4,5,6,7,8,9,10)"
   ]
  },
  {
   "cell_type": "markdown",
   "id": "4e46337a-fa9a-4dc1-a830-9699ba36aca7",
   "metadata": {},
   "source": [
    "## quiz\n",
    "\n",
    "```\n",
    "사용자에게 다수의 입력을 받아서\n",
    "옵션에 따라서 누적곱 또는 누적합을 출력하는 함수를 만들어라\n",
    "```"
   ]
  },
  {
   "cell_type": "code",
   "execution_count": 365,
   "id": "2fd8f5d4-43c4-4017-8866-b81b1c84a1f8",
   "metadata": {},
   "outputs": [],
   "source": [
    "def add_mul(option,*args):\n",
    "    if option == \"mul\":\n",
    "        data = 1\n",
    "        for i in args:\n",
    "            data *= i\n",
    "        return data\n",
    "        \n",
    "    if option == \"sum\":\n",
    "        data = 0\n",
    "        for i in args:\n",
    "            data += i\n",
    "        return data"
   ]
  },
  {
   "cell_type": "code",
   "execution_count": 228,
   "id": "59de718b-c3bf-485f-9ca5-dab296fbcbd1",
   "metadata": {},
   "outputs": [
    {
     "data": {
      "text/plain": [
       "144"
      ]
     },
     "execution_count": 228,
     "metadata": {},
     "output_type": "execute_result"
    }
   ],
   "source": [
    "add_mul(\"mul\",1,2,3,4,6)"
   ]
  },
  {
   "cell_type": "code",
   "execution_count": 226,
   "id": "743d1496-f899-4b8d-a25c-492036bd3ddc",
   "metadata": {
    "scrolled": true
   },
   "outputs": [
    {
     "data": {
      "text/plain": [
       "15"
      ]
     },
     "execution_count": 226,
     "metadata": {},
     "output_type": "execute_result"
    }
   ],
   "source": [
    "add_mul(\"sum\",1,2,3,4,5)"
   ]
  },
  {
   "cell_type": "markdown",
   "id": "e3dca512-0068-4c9b-a704-96e1f1bd6cfd",
   "metadata": {},
   "source": [
    "## 키워드 매개변수, kwargs\n",
    "딕셔너리로 받아오는 것"
   ]
  },
  {
   "cell_type": "code",
   "execution_count": 188,
   "id": "0d1d558f-00fa-4d67-8dd0-66439be26286",
   "metadata": {},
   "outputs": [],
   "source": [
    "def print_kwargs(**kwargs):\n",
    "   print(kwargs)"
   ]
  },
  {
   "cell_type": "code",
   "execution_count": 191,
   "id": "c4a98a67-e462-492b-a1b6-e6a8ab2430f7",
   "metadata": {},
   "outputs": [
    {
     "name": "stdout",
     "output_type": "stream",
     "text": [
      "{'a': 1}\n"
     ]
    }
   ],
   "source": [
    "print_kwargs(a = 1)"
   ]
  },
  {
   "cell_type": "code",
   "execution_count": 193,
   "id": "adbad598-753e-485f-9118-10007c9b1b2d",
   "metadata": {},
   "outputs": [
    {
     "name": "stdout",
     "output_type": "stream",
     "text": [
      "{'name': 'ji', 'age': 27}\n"
     ]
    }
   ],
   "source": [
    "print_kwargs(name = 'ji', age =27)"
   ]
  },
  {
   "cell_type": "markdown",
   "id": "8fafe050-32b8-44fa-a92f-1896e7f869ab",
   "metadata": {},
   "source": [
    "## 함수의 리턴값은 언제나 하나이다. "
   ]
  },
  {
   "cell_type": "code",
   "execution_count": 196,
   "id": "71d1c2b6-e271-4c7b-a562-a1ac4423a6d5",
   "metadata": {},
   "outputs": [],
   "source": [
    "def add_and_mul(a,b):\n",
    "    return a+b,a*b"
   ]
  },
  {
   "cell_type": "code",
   "execution_count": 200,
   "id": "fcf3c79b-293a-4d34-9fe3-fd78c5447462",
   "metadata": {},
   "outputs": [
    {
     "data": {
      "text/plain": [
       "(7, 12)"
      ]
     },
     "execution_count": 200,
     "metadata": {},
     "output_type": "execute_result"
    }
   ],
   "source": [
    "add_and_mul(3,4) #튜플로 묶였기에 출력되는 데이터는 한개이다"
   ]
  },
  {
   "cell_type": "code",
   "execution_count": 202,
   "id": "5cc6205f-d626-4a67-9c0d-cf4a3cd86b52",
   "metadata": {},
   "outputs": [
    {
     "data": {
      "text/plain": [
       "7"
      ]
     },
     "execution_count": 202,
     "metadata": {},
     "output_type": "execute_result"
    }
   ],
   "source": [
    "result1, result2  = add_and_mul(3,4)\n",
    "result1"
   ]
  },
  {
   "cell_type": "code",
   "execution_count": 204,
   "id": "626bc16e-7449-4268-afab-d6ecc7c8b03b",
   "metadata": {},
   "outputs": [
    {
     "data": {
      "text/plain": [
       "12"
      ]
     },
     "execution_count": 204,
     "metadata": {},
     "output_type": "execute_result"
    }
   ],
   "source": [
    "result2"
   ]
  },
  {
   "cell_type": "code",
   "execution_count": 208,
   "id": "532e54b0-4103-4d3f-86b5-27e41ddc17c3",
   "metadata": {},
   "outputs": [],
   "source": [
    "def add_and_mul(a,b):\n",
    "    return a+b\n",
    "    return a*b"
   ]
  },
  {
   "cell_type": "code",
   "execution_count": 210,
   "id": "dfb236ca-e112-4de4-9581-d5b522b3ee00",
   "metadata": {},
   "outputs": [
    {
     "data": {
      "text/plain": [
       "5"
      ]
     },
     "execution_count": 210,
     "metadata": {},
     "output_type": "execute_result"
    }
   ],
   "source": [
    "result = add_and_mul(2,3)\n",
    "result"
   ]
  },
  {
   "cell_type": "markdown",
   "id": "9d4d8a79-c414-420d-b853-26c795ff5848",
   "metadata": {},
   "source": [
    "## return으로 함수 이탈하기"
   ]
  },
  {
   "cell_type": "code",
   "execution_count": 212,
   "id": "aed29ce9-114d-47fd-8ade-ae107ad03542",
   "metadata": {},
   "outputs": [],
   "source": [
    "def say_nick(nick):\n",
    "    if nick == \"바보\":\n",
    "        return \"옥상으로 따라와\"\n",
    "    print(f'나의 별명은 {nick}입니다.')"
   ]
  },
  {
   "cell_type": "code",
   "execution_count": 214,
   "id": "199cdf6a-e483-4d23-9936-1f701cd89fba",
   "metadata": {},
   "outputs": [
    {
     "name": "stdout",
     "output_type": "stream",
     "text": [
      "나의 별명은 야호입니다.\n"
     ]
    }
   ],
   "source": [
    "say_nick('야호')"
   ]
  },
  {
   "cell_type": "code",
   "execution_count": 216,
   "id": "7b8f06b0-6244-443f-88b9-ddebaf0fba9a",
   "metadata": {},
   "outputs": [
    {
     "data": {
      "text/plain": [
       "'옥상으로 따라와'"
      ]
     },
     "execution_count": 216,
     "metadata": {},
     "output_type": "execute_result"
    }
   ],
   "source": [
    "say_nick('바보')"
   ]
  },
  {
   "cell_type": "markdown",
   "id": "6438baa6-5658-4ae0-ad2e-b6c1fac61c7f",
   "metadata": {},
   "source": [
    "## 매개변수에 초깃값 미리 설정하기"
   ]
  },
  {
   "cell_type": "code",
   "execution_count": 230,
   "id": "24fb65d8-fd2d-4935-8a2d-e08a8fdaaa54",
   "metadata": {},
   "outputs": [],
   "source": [
    "def say_myself(name, age, man =True): # 트루값 같은 것은 맨 뒤에 넣어라\n",
    "    print(f'나의 이름은 {name}입니다.')\n",
    "    print(f'나의 나이은 {age}입니다.')\n",
    "    if man :\n",
    "        print('남자입니다')\n",
    "    else:\n",
    "        print('여자입니다')"
   ]
  },
  {
   "cell_type": "code",
   "execution_count": 236,
   "id": "b2b0fe14-baa5-4971-b3b5-e58ad84f979b",
   "metadata": {},
   "outputs": [
    {
     "name": "stdout",
     "output_type": "stream",
     "text": [
      "나의 이름은 지연수입니다.\n",
      "나의 나이은 27입니다.\n",
      "남자입니다\n"
     ]
    }
   ],
   "source": [
    "say_myself('지연수', 27, True)"
   ]
  },
  {
   "cell_type": "markdown",
   "id": "c2a050a0-198d-4d58-a7b7-0df6ef1a0987",
   "metadata": {},
   "source": [
    "## 함수 안에서 선언한 변수의 효력 범위"
   ]
  },
  {
   "cell_type": "code",
   "execution_count": 239,
   "id": "12e7f49f-aa58-4db1-988a-880d59ef334b",
   "metadata": {},
   "outputs": [],
   "source": [
    "a = 1 # 글로벌 영역\n",
    "def vartest(a): #로컬영역\n",
    "    a = a + 1"
   ]
  },
  {
   "cell_type": "code",
   "execution_count": 243,
   "id": "20be53a4-c331-47d1-a872-db0599f312a4",
   "metadata": {},
   "outputs": [
    {
     "data": {
      "text/plain": [
       "1"
      ]
     },
     "execution_count": 243,
     "metadata": {},
     "output_type": "execute_result"
    }
   ],
   "source": [
    "a # 영역이 달라서 영향을 받지 않아 바뀌지 않음"
   ]
  },
  {
   "cell_type": "code",
   "execution_count": 245,
   "id": "a9b9a0c3-e9b6-4237-a84c-dc0d618cc155",
   "metadata": {},
   "outputs": [],
   "source": [
    "vartest(a)"
   ]
  },
  {
   "cell_type": "code",
   "execution_count": 247,
   "id": "c10eb768-96a5-4e2b-aa76-f9f1d88be85d",
   "metadata": {},
   "outputs": [
    {
     "name": "stdout",
     "output_type": "stream",
     "text": [
      "1\n"
     ]
    }
   ],
   "source": [
    "print(a)"
   ]
  },
  {
   "cell_type": "markdown",
   "id": "cbeb6d8f-6631-4f13-b321-494bfbde86c0",
   "metadata": {},
   "source": [
    "## 함수 안에서 함수 밖의 변수를 변경하는 방법"
   ]
  },
  {
   "cell_type": "code",
   "execution_count": 249,
   "id": "fca950e3-0232-4ecc-bfca-7b386cbabf3d",
   "metadata": {},
   "outputs": [
    {
     "name": "stdout",
     "output_type": "stream",
     "text": [
      "2\n"
     ]
    }
   ],
   "source": [
    "# 1. return 사용하기\n",
    "a = 1 \n",
    "def vartest(a): \n",
    "    a = a +1 \n",
    "    return a\n",
    "\n",
    "a = vartest(a) \n",
    "print(a)"
   ]
  },
  {
   "cell_type": "code",
   "execution_count": 252,
   "id": "c9cfaf89-e6b1-4ef5-9ddb-7d6807e247d8",
   "metadata": {},
   "outputs": [
    {
     "name": "stdout",
     "output_type": "stream",
     "text": [
      "2\n"
     ]
    }
   ],
   "source": [
    "# 2. global 명령어 사용하기\n",
    "a = 1\n",
    "def vartest():\n",
    "    global a\n",
    "    a = a+1\n",
    "\n",
    "vartest()\n",
    "print(a)    "
   ]
  },
  {
   "cell_type": "markdown",
   "id": "65461ad8-bd09-4aa7-87ac-89464bd12761",
   "metadata": {},
   "source": [
    "### lambda 예약어\n",
    "* 1회성 함수"
   ]
  },
  {
   "cell_type": "code",
   "execution_count": 256,
   "id": "f00c46b1-2c15-4315-ab10-d68f2851e70e",
   "metadata": {},
   "outputs": [
    {
     "name": "stdout",
     "output_type": "stream",
     "text": [
      "7\n"
     ]
    }
   ],
   "source": [
    "def add(a,b):\n",
    "    return a+b\n",
    "result = add(3,4)\n",
    "print(result)"
   ]
  },
  {
   "cell_type": "code",
   "execution_count": 260,
   "id": "847a4aa7-4dca-4a1b-9e0d-bcc305759ef8",
   "metadata": {},
   "outputs": [
    {
     "data": {
      "text/plain": [
       "7"
      ]
     },
     "execution_count": 260,
     "metadata": {},
     "output_type": "execute_result"
    }
   ],
   "source": [
    "add = lambda a,b: a+b\n",
    "add(3,4)"
   ]
  },
  {
   "cell_type": "markdown",
   "id": "06b9b4a8-72bd-48f8-bcb4-039d16adbd5b",
   "metadata": {},
   "source": [
    "## 파일 읽고 쓰기"
   ]
  },
  {
   "cell_type": "code",
   "execution_count": 273,
   "id": "c33a641c-f4a3-49e1-8f07-344c9587f5d6",
   "metadata": {},
   "outputs": [],
   "source": [
    "# newfile.py\n",
    "f = open(\"output/test.txt\", 'w')\n",
    "f.close()"
   ]
  },
  {
   "cell_type": "code",
   "execution_count": 279,
   "id": "30082105-066f-4aa6-850c-aeacd35ec8b2",
   "metadata": {},
   "outputs": [],
   "source": [
    "f = open(\"output/test.txt\", 'w')\n",
    "for i in range(1,11):\n",
    "    f.write(f'{i}번째 줄입니다.\\n')\n",
    "f.close()"
   ]
  },
  {
   "cell_type": "code",
   "execution_count": 281,
   "id": "81289c81-7ab4-4e8f-844f-514e9f73262b",
   "metadata": {},
   "outputs": [
    {
     "name": "stdout",
     "output_type": "stream",
     "text": [
      "1번째 줄입니다.\n",
      "\n"
     ]
    }
   ],
   "source": [
    "# readline 함수 아용하기\n",
    "f = open(\"output/test.txt\", 'r')\n",
    "line = f.readline()\n",
    "print(line)\n",
    "f.close()"
   ]
  },
  {
   "cell_type": "code",
   "execution_count": 291,
   "id": "a41b3cfe-921a-424c-b848-284145e962c8",
   "metadata": {},
   "outputs": [
    {
     "name": "stdout",
     "output_type": "stream",
     "text": [
      "1번째 줄입니다.\n",
      "\n",
      "2번째 줄입니다.\n",
      "\n",
      "3번째 줄입니다.\n",
      "\n",
      "4번째 줄입니다.\n",
      "\n",
      "5번째 줄입니다.\n",
      "\n"
     ]
    }
   ],
   "source": [
    "f = open(\"output/test.txt\", 'r')\n",
    "for i in range(5):\n",
    "      line = f.readline()\n",
    "      print(line)\n",
    "f.close()"
   ]
  },
  {
   "cell_type": "code",
   "execution_count": 295,
   "id": "8178e50e-d950-4894-add3-0b7f65506d7d",
   "metadata": {},
   "outputs": [
    {
     "name": "stdout",
     "output_type": "stream",
     "text": [
      "['1번째 줄입니다.\\n', '2번째 줄입니다.\\n', '3번째 줄입니다.\\n', '4번째 줄입니다.\\n', '5번째 줄입니다.\\n', '6번째 줄입니다.\\n', '7번째 줄입니다.\\n', '8번째 줄입니다.\\n', '9번째 줄입니다.\\n', '10번째 줄입니다.\\n']\n"
     ]
    }
   ],
   "source": [
    "# readlines 함수\n",
    "f = open(\"output/test.txt\", 'r')\n",
    "lines = f.readlines()\n",
    "print(lines)"
   ]
  },
  {
   "cell_type": "code",
   "execution_count": 299,
   "id": "2ce0944d-9b10-44f3-8e72-8e061e465bee",
   "metadata": {},
   "outputs": [
    {
     "name": "stdout",
     "output_type": "stream",
     "text": [
      "1번째 줄입니다.\n",
      "\n",
      "2번째 줄입니다.\n",
      "\n",
      "3번째 줄입니다.\n",
      "\n",
      "4번째 줄입니다.\n",
      "\n",
      "5번째 줄입니다.\n",
      "\n",
      "6번째 줄입니다.\n",
      "\n",
      "7번째 줄입니다.\n",
      "\n",
      "8번째 줄입니다.\n",
      "\n",
      "9번째 줄입니다.\n",
      "\n",
      "10번째 줄입니다.\n",
      "\n"
     ]
    }
   ],
   "source": [
    "f = open(\"output/test.txt\", 'r')\n",
    "lines = f.readlines()\n",
    "for line in lines:\n",
    "    print(line)\n",
    "f.close()"
   ]
  },
  {
   "cell_type": "markdown",
   "id": "64431402-3d9d-4a33-995c-026a65519ad3",
   "metadata": {},
   "source": [
    "## quiz\n",
    "메모장을 읽어올 때 줄바꿈 1개를 없애보세요"
   ]
  },
  {
   "cell_type": "code",
   "execution_count": 317,
   "id": "024a64d6-836d-4e98-aa93-85d1ec516b4a",
   "metadata": {},
   "outputs": [
    {
     "name": "stdout",
     "output_type": "stream",
     "text": [
      "1번째 줄입니다.\n",
      "2번째 줄입니다.\n",
      "3번째 줄입니다.\n",
      "4번째 줄입니다.\n",
      "5번째 줄입니다.\n",
      "6번째 줄입니다.\n",
      "7번째 줄입니다.\n",
      "8번째 줄입니다.\n",
      "9번째 줄입니다.\n",
      "10번째 줄입니다.\n"
     ]
    }
   ],
   "source": [
    "f = open('output/test.txt', 'r')\n",
    "lines = f.readlines()\n",
    "for line in lines : \n",
    "    print(line.strip()) #줄 끝의 줄 바꿈 문자를 제거한다.\n",
    "f.close()"
   ]
  },
  {
   "cell_type": "code",
   "execution_count": 328,
   "id": "71cc5b52-dc76-44e6-baa7-f8ab018af5d0",
   "metadata": {},
   "outputs": [
    {
     "name": "stdout",
     "output_type": "stream",
     "text": [
      "1번째 줄입니다.\n",
      "2번째 줄입니다.\n",
      "3번째 줄입니다.\n",
      "4번째 줄입니다.\n",
      "5번째 줄입니다.\n",
      "6번째 줄입니다.\n",
      "7번째 줄입니다.\n",
      "8번째 줄입니다.\n",
      "9번째 줄입니다.\n",
      "10번째 줄입니다.\n",
      " <class 'str'>\n"
     ]
    }
   ],
   "source": [
    "# read함수 사용하기\n",
    "f = open('output/test.txt', 'r')\n",
    "data =f.read()\n",
    "print(data, type(data))\n",
    "f.close()"
   ]
  },
  {
   "cell_type": "markdown",
   "id": "accdb034-52bc-480a-8a04-2beaa75eb7d4",
   "metadata": {},
   "source": [
    "## 파일에 새로운 내용 추가하기"
   ]
  },
  {
   "cell_type": "code",
   "execution_count": 351,
   "id": "dd1e2a28-f82d-4346-8bc0-80f4aa47d216",
   "metadata": {},
   "outputs": [
    {
     "name": "stdout",
     "output_type": "stream",
     "text": [
      "11번째 줄입니다.\n",
      "12번째 줄입니다.\n",
      "13번째 줄입니다.\n",
      "14번째 줄입니다.\n",
      "15번째 줄입니다.\n",
      "16번째 줄입니다.\n",
      "17번째 줄입니다.\n",
      "18번째 줄입니다.\n",
      "19번째 줄입니다.\n",
      "20번째 줄입니다.\n"
     ]
    }
   ],
   "source": [
    "# add_data.py\n",
    "f = open('output/test.txt','a')\n",
    "\n",
    "for i in range(11,21):\n",
    "    data = f\"{i}번째 줄입니다.\\n\" \n",
    "    f.write(data)\n",
    "    print(data.strip())\n",
    "f.close()\n"
   ]
  },
  {
   "cell_type": "markdown",
   "id": "2b17deca-d4e7-41eb-b334-47d1fdd719ad",
   "metadata": {},
   "source": [
    "## with문"
   ]
  },
  {
   "cell_type": "code",
   "execution_count": 356,
   "id": "63725b48-f069-41f1-b088-c751d2043336",
   "metadata": {},
   "outputs": [],
   "source": [
    "f = open('output/foo.txt', 'w')\n",
    "f.write(\"Life is too short, you need python\")\n",
    "f.close()"
   ]
  },
  {
   "cell_type": "code",
   "execution_count": 362,
   "id": "92d81a68-bf48-43ca-9952-c998b3b7a6b3",
   "metadata": {},
   "outputs": [],
   "source": [
    "with open('output/foo.txt', 'w') as f:\n",
    "    f.write(\"your leg is too short\")\n"
   ]
  },
  {
   "cell_type": "code",
   "execution_count": null,
   "id": "9e3e3505-9ee6-4ade-985e-91fc20842dac",
   "metadata": {},
   "outputs": [],
   "source": []
  }
 ],
 "metadata": {
  "kernelspec": {
   "display_name": "Python 3 (ipykernel)",
   "language": "python",
   "name": "python3"
  },
  "language_info": {
   "codemirror_mode": {
    "name": "ipython",
    "version": 3
   },
   "file_extension": ".py",
   "mimetype": "text/x-python",
   "name": "python",
   "nbconvert_exporter": "python",
   "pygments_lexer": "ipython3",
   "version": "3.12.4"
  }
 },
 "nbformat": 4,
 "nbformat_minor": 5
}
