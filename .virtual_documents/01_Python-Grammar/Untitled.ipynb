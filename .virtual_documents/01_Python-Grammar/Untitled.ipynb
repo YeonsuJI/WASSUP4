#Pandas
#Series     1차원
#DAtaFrame  2차원


import pandas as pd
import numpy as np
#Series
s = pd.Series([1,2,3,4,5,6,7,8,9])
print(type(s))
print(s.index)
print( s.dtype)
print(s)

s.index = ['A', 'B', 'C', 'D', 'E', 'F', 'G','H','I'] 
print(s)



s = pd.Series([1,2,3,4,5,6,7,8,9], ['A', 'B', 'C', 'D', 'E', 'F', 'G','H','I'])
print(s)
print(s.index)
print(s.values)
print(s[0])
print(s['A'])
print(s.A)
print(s[:5])
print(s['A':'D'])



#Dictionary (Map,JSON) -> Series
d = {'A':10, 'D':20,'F':30,'H':40}
print(type(d))
for key, value in d.items():
    print(key, ':', value)
print(d['A'])
# print(d.A)  에러
# print(d[0:3]) 에러
# print(d ['A':'F']) 에러

s = pd.Series(d)
print(s.index)
print(s.values)
print(s['A'])
print(s.A)
print(s[0:3])
print(s['A':'F'])


#DataFrame
#Dictionary -> DataFrame
d = {
       'name' : ['kim', 'son', 'lee', 'ji'],
        'age' : [29, 33, 24, 28],
        'tel' : ['1111-2222', '2222-1111', '3333-1111', '2222-3333']
}
print(type(d))

df = pd.DataFrame(d)
print(df)
print(df.index)
print(df.columns)
print(df.values)
df.index.name = 'Num'
df.columns.name = 'User'

print(df)
print(df.index)
print(df.columns)


#Numpy -> DataFrame
n = np.array(
    [['kim', 29, '1111-2222'],
     ['lee', 24, '2222-1111'],
     ['son', 33, '3333-1111'],
     ['ji', 28, '1111-3333']]
)
print(type(n))
df = pd.DataFrame(n)

df.columns = ['name', 'age', 'tel']
df.index = ['A', 'B', 'C', 'D']
print(df)
print(df.index)
print(df.columns)

df = pd.DataFrame(n, columns = ['name', 'age', 'tel'])
print (df)






























