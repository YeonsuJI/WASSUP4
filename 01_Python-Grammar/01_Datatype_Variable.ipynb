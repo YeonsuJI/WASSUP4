{
 "cells": [
  {
   "cell_type": "markdown",
   "id": "f9b3d6d6-47eb-45ae-b561-25743d84706e",
   "metadata": {},
   "source": [
    "# 변수와 자료형"
   ]
  },
  {
   "cell_type": "markdown",
   "id": "6bbe856e-7345-4bcd-85a5-2913e4c296d7",
   "metadata": {},
   "source": [
    "### 자료형의 값을 저장하는 공간, 변수"
   ]
  },
  {
   "cell_type": "code",
   "execution_count": 3,
   "id": "53f7c42c-2acd-48d6-ba0b-6cff96aa0612",
   "metadata": {},
   "outputs": [
    {
     "name": "stdout",
     "output_type": "stream",
     "text": [
      "1\n"
     ]
    }
   ],
   "source": [
    "a = 1\n",
    "print(a)"
   ]
  },
  {
   "cell_type": "code",
   "execution_count": 5,
   "id": "836f8210-57f3-4487-a066-23d3ef8bd534",
   "metadata": {},
   "outputs": [
    {
     "data": {
      "text/plain": [
       "'python'"
      ]
     },
     "execution_count": 5,
     "metadata": {},
     "output_type": "execute_result"
    }
   ],
   "source": [
    "b = 'python'\n",
    "b"
   ]
  },
  {
   "cell_type": "code",
   "execution_count": 7,
   "id": "0b365b45-98f0-4d78-a249-762d5c416b18",
   "metadata": {
    "scrolled": true
   },
   "outputs": [
    {
     "data": {
      "text/plain": [
       "[1, 2, 3]"
      ]
     },
     "execution_count": 7,
     "metadata": {},
     "output_type": "execute_result"
    }
   ],
   "source": [
    "c = [1,2,3]\n",
    "c"
   ]
  },
  {
   "cell_type": "code",
   "execution_count": 389,
   "id": "de4750ed-150b-4ac6-aa1d-2647d6e874d0",
   "metadata": {},
   "outputs": [
    {
     "data": {
      "text/plain": [
       "[1, 2, 3]"
      ]
     },
     "execution_count": 389,
     "metadata": {},
     "output_type": "execute_result"
    }
   ],
   "source": [
    "a = [1,2,3]\n",
    "a"
   ]
  },
  {
   "cell_type": "code",
   "execution_count": 391,
   "id": "dd0143bf-ebcd-4acc-90ad-48b6c3480044",
   "metadata": {},
   "outputs": [
    {
     "data": {
      "text/plain": [
       "2232081337600"
      ]
     },
     "execution_count": 391,
     "metadata": {},
     "output_type": "execute_result"
    }
   ],
   "source": [
    "id(a)"
   ]
  },
  {
   "cell_type": "code",
   "execution_count": 393,
   "id": "257f4e20-c10a-4179-b3f7-4d8602cecee1",
   "metadata": {
    "scrolled": true
   },
   "outputs": [
    {
     "data": {
      "text/plain": [
       "[1, 2, 3]"
      ]
     },
     "execution_count": 393,
     "metadata": {},
     "output_type": "execute_result"
    }
   ],
   "source": [
    "b = a\n",
    "b"
   ]
  },
  {
   "cell_type": "code",
   "execution_count": 395,
   "id": "f963d50d-74d5-4e96-a103-7213057d1a01",
   "metadata": {},
   "outputs": [
    {
     "data": {
      "text/plain": [
       "2232081337600"
      ]
     },
     "execution_count": 395,
     "metadata": {},
     "output_type": "execute_result"
    }
   ],
   "source": [
    "id(b)"
   ]
  },
  {
   "cell_type": "code",
   "execution_count": 397,
   "id": "ac9c1eea-16af-4aec-bfbd-b6dfa6a8d95b",
   "metadata": {},
   "outputs": [
    {
     "data": {
      "text/plain": [
       "[1, 9, 3]"
      ]
     },
     "execution_count": 397,
     "metadata": {},
     "output_type": "execute_result"
    }
   ],
   "source": [
    "b[1] = 9\n",
    "b"
   ]
  },
  {
   "cell_type": "code",
   "execution_count": 399,
   "id": "95265d73-fe5e-45b2-a907-1be849563f70",
   "metadata": {},
   "outputs": [
    {
     "data": {
      "text/plain": [
       "[1, 9, 3]"
      ]
     },
     "execution_count": 399,
     "metadata": {},
     "output_type": "execute_result"
    }
   ],
   "source": [
    "a"
   ]
  },
  {
   "cell_type": "code",
   "execution_count": 401,
   "id": "8f5aee72-7c56-4a22-b942-d52252125faf",
   "metadata": {
    "scrolled": true
   },
   "outputs": [
    {
     "data": {
      "text/plain": [
       "True"
      ]
     },
     "execution_count": 401,
     "metadata": {},
     "output_type": "execute_result"
    }
   ],
   "source": [
    " a is b"
   ]
  },
  {
   "cell_type": "markdown",
   "id": "a91bfc0c-e42c-47be-9ba0-bfcad26f240a",
   "metadata": {},
   "source": [
    "## 변수 다루기"
   ]
  },
  {
   "cell_type": "code",
   "execution_count": 404,
   "id": "5857b3f8-c4d5-4241-b9a5-a518f0c785cb",
   "metadata": {},
   "outputs": [
    {
     "data": {
      "text/plain": [
       "([1, 9, 3], [1, 9, 3])"
      ]
     },
     "execution_count": 404,
     "metadata": {},
     "output_type": "execute_result"
    }
   ],
   "source": [
    "a, a[:]"
   ]
  },
  {
   "cell_type": "code",
   "execution_count": 408,
   "id": "caffce01-57cd-4831-a8ca-c5c783c1c22c",
   "metadata": {},
   "outputs": [
    {
     "data": {
      "text/plain": [
       "[1, 9, 3]"
      ]
     },
     "execution_count": 408,
     "metadata": {},
     "output_type": "execute_result"
    }
   ],
   "source": [
    "b = a[:]\n",
    "b"
   ]
  },
  {
   "cell_type": "code",
   "execution_count": 410,
   "id": "0fed52ec-5a80-4891-8a83-00aefe79a784",
   "metadata": {},
   "outputs": [
    {
     "data": {
      "text/plain": [
       "2232080937216"
      ]
     },
     "execution_count": 410,
     "metadata": {},
     "output_type": "execute_result"
    }
   ],
   "source": [
    "id(b)"
   ]
  },
  {
   "cell_type": "code",
   "execution_count": 412,
   "id": "7baa3b79-5f8c-447b-a305-98f00b8c13f9",
   "metadata": {},
   "outputs": [
    {
     "data": {
      "text/plain": [
       "False"
      ]
     },
     "execution_count": 412,
     "metadata": {},
     "output_type": "execute_result"
    }
   ],
   "source": [
    "a is b"
   ]
  },
  {
   "cell_type": "code",
   "execution_count": 414,
   "id": "c193532f-0f09-4046-8cfe-587b9be2379c",
   "metadata": {},
   "outputs": [
    {
     "data": {
      "text/plain": [
       "[9, 9, 3]"
      ]
     },
     "execution_count": 414,
     "metadata": {},
     "output_type": "execute_result"
    }
   ],
   "source": [
    "b[0] = 9\n",
    "b"
   ]
  },
  {
   "cell_type": "code",
   "execution_count": 416,
   "id": "c5f1be8f-5705-436d-a99e-d1edbc0ee21d",
   "metadata": {},
   "outputs": [
    {
     "data": {
      "text/plain": [
       "[1, 9, 3]"
      ]
     },
     "execution_count": 416,
     "metadata": {},
     "output_type": "execute_result"
    }
   ],
   "source": [
    "a"
   ]
  },
  {
   "cell_type": "code",
   "execution_count": 420,
   "id": "321bdc3a-2ea2-4e78-b05f-67f124a0b232",
   "metadata": {},
   "outputs": [
    {
     "data": {
      "text/plain": [
       "([1, 2, 3], [1, 2, 3])"
      ]
     },
     "execution_count": 420,
     "metadata": {},
     "output_type": "execute_result"
    }
   ],
   "source": [
    "from copy import copy\n",
    "a = [1,2,3]\n",
    "b = copy(a)\n",
    "a, b"
   ]
  },
  {
   "cell_type": "code",
   "execution_count": 424,
   "id": "2470df95-418a-42b1-b0f2-1c5cc8abbd03",
   "metadata": {},
   "outputs": [
    {
     "data": {
      "text/plain": [
       "(2232081179136, 2232081283200)"
      ]
     },
     "execution_count": 424,
     "metadata": {},
     "output_type": "execute_result"
    }
   ],
   "source": [
    "id(a), id(b)"
   ]
  },
  {
   "cell_type": "code",
   "execution_count": 426,
   "id": "496556bf-86ed-4e94-8f7c-c0ac2e9f1e47",
   "metadata": {},
   "outputs": [
    {
     "data": {
      "text/plain": [
       "False"
      ]
     },
     "execution_count": 426,
     "metadata": {},
     "output_type": "execute_result"
    }
   ],
   "source": [
    "a is b"
   ]
  },
  {
   "cell_type": "code",
   "execution_count": 428,
   "id": "52b52a9d-3b00-48b6-ab62-95d4df2aafaa",
   "metadata": {},
   "outputs": [
    {
     "data": {
      "text/plain": [
       "False"
      ]
     },
     "execution_count": 428,
     "metadata": {},
     "output_type": "execute_result"
    }
   ],
   "source": [
    "c = a.copy()\n",
    "a is c"
   ]
  },
  {
   "cell_type": "code",
   "execution_count": 432,
   "id": "e034c176-099c-446e-9d12-e45b37393d04",
   "metadata": {},
   "outputs": [],
   "source": [
    "a, b = ('python', 'life')"
   ]
  },
  {
   "cell_type": "code",
   "execution_count": 434,
   "id": "337a6700-2562-4d28-9003-71537bb7ce53",
   "metadata": {},
   "outputs": [
    {
     "data": {
      "text/plain": [
       "'python'"
      ]
     },
     "execution_count": 434,
     "metadata": {},
     "output_type": "execute_result"
    }
   ],
   "source": [
    "a"
   ]
  },
  {
   "cell_type": "code",
   "execution_count": 436,
   "id": "d9973ded-97f5-490f-80d5-64c18da0e7fa",
   "metadata": {},
   "outputs": [
    {
     "data": {
      "text/plain": [
       "'life'"
      ]
     },
     "execution_count": 436,
     "metadata": {},
     "output_type": "execute_result"
    }
   ],
   "source": [
    "b"
   ]
  },
  {
   "cell_type": "code",
   "execution_count": 438,
   "id": "86cc85a6-f083-4898-9b11-95515ea20e96",
   "metadata": {},
   "outputs": [],
   "source": [
    "[a,b] = ['python', 'life']"
   ]
  },
  {
   "cell_type": "code",
   "execution_count": 440,
   "id": "f6f71787-e818-494f-911a-81f1f32afa57",
   "metadata": {
    "scrolled": true
   },
   "outputs": [
    {
     "data": {
      "text/plain": [
       "'python'"
      ]
     },
     "execution_count": 440,
     "metadata": {},
     "output_type": "execute_result"
    }
   ],
   "source": [
    "a"
   ]
  },
  {
   "cell_type": "code",
   "execution_count": 442,
   "id": "50f6cfc6-9cf9-4bf7-8b59-a0b8a9c6101c",
   "metadata": {},
   "outputs": [],
   "source": [
    "a = b = 'python'"
   ]
  },
  {
   "cell_type": "code",
   "execution_count": 444,
   "id": "74793687-14db-4c98-8552-64a878563d7d",
   "metadata": {},
   "outputs": [
    {
     "data": {
      "text/plain": [
       "'python'"
      ]
     },
     "execution_count": 444,
     "metadata": {},
     "output_type": "execute_result"
    }
   ],
   "source": [
    "b"
   ]
  },
  {
   "cell_type": "code",
   "execution_count": 446,
   "id": "95c2e5ec-03d7-444a-be08-cd6c031467a5",
   "metadata": {},
   "outputs": [
    {
     "data": {
      "text/plain": [
       "'python'"
      ]
     },
     "execution_count": 446,
     "metadata": {},
     "output_type": "execute_result"
    }
   ],
   "source": [
    "a"
   ]
  },
  {
   "cell_type": "code",
   "execution_count": 448,
   "id": "a73ee896-6667-453d-a160-939a1c8e23e0",
   "metadata": {},
   "outputs": [],
   "source": [
    "a = 3\n",
    "b = 5\n",
    "a,b = b, a"
   ]
  },
  {
   "cell_type": "code",
   "execution_count": 450,
   "id": "8765d9cc-dc7e-43b4-a693-7b08d1062861",
   "metadata": {},
   "outputs": [
    {
     "data": {
      "text/plain": [
       "5"
      ]
     },
     "execution_count": 450,
     "metadata": {},
     "output_type": "execute_result"
    }
   ],
   "source": [
    "a"
   ]
  },
  {
   "cell_type": "code",
   "execution_count": 452,
   "id": "cb6362de-e2f7-4f33-8f08-b0486ace3af3",
   "metadata": {},
   "outputs": [
    {
     "data": {
      "text/plain": [
       "3"
      ]
     },
     "execution_count": 452,
     "metadata": {},
     "output_type": "execute_result"
    }
   ],
   "source": [
    "b"
   ]
  },
  {
   "cell_type": "markdown",
   "id": "fe756d3a-835b-4e4e-8264-8cd2730c013e",
   "metadata": {},
   "source": [
    "# 숫자형"
   ]
  },
  {
   "cell_type": "code",
   "execution_count": 10,
   "id": "dee6caec-b723-4d61-a2de-4d7d0bdb3d93",
   "metadata": {
    "scrolled": true
   },
   "outputs": [
    {
     "data": {
      "text/plain": [
       "123"
      ]
     },
     "execution_count": 10,
     "metadata": {},
     "output_type": "execute_result"
    }
   ],
   "source": [
    "# 정수형\n",
    "a = 123\n",
    "a"
   ]
  },
  {
   "cell_type": "code",
   "execution_count": 12,
   "id": "ce19f1b4-6bcc-44e5-9362-47172f77f4b2",
   "metadata": {},
   "outputs": [
    {
     "data": {
      "text/plain": [
       "-178"
      ]
     },
     "execution_count": 12,
     "metadata": {},
     "output_type": "execute_result"
    }
   ],
   "source": [
    "a= -178\n",
    "a"
   ]
  },
  {
   "cell_type": "code",
   "execution_count": 14,
   "id": "a6fcb9be-fb7c-484d-a28e-7580e42f10cf",
   "metadata": {},
   "outputs": [
    {
     "data": {
      "text/plain": [
       "0"
      ]
     },
     "execution_count": 14,
     "metadata": {},
     "output_type": "execute_result"
    }
   ],
   "source": [
    "a= 0\n",
    "a"
   ]
  },
  {
   "cell_type": "code",
   "execution_count": 20,
   "id": "8fd17edf-7cd6-4c6c-931f-b70c052ddeda",
   "metadata": {},
   "outputs": [
    {
     "data": {
      "text/plain": [
       "((1, 2), -3.45)"
      ]
     },
     "execution_count": 20,
     "metadata": {},
     "output_type": "execute_result"
    }
   ],
   "source": [
    "# 실수형\n",
    "a = 1,2\n",
    "b = -3.45\n",
    "a, b"
   ]
  },
  {
   "cell_type": "code",
   "execution_count": 22,
   "id": "2420564c-ae0e-46c3-8863-45845ac900af",
   "metadata": {},
   "outputs": [
    {
     "data": {
      "text/plain": [
       "42400000000.0"
      ]
     },
     "execution_count": 22,
     "metadata": {},
     "output_type": "execute_result"
    }
   ],
   "source": [
    "a = 4.24E10\n",
    "a"
   ]
  },
  {
   "cell_type": "code",
   "execution_count": 24,
   "id": "9994901c-b025-4254-a199-658c567c1376",
   "metadata": {},
   "outputs": [
    {
     "data": {
      "text/plain": [
       "4.24e-10"
      ]
     },
     "execution_count": 24,
     "metadata": {},
     "output_type": "execute_result"
    }
   ],
   "source": [
    "a = 4.24E-10\n",
    "a"
   ]
  },
  {
   "cell_type": "code",
   "execution_count": 26,
   "id": "baf28788-0298-4e1e-b7d9-d3dd90b03245",
   "metadata": {},
   "outputs": [
    {
     "name": "stdout",
     "output_type": "stream",
     "text": [
      "127\n"
     ]
    }
   ],
   "source": [
    "# 8진수와 16진수\n",
    "a = 0o177\n",
    "print(a)"
   ]
  },
  {
   "cell_type": "code",
   "execution_count": 28,
   "id": "d0680803-4272-4e2b-bfaf-b09165c9286f",
   "metadata": {},
   "outputs": [
    {
     "data": {
      "text/plain": [
       "(2303, 2748)"
      ]
     },
     "execution_count": 28,
     "metadata": {},
     "output_type": "execute_result"
    }
   ],
   "source": [
    "a = 0x8ff\n",
    "b = 0xABC\n",
    "a, b"
   ]
  },
  {
   "cell_type": "markdown",
   "id": "9faebfd4-8951-4427-b41f-723eda54467c",
   "metadata": {},
   "source": [
    "## 연산자"
   ]
  },
  {
   "cell_type": "code",
   "execution_count": 37,
   "id": "b8339751-e38f-43f3-bd2b-de32c01f637c",
   "metadata": {},
   "outputs": [
    {
     "data": {
      "text/plain": [
       "7"
      ]
     },
     "execution_count": 37,
     "metadata": {},
     "output_type": "execute_result"
    }
   ],
   "source": [
    "#사칙연산\n",
    "a= 3\n",
    "b = 4\n",
    "a + b"
   ]
  },
  {
   "cell_type": "code",
   "execution_count": 39,
   "id": "a31bf45c-c066-4bc3-bf1e-63c5a6fe37ef",
   "metadata": {},
   "outputs": [
    {
     "data": {
      "text/plain": [
       "(-1, 12, 0.75)"
      ]
     },
     "execution_count": 39,
     "metadata": {},
     "output_type": "execute_result"
    }
   ],
   "source": [
    "a-b, a*b, a/b"
   ]
  },
  {
   "cell_type": "code",
   "execution_count": 45,
   "id": "b89838fb-2614-4083-a1c3-96958c4876a6",
   "metadata": {},
   "outputs": [
    {
     "data": {
      "text/plain": [
       "81"
      ]
     },
     "execution_count": 45,
     "metadata": {},
     "output_type": "execute_result"
    }
   ],
   "source": [
    "# x의 y제곱을 나타내는 **연산자\n",
    "a ** b # 3의 4승"
   ]
  },
  {
   "cell_type": "code",
   "execution_count": 47,
   "id": "a7326ac9-2961-4122-9ed1-ced016f21cc3",
   "metadata": {},
   "outputs": [
    {
     "data": {
      "text/plain": [
       "(1, 3)"
      ]
     },
     "execution_count": 47,
     "metadata": {},
     "output_type": "execute_result"
    }
   ],
   "source": [
    "# 나눗셈 후 나머지를 리턴\n",
    "7%3 , 3%7"
   ]
  },
  {
   "cell_type": "code",
   "execution_count": 51,
   "id": "9ed71584-7358-4288-a4ab-3621edf122aa",
   "metadata": {},
   "outputs": [
    {
     "data": {
      "text/plain": [
       "1"
      ]
     },
     "execution_count": 51,
     "metadata": {},
     "output_type": "execute_result"
    }
   ],
   "source": [
    "# 나눗셈 후 몫을 리턴\n",
    "7//4"
   ]
  },
  {
   "cell_type": "code",
   "execution_count": 55,
   "id": "406b81c9-f6b6-4ffd-9869-ec4035fd7289",
   "metadata": {},
   "outputs": [
    {
     "data": {
      "text/plain": [
       "4"
      ]
     },
     "execution_count": 55,
     "metadata": {},
     "output_type": "execute_result"
    }
   ],
   "source": [
    "# 복합 연산자\n",
    "a = a + 1\n",
    "a"
   ]
  },
  {
   "cell_type": "code",
   "execution_count": 57,
   "id": "f396df3a-33ad-49d9-a59c-b44b4ba1957e",
   "metadata": {
    "scrolled": true
   },
   "outputs": [
    {
     "data": {
      "text/plain": [
       "5"
      ]
     },
     "execution_count": 57,
     "metadata": {},
     "output_type": "execute_result"
    }
   ],
   "source": [
    "a += 1\n",
    "a"
   ]
  },
  {
   "cell_type": "code",
   "execution_count": 69,
   "id": "c90b08b0-c639-48de-97bf-e6d2fbc5020a",
   "metadata": {},
   "outputs": [
    {
     "data": {
      "text/plain": [
       "4"
      ]
     },
     "execution_count": 69,
     "metadata": {},
     "output_type": "execute_result"
    }
   ],
   "source": [
    "a=5\n",
    "a -=1\n",
    "a"
   ]
  },
  {
   "cell_type": "markdown",
   "id": "808dd84e-4cac-44a7-9c38-ef2239b1242c",
   "metadata": {},
   "source": [
    "## 문자열\n",
    "    \"Lifr is too short, You need pyhton\"\n",
    "    \"a\"\n",
    "    \"123\""
   ]
  },
  {
   "cell_type": "code",
   "execution_count": 72,
   "id": "8e097a5d-b08d-4c6d-bc73-39807f1f8631",
   "metadata": {},
   "outputs": [
    {
     "data": {
      "text/plain": [
       "'Hello World'"
      ]
     },
     "execution_count": 72,
     "metadata": {},
     "output_type": "execute_result"
    }
   ],
   "source": [
    "\"Hello World\""
   ]
  },
  {
   "cell_type": "code",
   "execution_count": 74,
   "id": "6bf92525-36f7-4f76-b99b-d4a6922fd580",
   "metadata": {},
   "outputs": [
    {
     "data": {
      "text/plain": [
       "'Python is fun'"
      ]
     },
     "execution_count": 74,
     "metadata": {},
     "output_type": "execute_result"
    }
   ],
   "source": [
    "'Python is fun'"
   ]
  },
  {
   "cell_type": "code",
   "execution_count": 76,
   "id": "19d272fc-5cf9-45de-a560-79ded7da3764",
   "metadata": {},
   "outputs": [
    {
     "data": {
      "text/plain": [
       "'Lifr is too short, You need pyhton'"
      ]
     },
     "execution_count": 76,
     "metadata": {},
     "output_type": "execute_result"
    }
   ],
   "source": [
    "\"\"\"Lifr is too short, You need pyhton\"\"\""
   ]
  },
  {
   "cell_type": "code",
   "execution_count": 78,
   "id": "2cef1849-6f06-4e31-958a-033f1c8277eb",
   "metadata": {},
   "outputs": [
    {
     "data": {
      "text/plain": [
       "'Lifr is too short, You need pyhton'"
      ]
     },
     "execution_count": 78,
     "metadata": {},
     "output_type": "execute_result"
    }
   ],
   "source": [
    "'''Lifr is too short, You need pyhton'''"
   ]
  },
  {
   "cell_type": "markdown",
   "id": "9ba8fcca-a10e-40f7-ad0b-9b48e021e7af",
   "metadata": {},
   "source": [
    "### 1. 문자열에 작은따옴표 포함하기\n",
    "Python's favorite food is perl"
   ]
  },
  {
   "cell_type": "code",
   "execution_count": 87,
   "id": "dd8414e1-fab1-4446-a6fe-d5b2d6c01d78",
   "metadata": {},
   "outputs": [
    {
     "data": {
      "text/plain": [
       "\"Python's favorite food is perl\""
      ]
     },
     "execution_count": 87,
     "metadata": {},
     "output_type": "execute_result"
    }
   ],
   "source": [
    "\"Python's favorite food is perl\""
   ]
  },
  {
   "cell_type": "markdown",
   "id": "2b730054-67e0-4e7a-bebc-6ff72a011d72",
   "metadata": {},
   "source": [
    "## 2. 문자열에 큰따옴표 포함하기\n",
    "\"Python is very easy.\" he says."
   ]
  },
  {
   "cell_type": "code",
   "execution_count": 91,
   "id": "aefd3026-d874-4032-8c7b-64f64e0b86ee",
   "metadata": {},
   "outputs": [
    {
     "ename": "SyntaxError",
     "evalue": "invalid syntax (2498016959.py, line 1)",
     "output_type": "error",
     "traceback": [
      "\u001b[1;36m  Cell \u001b[1;32mIn[91], line 1\u001b[1;36m\u001b[0m\n\u001b[1;33m    \"Python is very easy.\" he says.\u001b[0m\n\u001b[1;37m                           ^\u001b[0m\n\u001b[1;31mSyntaxError\u001b[0m\u001b[1;31m:\u001b[0m invalid syntax\n"
     ]
    }
   ],
   "source": [
    "\"Python is very easy.\" he says."
   ]
  },
  {
   "cell_type": "code",
   "execution_count": 93,
   "id": "45701633-fbd1-49a5-9c6e-2d0b91a9bf17",
   "metadata": {},
   "outputs": [
    {
     "data": {
      "text/plain": [
       "'\"Python is very easy.\" he says.'"
      ]
     },
     "execution_count": 93,
     "metadata": {},
     "output_type": "execute_result"
    }
   ],
   "source": [
    "'\"Python is very easy.\" he says.'"
   ]
  },
  {
   "cell_type": "markdown",
   "id": "da5525d2-f2c5-4047-8e3c-0e61eed411f8",
   "metadata": {},
   "source": [
    "### 3. 역슬래시를 사용해서 작은따옴표와 큰따옴표를 문자열에 포함하기\n",
    "\n",
    "food = 'Python\\\\'s favorite food is perl'  \n",
    "say = \"\\\\\"python is very easy.\\\\\" he says.\""
   ]
  },
  {
   "cell_type": "code",
   "execution_count": 99,
   "id": "18e1522d-ef05-4fc5-8c2d-6b187a692ad9",
   "metadata": {},
   "outputs": [
    {
     "data": {
      "text/plain": [
       "\"Python's favorite food is perl\""
      ]
     },
     "execution_count": 99,
     "metadata": {},
     "output_type": "execute_result"
    }
   ],
   "source": [
    "food = 'Python\\'s favorite food is perl'\n",
    "food"
   ]
  },
  {
   "cell_type": "code",
   "execution_count": 104,
   "id": "0d78f58b-83ad-4c83-bacf-40cfd7264e50",
   "metadata": {},
   "outputs": [
    {
     "data": {
      "text/plain": [
       "'\"python is very easy.\" he says.'"
      ]
     },
     "execution_count": 104,
     "metadata": {},
     "output_type": "execute_result"
    }
   ],
   "source": [
    "say = \"\\\"python is very easy.\\\" he says.\"\n",
    "say"
   ]
  },
  {
   "cell_type": "markdown",
   "id": "9ac9141a-c286-42d8-9d47-4691c937dfd7",
   "metadata": {},
   "source": [
    "### 여러 줄인 문자열을 변수에 대입하고 싶을 때"
   ]
  },
  {
   "cell_type": "code",
   "execution_count": 107,
   "id": "a1da7e36-8483-46a6-8d63-d4ad368b4f59",
   "metadata": {},
   "outputs": [
    {
     "ename": "SyntaxError",
     "evalue": "unterminated string literal (detected at line 1) (2933464639.py, line 1)",
     "output_type": "error",
     "traceback": [
      "\u001b[1;36m  Cell \u001b[1;32mIn[107], line 1\u001b[1;36m\u001b[0m\n\u001b[1;33m    a = 'Life is too short\u001b[0m\n\u001b[1;37m        ^\u001b[0m\n\u001b[1;31mSyntaxError\u001b[0m\u001b[1;31m:\u001b[0m unterminated string literal (detected at line 1)\n"
     ]
    }
   ],
   "source": [
    "a = 'Life is too short\n",
    "You need python'"
   ]
  },
  {
   "cell_type": "code",
   "execution_count": 115,
   "id": "e61439a6-abe4-433f-9d5c-85a793845de1",
   "metadata": {},
   "outputs": [
    {
     "data": {
      "text/plain": [
       "'Life is too short You need python'"
      ]
     },
     "execution_count": 115,
     "metadata": {},
     "output_type": "execute_result"
    }
   ],
   "source": [
    "a = 'Life is too short You need python'\n",
    "a"
   ]
  },
  {
   "cell_type": "code",
   "execution_count": 117,
   "id": "b1933852-87f7-4c0e-8816-39e19c9638ed",
   "metadata": {},
   "outputs": [
    {
     "data": {
      "text/plain": [
       "'Life is too short\\nYou need python'"
      ]
     },
     "execution_count": 117,
     "metadata": {},
     "output_type": "execute_result"
    }
   ],
   "source": [
    "# 1. 줄을 바꾸기 위한 이스케이프 코드 \\n 삽입하기\n",
    "multiline = \"Life is too short\\nYou need python\"\n",
    "multiline"
   ]
  },
  {
   "cell_type": "code",
   "execution_count": 119,
   "id": "adfb0632-5cce-42fc-ad82-2d97c8890479",
   "metadata": {},
   "outputs": [
    {
     "name": "stdout",
     "output_type": "stream",
     "text": [
      "Life is too short\n",
      "You need python\n"
     ]
    }
   ],
   "source": [
    "print(multiline)"
   ]
  },
  {
   "cell_type": "code",
   "execution_count": 121,
   "id": "aed9f186-aa12-41d3-bde1-b513afdce268",
   "metadata": {},
   "outputs": [
    {
     "data": {
      "text/plain": [
       "'\\nLife is too short\\nYou need python\\n'"
      ]
     },
     "execution_count": 121,
     "metadata": {},
     "output_type": "execute_result"
    }
   ],
   "source": [
    "# 2. 연속된 작은따옴표 3개 또는 큰따옴표 3개 사용하기 -구간 지정\n",
    "'''\n",
    "Life is too short\n",
    "You need python\n",
    "'''"
   ]
  },
  {
   "cell_type": "code",
   "execution_count": 123,
   "id": "b356697f-f0db-43d8-9873-03d1fa4bdff8",
   "metadata": {},
   "outputs": [
    {
     "data": {
      "text/plain": [
       "'\\nLife is too short\\nYou need python\\n'"
      ]
     },
     "execution_count": 123,
     "metadata": {},
     "output_type": "execute_result"
    }
   ],
   "source": [
    "\"\"\"\n",
    "Life is too short\n",
    "You need python\n",
    "\"\"\""
   ]
  },
  {
   "cell_type": "markdown",
   "id": "effa9ca2-dafb-479a-bf0d-81172476cb63",
   "metadata": {},
   "source": [
    "### 문자열 연산하기"
   ]
  },
  {
   "cell_type": "code",
   "execution_count": 138,
   "id": "ae69fce3-7848-4642-96aa-3c5da6a76bed",
   "metadata": {},
   "outputs": [
    {
     "data": {
      "text/plain": [
       "'python is fun!'"
      ]
     },
     "execution_count": 138,
     "metadata": {},
     "output_type": "execute_result"
    }
   ],
   "source": [
    "head = \"python\"\n",
    "tail = ' is fun!'\n",
    "head + tail"
   ]
  },
  {
   "cell_type": "code",
   "execution_count": 140,
   "id": "cf198f18-a2bc-45b1-a6bd-a4e4ebb50924",
   "metadata": {},
   "outputs": [
    {
     "data": {
      "text/plain": [
       "'pythonpython'"
      ]
     },
     "execution_count": 140,
     "metadata": {},
     "output_type": "execute_result"
    }
   ],
   "source": [
    " head * 2"
   ]
  },
  {
   "cell_type": "code",
   "execution_count": 142,
   "id": "4b3c4ed2-038c-488c-98e8-8bf0b3c3845b",
   "metadata": {},
   "outputs": [
    {
     "name": "stdout",
     "output_type": "stream",
     "text": [
      "==================================================\n",
      "My program\n",
      "==================================================\n"
     ]
    }
   ],
   "source": [
    "print(\"=\" *50)\n",
    "print(\"My program\")\n",
    "print(\"=\" *50)"
   ]
  },
  {
   "cell_type": "code",
   "execution_count": 144,
   "id": "1a38ac6f-21fe-4ec6-946e-aaba0ab261a3",
   "metadata": {},
   "outputs": [
    {
     "data": {
      "text/plain": [
       "17"
      ]
     },
     "execution_count": 144,
     "metadata": {},
     "output_type": "execute_result"
    }
   ],
   "source": [
    "a = \"Life is too short\"\n",
    "len(a)"
   ]
  },
  {
   "cell_type": "markdown",
   "id": "4552498d-abb5-43ff-b9e0-9fe53988195e",
   "metadata": {},
   "source": [
    "### 문자열 인덱싱과 슬라이싱"
   ]
  },
  {
   "cell_type": "code",
   "execution_count": 147,
   "id": "6e0fb0ae-110c-4436-b7a4-4e68e0029a49",
   "metadata": {},
   "outputs": [
    {
     "data": {
      "text/plain": [
       "'Life is too short, You need Python'"
      ]
     },
     "execution_count": 147,
     "metadata": {},
     "output_type": "execute_result"
    }
   ],
   "source": [
    "a = \"Life is too short, You need Python\"\n",
    "a"
   ]
  },
  {
   "cell_type": "code",
   "execution_count": 153,
   "id": "a1e80cd7-4807-40f6-b4a1-72bb5bac63d3",
   "metadata": {},
   "outputs": [
    {
     "data": {
      "text/plain": [
       "'e'"
      ]
     },
     "execution_count": 153,
     "metadata": {},
     "output_type": "execute_result"
    }
   ],
   "source": [
    "a[3]"
   ]
  },
  {
   "cell_type": "code",
   "execution_count": 155,
   "id": "28a9efe8-9c14-4847-a408-1688d7bcbcec",
   "metadata": {},
   "outputs": [
    {
     "data": {
      "text/plain": [
       "','"
      ]
     },
     "execution_count": 155,
     "metadata": {},
     "output_type": "execute_result"
    }
   ],
   "source": [
    "a[17]"
   ]
  },
  {
   "cell_type": "code",
   "execution_count": 157,
   "id": "8cf5a7a6-a71a-46f9-a895-9272f5ca2160",
   "metadata": {},
   "outputs": [
    {
     "data": {
      "text/plain": [
       "'n'"
      ]
     },
     "execution_count": 157,
     "metadata": {},
     "output_type": "execute_result"
    }
   ],
   "source": [
    "a[-1]"
   ]
  },
  {
   "cell_type": "code",
   "execution_count": 161,
   "id": "2797e1c3-dcea-4ecd-aec3-e6b3015cbcc7",
   "metadata": {},
   "outputs": [
    {
     "data": {
      "text/plain": [
       "'P'"
      ]
     },
     "execution_count": 161,
     "metadata": {},
     "output_type": "execute_result"
    }
   ],
   "source": [
    "a[-6]"
   ]
  },
  {
   "cell_type": "code",
   "execution_count": 163,
   "id": "094a2fe6-7e33-4654-9a0b-122f1afc9046",
   "metadata": {
    "scrolled": true
   },
   "outputs": [
    {
     "data": {
      "text/plain": [
       "'L'"
      ]
     },
     "execution_count": 163,
     "metadata": {},
     "output_type": "execute_result"
    }
   ],
   "source": [
    "a[-0]"
   ]
  },
  {
   "cell_type": "code",
   "execution_count": 165,
   "id": "9e3381d9-08fc-4341-bddc-1740e048a8cc",
   "metadata": {},
   "outputs": [
    {
     "data": {
      "text/plain": [
       "'Life'"
      ]
     },
     "execution_count": 165,
     "metadata": {},
     "output_type": "execute_result"
    }
   ],
   "source": [
    "a[0]+a[1]+a[2]+a[3]"
   ]
  },
  {
   "cell_type": "code",
   "execution_count": 177,
   "id": "87664934-3527-4469-8295-7a68e92b8643",
   "metadata": {},
   "outputs": [
    {
     "data": {
      "text/plain": [
       "'Life'"
      ]
     },
     "execution_count": 177,
     "metadata": {},
     "output_type": "execute_result"
    }
   ],
   "source": [
    "# a[start:end-1] - 슬라이싱은 끝번호를 인식하지 않기 때문\n",
    "a[0:4]"
   ]
  },
  {
   "cell_type": "code",
   "execution_count": 175,
   "id": "8a74973e-c1ed-48e0-a643-9669eafc65d7",
   "metadata": {},
   "outputs": [
    {
     "data": {
      "text/plain": [
       "'Lif'"
      ]
     },
     "execution_count": 175,
     "metadata": {},
     "output_type": "execute_result"
    }
   ],
   "source": [
    "a[0:3]"
   ]
  },
  {
   "cell_type": "code",
   "execution_count": 181,
   "id": "7a7b00c4-c490-4695-94e7-fa7e94d4261a",
   "metadata": {},
   "outputs": [
    {
     "data": {
      "text/plain": [
       "'short, '"
      ]
     },
     "execution_count": 181,
     "metadata": {},
     "output_type": "execute_result"
    }
   ],
   "source": [
    "a[12:19]"
   ]
  },
  {
   "cell_type": "code",
   "execution_count": 185,
   "id": "240f8a35-c6d5-49bf-b14a-4b4ad9b00c92",
   "metadata": {},
   "outputs": [
    {
     "data": {
      "text/plain": [
       "'short, You need Python'"
      ]
     },
     "execution_count": 185,
     "metadata": {},
     "output_type": "execute_result"
    }
   ],
   "source": [
    "a[12:] #인덱스 12 이후로 다 뽑아줘"
   ]
  },
  {
   "cell_type": "code",
   "execution_count": 187,
   "id": "ec7fca8e-e72e-4ecd-994d-89b386362edd",
   "metadata": {},
   "outputs": [
    {
     "data": {
      "text/plain": [
       "'Life is too short'"
      ]
     },
     "execution_count": 187,
     "metadata": {},
     "output_type": "execute_result"
    }
   ],
   "source": [
    "a[:17]"
   ]
  },
  {
   "cell_type": "code",
   "execution_count": 195,
   "id": "9eeb0bcd-f06e-4b72-a0d8-a49c02f2f6aa",
   "metadata": {},
   "outputs": [
    {
     "data": {
      "text/plain": [
       "'Life is too short, You need Python'"
      ]
     },
     "execution_count": 195,
     "metadata": {},
     "output_type": "execute_result"
    }
   ],
   "source": [
    "a[:]"
   ]
  },
  {
   "cell_type": "code",
   "execution_count": 199,
   "id": "a5db4c51-ddc2-411d-a575-419a26f92a78",
   "metadata": {},
   "outputs": [
    {
     "data": {
      "text/plain": [
       "'You need'"
      ]
     },
     "execution_count": 199,
     "metadata": {},
     "output_type": "execute_result"
    }
   ],
   "source": [
    "a[19:-7]"
   ]
  },
  {
   "cell_type": "code",
   "execution_count": 209,
   "id": "2219884e-be44-4011-ae1c-7cc4bd90e036",
   "metadata": {},
   "outputs": [
    {
     "data": {
      "text/plain": [
       "('20240904', 'Sunny')"
      ]
     },
     "execution_count": 209,
     "metadata": {},
     "output_type": "execute_result"
    }
   ],
   "source": [
    "a = \"20240904Sunny\"\n",
    "date = a[0:8]\n",
    "weather = a[8:13]\n",
    "date, weather"
   ]
  },
  {
   "cell_type": "code",
   "execution_count": 211,
   "id": "aed34ad3-e82d-490c-8f4f-d0aee66b00f8",
   "metadata": {},
   "outputs": [
    {
     "data": {
      "text/plain": [
       "('2024', '0904')"
      ]
     },
     "execution_count": 211,
     "metadata": {},
     "output_type": "execute_result"
    }
   ],
   "source": [
    "year = date[:4]\n",
    "day = date[4:]\n",
    "year, day"
   ]
  },
  {
   "cell_type": "code",
   "execution_count": 215,
   "id": "db298157-169f-4e45-b8ce-ace4c975120b",
   "metadata": {},
   "outputs": [
    {
     "data": {
      "text/plain": [
       "'i'"
      ]
     },
     "execution_count": 215,
     "metadata": {},
     "output_type": "execute_result"
    }
   ],
   "source": [
    "# 문자열을 변경할 수 있을까? \n",
    "a = \"pithon\"\n",
    "a[1]"
   ]
  },
  {
   "cell_type": "code",
   "execution_count": 217,
   "id": "90359a1b-ba44-4116-ac06-3ab240f9b98c",
   "metadata": {},
   "outputs": [
    {
     "ename": "TypeError",
     "evalue": "'str' object does not support item assignment",
     "output_type": "error",
     "traceback": [
      "\u001b[1;31m---------------------------------------------------------------------------\u001b[0m",
      "\u001b[1;31mTypeError\u001b[0m                                 Traceback (most recent call last)",
      "Cell \u001b[1;32mIn[217], line 1\u001b[0m\n\u001b[1;32m----> 1\u001b[0m a[\u001b[38;5;241m1\u001b[39m] \u001b[38;5;241m=\u001b[39m \u001b[38;5;124m'\u001b[39m\u001b[38;5;124my\u001b[39m\u001b[38;5;124m'\u001b[39m\n",
      "\u001b[1;31mTypeError\u001b[0m: 'str' object does not support item assignment"
     ]
    }
   ],
   "source": [
    "a[1] = 'y' #변경불가능한(immutable) 자료형"
   ]
  },
  {
   "cell_type": "code",
   "execution_count": 221,
   "id": "4f24328b-e3b0-43fb-8529-8a9cc32afd9a",
   "metadata": {},
   "outputs": [
    {
     "data": {
      "text/plain": [
       "'python'"
      ]
     },
     "execution_count": 221,
     "metadata": {},
     "output_type": "execute_result"
    }
   ],
   "source": [
    "a = 'pithon'\n",
    "a[0] + 'y' + a[2:]"
   ]
  },
  {
   "cell_type": "code",
   "execution_count": 233,
   "id": "6c5a2eeb-4661-4cd8-8613-4fe39fe0fee6",
   "metadata": {},
   "outputs": [
    {
     "data": {
      "text/plain": [
       "'python'"
      ]
     },
     "execution_count": 233,
     "metadata": {},
     "output_type": "execute_result"
    }
   ],
   "source": [
    "a = 'pithon'\n",
    "b ='y'\n",
    "a[0] + b + a[2:] # a[0]을 a[:1]로 변경 가능"
   ]
  },
  {
   "cell_type": "markdown",
   "id": "6435e660-bb31-456d-a81e-08ce0c8a751d",
   "metadata": {},
   "source": [
    "#### 문자열 포매팅"
   ]
  },
  {
   "cell_type": "code",
   "execution_count": 247,
   "id": "0d642eea-53cd-457b-8de7-246284d46098",
   "metadata": {},
   "outputs": [
    {
     "data": {
      "text/plain": [
       "'I eat 3 apples'"
      ]
     },
     "execution_count": 247,
     "metadata": {},
     "output_type": "execute_result"
    }
   ],
   "source": [
    "\"I eat %d apples\"%3"
   ]
  },
  {
   "cell_type": "code",
   "execution_count": 249,
   "id": "07df2c9d-4521-4325-b87b-1f99a53e3c52",
   "metadata": {},
   "outputs": [
    {
     "data": {
      "text/plain": [
       "'I eat five apples'"
      ]
     },
     "execution_count": 249,
     "metadata": {},
     "output_type": "execute_result"
    }
   ],
   "source": [
    "\"I eat %s apples\"%'five'"
   ]
  },
  {
   "cell_type": "code",
   "execution_count": 251,
   "id": "6fe35912-308e-40f4-99ee-ced5bcf02f24",
   "metadata": {},
   "outputs": [
    {
     "data": {
      "text/plain": [
       "'I eat 3 apples'"
      ]
     },
     "execution_count": 251,
     "metadata": {},
     "output_type": "execute_result"
    }
   ],
   "source": [
    "number = 3\n",
    "\"I eat %d apples\"%number"
   ]
  },
  {
   "cell_type": "code",
   "execution_count": 257,
   "id": "56ade3ed-efd8-4c14-adc0-31081a5cd8dd",
   "metadata": {},
   "outputs": [
    {
     "data": {
      "text/plain": [
       "'I ate 10 apples. so I was sick for three days'"
      ]
     },
     "execution_count": 257,
     "metadata": {},
     "output_type": "execute_result"
    }
   ],
   "source": [
    "number = 10\n",
    "day= \"three\"\n",
    "\"I ate %d apples. so I was sick for %s days\"%(number, day)"
   ]
  },
  {
   "cell_type": "code",
   "execution_count": 263,
   "id": "c696ac86-49ae-4120-86dd-0c1581835f27",
   "metadata": {},
   "outputs": [
    {
     "data": {
      "text/plain": [
       "'Error is 98%'"
      ]
     },
     "execution_count": 263,
     "metadata": {},
     "output_type": "execute_result"
    }
   ],
   "source": [
    "# Error is 98%\n",
    "\"Error is %d%%\"%98"
   ]
  },
  {
   "cell_type": "code",
   "execution_count": 265,
   "id": "8c45e443-5571-4f4b-ab56-215da80ffa32",
   "metadata": {},
   "outputs": [
    {
     "data": {
      "text/plain": [
       "'3.42'"
      ]
     },
     "execution_count": 265,
     "metadata": {},
     "output_type": "execute_result"
    }
   ],
   "source": [
    "# 소수점 표현하기\n",
    "\n",
    "\"%0.2f\"%3.42134234"
   ]
  },
  {
   "cell_type": "markdown",
   "id": "c04a29a9-710c-45c4-9b24-b68bde929bf6",
   "metadata": {},
   "source": [
    "#### 포맷함수를 사용한 포매팅"
   ]
  },
  {
   "cell_type": "code",
   "execution_count": 269,
   "id": "4e2f2a51-ff09-4fc9-8817-bd8256bc9bdc",
   "metadata": {},
   "outputs": [
    {
     "data": {
      "text/plain": [
       "'I eat 3 apples'"
      ]
     },
     "execution_count": 269,
     "metadata": {},
     "output_type": "execute_result"
    }
   ],
   "source": [
    "#맨 뒤에 점에서 Tab누르면 여러가지 객체 나옴\n",
    "\"I eat {0} apples\".format(3) "
   ]
  },
  {
   "cell_type": "code",
   "execution_count": 271,
   "id": "5d1f9c1a-225c-47f7-b544-716f5a5b5f09",
   "metadata": {},
   "outputs": [
    {
     "data": {
      "text/plain": [
       "'I eat five apples'"
      ]
     },
     "execution_count": 271,
     "metadata": {},
     "output_type": "execute_result"
    }
   ],
   "source": [
    "\"I eat {0} apples\".format(\"five\") "
   ]
  },
  {
   "cell_type": "code",
   "execution_count": 275,
   "id": "8805aedf-fbc3-4142-b5cc-584a8b8233ae",
   "metadata": {},
   "outputs": [
    {
     "data": {
      "text/plain": [
       "'I eat 10 apples'"
      ]
     },
     "execution_count": 275,
     "metadata": {},
     "output_type": "execute_result"
    }
   ],
   "source": [
    "\"I eat {} apples\".format(number) # {} 중괄호 안에 0은 없어도 됨."
   ]
  },
  {
   "cell_type": "code",
   "execution_count": 277,
   "id": "f8ce00c8-2d8f-40f0-95d1-cbecc77280d2",
   "metadata": {},
   "outputs": [
    {
     "data": {
      "text/plain": [
       "'I ate 10 apples. so I was sick for three days'"
      ]
     },
     "execution_count": 277,
     "metadata": {},
     "output_type": "execute_result"
    }
   ],
   "source": [
    "\"I ate {} apples. so I was sick for {} days\".format(number, day) "
   ]
  },
  {
   "cell_type": "code",
   "execution_count": 279,
   "id": "51d3ee74-adc7-45ff-b6d5-47546b278dd6",
   "metadata": {},
   "outputs": [
    {
     "data": {
      "text/plain": [
       "'I ate 10 apples. so I was sick for three days'"
      ]
     },
     "execution_count": 279,
     "metadata": {},
     "output_type": "execute_result"
    }
   ],
   "source": [
    "\"I ate {a} apples. so I was sick for {b} days\".format(a=number,b=day) "
   ]
  },
  {
   "cell_type": "code",
   "execution_count": 281,
   "id": "2ef1fd2a-3d01-40f6-816a-afca89a9fce0",
   "metadata": {},
   "outputs": [
    {
     "data": {
      "text/plain": [
       "'I ate 10 apples. so I was sick for three days'"
      ]
     },
     "execution_count": 281,
     "metadata": {},
     "output_type": "execute_result"
    }
   ],
   "source": [
    "\"I ate {a} apples. so I was sick for {b} days\".format(b=day,a=number) "
   ]
  },
  {
   "cell_type": "code",
   "execution_count": 291,
   "id": "46303fed-d865-4325-b3f2-9272750d36f8",
   "metadata": {},
   "outputs": [
    {
     "data": {
      "text/plain": [
       "'3.1416'"
      ]
     },
     "execution_count": 291,
     "metadata": {},
     "output_type": "execute_result"
    }
   ],
   "source": [
    "y = 3.141592\n",
    "\"{0:0.4f}\".format(y)"
   ]
  },
  {
   "cell_type": "code",
   "execution_count": 293,
   "id": "f9b5a720-3297-473c-afa0-7639a1eaabba",
   "metadata": {},
   "outputs": [
    {
     "data": {
      "text/plain": [
       "'3.1416'"
      ]
     },
     "execution_count": 293,
     "metadata": {},
     "output_type": "execute_result"
    }
   ],
   "source": [
    "y = 3.141592\n",
    "\"%0.4f\"%y"
   ]
  },
  {
   "cell_type": "code",
   "execution_count": 295,
   "id": "46259bfc-bd6c-4e2a-9f27-2e10826f3029",
   "metadata": {},
   "outputs": [
    {
     "data": {
      "text/plain": [
       "'{and}'"
      ]
     },
     "execution_count": 295,
     "metadata": {},
     "output_type": "execute_result"
    }
   ],
   "source": [
    "\"{{and}}\".format()"
   ]
  },
  {
   "cell_type": "markdown",
   "id": "cef85b74-7de8-41ba-9467-945862aa4d9c",
   "metadata": {},
   "source": [
    "## f문자열 포매팅"
   ]
  },
  {
   "cell_type": "code",
   "execution_count": 298,
   "id": "31dd75c7-f08c-460b-ae05-2ed7b7485709",
   "metadata": {},
   "outputs": [
    {
     "data": {
      "text/plain": [
       "'나의 이름은 홍길동입니다. 나이는 30입니다.'"
      ]
     },
     "execution_count": 298,
     "metadata": {},
     "output_type": "execute_result"
    }
   ],
   "source": [
    "name = '홍길동'\n",
    "age = 30\n",
    "'나의 이름은 {a}입니다. 나이는 {b}입니다.'.format(a=name,b=age)"
   ]
  },
  {
   "cell_type": "code",
   "execution_count": 306,
   "id": "d45b4431-307a-41cd-9e2a-7809f1500759",
   "metadata": {},
   "outputs": [
    {
     "data": {
      "text/plain": [
       "'나의 이름은 홍길동입니다. 나이는 30입니다.'"
      ]
     },
     "execution_count": 306,
     "metadata": {},
     "output_type": "execute_result"
    }
   ],
   "source": [
    "f'나의 이름은 {name}입니다. 나이는 {age}입니다.'"
   ]
  },
  {
   "cell_type": "code",
   "execution_count": 304,
   "id": "5518848a-c67d-4b15-a190-ec5e5cea017c",
   "metadata": {},
   "outputs": [
    {
     "data": {
      "text/plain": [
       "'나의 이름은 홍길동입니다. 나이는 31입니다.'"
      ]
     },
     "execution_count": 304,
     "metadata": {},
     "output_type": "execute_result"
    }
   ],
   "source": [
    "f'나의 이름은 {name}입니다. 나이는 {age+1}입니다.'"
   ]
  },
  {
   "cell_type": "code",
   "execution_count": 310,
   "id": "ff3bc8da-4210-48e7-8388-95c77da8fd34",
   "metadata": {},
   "outputs": [
    {
     "data": {
      "text/plain": [
       "{'name': '홍길동', 'age': 30}"
      ]
     },
     "execution_count": 310,
     "metadata": {},
     "output_type": "execute_result"
    }
   ],
   "source": [
    "d = {'name':'홍길동','age':30} # key로 조회\n",
    "d"
   ]
  },
  {
   "cell_type": "code",
   "execution_count": 312,
   "id": "ac85a7b1-fa6b-46ef-b969-c514acca9f14",
   "metadata": {},
   "outputs": [
    {
     "data": {
      "text/plain": [
       "'홍길동'"
      ]
     },
     "execution_count": 312,
     "metadata": {},
     "output_type": "execute_result"
    }
   ],
   "source": [
    "d['name']"
   ]
  },
  {
   "cell_type": "code",
   "execution_count": 316,
   "id": "0ac137e9-38da-418c-8e92-ebcc643d5a4c",
   "metadata": {},
   "outputs": [
    {
     "data": {
      "text/plain": [
       "'나의 이름은 홍길동입니다. 나이는 30입니다.'"
      ]
     },
     "execution_count": 316,
     "metadata": {},
     "output_type": "execute_result"
    }
   ],
   "source": [
    "f\"나의 이름은 {d['name']}입니다. 나이는 {d['age']}입니다.\"\n",
    "# 안과 밖의 큰따옴표랑 작은따옴표 구분해주기"
   ]
  },
  {
   "cell_type": "code",
   "execution_count": 320,
   "id": "e08ac0a5-3e72-4aa4-9844-84a5dc781ac2",
   "metadata": {},
   "outputs": [
    {
     "data": {
      "text/plain": [
       "'3.1416'"
      ]
     },
     "execution_count": 320,
     "metadata": {},
     "output_type": "execute_result"
    }
   ],
   "source": [
    "y\n",
    "f'{y:0.4f}'"
   ]
  },
  {
   "cell_type": "code",
   "execution_count": 322,
   "id": "2b506881-5341-4d7b-a9bc-359bc2d6d54b",
   "metadata": {},
   "outputs": [
    {
     "data": {
      "text/plain": [
       "'    3.1416'"
      ]
     },
     "execution_count": 322,
     "metadata": {},
     "output_type": "execute_result"
    }
   ],
   "source": [
    "f'{y:10.4f}'"
   ]
  },
  {
   "cell_type": "markdown",
   "id": "c8e0856b-bd90-4423-9753-8387579c1c65",
   "metadata": {},
   "source": [
    "### 문자열 관련 함수들"
   ]
  },
  {
   "cell_type": "code",
   "execution_count": 325,
   "id": "7150b20b-4b2a-4af2-8ab6-b3a1e37681e9",
   "metadata": {},
   "outputs": [
    {
     "data": {
      "text/plain": [
       "5"
      ]
     },
     "execution_count": 325,
     "metadata": {},
     "output_type": "execute_result"
    }
   ],
   "source": [
    "a = 'hobby'\n",
    "len(a)"
   ]
  },
  {
   "cell_type": "code",
   "execution_count": 327,
   "id": "0d40aa33-7d6b-4a76-90b6-6e57f6ea2675",
   "metadata": {},
   "outputs": [
    {
     "data": {
      "text/plain": [
       "2"
      ]
     },
     "execution_count": 327,
     "metadata": {},
     "output_type": "execute_result"
    }
   ],
   "source": [
    "# 특정 문자열 개수를 세기\n",
    "a.count('b')"
   ]
  },
  {
   "cell_type": "code",
   "execution_count": 329,
   "id": "c05de736-6925-400f-a23d-bd73e6f24057",
   "metadata": {},
   "outputs": [
    {
     "data": {
      "text/plain": [
       "14"
      ]
     },
     "execution_count": 329,
     "metadata": {},
     "output_type": "execute_result"
    }
   ],
   "source": [
    "#위치 알려주기\n",
    "a = 'python is the best choice'\n",
    "a.find('b')"
   ]
  },
  {
   "cell_type": "code",
   "execution_count": 333,
   "id": "d8734698-cf7e-44f4-aa39-4150eced4605",
   "metadata": {
    "scrolled": true
   },
   "outputs": [
    {
     "data": {
      "text/plain": [
       "-1"
      ]
     },
     "execution_count": 333,
     "metadata": {},
     "output_type": "execute_result"
    }
   ],
   "source": [
    "a.find('k') #없는 문자열을 넣으면 -1이 나옴"
   ]
  },
  {
   "cell_type": "code",
   "execution_count": 341,
   "id": "e5abad08-0360-424f-a2d7-81849de8870b",
   "metadata": {},
   "outputs": [
    {
     "data": {
      "text/plain": [
       "\u001b[1;31mDocstring:\u001b[0m\n",
       "S.find(sub[, start[, end]]) -> int\n",
       "\n",
       "Return the lowest index in S where substring sub is found,\n",
       "such that sub is contained within S[start:end].  Optional\n",
       "arguments start and end are interpreted as in slice notation.\n",
       "\n",
       "Return -1 on failure.\n",
       "\u001b[1;31mType:\u001b[0m      builtin_function_or_method"
      ]
     },
     "metadata": {},
     "output_type": "display_data"
    }
   ],
   "source": [
    "a.find?"
   ]
  },
  {
   "cell_type": "code",
   "execution_count": 343,
   "id": "a12ec019-057a-4a21-8297-53f6ba1912a8",
   "metadata": {},
   "outputs": [
    {
     "name": "stdout",
     "output_type": "stream",
     "text": [
      "Help on built-in function find:\n",
      "\n",
      "find(...) method of builtins.str instance\n",
      "    S.find(sub[, start[, end]]) -> int\n",
      "\n",
      "    Return the lowest index in S where substring sub is found,\n",
      "    such that sub is contained within S[start:end].  Optional\n",
      "    arguments start and end are interpreted as in slice notation.\n",
      "\n",
      "    Return -1 on failure.\n",
      "\n"
     ]
    }
   ],
   "source": [
    "help(a.find)"
   ]
  },
  {
   "cell_type": "code",
   "execution_count": 349,
   "id": "a5a34259-7b44-4903-a9c2-2aae05859aa2",
   "metadata": {},
   "outputs": [
    {
     "data": {
      "text/plain": [
       "(8, 8)"
      ]
     },
     "execution_count": 349,
     "metadata": {},
     "output_type": "execute_result"
    }
   ],
   "source": [
    "# 위치 알려주기1\n",
    "\n",
    "a = 'Life is too short'\n",
    "a.index('t'),a.find('t')"
   ]
  },
  {
   "cell_type": "code",
   "execution_count": null,
   "id": "3cab6eb6-de58-4ea4-8f3f-5568dd768218",
   "metadata": {},
   "outputs": [],
   "source": [
    "#index는 없는 값을 찾으려면 error가 생김\n",
    "#find는 없는 값을 찾아도 -1로 반환해줌"
   ]
  },
  {
   "cell_type": "code",
   "execution_count": 351,
   "id": "9665e214-3fb4-4728-a8cf-ad46bba27e07",
   "metadata": {
    "scrolled": true
   },
   "outputs": [
    {
     "data": {
      "text/plain": [
       "'abcd'"
      ]
     },
     "execution_count": 351,
     "metadata": {},
     "output_type": "execute_result"
    }
   ],
   "source": [
    "# 문자열 삽입 join\n",
    "'abcd'"
   ]
  },
  {
   "cell_type": "code",
   "execution_count": 355,
   "id": "0a5e6eb8-e015-4a86-b527-2c347e227d98",
   "metadata": {},
   "outputs": [
    {
     "data": {
      "text/plain": [
       "'a,b,c,d'"
      ]
     },
     "execution_count": 355,
     "metadata": {},
     "output_type": "execute_result"
    }
   ],
   "source": [
    "# 반드시 문자열로 반환합니다.\n",
    "','.join('abcd')"
   ]
  },
  {
   "cell_type": "code",
   "execution_count": 357,
   "id": "8897fbd5-c3fc-4247-ab2c-a9a17f1651e7",
   "metadata": {},
   "outputs": [
    {
     "data": {
      "text/plain": [
       "'a,b,c,d'"
      ]
     },
     "execution_count": 357,
     "metadata": {},
     "output_type": "execute_result"
    }
   ],
   "source": [
    "','.join(['a','b','c','d'])"
   ]
  },
  {
   "cell_type": "code",
   "execution_count": 359,
   "id": "d4bad449-969b-4bff-b2fe-5b7951cddf7a",
   "metadata": {},
   "outputs": [
    {
     "data": {
      "text/plain": [
       "'HI'"
      ]
     },
     "execution_count": 359,
     "metadata": {},
     "output_type": "execute_result"
    }
   ],
   "source": [
    "a = \"hi\"\n",
    "a.upper()"
   ]
  },
  {
   "cell_type": "code",
   "execution_count": 361,
   "id": "58f6308b-c3af-4f10-bb31-e848bb10d39b",
   "metadata": {},
   "outputs": [
    {
     "data": {
      "text/plain": [
       "\u001b[1;31mSignature:\u001b[0m \u001b[0ma\u001b[0m\u001b[1;33m.\u001b[0m\u001b[0mupper\u001b[0m\u001b[1;33m(\u001b[0m\u001b[1;33m)\u001b[0m\u001b[1;33m\u001b[0m\u001b[1;33m\u001b[0m\u001b[0m\n",
       "\u001b[1;31mDocstring:\u001b[0m Return a copy of the string converted to uppercase.\n",
       "\u001b[1;31mType:\u001b[0m      builtin_function_or_method"
      ]
     },
     "metadata": {},
     "output_type": "display_data"
    }
   ],
   "source": [
    "a.upper?"
   ]
  },
  {
   "cell_type": "code",
   "execution_count": 363,
   "id": "b34fea18-f683-496e-97f7-722ec805b5f4",
   "metadata": {},
   "outputs": [
    {
     "data": {
      "text/plain": [
       "'hi'"
      ]
     },
     "execution_count": 363,
     "metadata": {},
     "output_type": "execute_result"
    }
   ],
   "source": [
    "a = 'HI'\n",
    "a.lower()"
   ]
  },
  {
   "cell_type": "code",
   "execution_count": 367,
   "id": "6dc8ef36-7d2e-4cb8-a3b1-e9ab4b54e40f",
   "metadata": {},
   "outputs": [
    {
     "data": {
      "text/plain": [
       "'   hi'"
      ]
     },
     "execution_count": 367,
     "metadata": {},
     "output_type": "execute_result"
    }
   ],
   "source": [
    "#공백 지우기\n",
    "a = \"   hi   \"\n",
    "a.rstrip()"
   ]
  },
  {
   "cell_type": "code",
   "execution_count": 369,
   "id": "32560ebb-4f9a-4b84-8217-583b1bd6d434",
   "metadata": {
    "scrolled": true
   },
   "outputs": [
    {
     "data": {
      "text/plain": [
       "'hi   '"
      ]
     },
     "execution_count": 369,
     "metadata": {},
     "output_type": "execute_result"
    }
   ],
   "source": [
    "a.lstrip()"
   ]
  },
  {
   "cell_type": "code",
   "execution_count": 371,
   "id": "a2e95448-000c-4a72-ac29-50f589764891",
   "metadata": {},
   "outputs": [
    {
     "data": {
      "text/plain": [
       "'hi'"
      ]
     },
     "execution_count": 371,
     "metadata": {},
     "output_type": "execute_result"
    }
   ],
   "source": [
    "a.strip()"
   ]
  },
  {
   "cell_type": "code",
   "execution_count": 373,
   "id": "5ff5a1b6-cb2d-4865-8ee8-ef7b427c70e7",
   "metadata": {},
   "outputs": [
    {
     "data": {
      "text/plain": [
       "' Your leg is too short'"
      ]
     },
     "execution_count": 373,
     "metadata": {},
     "output_type": "execute_result"
    }
   ],
   "source": [
    "a = 'Life is too short'\n",
    "a.replace(\"Life\", \" Your leg\")"
   ]
  },
  {
   "cell_type": "code",
   "execution_count": 375,
   "id": "73ec8f70-1871-4e51-a4b6-4c4eaffcc9a8",
   "metadata": {},
   "outputs": [
    {
     "data": {
      "text/plain": [
       "['Life', 'is', 'too', 'short']"
      ]
     },
     "execution_count": 375,
     "metadata": {},
     "output_type": "execute_result"
    }
   ],
   "source": [
    "# 문자열 나누기\n",
    "a.split() # 리스트로 반환해줍니다."
   ]
  },
  {
   "cell_type": "code",
   "execution_count": 377,
   "id": "29c2b565-3bf9-4727-be5e-71bf325f5777",
   "metadata": {
    "scrolled": true
   },
   "outputs": [
    {
     "data": {
      "text/plain": [
       "['a', 'b', 'c', 'd']"
      ]
     },
     "execution_count": 377,
     "metadata": {},
     "output_type": "execute_result"
    }
   ],
   "source": [
    "b = 'a:b:c:d'\n",
    "b.split(':')"
   ]
  },
  {
   "cell_type": "markdown",
   "id": "9403a639-5b87-4b0d-80d5-394c83cd3ca1",
   "metadata": {},
   "source": [
    "## 리스트"
   ]
  },
  {
   "cell_type": "code",
   "execution_count": 4,
   "id": "08c22266-fa29-4dca-b7ca-3bde1ee7532a",
   "metadata": {},
   "outputs": [
    {
     "data": {
      "text/plain": [
       "[1, 3, 5, 7, 9]"
      ]
     },
     "execution_count": 4,
     "metadata": {},
     "output_type": "execute_result"
    }
   ],
   "source": [
    "odd = [1,3,5,7,9]\n",
    "odd"
   ]
  },
  {
   "cell_type": "code",
   "execution_count": 10,
   "id": "7a20d82f-4e81-4e19-bb4a-7ccfaec1a7ee",
   "metadata": {},
   "outputs": [
    {
     "data": {
      "text/plain": [
       "([],\n",
       " [1, 2, 3],\n",
       " ['Life', 'is', 'too', 'short'],\n",
       " [1, 2, 'Life', 'is'],\n",
       " [1, 2, ['Life', 'is']],\n",
       " [])"
      ]
     },
     "execution_count": 10,
     "metadata": {},
     "output_type": "execute_result"
    }
   ],
   "source": [
    "a = [] \n",
    "b = [1, 2, 3]\n",
    "c = ['Life', 'is', 'too', 'short']\n",
    "d = [1, 2, 'Life', 'is']\n",
    "e = [1, 2, ['Life', 'is']]\n",
    "f = list()\n",
    "a,b,c,d,e,f"
   ]
  },
  {
   "cell_type": "code",
   "execution_count": 12,
   "id": "42dd9084-bda2-47b4-86f3-5f4dec962abc",
   "metadata": {},
   "outputs": [
    {
     "data": {
      "text/plain": [
       "list"
      ]
     },
     "execution_count": 12,
     "metadata": {},
     "output_type": "execute_result"
    }
   ],
   "source": [
    "type(a)"
   ]
  },
  {
   "cell_type": "markdown",
   "id": "0b807a37-43c5-4caa-9675-ef1ec1b19f99",
   "metadata": {},
   "source": [
    "### 인덱싱과 슬라이싱"
   ]
  },
  {
   "cell_type": "code",
   "execution_count": 17,
   "id": "05db9d82-e9e0-43b9-9077-e8608a60c668",
   "metadata": {},
   "outputs": [
    {
     "data": {
      "text/plain": [
       "[1, 2, 3]"
      ]
     },
     "execution_count": 17,
     "metadata": {},
     "output_type": "execute_result"
    }
   ],
   "source": [
    "a = [1,2,3]\n",
    "a"
   ]
  },
  {
   "cell_type": "code",
   "execution_count": 19,
   "id": "32a3c1be-b9fb-4141-b080-c980341a45c0",
   "metadata": {},
   "outputs": [
    {
     "data": {
      "text/plain": [
       "1"
      ]
     },
     "execution_count": 19,
     "metadata": {},
     "output_type": "execute_result"
    }
   ],
   "source": [
    "a[0]"
   ]
  },
  {
   "cell_type": "code",
   "execution_count": 21,
   "id": "7c461cad-5b5b-4edc-afd9-99796fd576e5",
   "metadata": {},
   "outputs": [
    {
     "data": {
      "text/plain": [
       "4"
      ]
     },
     "execution_count": 21,
     "metadata": {},
     "output_type": "execute_result"
    }
   ],
   "source": [
    "a[0] + a[2]"
   ]
  },
  {
   "cell_type": "code",
   "execution_count": 23,
   "id": "63ac904c-adac-4dab-a5ff-22572a958ae7",
   "metadata": {},
   "outputs": [
    {
     "data": {
      "text/plain": [
       "3"
      ]
     },
     "execution_count": 23,
     "metadata": {},
     "output_type": "execute_result"
    }
   ],
   "source": [
    "a[-1]"
   ]
  },
  {
   "cell_type": "code",
   "execution_count": 31,
   "id": "479a32b1-3fdf-48b3-8ecd-9938b76470d6",
   "metadata": {},
   "outputs": [
    {
     "data": {
      "text/plain": [
       "[1, 2, 3, ['a', 'b', 'c']]"
      ]
     },
     "execution_count": 31,
     "metadata": {},
     "output_type": "execute_result"
    }
   ],
   "source": [
    "a = [1, 2, 3, ['a', 'b', 'c']]\n",
    "a"
   ]
  },
  {
   "cell_type": "code",
   "execution_count": 33,
   "id": "1ad82d6f-ee82-4371-b384-4bd809d8ee08",
   "metadata": {},
   "outputs": [
    {
     "data": {
      "text/plain": [
       "4"
      ]
     },
     "execution_count": 33,
     "metadata": {},
     "output_type": "execute_result"
    }
   ],
   "source": [
    "len(a)"
   ]
  },
  {
   "cell_type": "code",
   "execution_count": 35,
   "id": "228d76bf-ba34-4f9e-af52-c23b64a71dde",
   "metadata": {},
   "outputs": [
    {
     "data": {
      "text/plain": [
       "['a', 'b', 'c']"
      ]
     },
     "execution_count": 35,
     "metadata": {},
     "output_type": "execute_result"
    }
   ],
   "source": [
    "a[-1]"
   ]
  },
  {
   "cell_type": "code",
   "execution_count": 37,
   "id": "08fbc13d-7b81-456e-8f6c-5f771e75e506",
   "metadata": {},
   "outputs": [
    {
     "data": {
      "text/plain": [
       "'b'"
      ]
     },
     "execution_count": 37,
     "metadata": {},
     "output_type": "execute_result"
    }
   ],
   "source": [
    "a[-1][1]"
   ]
  },
  {
   "cell_type": "code",
   "execution_count": 39,
   "id": "a219b2d0-7df9-4b55-8bea-ab2a59a31d2f",
   "metadata": {},
   "outputs": [
    {
     "data": {
      "text/plain": [
       "[1, 2, ['a', 'b', ['Life', 'is']]]"
      ]
     },
     "execution_count": 39,
     "metadata": {},
     "output_type": "execute_result"
    }
   ],
   "source": [
    "a = [1,2,['a','b',['Life','is']]]\n",
    "a"
   ]
  },
  {
   "cell_type": "code",
   "execution_count": 41,
   "id": "31d2f7e4-36ef-4db3-96b8-a839af8f520b",
   "metadata": {},
   "outputs": [
    {
     "data": {
      "text/plain": [
       "'Life'"
      ]
     },
     "execution_count": 41,
     "metadata": {},
     "output_type": "execute_result"
    }
   ],
   "source": [
    "a[-1][-1][0]"
   ]
  },
  {
   "cell_type": "markdown",
   "id": "f890463a-7d75-45fa-8fa0-0ca3ad03bbd6",
   "metadata": {},
   "source": [
    "## 슬라이싱"
   ]
  },
  {
   "cell_type": "code",
   "execution_count": 52,
   "id": "ba7d7829-fcc9-417c-9a26-b4fe52b31e1a",
   "metadata": {},
   "outputs": [],
   "source": [
    "a = [1, 2, 3, 4, 5]"
   ]
  },
  {
   "cell_type": "code",
   "execution_count": 54,
   "id": "a6019ea5-8b00-4151-bead-7952c2a717d8",
   "metadata": {},
   "outputs": [
    {
     "data": {
      "text/plain": [
       "[1, 2]"
      ]
     },
     "execution_count": 54,
     "metadata": {},
     "output_type": "execute_result"
    }
   ],
   "source": [
    "a[:2]"
   ]
  },
  {
   "cell_type": "code",
   "execution_count": 56,
   "id": "e7de12e2-b6a8-4e33-966d-1c46d87fc520",
   "metadata": {},
   "outputs": [],
   "source": [
    "a = [1, 2, 3, ['a', 'b', 'c'], 4, 5]"
   ]
  },
  {
   "cell_type": "code",
   "execution_count": 60,
   "id": "daa90acd-7d1b-4ef8-b459-ad9719d71df8",
   "metadata": {},
   "outputs": [
    {
     "data": {
      "text/plain": [
       "[3, ['a', 'b', 'c'], 4]"
      ]
     },
     "execution_count": 60,
     "metadata": {},
     "output_type": "execute_result"
    }
   ],
   "source": [
    "a[2:5]"
   ]
  },
  {
   "cell_type": "code",
   "execution_count": 64,
   "id": "a290e243-b805-4de2-92f8-0dbb205e6af2",
   "metadata": {},
   "outputs": [
    {
     "data": {
      "text/plain": [
       "['a', 'b']"
      ]
     },
     "execution_count": 64,
     "metadata": {},
     "output_type": "execute_result"
    }
   ],
   "source": [
    "a[3][0:2]"
   ]
  },
  {
   "cell_type": "markdown",
   "id": "d81a52f3-e796-44a2-999b-58f7160b34af",
   "metadata": {},
   "source": [
    "### 연산하기"
   ]
  },
  {
   "cell_type": "code",
   "execution_count": 67,
   "id": "0e2e8b48-8c7e-4d7a-9f2d-5a42fc738e52",
   "metadata": {},
   "outputs": [
    {
     "data": {
      "text/plain": [
       "[1, 2, 3, 4, 5, 6]"
      ]
     },
     "execution_count": 67,
     "metadata": {},
     "output_type": "execute_result"
    }
   ],
   "source": [
    "a = [1, 2, 3]\n",
    "b = [4, 5, 6]\n",
    "a + b"
   ]
  },
  {
   "cell_type": "code",
   "execution_count": 71,
   "id": "51106a72-e3f8-44cf-9ec6-493ba2971900",
   "metadata": {},
   "outputs": [
    {
     "data": {
      "text/plain": [
       "int"
      ]
     },
     "execution_count": 71,
     "metadata": {},
     "output_type": "execute_result"
    }
   ],
   "source": [
    "type(a[0])"
   ]
  },
  {
   "cell_type": "code",
   "execution_count": 73,
   "id": "3962b24a-318c-4ec4-8101-3e3c0d046ae9",
   "metadata": {},
   "outputs": [
    {
     "data": {
      "text/plain": [
       "[1, 2, 3, 1, 2, 3, 1, 2, 3]"
      ]
     },
     "execution_count": 73,
     "metadata": {},
     "output_type": "execute_result"
    }
   ],
   "source": [
    "a * 3"
   ]
  },
  {
   "cell_type": "code",
   "execution_count": 80,
   "id": "64a42968-c56c-4fe0-96a0-8bab298e851c",
   "metadata": {},
   "outputs": [
    {
     "data": {
      "text/plain": [
       "3"
      ]
     },
     "execution_count": 80,
     "metadata": {},
     "output_type": "execute_result"
    }
   ],
   "source": [
    ">>> a = [1, 2, 3]\n",
    ">>> len(a)\n",
    "3"
   ]
  },
  {
   "cell_type": "code",
   "execution_count": 107,
   "id": "9d16d349-72d3-498a-a819-7d68f3f35181",
   "metadata": {},
   "outputs": [
    {
     "ename": "TypeError",
     "evalue": "unsupported operand type(s) for +: 'int' and 'str'",
     "output_type": "error",
     "traceback": [
      "\u001b[1;31m---------------------------------------------------------------------------\u001b[0m",
      "\u001b[1;31mTypeError\u001b[0m                                 Traceback (most recent call last)",
      "Cell \u001b[1;32mIn[107], line 2\u001b[0m\n\u001b[0;32m      1\u001b[0m a \u001b[38;5;241m=\u001b[39m [\u001b[38;5;241m1\u001b[39m, \u001b[38;5;241m2\u001b[39m, \u001b[38;5;241m3\u001b[39m]\n\u001b[1;32m----> 2\u001b[0m a[\u001b[38;5;241m2\u001b[39m] \u001b[38;5;241m+\u001b[39m \u001b[38;5;124m\"\u001b[39m\u001b[38;5;124mhi\u001b[39m\u001b[38;5;124m\"\u001b[39m\n",
      "\u001b[1;31mTypeError\u001b[0m: unsupported operand type(s) for +: 'int' and 'str'"
     ]
    }
   ],
   "source": [
    ">>> a = [1, 2, 3]\n",
    ">>> a[2] + \"hi\"\n"
   ]
  },
  {
   "cell_type": "code",
   "execution_count": 109,
   "id": "8e9d5b57-06d2-4cd7-8363-566a2a766aed",
   "metadata": {},
   "outputs": [
    {
     "data": {
      "text/plain": [
       "'3'"
      ]
     },
     "execution_count": 109,
     "metadata": {},
     "output_type": "execute_result"
    }
   ],
   "source": [
    "str(a[2])"
   ]
  },
  {
   "cell_type": "code",
   "execution_count": 111,
   "id": "d793575d-d86c-47ec-b92c-e0f9b3b96896",
   "metadata": {},
   "outputs": [
    {
     "data": {
      "text/plain": [
       "'3hi'"
      ]
     },
     "execution_count": 111,
     "metadata": {},
     "output_type": "execute_result"
    }
   ],
   "source": [
    "str(a[2]) + \"hi\""
   ]
  },
  {
   "cell_type": "markdown",
   "id": "96f71aa0-fdc0-4165-a0d1-8d4582c144e9",
   "metadata": {},
   "source": [
    "### 수정과 삭제"
   ]
  },
  {
   "cell_type": "code",
   "execution_count": 78,
   "id": "39ec529a-7940-4dd2-96d0-65f4932d61f3",
   "metadata": {},
   "outputs": [
    {
     "data": {
      "text/plain": [
       "[1, 2, 4]"
      ]
     },
     "execution_count": 78,
     "metadata": {},
     "output_type": "execute_result"
    }
   ],
   "source": [
    "a = [1,2,3]\n",
    "a[2] = 4\n",
    "a"
   ]
  },
  {
   "cell_type": "code",
   "execution_count": 84,
   "id": "f1a9e843-103b-4a60-8661-a377d5b3ed9c",
   "metadata": {},
   "outputs": [
    {
     "data": {
      "text/plain": [
       "[1, 4]"
      ]
     },
     "execution_count": 84,
     "metadata": {},
     "output_type": "execute_result"
    }
   ],
   "source": [
    "a = [1,2,3]\n",
    "a[2] = 4\n",
    "a\n",
    "del a[1]\n",
    "a"
   ]
  },
  {
   "cell_type": "code",
   "execution_count": 88,
   "id": "7e855ac6-aa02-4b39-a19b-0bd509b5509e",
   "metadata": {},
   "outputs": [
    {
     "data": {
      "text/plain": [
       "[1, 2]"
      ]
     },
     "execution_count": 88,
     "metadata": {},
     "output_type": "execute_result"
    }
   ],
   "source": [
    "a = [1,2,3,4,5]\n",
    "del a[2:]\n",
    "a"
   ]
  },
  {
   "cell_type": "markdown",
   "id": "0619f28d-33e4-4649-948d-06d83a698645",
   "metadata": {},
   "source": [
    "## 리스트 관련 함수(메서드)"
   ]
  },
  {
   "cell_type": "code",
   "execution_count": 93,
   "id": "4fd89c9f-d9bb-4ba1-9875-b203e3a6af6d",
   "metadata": {},
   "outputs": [
    {
     "data": {
      "text/plain": [
       "[1, 2, 3, 4]"
      ]
     },
     "execution_count": 93,
     "metadata": {},
     "output_type": "execute_result"
    }
   ],
   "source": [
    "# 리스트에 요소 추가하기  append\n",
    "a = [1,2,3]\n",
    "a.append(4)\n",
    "a"
   ]
  },
  {
   "cell_type": "code",
   "execution_count": 95,
   "id": "5aba1bed-f0ee-49bc-9904-3a57a979fe13",
   "metadata": {},
   "outputs": [
    {
     "data": {
      "text/plain": [
       "[1, 2, 3, 4, [5, 6]]"
      ]
     },
     "execution_count": 95,
     "metadata": {},
     "output_type": "execute_result"
    }
   ],
   "source": [
    "a.append([5,6])\n",
    "a"
   ]
  },
  {
   "cell_type": "code",
   "execution_count": 97,
   "id": "95e6b52b-9aef-46c3-912a-5e6dc8c09d69",
   "metadata": {},
   "outputs": [
    {
     "data": {
      "text/plain": [
       "[1, 2, 3, 4]"
      ]
     },
     "execution_count": 97,
     "metadata": {},
     "output_type": "execute_result"
    }
   ],
   "source": [
    "# 리스트 정렬\n",
    "a = [1, 4, 3, 2]\n",
    "a.sort()\n",
    "a"
   ]
  },
  {
   "cell_type": "code",
   "execution_count": 103,
   "id": "bcd1e8a3-da45-4ac4-b506-a8d5b3c13cd8",
   "metadata": {},
   "outputs": [
    {
     "data": {
      "text/plain": [
       "\u001b[1;31mSignature:\u001b[0m \u001b[0ma\u001b[0m\u001b[1;33m.\u001b[0m\u001b[0msort\u001b[0m\u001b[1;33m(\u001b[0m\u001b[1;33m*\u001b[0m\u001b[1;33m,\u001b[0m \u001b[0mkey\u001b[0m\u001b[1;33m=\u001b[0m\u001b[1;32mNone\u001b[0m\u001b[1;33m,\u001b[0m \u001b[0mreverse\u001b[0m\u001b[1;33m=\u001b[0m\u001b[1;32mFalse\u001b[0m\u001b[1;33m)\u001b[0m\u001b[1;33m\u001b[0m\u001b[1;33m\u001b[0m\u001b[0m\n",
       "\u001b[1;31mDocstring:\u001b[0m\n",
       "Sort the list in ascending order and return None.\n",
       "\n",
       "The sort is in-place (i.e. the list itself is modified) and stable (i.e. the\n",
       "order of two equal elements is maintained).\n",
       "\n",
       "If a key function is given, apply it once to each list item and sort them,\n",
       "ascending or descending, according to their function values.\n",
       "\n",
       "The reverse flag can be set to sort in descending order.\n",
       "\u001b[1;31mType:\u001b[0m      builtin_function_or_method"
      ]
     },
     "metadata": {},
     "output_type": "display_data"
    }
   ],
   "source": [
    "a.sort?"
   ]
  },
  {
   "cell_type": "code",
   "execution_count": 105,
   "id": "0e618563-f965-4ba1-aeb3-e432d26d5540",
   "metadata": {},
   "outputs": [
    {
     "data": {
      "text/plain": [
       "['a', 'b', 'c']"
      ]
     },
     "execution_count": 105,
     "metadata": {},
     "output_type": "execute_result"
    }
   ],
   "source": [
    "a = ['a', 'c', 'b']\n",
    "a.sort()\n",
    "a"
   ]
  },
  {
   "cell_type": "code",
   "execution_count": 127,
   "id": "6ba454cf-5e89-4e59-8c3e-6fb780541212",
   "metadata": {},
   "outputs": [
    {
     "data": {
      "text/plain": [
       "['c', 'b', 'a']"
      ]
     },
     "execution_count": 127,
     "metadata": {},
     "output_type": "execute_result"
    }
   ],
   "source": [
    "a.sort(reverse =True)\n",
    "a"
   ]
  },
  {
   "cell_type": "code",
   "execution_count": null,
   "id": "718a9154-4787-433c-b1f8-3627bc70b477",
   "metadata": {},
   "outputs": [],
   "source": [
    "# 리스트 뒤집기 reverse"
   ]
  },
  {
   "cell_type": "code",
   "execution_count": 131,
   "id": "a5802ef4-31f8-4c57-93bd-897070579974",
   "metadata": {},
   "outputs": [
    {
     "data": {
      "text/plain": [
       "['b', 'c', 'a']"
      ]
     },
     "execution_count": 131,
     "metadata": {},
     "output_type": "execute_result"
    }
   ],
   "source": [
    "a = ['a', 'c', 'b']\n",
    "a.reverse()\n",
    "a"
   ]
  },
  {
   "cell_type": "code",
   "execution_count": 133,
   "id": "6a812cf1-e9f3-4f78-8dd1-49b702ab23c2",
   "metadata": {},
   "outputs": [
    {
     "data": {
      "text/plain": [
       "2"
      ]
     },
     "execution_count": 133,
     "metadata": {},
     "output_type": "execute_result"
    }
   ],
   "source": [
    "# 인덱스 반환 index\n",
    "a = [1, 2, 3]\n",
    "a.index(3)"
   ]
  },
  {
   "cell_type": "code",
   "execution_count": 135,
   "id": "342820fc-c9e3-4ce5-b4af-a9d732cb4954",
   "metadata": {},
   "outputs": [
    {
     "ename": "ValueError",
     "evalue": "0 is not in list",
     "output_type": "error",
     "traceback": [
      "\u001b[1;31m---------------------------------------------------------------------------\u001b[0m",
      "\u001b[1;31mValueError\u001b[0m                                Traceback (most recent call last)",
      "Cell \u001b[1;32mIn[135], line 1\u001b[0m\n\u001b[1;32m----> 1\u001b[0m a\u001b[38;5;241m.\u001b[39mindex(\u001b[38;5;241m0\u001b[39m)\n",
      "\u001b[1;31mValueError\u001b[0m: 0 is not in list"
     ]
    }
   ],
   "source": [
    "a.index(0)"
   ]
  },
  {
   "cell_type": "code",
   "execution_count": 147,
   "id": "9b565cdc-ebe1-491b-bb06-2f46b4c3c68b",
   "metadata": {},
   "outputs": [
    {
     "data": {
      "text/plain": [
       "[4, 1, 2, 3]"
      ]
     },
     "execution_count": 147,
     "metadata": {},
     "output_type": "execute_result"
    }
   ],
   "source": [
    "# 리스트 요소 삽입 insert\n",
    "a = [1, 2, 3]\n",
    "a.insert(0,4)\n",
    "a"
   ]
  },
  {
   "cell_type": "code",
   "execution_count": 159,
   "id": "9d7c4367-8a58-4ed9-9f35-f33ff62af124",
   "metadata": {},
   "outputs": [
    {
     "data": {
      "text/plain": [
       "[4, 1, 2, 5, 5, 5, 5, 5, 3]"
      ]
     },
     "execution_count": 159,
     "metadata": {},
     "output_type": "execute_result"
    }
   ],
   "source": [
    "a.insert(3,5)\n",
    "a"
   ]
  },
  {
   "cell_type": "code",
   "execution_count": 167,
   "id": "3ba3633b-8334-445d-9664-83e3c0c6ca57",
   "metadata": {},
   "outputs": [
    {
     "data": {
      "text/plain": [
       "[4, 1, 2, 5, 3]"
      ]
     },
     "execution_count": 167,
     "metadata": {},
     "output_type": "execute_result"
    }
   ],
   "source": [
    "#리스트 요소 제거 remove\n",
    "a.remove(5)\n",
    "a"
   ]
  },
  {
   "cell_type": "code",
   "execution_count": 169,
   "id": "d655a8da-1de3-49ac-97c0-205b4c12e860",
   "metadata": {},
   "outputs": [
    {
     "data": {
      "text/plain": [
       "[4, 1, 2, 5]"
      ]
     },
     "execution_count": 169,
     "metadata": {},
     "output_type": "execute_result"
    }
   ],
   "source": [
    "a.remove(3)\n",
    "a"
   ]
  },
  {
   "cell_type": "code",
   "execution_count": 171,
   "id": "8b1477b6-ee00-43c0-97e7-908a8eb332f7",
   "metadata": {},
   "outputs": [
    {
     "data": {
      "text/plain": [
       "3"
      ]
     },
     "execution_count": 171,
     "metadata": {},
     "output_type": "execute_result"
    }
   ],
   "source": [
    "# 리스트 요소 꺼내기 - pop\n",
    "a = [1, 2, 3]\n",
    "a.pop()"
   ]
  },
  {
   "cell_type": "code",
   "execution_count": 173,
   "id": "750661e5-a82b-49fd-b8fc-9e6e17267745",
   "metadata": {},
   "outputs": [
    {
     "data": {
      "text/plain": [
       "[1, 2]"
      ]
     },
     "execution_count": 173,
     "metadata": {},
     "output_type": "execute_result"
    }
   ],
   "source": [
    "a"
   ]
  },
  {
   "cell_type": "code",
   "execution_count": null,
   "id": "c42209f6-c968-4666-a0d7-531a72274526",
   "metadata": {},
   "outputs": [],
   "source": [
    "#리스트에 포함된 요소 X 의 개수 세기 count"
   ]
  },
  {
   "cell_type": "code",
   "execution_count": 177,
   "id": "15ba4cdb-a0ab-4721-a518-de9e56fd4a46",
   "metadata": {},
   "outputs": [
    {
     "data": {
      "text/plain": [
       "1"
      ]
     },
     "execution_count": 177,
     "metadata": {},
     "output_type": "execute_result"
    }
   ],
   "source": [
    "a = [1, 2, 3, 4]\n",
    "a.count(1)"
   ]
  },
  {
   "cell_type": "code",
   "execution_count": 181,
   "id": "8cb1f65c-8df9-4158-9fe1-1665e3a71693",
   "metadata": {},
   "outputs": [
    {
     "data": {
      "text/plain": [
       "[1, 2, 3, [4, 5]]"
      ]
     },
     "execution_count": 181,
     "metadata": {},
     "output_type": "execute_result"
    }
   ],
   "source": [
    "# 리스트 확장 extend\n",
    "a = [1, 2,3]\n",
    "a.append([4,5]) #append로 추가를 하면 하나의 리스트로 들어감\n",
    "a"
   ]
  },
  {
   "cell_type": "code",
   "execution_count": 183,
   "id": "858d41b9-8ef1-41a7-a97a-5258ee6a93d8",
   "metadata": {},
   "outputs": [
    {
     "data": {
      "text/plain": [
       "[1, 2, 3, 4, 5]"
      ]
     },
     "execution_count": 183,
     "metadata": {},
     "output_type": "execute_result"
    }
   ],
   "source": [
    "a = [1, 2,3]\n",
    "a.extend([4,5])\n",
    "a"
   ]
  },
  {
   "cell_type": "code",
   "execution_count": 185,
   "id": "e28dc2a1-3e01-44b3-8380-33c10d431875",
   "metadata": {},
   "outputs": [
    {
     "data": {
      "text/plain": [
       "[1, 2, 3, 4, 5]"
      ]
     },
     "execution_count": 185,
     "metadata": {},
     "output_type": "execute_result"
    }
   ],
   "source": [
    "[1,2,3] + [4, 5]"
   ]
  },
  {
   "cell_type": "markdown",
   "id": "959fde75-8a16-4302-abbd-ea4842ff6e28",
   "metadata": {},
   "source": [
    "## 튜플\n",
    "리스트는 [], 튜플은 ()으로 둘러싼다.\r\n",
    "리스트는 요솟값의 생성, 삭제, 수정이 가능하지만, 튜플은 요솟값을 바꿀 수 없다."
   ]
  },
  {
   "cell_type": "code",
   "execution_count": 187,
   "id": "fadf0d38-5506-44bf-a183-e218c5ae5ffe",
   "metadata": {},
   "outputs": [
    {
     "data": {
      "text/plain": [
       "((), (1,), (1, 2, 3), (1, 2, 3), ('a', 'b', ('ab', 'cd')))"
      ]
     },
     "execution_count": 187,
     "metadata": {},
     "output_type": "execute_result"
    }
   ],
   "source": [
    "t1 = ()\n",
    "t2 = (1,)\n",
    "t3 = (1, 2, 3)\n",
    "t4 = 1, 2, 3\n",
    "t5 = ('a', 'b', ('ab', 'cd'))\n",
    "t1, t2, t3, t4, t5"
   ]
  },
  {
   "cell_type": "code",
   "execution_count": 192,
   "id": "429892f8-dc1e-4df1-bef4-6bb8d16e4c41",
   "metadata": {},
   "outputs": [
    {
     "data": {
      "text/plain": [
       "(tuple, tuple, tuple, tuple, tuple)"
      ]
     },
     "execution_count": 192,
     "metadata": {},
     "output_type": "execute_result"
    }
   ],
   "source": [
    "type(t1), type(t2), type(t3), type(t4), type(t5)"
   ]
  },
  {
   "cell_type": "code",
   "execution_count": 200,
   "id": "09b4b159-714d-411f-8c92-d802519cb283",
   "metadata": {},
   "outputs": [
    {
     "data": {
      "text/plain": [
       "(1, int)"
      ]
     },
     "execution_count": 200,
     "metadata": {},
     "output_type": "execute_result"
    }
   ],
   "source": [
    "t6 = (1)\n",
    "t6, type(t6) # 튜플은 요소를 넣게 된다면 반드시 하나 이상의 값을 넣어야 한다."
   ]
  },
  {
   "cell_type": "code",
   "execution_count": 202,
   "id": "86d25105-d41d-47e9-ba6b-6725b84d656f",
   "metadata": {},
   "outputs": [
    {
     "data": {
      "text/plain": [
       "(1, 2, 'a', 'b')"
      ]
     },
     "execution_count": 202,
     "metadata": {},
     "output_type": "execute_result"
    }
   ],
   "source": [
    "# 튜플 요솟값을 삭제하려 할 때\n",
    "t1 = (1, 2, 'a', 'b')\n",
    "t1"
   ]
  },
  {
   "cell_type": "code",
   "execution_count": 204,
   "id": "764dcc35-d931-41b5-abe3-146ca78bbd27",
   "metadata": {},
   "outputs": [
    {
     "ename": "SyntaxError",
     "evalue": "cannot delete function call (1419398842.py, line 1)",
     "output_type": "error",
     "traceback": [
      "\u001b[1;36m  Cell \u001b[1;32mIn[204], line 1\u001b[1;36m\u001b[0m\n\u001b[1;33m    del t1(0)\u001b[0m\n\u001b[1;37m        ^\u001b[0m\n\u001b[1;31mSyntaxError\u001b[0m\u001b[1;31m:\u001b[0m cannot delete function call\n"
     ]
    }
   ],
   "source": [
    "del t1(0)"
   ]
  },
  {
   "cell_type": "code",
   "execution_count": 206,
   "id": "d438b082-0c41-4169-b877-20e12151ac6a",
   "metadata": {},
   "outputs": [
    {
     "ename": "TypeError",
     "evalue": "'tuple' object does not support item assignment",
     "output_type": "error",
     "traceback": [
      "\u001b[1;31m---------------------------------------------------------------------------\u001b[0m",
      "\u001b[1;31mTypeError\u001b[0m                                 Traceback (most recent call last)",
      "Cell \u001b[1;32mIn[206], line 2\u001b[0m\n\u001b[0;32m      1\u001b[0m \u001b[38;5;66;03m# 튜플 요솟값을 변경하려 할 때\u001b[39;00m\n\u001b[1;32m----> 2\u001b[0m t1[\u001b[38;5;241m0\u001b[39m] \u001b[38;5;241m=\u001b[39m \u001b[38;5;124m'\u001b[39m\u001b[38;5;124mc\u001b[39m\u001b[38;5;124m'\u001b[39m\n",
      "\u001b[1;31mTypeError\u001b[0m: 'tuple' object does not support item assignment"
     ]
    }
   ],
   "source": [
    "# 튜플 요솟값을 변경하려 할 때\n",
    "t1[0] = 'c'"
   ]
  },
  {
   "cell_type": "markdown",
   "id": "3b100fee-1abc-49ec-9a35-f7b27033fe77",
   "metadata": {},
   "source": [
    "### 튜플 다루기"
   ]
  },
  {
   "cell_type": "code",
   "execution_count": 209,
   "id": "82477f34-8d67-4729-b28a-c240921b7010",
   "metadata": {},
   "outputs": [
    {
     "data": {
      "text/plain": [
       "1"
      ]
     },
     "execution_count": 209,
     "metadata": {},
     "output_type": "execute_result"
    }
   ],
   "source": [
    "t1[0]"
   ]
  },
  {
   "cell_type": "code",
   "execution_count": 211,
   "id": "cba917f6-f5ea-4ecd-9059-b420d752421f",
   "metadata": {},
   "outputs": [
    {
     "data": {
      "text/plain": [
       "(2, 'a', 'b')"
      ]
     },
     "execution_count": 211,
     "metadata": {},
     "output_type": "execute_result"
    }
   ],
   "source": [
    "t1[1:]"
   ]
  },
  {
   "cell_type": "code",
   "execution_count": 213,
   "id": "d7f7014f-cfaa-4888-b590-ad619affda2e",
   "metadata": {},
   "outputs": [
    {
     "data": {
      "text/plain": [
       "(1, 2, 'a', 'b', 3, 4)"
      ]
     },
     "execution_count": 213,
     "metadata": {},
     "output_type": "execute_result"
    }
   ],
   "source": [
    "t2 = (3, 4)\n",
    "t1 + t2"
   ]
  },
  {
   "cell_type": "code",
   "execution_count": 215,
   "id": "89d30cd6-0a96-4356-8781-7809df8c992f",
   "metadata": {},
   "outputs": [
    {
     "data": {
      "text/plain": [
       "(3, 4, 3, 4, 3, 4)"
      ]
     },
     "execution_count": 215,
     "metadata": {},
     "output_type": "execute_result"
    }
   ],
   "source": [
    "t2 * 3"
   ]
  },
  {
   "cell_type": "code",
   "execution_count": 217,
   "id": "2250b4a8-26e4-40dc-8ea3-eafc34e7fabc",
   "metadata": {},
   "outputs": [
    {
     "data": {
      "text/plain": [
       "4"
      ]
     },
     "execution_count": 217,
     "metadata": {},
     "output_type": "execute_result"
    }
   ],
   "source": [
    "len(t1)"
   ]
  },
  {
   "cell_type": "markdown",
   "id": "bb3212c2-c2a9-45a9-8736-b865eeab5caf",
   "metadata": {},
   "source": [
    "# 딕셔너리\n",
    " 딕셔너리는 Key와 Value를 한 쌍으로 가지는 자료형이다.\n",
    " 리스트나 튜플처럼 순차적으로(sequential) 해당 요솟값을 구하지 않고 Key를 통해 Value를 얻는다."
   ]
  },
  {
   "cell_type": "code",
   "execution_count": 236,
   "id": "2f200156-cc41-4d1a-8a6f-11cded15703a",
   "metadata": {},
   "outputs": [
    {
     "data": {
      "text/plain": [
       "{'name': 'pey', 'phone': '010-9999-1234', 'birth': '1118'}"
      ]
     },
     "execution_count": 236,
     "metadata": {},
     "output_type": "execute_result"
    }
   ],
   "source": [
    "dic = {'name': 'pey', 'phone': '010-9999-1234', 'birth': '1118'}\n",
    "dic"
   ]
  },
  {
   "cell_type": "code",
   "execution_count": 242,
   "id": "f7474203-2088-4889-83a3-a3ed5cd754d7",
   "metadata": {},
   "outputs": [
    {
     "data": {
      "text/plain": [
       "{'a': [1, 2, 3]}"
      ]
     },
     "execution_count": 242,
     "metadata": {},
     "output_type": "execute_result"
    }
   ],
   "source": [
    "a = {'a': [1, 2, 3]}\n",
    "a"
   ]
  },
  {
   "cell_type": "code",
   "execution_count": 246,
   "id": "ab5e948b-c5de-4f22-be3a-a258d9351380",
   "metadata": {},
   "outputs": [
    {
     "data": {
      "text/plain": [
       "{1: 'hi'}"
      ]
     },
     "execution_count": 246,
     "metadata": {},
     "output_type": "execute_result"
    }
   ],
   "source": [
    "a = {1: 'hi'}\n",
    "a\n"
   ]
  },
  {
   "cell_type": "markdown",
   "id": "fe821193-1ac3-4c46-a57f-50d9e97813d3",
   "metadata": {},
   "source": [
    "## 딕셔너리 쌍 추가, 삭제하기"
   ]
  },
  {
   "cell_type": "code",
   "execution_count": 250,
   "id": "696584c8-16d0-472e-a492-210ebefe8bcd",
   "metadata": {},
   "outputs": [
    {
     "data": {
      "text/plain": [
       "{1: 'a'}"
      ]
     },
     "execution_count": 250,
     "metadata": {},
     "output_type": "execute_result"
    }
   ],
   "source": [
    "a = {1:'a'}\n",
    "a"
   ]
  },
  {
   "cell_type": "code",
   "execution_count": 252,
   "id": "1225521f-7ed9-4bf8-bcee-d5ba34b8b682",
   "metadata": {},
   "outputs": [
    {
     "data": {
      "text/plain": [
       "{1: 'a', 2: 'b'}"
      ]
     },
     "execution_count": 252,
     "metadata": {},
     "output_type": "execute_result"
    }
   ],
   "source": [
    "a[2] = 'b'\n",
    "a"
   ]
  },
  {
   "cell_type": "code",
   "execution_count": 254,
   "id": "4c9e0c87-1c87-4935-b517-bc429745d756",
   "metadata": {},
   "outputs": [
    {
     "data": {
      "text/plain": [
       "{1: 'a', 2: 'b', 'name': 'pey'}"
      ]
     },
     "execution_count": 254,
     "metadata": {},
     "output_type": "execute_result"
    }
   ],
   "source": [
    "a['name'] = 'pey'\n",
    "a"
   ]
  },
  {
   "cell_type": "code",
   "execution_count": 256,
   "id": "2e1daa05-f92a-473e-a0ea-9b55e133e20d",
   "metadata": {},
   "outputs": [
    {
     "data": {
      "text/plain": [
       "{1: 'a', 2: 'b', 'name': 'pey', 3: [1, 2, 3]}"
      ]
     },
     "execution_count": 256,
     "metadata": {},
     "output_type": "execute_result"
    }
   ],
   "source": [
    "a[3] = [1,2,3]\n",
    "a"
   ]
  },
  {
   "cell_type": "code",
   "execution_count": 258,
   "id": "45672b22-a5ca-4ef7-8a04-8be11e0021e3",
   "metadata": {},
   "outputs": [
    {
     "data": {
      "text/plain": [
       "{2: 'b', 'name': 'pey', 3: [1, 2, 3]}"
      ]
     },
     "execution_count": 258,
     "metadata": {},
     "output_type": "execute_result"
    }
   ],
   "source": [
    "del a[1]\n",
    "a"
   ]
  },
  {
   "cell_type": "markdown",
   "id": "ddba79ec-e707-42f4-99f0-0e4e1810ef27",
   "metadata": {},
   "source": [
    "## 딕셔너리 다루기"
   ]
  },
  {
   "cell_type": "code",
   "execution_count": 263,
   "id": "786dc4f5-f1ee-4358-a129-478825200c1b",
   "metadata": {},
   "outputs": [
    {
     "data": {
      "text/plain": [
       "10"
      ]
     },
     "execution_count": 263,
     "metadata": {},
     "output_type": "execute_result"
    }
   ],
   "source": [
    "# key를 사용해서 value 얻기\n",
    "grade ={'pey' : 10, 'julliet' : 99}\n",
    "grade['pey']"
   ]
  },
  {
   "cell_type": "code",
   "execution_count": 265,
   "id": "73ed419a-13b6-448f-92f4-b678f0cae337",
   "metadata": {},
   "outputs": [
    {
     "data": {
      "text/plain": [
       "99"
      ]
     },
     "execution_count": 265,
     "metadata": {},
     "output_type": "execute_result"
    }
   ],
   "source": [
    "grade['julliet']"
   ]
  },
  {
   "cell_type": "code",
   "execution_count": 267,
   "id": "f2604814-aa2b-41cd-9845-c3f3738c3fdd",
   "metadata": {},
   "outputs": [
    {
     "data": {
      "text/plain": [
       "{'name': 'pey', 'phone': '010-9999-1234', 'birth': '1118'}"
      ]
     },
     "execution_count": 267,
     "metadata": {},
     "output_type": "execute_result"
    }
   ],
   "source": [
    "dic"
   ]
  },
  {
   "cell_type": "code",
   "execution_count": 269,
   "id": "ad3e6d5e-482b-4eda-a235-287037e85fcc",
   "metadata": {},
   "outputs": [
    {
     "data": {
      "text/plain": [
       "dict_keys(['name', 'phone', 'birth'])"
      ]
     },
     "execution_count": 269,
     "metadata": {},
     "output_type": "execute_result"
    }
   ],
   "source": [
    "dic.keys()"
   ]
  },
  {
   "cell_type": "code",
   "execution_count": 271,
   "id": "ca9b37b1-929b-48b4-ae24-3fd3d27ab395",
   "metadata": {},
   "outputs": [
    {
     "name": "stdout",
     "output_type": "stream",
     "text": [
      "name\n",
      "phone\n",
      "birth\n"
     ]
    }
   ],
   "source": [
    "for k in dic.keys():\n",
    "    print(k)"
   ]
  },
  {
   "cell_type": "code",
   "execution_count": 273,
   "id": "5e4a70a8-37fb-485a-85b7-51c51a482327",
   "metadata": {},
   "outputs": [
    {
     "name": "stdout",
     "output_type": "stream",
     "text": [
      "pey\n",
      "010-9999-1234\n",
      "1118\n"
     ]
    }
   ],
   "source": [
    "for k in dic.keys():\n",
    "    print(dic[k])"
   ]
  },
  {
   "cell_type": "code",
   "execution_count": 275,
   "id": "ad0d8946-aeec-470c-967b-cf94b26ce4af",
   "metadata": {},
   "outputs": [
    {
     "data": {
      "text/plain": [
       "dict_keys"
      ]
     },
     "execution_count": 275,
     "metadata": {},
     "output_type": "execute_result"
    }
   ],
   "source": [
    "type(dic.keys())"
   ]
  },
  {
   "cell_type": "code",
   "execution_count": 277,
   "id": "2d0b8575-c20b-4688-a8ac-6464862a01fe",
   "metadata": {},
   "outputs": [
    {
     "data": {
      "text/plain": [
       "['name', 'phone', 'birth']"
      ]
     },
     "execution_count": 277,
     "metadata": {},
     "output_type": "execute_result"
    }
   ],
   "source": [
    "list(dic.keys())"
   ]
  },
  {
   "cell_type": "code",
   "execution_count": 279,
   "id": "0b5e4697-37d1-493f-98b2-bf6269bcaca1",
   "metadata": {},
   "outputs": [
    {
     "data": {
      "text/plain": [
       "dict_values(['pey', '010-9999-1234', '1118'])"
      ]
     },
     "execution_count": 279,
     "metadata": {},
     "output_type": "execute_result"
    }
   ],
   "source": [
    "# value 리스트 만들기 valuse\n",
    "dic.values()"
   ]
  },
  {
   "cell_type": "code",
   "execution_count": 281,
   "id": "f0932e0f-7a22-48e0-bee9-84761e8fe527",
   "metadata": {},
   "outputs": [
    {
     "data": {
      "text/plain": [
       "dict_items([('name', 'pey'), ('phone', '010-9999-1234'), ('birth', '1118')])"
      ]
     },
     "execution_count": 281,
     "metadata": {},
     "output_type": "execute_result"
    }
   ],
   "source": [
    "# key, value 쌍 얻기 items\n",
    "dic.items()"
   ]
  },
  {
   "cell_type": "code",
   "execution_count": 283,
   "id": "83f63361-9b1c-4bff-9a2e-188e5df8c15f",
   "metadata": {},
   "outputs": [
    {
     "data": {
      "text/plain": [
       "{}"
      ]
     },
     "execution_count": 283,
     "metadata": {},
     "output_type": "execute_result"
    }
   ],
   "source": [
    "# key:value 쌍 모두 지우기 clear\n",
    "dic.clear()\n",
    "dic"
   ]
  },
  {
   "cell_type": "code",
   "execution_count": 308,
   "id": "37f12a5f-ec40-47f6-a923-1535d9d7bbd7",
   "metadata": {},
   "outputs": [
    {
     "data": {
      "text/plain": [
       "{'name': 'pey', 'phone': '010-9999-1234', 'birth': '1118'}"
      ]
     },
     "execution_count": 308,
     "metadata": {},
     "output_type": "execute_result"
    }
   ],
   "source": [
    "# Key로 Value 얻기 - get\n",
    "a = {'name':'pey', 'phone':'010-9999-1234', 'birth': '1118'}\n",
    "a"
   ]
  },
  {
   "cell_type": "code",
   "execution_count": 289,
   "id": "63219462-2c6c-47cb-9016-1c6d264599fc",
   "metadata": {},
   "outputs": [
    {
     "data": {
      "text/plain": [
       "'pey'"
      ]
     },
     "execution_count": 289,
     "metadata": {},
     "output_type": "execute_result"
    }
   ],
   "source": [
    "a['name']"
   ]
  },
  {
   "cell_type": "code",
   "execution_count": 291,
   "id": "75b4c85d-d71a-4f46-8258-c0ba121ccc17",
   "metadata": {},
   "outputs": [
    {
     "data": {
      "text/plain": [
       "'pey'"
      ]
     },
     "execution_count": 291,
     "metadata": {},
     "output_type": "execute_result"
    }
   ],
   "source": [
    "a.get('name') "
   ]
  },
  {
   "cell_type": "code",
   "execution_count": 293,
   "id": "4ddcc264-47c0-4f1f-bb31-7e4fdd2d9906",
   "metadata": {},
   "outputs": [],
   "source": [
    "a.get('nokey')"
   ]
  },
  {
   "cell_type": "code",
   "execution_count": 295,
   "id": "eb9feab1-d8d8-4c99-86e2-c6e9308903ce",
   "metadata": {},
   "outputs": [
    {
     "ename": "KeyError",
     "evalue": "'nokey'",
     "output_type": "error",
     "traceback": [
      "\u001b[1;31m---------------------------------------------------------------------------\u001b[0m",
      "\u001b[1;31mKeyError\u001b[0m                                  Traceback (most recent call last)",
      "Cell \u001b[1;32mIn[295], line 1\u001b[0m\n\u001b[1;32m----> 1\u001b[0m a[\u001b[38;5;124m'\u001b[39m\u001b[38;5;124mnokey\u001b[39m\u001b[38;5;124m'\u001b[39m]\n",
      "\u001b[1;31mKeyError\u001b[0m: 'nokey'"
     ]
    }
   ],
   "source": [
    "a['nokey']"
   ]
  },
  {
   "cell_type": "code",
   "execution_count": 297,
   "id": "764555a8-f544-4cb0-acc1-41fcbc1948b2",
   "metadata": {},
   "outputs": [
    {
     "data": {
      "text/plain": [
       "\u001b[1;31mSignature:\u001b[0m \u001b[0ma\u001b[0m\u001b[1;33m.\u001b[0m\u001b[0mget\u001b[0m\u001b[1;33m(\u001b[0m\u001b[0mkey\u001b[0m\u001b[1;33m,\u001b[0m \u001b[0mdefault\u001b[0m\u001b[1;33m=\u001b[0m\u001b[1;32mNone\u001b[0m\u001b[1;33m,\u001b[0m \u001b[1;33m/\u001b[0m\u001b[1;33m)\u001b[0m\u001b[1;33m\u001b[0m\u001b[1;33m\u001b[0m\u001b[0m\n",
       "\u001b[1;31mDocstring:\u001b[0m Return the value for key if key is in the dictionary, else default.\n",
       "\u001b[1;31mType:\u001b[0m      builtin_function_or_method"
      ]
     },
     "metadata": {},
     "output_type": "display_data"
    }
   ],
   "source": [
    "a.get?"
   ]
  },
  {
   "cell_type": "code",
   "execution_count": 301,
   "id": "9240a004-1437-4e7b-b6dc-a70577ada603",
   "metadata": {},
   "outputs": [
    {
     "data": {
      "text/plain": [
       "'defaultkey'"
      ]
     },
     "execution_count": 301,
     "metadata": {},
     "output_type": "execute_result"
    }
   ],
   "source": [
    "a.get('nokey', 'defaultkey') # 디폴트 지정 가능"
   ]
  },
  {
   "cell_type": "code",
   "execution_count": 303,
   "id": "dc18fa35-1c95-4a79-a13b-2555847bab31",
   "metadata": {},
   "outputs": [
    {
     "data": {
      "text/plain": [
       "True"
      ]
     },
     "execution_count": 303,
     "metadata": {},
     "output_type": "execute_result"
    }
   ],
   "source": [
    "'name' in a"
   ]
  },
  {
   "cell_type": "code",
   "execution_count": 305,
   "id": "aa52ea96-1045-44ec-bc7e-ea287f6dce77",
   "metadata": {},
   "outputs": [
    {
     "data": {
      "text/plain": [
       "False"
      ]
     },
     "execution_count": 305,
     "metadata": {},
     "output_type": "execute_result"
    }
   ],
   "source": [
    "'email' in a"
   ]
  },
  {
   "cell_type": "markdown",
   "id": "e1fc21f3-037c-476b-a18c-fc6b8910f844",
   "metadata": {},
   "source": [
    "## 집합"
   ]
  },
  {
   "cell_type": "code",
   "execution_count": 310,
   "id": "b2dd51ae-d2c3-44f2-9bbc-6f1bd39974d3",
   "metadata": {},
   "outputs": [
    {
     "data": {
      "text/plain": [
       "({1, 2, 3}, set)"
      ]
     },
     "execution_count": 310,
     "metadata": {},
     "output_type": "execute_result"
    }
   ],
   "source": [
    "s1 = set([1, 2, 3])\n",
    "s1, type(s1)"
   ]
  },
  {
   "cell_type": "code",
   "execution_count": 312,
   "id": "eee42be1-c8ca-4391-9568-bfbfc8e69ac8",
   "metadata": {},
   "outputs": [
    {
     "data": {
      "text/plain": [
       "{'H', 'e', 'l', 'o'}"
      ]
     },
     "execution_count": 312,
     "metadata": {},
     "output_type": "execute_result"
    }
   ],
   "source": [
    "s2 = set(\"Hello\")\n",
    "s2"
   ]
  },
  {
   "cell_type": "code",
   "execution_count": 314,
   "id": "cb38dcd2-dda3-4929-abee-523534b471ff",
   "metadata": {},
   "outputs": [
    {
     "ename": "TypeError",
     "evalue": "'set' object is not subscriptable",
     "output_type": "error",
     "traceback": [
      "\u001b[1;31m---------------------------------------------------------------------------\u001b[0m",
      "\u001b[1;31mTypeError\u001b[0m                                 Traceback (most recent call last)",
      "Cell \u001b[1;32mIn[314], line 1\u001b[0m\n\u001b[1;32m----> 1\u001b[0m s1[\u001b[38;5;241m0\u001b[39m]\n",
      "\u001b[1;31mTypeError\u001b[0m: 'set' object is not subscriptable"
     ]
    }
   ],
   "source": [
    "s1[0]"
   ]
  },
  {
   "cell_type": "code",
   "execution_count": 316,
   "id": "eb1a1a8e-4315-4476-9c37-33983a4ecdc7",
   "metadata": {},
   "outputs": [
    {
     "data": {
      "text/plain": [
       "[1, 2, 3]"
      ]
     },
     "execution_count": 316,
     "metadata": {},
     "output_type": "execute_result"
    }
   ],
   "source": [
    "l1 = list(s1)\n",
    "l1"
   ]
  },
  {
   "cell_type": "code",
   "execution_count": 318,
   "id": "b414bc9a-b8b0-4a6f-831a-8b36bbbf03be",
   "metadata": {},
   "outputs": [
    {
     "data": {
      "text/plain": [
       "1"
      ]
     },
     "execution_count": 318,
     "metadata": {},
     "output_type": "execute_result"
    }
   ],
   "source": [
    "l1[0]"
   ]
  },
  {
   "cell_type": "code",
   "execution_count": 320,
   "id": "20722d87-2ec6-4f0f-9c70-db4dc665d252",
   "metadata": {},
   "outputs": [
    {
     "data": {
      "text/plain": [
       "(1, 2, 3)"
      ]
     },
     "execution_count": 320,
     "metadata": {},
     "output_type": "execute_result"
    }
   ],
   "source": [
    "tuple(s1)"
   ]
  },
  {
   "cell_type": "code",
   "execution_count": 324,
   "id": "0f804cd6-c017-4733-8c05-74f8dd2f0b54",
   "metadata": {},
   "outputs": [],
   "source": [
    "s1 = set([1, 2, 3, 4, 5, 6])\n",
    "s2 = set([4, 5, 6, 7, 8, 9])\n"
   ]
  },
  {
   "cell_type": "code",
   "execution_count": 326,
   "id": "b5a3c9f4-6998-42df-abfe-42092ce99599",
   "metadata": {},
   "outputs": [
    {
     "data": {
      "text/plain": [
       "{4, 5, 6}"
      ]
     },
     "execution_count": 326,
     "metadata": {},
     "output_type": "execute_result"
    }
   ],
   "source": [
    "# 교집합 구하기\n",
    "s1 & s2"
   ]
  },
  {
   "cell_type": "code",
   "execution_count": 328,
   "id": "aae8da26-4bd0-4661-a014-7cf29f3f53d9",
   "metadata": {},
   "outputs": [
    {
     "data": {
      "text/plain": [
       "{4, 5, 6}"
      ]
     },
     "execution_count": 328,
     "metadata": {},
     "output_type": "execute_result"
    }
   ],
   "source": [
    "s1.intersection(s2)"
   ]
  },
  {
   "cell_type": "code",
   "execution_count": 330,
   "id": "f0509591-0877-452f-8d50-92d21afd0a24",
   "metadata": {},
   "outputs": [
    {
     "data": {
      "text/plain": [
       "{1, 2, 3, 4, 5, 6, 7, 8, 9}"
      ]
     },
     "execution_count": 330,
     "metadata": {},
     "output_type": "execute_result"
    }
   ],
   "source": [
    "# 합집합 구하기\n",
    "s1 | s2"
   ]
  },
  {
   "cell_type": "code",
   "execution_count": 332,
   "id": "b7273e70-0560-45c1-927d-a4ae542f142c",
   "metadata": {},
   "outputs": [
    {
     "data": {
      "text/plain": [
       "{1, 2, 3, 4, 5, 6, 7, 8, 9}"
      ]
     },
     "execution_count": 332,
     "metadata": {},
     "output_type": "execute_result"
    }
   ],
   "source": [
    "s1.union(s2)"
   ]
  },
  {
   "cell_type": "code",
   "execution_count": null,
   "id": "c66fc7b4-6cb6-4525-bd29-30e5274273b9",
   "metadata": {},
   "outputs": [],
   "source": [
    "# 차집합 구하기"
   ]
  },
  {
   "cell_type": "code",
   "execution_count": 334,
   "id": "2e5856c5-02ae-4147-a8e1-8acc5a56030f",
   "metadata": {},
   "outputs": [
    {
     "data": {
      "text/plain": [
       "{1, 2, 3}"
      ]
     },
     "execution_count": 334,
     "metadata": {},
     "output_type": "execute_result"
    }
   ],
   "source": [
    "s1- s2"
   ]
  },
  {
   "cell_type": "code",
   "execution_count": 336,
   "id": "6a2f6a7a-cd6d-4a41-a2f7-3ad1a7fdd5d5",
   "metadata": {},
   "outputs": [
    {
     "data": {
      "text/plain": [
       "{1, 2, 3}"
      ]
     },
     "execution_count": 336,
     "metadata": {},
     "output_type": "execute_result"
    }
   ],
   "source": [
    "s1.difference(s2)"
   ]
  },
  {
   "cell_type": "code",
   "execution_count": 338,
   "id": "686e318b-6838-461b-a9ae-96fcc2f9fa79",
   "metadata": {},
   "outputs": [
    {
     "data": {
      "text/plain": [
       "{0, 1, 2, 3, 4, 5, 6}"
      ]
     },
     "execution_count": 338,
     "metadata": {},
     "output_type": "execute_result"
    }
   ],
   "source": [
    "# 값 1개 추가하기 add\n",
    "s1.add(0)\n",
    "s1"
   ]
  },
  {
   "cell_type": "code",
   "execution_count": 340,
   "id": "839e4f28-c9e3-4ec3-a775-1ce4aed7980f",
   "metadata": {},
   "outputs": [
    {
     "data": {
      "text/plain": [
       "{0, 1, 2, 3, 4, 5, 6, 7, 8, 9}"
      ]
     },
     "execution_count": 340,
     "metadata": {},
     "output_type": "execute_result"
    }
   ],
   "source": [
    "# 값 여러개 추가하기 update\n",
    "s1.update([7,8,9])\n",
    "s1"
   ]
  },
  {
   "cell_type": "code",
   "execution_count": 342,
   "id": "d853203b-4073-424d-939c-fe592031cb9b",
   "metadata": {},
   "outputs": [
    {
     "data": {
      "text/plain": [
       "{1, 2, 3, 4, 5, 6, 7, 8, 9}"
      ]
     },
     "execution_count": 342,
     "metadata": {},
     "output_type": "execute_result"
    }
   ],
   "source": [
    "# 특정 값 제거하기 remove\n",
    "s1.remove(0)\n",
    "s1"
   ]
  },
  {
   "cell_type": "markdown",
   "id": "0972ac79-b2ee-4f9e-a464-d5540f2537a9",
   "metadata": {},
   "source": [
    "## 불린(논리) "
   ]
  },
  {
   "cell_type": "code",
   "execution_count": 349,
   "id": "450f9f65-fe32-4ecb-b797-d8970f938bc6",
   "metadata": {},
   "outputs": [
    {
     "data": {
      "text/plain": [
       "(True, bool)"
      ]
     },
     "execution_count": 349,
     "metadata": {},
     "output_type": "execute_result"
    }
   ],
   "source": [
    "True, type(True) # T 대소문자 구분 필수"
   ]
  },
  {
   "cell_type": "code",
   "execution_count": 353,
   "id": "eb1d4eac-56eb-41c6-90fd-416f36bffd71",
   "metadata": {},
   "outputs": [
    {
     "data": {
      "text/plain": [
       "(bool, bool)"
      ]
     },
     "execution_count": 353,
     "metadata": {},
     "output_type": "execute_result"
    }
   ],
   "source": [
    "a =True\n",
    "b =False\n",
    "type(a), type(b)"
   ]
  },
  {
   "cell_type": "code",
   "execution_count": 355,
   "id": "fb314ec6-c015-4e5e-a85d-2570181597ee",
   "metadata": {},
   "outputs": [
    {
     "data": {
      "text/plain": [
       "True"
      ]
     },
     "execution_count": 355,
     "metadata": {},
     "output_type": "execute_result"
    }
   ],
   "source": [
    "1 == 1"
   ]
  },
  {
   "cell_type": "code",
   "execution_count": 357,
   "id": "ab3188f4-1bbb-41ff-a517-a2498606a346",
   "metadata": {
    "scrolled": true
   },
   "outputs": [
    {
     "data": {
      "text/plain": [
       "True"
      ]
     },
     "execution_count": 357,
     "metadata": {},
     "output_type": "execute_result"
    }
   ],
   "source": [
    "2 >1"
   ]
  },
  {
   "cell_type": "code",
   "execution_count": 359,
   "id": "c62b6984-ae9c-49f4-ad03-332094dfcc81",
   "metadata": {},
   "outputs": [
    {
     "data": {
      "text/plain": [
       "False"
      ]
     },
     "execution_count": 359,
     "metadata": {},
     "output_type": "execute_result"
    }
   ],
   "source": [
    "2< 1"
   ]
  },
  {
   "cell_type": "code",
   "execution_count": 369,
   "id": "b7f59b34-493d-4807-bcd5-4058c64e9353",
   "metadata": {},
   "outputs": [
    {
     "name": "stdout",
     "output_type": "stream",
     "text": [
      "[1, 2, 3, 4]\n",
      "[1, 2, 3] 4\n",
      "[1, 2, 3]\n",
      "[1, 2] 3\n",
      "[1, 2]\n",
      "[1] 2\n",
      "[1]\n",
      "[] 1\n"
     ]
    }
   ],
   "source": [
    "a = [1, 2, 3, 4]\n",
    "while a :\n",
    "    print(a)\n",
    "    print(a, a.pop())"
   ]
  },
  {
   "cell_type": "code",
   "execution_count": 373,
   "id": "7ae08b7a-77dc-4ed4-9749-2e6c2d0e592f",
   "metadata": {},
   "outputs": [
    {
     "name": "stdout",
     "output_type": "stream",
     "text": [
      "참\n"
     ]
    }
   ],
   "source": [
    "if[1,2,3] : \n",
    "    print('참')\n",
    "else :\n",
    "    print('거짓')"
   ]
  },
  {
   "cell_type": "code",
   "execution_count": 377,
   "id": "a973b5d6-c788-4980-85c1-b8a1938e95dc",
   "metadata": {},
   "outputs": [
    {
     "data": {
      "text/plain": [
       "list"
      ]
     },
     "execution_count": 377,
     "metadata": {},
     "output_type": "execute_result"
    }
   ],
   "source": [
    "type([])"
   ]
  },
  {
   "cell_type": "code",
   "execution_count": 379,
   "id": "d957898a-1ba9-4523-b12e-792c2a590c7e",
   "metadata": {},
   "outputs": [
    {
     "name": "stdout",
     "output_type": "stream",
     "text": [
      "거짓\n"
     ]
    }
   ],
   "source": [
    "if[] : \n",
    "    print('참')\n",
    "else :\n",
    "    print('거짓')"
   ]
  },
  {
   "cell_type": "code",
   "execution_count": 381,
   "id": "5ab2f372-edc1-4c35-a084-ba9e94b6a448",
   "metadata": {},
   "outputs": [
    {
     "data": {
      "text/plain": [
       "True"
      ]
     },
     "execution_count": 381,
     "metadata": {},
     "output_type": "execute_result"
    }
   ],
   "source": [
    "# 불 연산\n",
    "bool(\"python\")"
   ]
  },
  {
   "cell_type": "code",
   "execution_count": 385,
   "id": "108f7138-dc11-49a8-bfcb-e8956e4dab6c",
   "metadata": {},
   "outputs": [
    {
     "data": {
      "text/plain": [
       "False"
      ]
     },
     "execution_count": 385,
     "metadata": {},
     "output_type": "execute_result"
    }
   ],
   "source": [
    "bool('')"
   ]
  },
  {
   "cell_type": "code",
   "execution_count": null,
   "id": "ef144aa5-6e62-468b-9824-690e3e0071f5",
   "metadata": {},
   "outputs": [],
   "source": []
  },
  {
   "cell_type": "code",
   "execution_count": null,
   "id": "acd57bd9-01bf-4f47-8c10-6302ae934081",
   "metadata": {},
   "outputs": [],
   "source": []
  }
 ],
 "metadata": {
  "kernelspec": {
   "display_name": "Python 3 (ipykernel)",
   "language": "python",
   "name": "python3"
  },
  "language_info": {
   "codemirror_mode": {
    "name": "ipython",
    "version": 3
   },
   "file_extension": ".py",
   "mimetype": "text/x-python",
   "name": "python",
   "nbconvert_exporter": "python",
   "pygments_lexer": "ipython3",
   "version": "3.12.4"
  }
 },
 "nbformat": 4,
 "nbformat_minor": 5
}
