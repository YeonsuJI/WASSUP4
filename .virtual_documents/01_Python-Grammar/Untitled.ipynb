# 201
# "비트코인" 문자열을 화면에 출력하는 print_coin() 함수를 정의하라.
def print_coin():
    print('비트코인')
    


# 202

# 201번에서 정의한 함수를 호출하라.
print_coin()


# 203
# 201번에서 정의한 print_coin 함수를 100번호출하라.
for i in range(100):
    print_coin()


# 204
# "비트코인" 문자열을 100번 화면에 출력하는 print_coins() 함수를 정의하라.# print("비트코인" *100)
def print_coins():
    for i in range(100):
        print('비트코인')


print_coins()


# 205
# 아래의 에러가 발생하는 이유에 대해 설명하라.

hello()
def hello():
    print("Hi")


# 206
# 아래 코드의 실행 결과를 예측하라.


def message() :
    print("A")
    print("B")

message()
print("C")
message()
# 예측 : 
# A
# B
# C
# A
# B


# 207
# 아래 코드의 실행 결과를 예측하라. (읽기 어려운 코드의 예입니다.)

print("A")

def message() :
    print("B")

print("C")
message()


# 208
# 아래 코드의 실행 결과를 예측하라. (읽기 어려운 코드의 예입니다.)

print("A")
def message1() :
    print("B")
print("C")
def message2() :
    print("D")
message1()
print("E")
message2()


# 209
# 아래 코드의 실행 결과를 예측하라.

def message1():
    print("A")

def message2():
    print("B")
    message1()

message2()


# 210

# 아래 코드의 실행 결과를 예측하라.

def message1():
    print("A")

def message2():
    print("B")

def message3():
    for i in range (3) :
        message2() # B
        print("C")
    message1() # A

message3()


# 211
# 함수의 호출 결과를 예측하라.

def 함수(문자열) :
    print(문자열)

함수("안녕")
함수("Hi")


# 212
# 함수의 호출 결과를 예측하라.

def 함수(a, b) :
    print(a + b)

함수(3, 4)
함수(7, 8)


# 213
# 아래와 같은 에러가 발생하는 원인을 설명하라.

def 함수(문자열) :
    print(문자열)
함수("안녕")
# TypeError: 함수() missing 1 required positional argument: '문자열'


# 214
# 아래와 같은 에러가 발생하는 원인을 설명하라.

def 함수(a, b) :
    print(a + b)

함수("안녕", 3)


# 215
# 하나의 문자를 입력받아 문자열 끝에 ":D" 스마일 문자열을 이어 붙여 출력하는 print_with_smile 함수를 정의하라.
def print_with_smile(string):
    print(string+':D')


print_with_smile('몽키')


# 216
# 215에서 정의한 함수를 호출하라. 파라미터는 "안녕하세요"로 입력하라.
print_with_smile('안녕하세요')


# 217
# 현재 가격을 입력 받아 상한가 (30%)를 출력하는 print_upper_price 함수를 정의하라.
def print_upper_price(a):
    print(a*1.3)
    


print_upper_price(100)


# 218
# 두 개의 숫자를 입력받아 두 수의 합을 출력하는 print_sum 함수를 정의하라.
def print_sum(a,b):
    print(a+b)


print_sum(1,3)


# 219
# 두 개의 숫자를 입력받아 합/차/곱/나눗셈을 출력하는 print_arithmetic_operation 함수를 작성하라.
def print_arithmetic_operation(a,b):
    print(a, "+", b,"=",a+b)
    print(a, "-", b,"=",a-b)
    print(a, "*", b,"=",a*b)
    print(a, "/", b,"=",a/b)

# print_arithmetic_operation(3, 4)
# 3 + 4 = 7
# 3 - 4 = -1
# 3 * 4 = 12
# 3 / 4 = 0.75


print_arithmetic_operation(3,4)


# 220
# 세 개의 숫자를 입력받아 가장 큰수를 출력하는 print_max 함수를 정의하라. 단 if 문을 사용해서 수를 비교하라.
def print_max(a,b,c):
    if a>b and a>c:
        print(a)
    elif b>a and b>c:
        print(b)
    else:
        print(c)


print_max(100,50,20)


print_max(50,300,80)


print_max(1,2,3)





































































