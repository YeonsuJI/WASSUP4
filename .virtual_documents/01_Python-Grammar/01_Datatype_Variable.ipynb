





a = 1
print(a)


b = 'python'
b


c = [1,2,3]
c





# 정수형
a = 123
a


a= -178
a


a= 0
a


# 실수형
a = 1,2
b = -3.45
a, b


a = 4.24E10
a


a = 4.24E-10
a


# 8진수와 16진수
a = 0o177
print(a)


a = 0x8ff
b = 0xABC
a, b





#사칙연산
a= 3
b = 4
a + b


a-b, a*b, a/b


# x의 y제곱을 나타내는 **연산자
a ** b # 3의 4승


# 나눗셈 후 나머지를 리턴
7%3 , 3%7


# 나눗셈 후 몫을 리턴
7//4


# 복합 연산자
a = a + 1
a


a += 1
a


a=5
a -=1
a





"Hello World"


'Python is fun'


"""Lifr is too short, You need pyhton"""


'''Lifr is too short, You need pyhton'''





"Python's favorite food is perl"





"Python is very easy." he says.


'"Python is very easy." he says.'





food = 'Python\'s favorite food is perl'
food


say = "\"python is very easy.\" he says."
say





a = 'Life is too short
You need python'


a = 'Life is too short You need python'
a


# 1. 줄을 바꾸기 위한 이스케이프 코드 \n 삽입하기
multiline = "Life is too short\nYou need python"
multiline


print(multiline)


# 2. 연속된 작은따옴표 3개 또는 큰따옴표 3개 사용하기 -구간 지정
'''
Life is too short
You need python
'''


"""
Life is too short
You need python
"""





head = "python"
tail = ' is fun!'
head + tail


 head * 2


print("=" *50)
print("My program")
print("=" *50)


a = "Life is too short"
len(a)





a = "Life is too short, You need Python"
a


a[3]


a[17]


a[-1]


a[-6]


a[-0]


a[0]+a[1]+a[2]+a[3]


# a[start:end-1] - 슬라이싱은 끝번호를 인식하지 않기 때문
a[0:4]


a[0:3]


a[12:19]


a[12:] #인덱스 12 이후로 다 뽑아줘


a[:17]


a[:]


a[19:-7]


a = "20240904Sunny"
date = a[0:8]
weather = a[8:13]
date, weather


year = date[:4]
day = date[4:]
year, day


# 문자열을 변경할 수 있을까? 
a = "pithon"
a[1]


a[1] = 'y' #변경불가능한(immutable) 자료형


a = 'pithon'
a[0] + 'y' + a[2:]


a = 'pithon'
b ='y'
a[0] + b + a[2:] # a[0]을 a[:1]로 변경 가능





"I eat %d apples"%3


"I eat %s apples"%'five'


number = 3
"I eat %d apples"%number


number = 10
day= "three"
"I ate %d apples. so I was sick for %s days"%(number, day)


# Error is 98%
"Error is %d%%"%98


# 소수점 표현하기

"%0.2f"%3.42134234





#맨 뒤에 점에서 Tab누르면 여러가지 객체 나옴
"I eat {0} apples".format(3) 


"I eat {0} apples".format("five") 


"I eat {} apples".format(number) # {} 중괄호 안에 0은 없어도 됨.


"I ate {} apples. so I was sick for {} days".format(number, day) 


"I ate {a} apples. so I was sick for {b} days".format(a=number,b=day) 


"I ate {a} apples. so I was sick for {b} days".format(b=day,a=number) 


y = 3.141592
"{0:0.4f}".format(y)


y = 3.141592
"%0.4f"%y


"{{and}}".format()





name = '홍길동'
age = 30
'나의 이름은 {a}입니다. 나이는 {b}입니다.'.format(a=name,b=age)


f'나의 이름은 {name}입니다. 나이는 {age}입니다.'


f'나의 이름은 {name}입니다. 나이는 {age+1}입니다.'


d = {'name':'홍길동','age':30} # key로 조회
d


d['name']


f"나의 이름은 {d['name']}입니다. 나이는 {d['age']}입니다."
# 안과 밖의 큰따옴표랑 작은따옴표 구분해주기


y
f'{y:0.4f}'


f'{y:10.4f}'





a = 'hobby'
len(a)


# 특정 문자열 개수를 세기
a.count('b')


#위치 알려주기
a = 'python is the best choice'
a.find('b')


a.find('k') #없는 문자열을 넣으면 -1이 나옴


a.find?


help(a.find)


# 위치 알려주기1

a = 'Life is too short'
a.index('t'),a.find('t')


#index는 없는 값을 찾으려면 error가 생김
#find는 없는 값을 찾아도 -1로 반환해줌


# 문자열 삽입 join
'abcd'


# 반드시 문자열로 반환합니다.
','.join('abcd')


','.join(['a','b','c','d'])


a = "hi"
a.upper()


a.upper?


a = 'HI'
a.lower()


#공백 지우기
a = "   hi   "
a.rstrip()


a.lstrip()


a.strip()


a = 'Life is too short'
a.replace("Life", " Your leg")


# 문자열 나누기
a.split() # 리스트로 반환해줍니다.


b = 'a:b:c:d'
b.split(':')
