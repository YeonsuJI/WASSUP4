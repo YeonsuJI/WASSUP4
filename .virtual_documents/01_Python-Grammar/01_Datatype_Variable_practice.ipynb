


국어 = 80
영어 = 75
수학 = 55
과목 = [국어, 영어, 수학]
전체점수 = 국어 + 영어 + 수학
len(과목)
print(전체점수/len(과목))





print(13%2, '나머지 있으면 홀수')





pin = '881120-1068234'
yyyymmdd = pin[:6]
num = pin[7:]
print(yyyymmdd)
print(num)





pin = "881120-1068234"
print(pin[7])





a = "a:b:c:d"
b = a.replace(":","#")
print(b)





a = [1, 3, 5, 4, 2]
a.sort()
a.sort(reverse = True)
print(a)





a = ['Life', 'is', 'too', 'short']
result = " ".join(a)
print(result)





a = (1, 2, 3)
a = a + (4,)
print(a)





a = dict()
a['name'] = 'python'
a[('a',)] = 'python'
a[250] = 'python'
a[[1]] = 'python'
# a[[1]] = 'python' 딕셔너리의 키로는 mutable(변하는값)가 들어가면 안된다.





a = {'A':90, 'B':80, 'C':70}
result = a['B']# a.pop('B')
print(a)
print(result)





a = [1, 1, 1, 2, 2, 3, 3, 3, 4, 4, 5]
aSet =set(a)
aSet
type(aSet)
b = list(aSet)
print(b, type(b))





a = b = [1, 2, 3]
a[1] = 4
print(b)
#a와 b의 주소 값이 같기 때문에 a를 바꾸면 b도 바뀐다. id(a) = id(b)



