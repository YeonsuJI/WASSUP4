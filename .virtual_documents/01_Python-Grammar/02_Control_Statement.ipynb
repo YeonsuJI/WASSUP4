


money = True
if money:
   print("택시를 타고 가라")
else:
   print("걸어 가라")


# 코드 블럭 들여쓰기 해라
money = True
if money:
   print("택시를")
print("타고")
   print("가라")


# 코드 블럭 계층 주의
money = True
if money:
    print("택시를")
    print("타고")
        print("가라")






x = 3
y =2
x > y


x < y


 x!=y





money = 4000
if money>=3000 :
    print("택시를 타라")
else:
    print("걸어가라")





money = 0
card = True
if money>=3000 or card:
    print("택시를 타라")
else:
    print("걸어가라")


>>> 1 in [1, 2, 3]


>>> 1 not in [1, 2, 3]


'a' in ('a', 'b', 'c')


'a' not in ('a', 'b', 'c')





pocket = ['phone', 'card','money']
if 'money' in pocket:
    print("택시를 타라")
else:
    print("걸어가라")





pocket = ['phone', 'card','money']
if 'money' in pocket:
    pass
else:
    print("걸어가라")





pocket = ['phone', 'money']
card =True
if 'money' in pocket:
    print("현금택시")
else:
    if card:
        print("카드택시")
    else:
        print("걸어가라")


pocket = ['phone', 'card','money1']
if 'money' in pocket:
    print("현금으로 택시를 타라")
elif 'money' or 'card' in pocket:
    print("카드로 택시를 타라")
else:
    print("걸어가라")





if 'money' in pocket:
    pass
else:
    print("카드를 꺼내라")


if 'money' in pocket: pass
else: print("카드를 꺼내라")





score = 60
if score >= 60:
    message = "success"
    # print(message)
else:
    message = "failure"
    # print(message)
print(message)


massage = 'success' if score >= 60 else 'failure'
print(message)





treeHit = 0
while treeHit < 10:
    treeHit = treeHit +1
    print("나무를 %d번 찍었습니다." %treeHit)
    if treeHit ==10:
         print("나무 넘어갑니다.")



prompt = '''
1. Add
2. Del
3. List
4. Quit

Enter number : '''


prompt


print(prompt)


input() 


number = 0
while number != 4:
    print(prompt)
    number = int(input()) #input은 무조건 문자열로 반환하기 때문에 int로 바꿔줌





coffee = 10
money = 300
while money:
    print("돈을 받았으니 커피를 줍니다.")
    coffee = coffee -1
    print("남은 커피의 양은 %d개입니다." % coffee)
    if coffee == 0:
        print("커피가 다 떨어졌습니다. 판매를 중지합니다.")
        break





prompt = '''
1. Add
2. Del
3. List
4. Quit

Enter number : '''


number = 0
pocket= ["money", "card"]
while number != 4:
    if "money" in pocket or "card" in pocket:
        print(prompt)
        number = int(input())
        if number == 1:
            print("믹스커피를 추출합니다")
        elif number == 2:
            print("블랙커피를 추출합니다")
        elif number == 3:
            print("우유를 추출합니다")
    else:
        break
        


coffee = 10
while True :
    
    money = int(input("돈을 넣어주세요."))

    if money == 300: #돈을 딱 맞게 받은 케이스
        print('커피를 줍니다')
        coffee -= 1
        #재고 소진
        print(f'남은 커피의 양은{coffee}개 입니다.')
    
    elif money > 300 : #돈을 더 받았을 경우
        # print('거스름돈 %d을 주고 커피를 줍니다.'%(money-300)) #거스름돈 계산
        print(f'거스름돈 {money -300}을 주고 커피를 줍니다')
        coffee -= 1
        #재고 소진
        print(f'남은 커피의 양은{coffee}개 입니다.')
        
    else : #돈이 부족할 경우
        print('돈을 다시 돌려주고 커피를 주지 않습니다.')
        print(f'남은 커피의 양은{coffee}개 입니다.')
        #남은 재고 체크
    
    if coffee == 0: #커피가 다 떨어졌을 경우
        print('커피가 다 떨어졌습니다. 판매를 중지합니다.')
        break





a = 0
while a < 10:
    a +=1
    
    if a%2 == 0:
        continue
        
    print(a)





# 전령적인 for문
test_list = ['one', 'two', 'three']

for i in test_list:
    print(i)



a = [(1,2),(3,4),(5,6)]
for i in a:
    print(i)


for first, last in a:
    print(first+last)





scores = [90, 25, 67, 45, 80]
number = 0
for s in scores :
    print(s)
    number += 1
    if s>= 60:
        print(f"{number}번 학생은 {s} 합격")
    else:
        print(f"{number}번 학생은 {s} 불합격")


















