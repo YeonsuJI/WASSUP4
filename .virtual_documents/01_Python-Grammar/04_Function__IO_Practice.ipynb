


def is_odd(number):
    if number%2 ==1:    # 2로 나누었을 때 나머지가 1이면 홀수이다.
        return True
    else:
        return False
is_odd(13)





def avg_numbers(*args):
    result = 0
    for i in args:
        result += i
    return result/len(args)

# avg_numbers(1,2)       # 1.5 출력
avg_numbers(1,2,3,4,5) # 3.0 출력





input1 = input("첫번째 숫자를 입력하세요:")
input2 = input("두번째 숫자를 입력하세요:")

total = int(input1) + int(input2)
print("두 수의 합은 %s 입니다" % total)





print("you" "need" "python")
print("you"+"need"+"python") 
print("you","need","python")
print("".join(["you","need","python"]))





f1 = open("test.txt", 'w')
f1.write("Life is too short")

f2 = open("test.txt", 'r')
print(f2.read())















