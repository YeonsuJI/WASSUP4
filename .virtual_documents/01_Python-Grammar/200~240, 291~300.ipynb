# 201
# "비트코인" 문자열을 화면에 출력하는 print_coin() 함수를 정의하라.
def print_coin():
    print('비트코인')
    


# 202

# 201번에서 정의한 함수를 호출하라.
print_coin()


# 203
# 201번에서 정의한 print_coin 함수를 100번호출하라.
for i in range(100):
    print_coin()


# 204
# "비트코인" 문자열을 100번 화면에 출력하는 print_coins() 함수를 정의하라.# print("비트코인" *100)
def print_coins():
    for i in range(100):
        print('비트코인')


print_coins()


# 205
# 아래의 에러가 발생하는 이유에 대해 설명하라.

hello()
def hello():
    print("Hi")


# 206
# 아래 코드의 실행 결과를 예측하라.


def message() :
    print("A")
    print("B")

message()
print("C")
message()
# 예측 : 
# A
# B
# C
# A
# B


# 207
# 아래 코드의 실행 결과를 예측하라. (읽기 어려운 코드의 예입니다.)

print("A")

def message() :
    print("B")

print("C")
message()


# 208
# 아래 코드의 실행 결과를 예측하라. (읽기 어려운 코드의 예입니다.)

print("A")
def message1() :
    print("B")
print("C")
def message2() :
    print("D")
message1()
print("E")
message2()


# 209
# 아래 코드의 실행 결과를 예측하라.

def message1():
    print("A")

def message2():
    print("B")
    message1()

message2()


# 210

# 아래 코드의 실행 결과를 예측하라.

def message1():
    print("A")

def message2():
    print("B")

def message3():
    for i in range (3) :
        message2() # B
        print("C")
    message1() # A

message3()


# 211
# 함수의 호출 결과를 예측하라.

def 함수(문자열) :
    print(문자열)

함수("안녕")
함수("Hi")


# 212
# 함수의 호출 결과를 예측하라.

def 함수(a, b) :
    print(a + b)

함수(3, 4)
함수(7, 8)


# 213
# 아래와 같은 에러가 발생하는 원인을 설명하라.

def 함수(문자열) :
    print(문자열)
함수("안녕")
# TypeError: 함수() missing 1 required positional argument: '문자열'


# 214
# 아래와 같은 에러가 발생하는 원인을 설명하라.

def 함수(a, b) :
    print(a + b)

함수("안녕", 3)


# 215
# 하나의 문자를 입력받아 문자열 끝에 ":D" 스마일 문자열을 이어 붙여 출력하는 print_with_smile 함수를 정의하라.
def print_with_smile(string):
    print(string+':D')


print_with_smile('몽키')


# 216
# 215에서 정의한 함수를 호출하라. 파라미터는 "안녕하세요"로 입력하라.
print_with_smile('안녕하세요')


# 217
# 현재 가격을 입력 받아 상한가 (30%)를 출력하는 print_upper_price 함수를 정의하라.
def print_upper_price(a):
    print(a*1.3)
    


print_upper_price(100)


# 218
# 두 개의 숫자를 입력받아 두 수의 합을 출력하는 print_sum 함수를 정의하라.
def print_sum(a,b):
    print(a+b)


print_sum(1,3)


# 219
# 두 개의 숫자를 입력받아 합/차/곱/나눗셈을 출력하는 print_arithmetic_operation 함수를 작성하라.
def print_arithmetic_operation(a,b):
    print(a, "+", b,"=",a+b)
    print(a, "-", b,"=",a-b)
    print(a, "*", b,"=",a*b)
    print(a, "/", b,"=",a/b)

# print_arithmetic_operation(3, 4)
# 3 + 4 = 7
# 3 - 4 = -1
# 3 * 4 = 12
# 3 / 4 = 0.75


print_arithmetic_operation(3,4)


# 220
# 세 개의 숫자를 입력받아 가장 큰수를 출력하는 print_max 함수를 정의하라. 단 if 문을 사용해서 수를 비교하라.
def print_max(a,b,c):
    if a>b and a>c:
        print(a)
    elif b>a and b>c:
        print(b)
    else:
        print(c)


print_max(100,50,20)


print_max(50,300,80)


print_max(1,2,3)


# 221
# 입력된 문자열을 역순으로 출력하는 print_reverse 함수를 정의하라.

# print_reverse("python")
# nohtyp
def print_reverse(string):
    print(string[::-1])


print_reverse("python")


# 222
# 성적 리스트를 입력 받아 평균을 출력하는 print_score 함수를 정의하라.

# print_score ([1, 2, 3])
# 2.0
def print_score(a):
    # print((a[0]+a[1]+a[-1])/len(a))
    print(sum(a)/len(a))


print_score ([2, 1, 3])


# 223
# 하나의 리스트를 입력받아 짝수만 화면에 출력하는 print_even 함수를 정의하라.

# print_even ([1, 3, 2, 10, 12, 11, 15])
# 2 
# 10
# 12
def print_even(number):
    for i in number:
        if i %2 ==0:
            print(i)


print_even([1, 3, 2, 10, 12, 11, 15])


# 224
# 하나의 딕셔너리를 입력받아 딕셔너리의 key 값을 화면에 출력하는 print_keys 함수를 정의하라.

# print_keys ({"이름":"김말똥", "나이":30, "성별":0})
# 이름
# 나이
# 성별
def print_key(key_dict):
  
    for i in key_dict.keys():
       
        print(i)


print_key({"이름":"김말똥", "나이":30, "성별":0})


# 225
# my_dict에는 날짜를 키값으로 OHLC가 리스트로 저장돼 있다.


# my_dict와 날짜 키값을 입력받아 OHLC 리스트를 출력하는 print_value_by_key 함수를 정의하라.

# print_value_by_key  (my_dict, "10/26")
# [100, 130, 100, 100]

my_dict = {"10/26" : [100, 130, 100, 100],"10/27" : [10, 12, 10, 11]}
def print_value_key(my_dict,b):
    print(my_dict.get(b)) # get 함수 : key값을 입력하면 value값 출력


print_value_key(my_dict, "10/26")


# 226
# 입력 문자열을 한 줄에 다섯글자씩 출력하는 print_5xn(string) 함수를 작성하라.

# print_5xn("아이엠어보이유알어걸")
# 아이엠어보
# 이유알어걸
# list = ['아이엠어보', '이유알어걸']
# def print_5xn(string):
#         for i in range(len(string[::5])):
#             i = string[i*5:i*5+5]
#             print(i)
def print_5xn(line):
    chunk_num = int(len(line) / 5)
    for x in range(chunk_num +1) :
        print(line[x * 5: x * 5 + 5])


print_5xn("아이엠어보이유알어걸")


# 227
# 문자열과 한줄에 출력될 글자 수를 입력을 받아 한 줄에 입력된 글자 수만큼 출력하는 print_mxn(string) 함수를 작성하라.

# printmxn("아이엠어보이유알어걸", 3)
# 아이엠
# 어보이
# 유알어
# 걸
def print_mxn(string,n):
    for i in range(len(string[::n])):
        i =string[i*n:i*n+n]
        print(i)


print_mxn("아이엠어보이유알어걸", 3)


# 228
# 연봉을 입력받아 월급을 계산하는 calc_monthly_salary(annual_salary) 함수를 정의하라. 
# 회사는 연봉을 12개월로 나누어 분할 지급하며, 이 때 1원 미만은 버림한다.

# calc_monthly_salary(12000000)
# 1000000
def calc_monthly_salary(annual_salary):
    print(int(annual_salary/12))
    return annual_salary



b = calc_monthly_salary(120000055)


# 229
# 아래 코드의 실행 결과를 예측하라.

def my_print (a, b) :
    print("왼쪽:", a)
    print("오른쪽:", b)

my_print(a=100, b=200)


# 230
# 아래 코드의 실행 결과를 예측하라.

def my_print (a, b) :
    print("왼쪽:", a)
    print("오른쪽:", b)

my_print(b=100, a=200)


231
아래 코드를 실행한 결과를 예상하라.

def n_plus_1 (n) :
    result = n + 1

n_plus_1(3)
print (result)


232
문자열 하나를 입력받아 인터넷 주소를 반환하는 make_url 함수를 정의하라.

make_url("naver")
www.naver.com


233
문자열을 입력받아 각 문자들로 구성된 리스트로 반환하는 make_list 함수를 정의하라.

make_list("abcd")
['a', 'b', 'c', 'd']


234
숫자로 구성된 하나의 리스트를 입력받아, 짝수들을 추출하여 리스트로 반환하는 pickup_even 함수를 구현하라.

pickup_even([3, 4, 5, 6, 7, 8])
[4, 6, 8]


235
콤마가 포함된 문자열 숫자를 입력받아 정수로 변환하는 convert_int 함수를 정의하라.

convert_int("1,234,567")
1234567


236
아래 코드의 실행 결과를 예측하라.

def 함수(num) :
    return num + 4

a = 함수(10)
b = 함수(a)
c = 함수(b)
print(c)


237
아래 코드의 실행 결과를 예측하라.

def 함수(num) :
    return num + 4

c = 함수(함수(함수(10)))
print(c)


238
아래 코드의 실행 결과를 예측하라.

def 함수1(num) :
    return num + 4

def 함수2(num) :
    return num * 10

a = 함수1(10)
c = 함수2(a)
print(c)


239
아래 코드의 실행 결과를 예측하라.

def 함수1(num) :
    return num + 4

def 함수2(num) :
    num = num + 2
    return 함수1(num)

c = 함수2(10)
print(c)


240
아래 코드의 실행 결과를 예측하라.

def 함수0(num) :
    return num * 2

def 함수1(num) :
    return 함수0(num + 2)

def 함수2(num) :
    num = num + 10
    return 함수1(num)

c = 함수2(2)
print(c)









