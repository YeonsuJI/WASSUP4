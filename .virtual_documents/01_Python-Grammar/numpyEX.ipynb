# Numpy
# Numerical Python
# 고성능 수치 계산을 위한 라이브러리
# 벡터나 행렬 연산에 편리한 기능 제공
# 모든 원소는 같은 자료형만 가능


import numpy as np
a = np.arange( 15 ) # 1차원 데이터
print( a )
a = a.reshape( 3,5, order='F') #c행부터 할당 기본값F열부터 할당# reshape : 차원을 바꾸는 함수
#a = np.arange(15).reshape(3,5) 이것도 가능
print( a )
print( type( a )  )
print( a.shape )
print( a.dtype )
print(a.ndim) # 몇 차원 데이터인지 알려주는 것
print(a.size)
# print( dir(np)) # 넘파이에서 쓸 수 있는 것들


print(a)


b = [-1, 2, 5, -3, 0, 7, -9, 7, -4,-7] # list
print(type(b))
b = np.array(b)
print(type(b))

t = (10,20,30,40,50) # Tuple
print(type(t))
t = np.array(t)
print(type(t))

s = {10,20,30,40,50} # set
print(type(s))
s = np.array(s)
print(type(s))

# 딕셔너리는 넘파이로 바로 바꿀 수 없음. but 판다스로 호환 가능



print(b.shape)
print(b.ndim)
print(b.dtype)
print(b)

# print(help(np.arange))  # help(원하는 함수의 설명만도 볼 수 잇음) = dir 이라고 생각하면 편함
print(np.abs(b))          # 절대값
print(np.sqrt(np.abs(b))) #제곱근 / 이중함수 가능 
# nan = not a number (음수의 경우에 주로 나옴)
print(np.square(b))       # 제곱
print(np.isnan(b))        # nan이면 True 아니면 False
print(np.sum(b))          # 합계
print(np.mean(b))         # 평균
print(np.max(b))          # 최값
print(np.min(b))          # 최솟값
print(np.argmax(b))       # 최댓값 인덱스
print(np.argmin(b))       # 최솟값 인덱스
print(np.sort(b))         # 오름차순 정렬
print(np.sort(b)[::-1])   # 내림차순 정렬 [start : end : step]
print(np.median(b))       # 중간값



c = np.zeros((3,3))


print(c)


d = np.ones((3,3))


print(d)


np.zeros_like(d)


np.ones_like(c)


np.random.rand(3,3)


np.random.randint(1,40,size =(3,3,3)) # size =는 없어도 됨


c+d



